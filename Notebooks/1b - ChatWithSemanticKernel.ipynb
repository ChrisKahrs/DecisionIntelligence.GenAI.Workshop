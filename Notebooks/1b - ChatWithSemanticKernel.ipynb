{
 "cells": [
  {
   "cell_type": "code",
   "execution_count": 1,
   "metadata": {
    "dotnet_interactive": {
     "language": "csharp"
    },
    "polyglot_notebook": {
     "kernelName": "csharp"
    },
    "vscode": {
     "languageId": "polyglot-notebook"
    }
   },
   "outputs": [
    {
     "data": {
      "text/html": [
       "<div><div></div><div></div><div><strong>Installed Packages</strong><ul><li><span>Microsoft.Extensions.Configuration, 8.0.0</span></li><li><span>Microsoft.Extensions.Configuration.Json, 8.0.0</span></li></ul></div></div>"
      ]
     },
     "metadata": {},
     "output_type": "display_data"
    }
   ],
   "source": [
    "#r \"nuget: Microsoft.Extensions.Configuration, 8.0.0\"\n",
    "#r \"nuget: Microsoft.Extensions.Configuration.Json, 8.0.0\"\n",
    "\n",
    "using Microsoft.Extensions.Configuration;\n",
    "using System.IO;\n",
    "\n",
    "var configurationBuilder = new ConfigurationBuilder()\n",
    "    .SetBasePath(Directory.GetCurrentDirectory())\n",
    "    .AddJsonFile(\"local.settings.json\", optional: true, reloadOnChange: true)\n",
    "    .AddJsonFile(\"secrets.settings.json\", optional: true, reloadOnChange: true);\n",
    "var config = configurationBuilder.Build();\n",
    "\n",
    "var azureOpenAIEndpoint = config[\"AzureOpenAI:Endpoint\"];\n",
    "var azureOpenAIAPIKey = config[\"AzureOpenAI:APIKey\"];\n",
    "var azureOpenAIModelDeploymentName = config[\"AzureOpenAI:ModelDeploymentName\"];"
   ]
  },
  {
   "cell_type": "code",
   "execution_count": 2,
   "metadata": {
    "dotnet_interactive": {
     "language": "csharp"
    },
    "polyglot_notebook": {
     "kernelName": "csharp"
    },
    "vscode": {
     "languageId": "polyglot-notebook"
    }
   },
   "outputs": [
    {
     "data": {
      "text/html": [
       "<div><div></div><div></div><div><strong>Installed Packages</strong><ul><li><span>Microsoft.Extensions.DependencyInjection, 8.0.0</span></li><li><span>Microsoft.SemanticKernel, 1.11.0</span></li></ul></div></div>"
      ]
     },
     "metadata": {},
     "output_type": "display_data"
    }
   ],
   "source": [
    "#r \"nuget: Microsoft.Extensions.DependencyInjection, 8.0.0\"\n",
    "#r \"nuget: Microsoft.SemanticKernel, 1.11.0\"\n",
    "\n",
    "using Microsoft.Extensions.DependencyInjection;\n",
    "using Microsoft.SemanticKernel;\n",
    "using Microsoft.SemanticKernel.ChatCompletion;\n",
    "using Microsoft.SemanticKernel.Connectors.OpenAI;\n",
    "\n",
    "var semanticKernel = Kernel.CreateBuilder()\n",
    "    .AddAzureOpenAIChatCompletion(\n",
    "        deploymentName: azureOpenAIModelDeploymentName,\n",
    "        endpoint: azureOpenAIEndpoint,\n",
    "        apiKey: azureOpenAIAPIKey)\n",
    "    .Build();\n",
    "\n",
    "var chatCompletionService = semanticKernel.Services.GetRequiredService<IChatCompletionService>();\n"
   ]
  },
  {
   "cell_type": "code",
   "execution_count": 3,
   "metadata": {
    "dotnet_interactive": {
     "language": "csharp"
    },
    "polyglot_notebook": {
     "kernelName": "csharp"
    },
    "vscode": {
     "languageId": "polyglot-notebook"
    }
   },
   "outputs": [
    {
     "name": "stdout",
     "output_type": "stream",
     "text": [
      "1. SWOT Analysis: This framework helps in evaluating the Strengths, Weaknesses, Opportunities, and Threats related to a decision. It provides a comprehensive view of both internal and external factors that can impact the decision.\n",
      "\n",
      "2. Decision Matrix: This framework involves creating a matrix to evaluate different options based on specific criteria. Each option is scored based on how well it meets each criterion, and the option with the highest score is selected.\n",
      "\n",
      "3. Cost-Benefit Analysis: This framework involves comparing the costs and benefits of each option. It helps in identifying the option that provides the maximum benefit for the minimum cost.\n",
      "\n",
      "4. Pareto Analysis: This framework, also known as the 80/20 rule, helps in identifying the few critical factors that have the most significant impact on the decision. It helps in prioritizing actions based on their potential impact.\n",
      "\n",
      "5. Decision Tree: This framework involves mapping out different options and their potential outcomes in a tree-like structure. It helps in visualizing the consequences of each decision and choosing the option with the most favorable outcome.\n",
      "\n",
      "6. Six Thinking Hats: This framework involves looking at a decision from six different perspectives (emotions, facts, creativity, benefits, caution, and process) to ensure a well-rounded evaluation.\n",
      "\n",
      "7. Pros and Cons List: This simple framework involves listing the advantages and disadvantages of each option. It helps in weighing the positive and negative aspects of each option to make an informed decision.\n",
      "\n",
      "By using these frameworks, decision-makers can systematically evaluate their options and make more informed, effective decisions.\r\n"
     ]
    }
   ],
   "source": [
    "var openAIPromptExecutionSettings = new OpenAIPromptExecutionSettings { \n",
    "    MaxTokens = 2500, \n",
    "    Temperature = 0.1, \n",
    "    TopP = 1.0, \n",
    "    FrequencyPenalty = 0.0, \n",
    "    PresencePenalty = 0.0\n",
    "    };\n",
    "\n",
    "var simpleDecisionPrompt = \"Provide some decision frameworks that can help improve the quality of decisions.\";\n",
    "var chatResult = await chatCompletionService.GetChatMessageContentAsync(simpleDecisionPrompt, openAIPromptExecutionSettings);\n",
    "\n",
    "Console.WriteLine(chatResult.Content);"
   ]
  },
  {
   "cell_type": "code",
   "execution_count": 4,
   "metadata": {
    "dotnet_interactive": {
     "language": "csharp"
    },
    "polyglot_notebook": {
     "kernelName": "csharp"
    },
    "vscode": {
     "languageId": "polyglot-notebook"
    }
   },
   "outputs": [
    {
     "name": "stdout",
     "output_type": "stream",
     "text": [
      "1. SWOT Analysis: Assessing strengths, weaknesses, opportunities, and threats can help in making informed decisions by analyzing internal and external factors that might impact outcomes.\n",
      "\n",
      "2. Decision Matrix: This involves creating a table with different options and criteria to evaluate each option's performance based on a scoring system. It helps compare various choices and select the best based on data-driven analysis.\n",
      "\n",
      "3. Cost-Benefit Analysis: Analyzing the costs and benefits of each option can help determine which decision provides the maximum value or return on investment.\n",
      "\n",
      "4. Pareto Analysis: Also known as the 80/20 rule, this technique helps prioritize tasks or decisions that will provide the most significant impact or results.\n",
      "\n",
      "5. Decision Tree: This is a graphical representation of decisions and their possible consequences and helps visualize potential outcomes and make informed choices based on probabilities and costs.\n",
      "\n",
      "6. Six Thinking Hats: This technique involves examining a decision from different perspectives, such as emotions, facts, creativity, benefits, and drawbacks, to achieve a well-rounded view of the situation.\n",
      "\n",
      "7. Pros and Cons List: Creating a simple list of advantages and disadvantages for each option can help weigh options against each other more clearly.\n",
      "\n",
      "8. Five Whys: By continually asking 'why' to each response when faced with a problem, this technique helps dig deeper into the root cause of an issue, which informs better decision making.\n",
      "\n",
      "Each of these frameworks provides a structured way to evaluate decisions, leading to more thoughtful, rational, and high-quality outcomes."
     ]
    }
   ],
   "source": [
    "await foreach (var content in chatCompletionService.GetStreamingChatMessageContentsAsync(simpleDecisionPrompt))\n",
    "{\n",
    "    Console.Write(content);\n",
    "}"
   ]
  },
  {
   "cell_type": "code",
   "execution_count": 8,
   "metadata": {
    "dotnet_interactive": {
     "language": "csharp"
    },
    "polyglot_notebook": {
     "kernelName": "csharp"
    },
    "vscode": {
     "languageId": "polyglot-notebook"
    }
   },
   "outputs": [
    {
     "name": "stdout",
     "output_type": "stream",
     "text": [
      "1. **Cost-Benefit Analysis (CBA)**:\n",
      "   - **Framework**: Cost-benefit analysis is an approach to making decisions that involves comparing the costs and benefits of various options. This often involves enumerating all potential costs and benefits, quantifying them in monetary terms when possible, and then comparing to see which option offers the greatest net benefit.\n",
      "   - **Application**: Use this framework when the decision involves significant financial investments, resource allocation, or when the outcomes can be quantified economically. Example scenarios include business investments, policy decisions, or personal finance decisions.\n",
      "\n",
      "2. **SWOT Analysis**:\n",
      "   - **Framework**: SWOT stands for Strengths, Weaknesses, Opportunities, and Threats. This analysis helps in understanding both internal and external factors affecting a decision. Strengths and weaknesses are typically internal aspects, while opportunities and threats are external.\n",
      "   - **Application**: Useful for strategic business decisions, project management, and personal career planning. It helps in identifying strategic positions and aligning resources accordingly.\n",
      "\n",
      "3. **Decision Matrix**:\n",
      "   - **Framework**: Also known as a grid analysis, multi-criteria decision analysis, or Pugh method, it involves listing out all the criteria that are important for the decision and then scoring each option based on how well they meet each criterion. The scores can be weighted to reflect the importance of each criterion.\n",
      "   - **Application**: Effective for complex decisions with multiple options and criteria. It's applicable in business settings like choosing between product designs, in personal decisions like selecting a college, or in technology assessments.\n",
      "\n",
      "4. **Pareto Analysis (80/20 Rule)**:\n",
      "   - **Framework**: Based on the idea that 80% of problems are often due to 20% of causes. Pareto Analysis helps in identifying the few critical items from many less important ones. The goal is to prioritize efforts that will yield the largest impact.\n",
      "   - **Application**: Useful in quality control, business process improvement, personal productivity, and any scenario where resources are limited and need to be focused where they can deliver the greatest returns.\n",
      "\n",
      "5. **Pros and Cons List**:\n",
      "   - **Framework**: One of the simplest but effective decision-making tools which involve drawing a line down the middle of a page, listing the advantages (pros) on one side, and the disadvantages (cons) on the other. This visual representation helps in directly weighing the positive and negative aspects of each option.\n",
      "   - **Application**: Adaptable to almost any type of decision, from personal decisions like making a lifestyle change to professional decisions like hiring a new employee. Especially useful when quick, straightforward decisions are needed.\n",
      "\n",
      "Using these frameworks appropriately according to the nature of the decision-making scenario can greatly enhance the quality of the decisions made. Each of these frameworks helps in systematically organizing thoughts, mitigating biases, analyzing data, and considering various perspectives, which collectively leads to more reasoned and informed decisions."
     ]
    }
   ],
   "source": [
    "// private void WriteMessages(IReadOnlyList<ChatMessageContent> messages, ChatHistory? history = null)\n",
    "// {\n",
    "//     foreach (var message in messages)\n",
    "//     {\n",
    "//         Console.WriteLine($\"# {message.Role}: {message.Content}\");\n",
    "//     }\n",
    "\n",
    "//     history?.AddRange(messages);\n",
    "// }\n",
    "\n",
    "var systemPrompt = \"\"\"\n",
    "You are a decision intelligence assistant. \n",
    "Assist the user in exploring options, reasoning through decisions, problem-solving, and applying systems thinking to various scenarios. \n",
    "Provide structured, logical, and comprehensive advice.\n",
    "\"\"\";\n",
    "var simpleDecisionPrompt = \"Provide five decision frameworks that can help improve the quality of decisions.\";\n",
    "\n",
    "var chatHistory = new ChatHistory();\n",
    "chatHistory.AddSystemMessage(systemPrompt);\n",
    "chatHistory.AddUserMessage(simpleDecisionPrompt);\n",
    "\n",
    "var chatResponse = string.Empty;\n",
    "await foreach (var content in chatCompletionService.GetStreamingChatMessageContentsAsync(chatHistory))\n",
    "{\n",
    "    chatResponse += content;\n",
    "    Console.Write(content);\n",
    "}\n",
    "chatHistory.AddAssistantMessage(chatResponse);\n",
    "\n",
    "\n",
    "// WriteMessages(await chatCompletionService.GetChatMessageContentsAsync(chatHistory, openAIPromptExecutionSettings), chatHistory);"
   ]
  },
  {
   "cell_type": "code",
   "execution_count": 9,
   "metadata": {
    "dotnet_interactive": {
     "language": "csharp"
    },
    "polyglot_notebook": {
     "kernelName": "csharp"
    },
    "vscode": {
     "languageId": "polyglot-notebook"
    }
   },
   "outputs": [
    {
     "name": "stdout",
     "output_type": "stream",
     "text": [
      "To determine the best decision framework for purchasing a car, let's briefly review what each framework offers in the context of this scenario:\n",
      "\n",
      "1. **Cost-Benefit Analysis** – This involves listing all the costs associated with purchasing a car (such as price, insurance, maintenance, fuel expenses, etc.) and all the benefits (such as convenience, safety, comfort, etc.). It quantitatively evaluates whether the benefits outweigh the costs.\n",
      "\n",
      "2. **SWOT Analysis** – This framework assesses the strengths, weaknesses, opportunities, and threats related to a decision. For a car purchase, it considers factors like the vehicle’s reliability (strength), cost of parts (weakness), resale value (opportunity), and market volatility (threat).\n",
      "\n",
      "3. **Decision Matrix** – Also known as a grid analysis, this method involves setting up a matrix to compare different options based on various factors that are scored and weighted according to importance. For a car, factors might include cost, fuel efficiency, reliability, brand reputation, and safety features.\n",
      "\n",
      "4. **Pros and Cons List** – A simple yet effective technique where you list the advantages and disadvantages of purchasing a particular car. This helps in visually assessing the positive and negative aspects.\n",
      "\n",
      "5. **Multi-Voting** – This technique involves gathering preferences from multiple stakeholders to reach a consensus. If the decision involves multiple decision-makers (such as family members), each can vote on preferred features or models.\n",
      "\n",
      "For an individual purchasing a car, the most useful decision framework from these options could likely be the **Decision Matrix**. This method is particularly strong because it allows an individual to:\n",
      "   - Clearly define what features are most important;\n",
      "   - Quantitatively assess each vehicle option based on these features;\n",
      "   - Objectively compare multiple cars based on personalized weighted values;\n",
      "   - Arrive at a decision that best fits their needs and priorities.\n",
      "\n",
      "The decision matrix not only organizes all the essential criteria into a manageable format but also helps in reducing bias by focusing on predefined, important factors in a structured way. For such a significant and multifaceted purchase as a car, this detailed and quantitative approach is very beneficial."
     ]
    }
   ],
   "source": [
    "var simpleDecisionPromptFollowup = \"Which of these 5 decision frameworks would work best for making a decision to purchase a car. Select only the single best one.\";\n",
    "\n",
    "chatHistory.AddUserMessage(simpleDecisionPromptFollowup);\n",
    "\n",
    "var chatResponse = string.Empty;\n",
    "await foreach (var content in chatCompletionService.GetStreamingChatMessageContentsAsync(chatHistory))\n",
    "{\n",
    "    chatResponse += content;\n",
    "    Console.Write(content);\n",
    "}\n",
    "chatHistory.AddAssistantMessage(chatResponse);\n",
    "\n",
    "// WriteMessages(await chatCompletionService.GetChatMessageContentsAsync(chatHistory, openAIPromptExecutionSettings), chatHistory);"
   ]
  },
  {
   "cell_type": "code",
   "execution_count": 10,
   "metadata": {
    "dotnet_interactive": {
     "language": "csharp"
    },
    "polyglot_notebook": {
     "kernelName": "csharp"
    },
    "vscode": {
     "languageId": "polyglot-notebook"
    }
   },
   "outputs": [
    {
     "name": "stdout",
     "output_type": "stream",
     "text": [
      "The military intelligence community often deals with complex and high-stakes decisions that require rigorous methodologies to mitigate risks and ensure optimal outcomes. Among the five decision frameworks listed earlier, the following are particularly pertinent for use within the military intelligence community:\n",
      "\n",
      "1. **Cost-Benefit Analysis**:\n",
      "   - **Usage**: This framework helps in assessing the feasibility and desirability of various actions by comparing the costs (resources, risks, manpower, etc.) against the benefits (strategic advantage, security enhancement, mission success, etc.). It aids in resource allocation and strategic planning, particularly in operations and procurement.\n",
      "\n",
      "2. **SWOT Analysis**:\n",
      "   - **Usage**: SWOT analysis is utilized to evaluate the strategic positioning of a military operation or intelligence strategy. It helps in understanding the strengths (what advantages do we have), weaknesses (what areas need improvement), opportunities (potential favorable conditions), and threats (external risks to success) associated with a decision or project.\n",
      "   \n",
      "3. **Decision Matrix**:\n",
      "   - **Usage**: In military intelligence, various options (like different tactical approaches, technologies, or strategies) can be evaluated against a set of important criteria. This method is crucial for systematically comparing alternatives where multiple stakeholders (different branches of the military and intelligence) must agree on a course of action based on quantified and scored criteria.\n",
      "\n",
      "4. **Multi-Voting**:\n",
      "   - **Usage**: This framework is useful in scenarios where decisions need to be made collaboratively across various units or departments within the military. It helps in building consensus and ensuring that all relevant parties are involved in the decision-making process, particularly in joint operations or cooperative strategies across forces or allied nations.\n",
      "\n",
      "While the **Pros and Cons List** can also be used, it is generally more simplistic and may not be as robust as the other methodologies for the complex and layered decisions typical in military intelligence operations. Decisions in this context often require more detailed analysis and structured frameworks that can handle multiple variables and strategic implications."
     ]
    }
   ],
   "source": [
    "var simpleDecisionPromptFollowupPartTwo = \"Which of these 5 decision frameworks listed above are used by the military intelligence community?\";\n",
    "\n",
    "chatHistory.AddUserMessage(simpleDecisionPromptFollowupPartTwo);\n",
    "\n",
    "var chatResponse = string.Empty;\n",
    "await foreach (var content in chatCompletionService.GetStreamingChatMessageContentsAsync(chatHistory))\n",
    "{\n",
    "    chatResponse += content;\n",
    "    Console.Write(content);\n",
    "}\n",
    "chatHistory.AddAssistantMessage(chatResponse);\n",
    "\n",
    "// WriteMessages(await chatCompletionService.GetChatMessageContentsAsync(chatHistory, openAIPromptExecutionSettings), chatHistory);"
   ]
  },
  {
   "cell_type": "code",
   "execution_count": 13,
   "metadata": {
    "dotnet_interactive": {
     "language": "csharp"
    },
    "polyglot_notebook": {
     "kernelName": "csharp"
    },
    "vscode": {
     "languageId": "polyglot-notebook"
    }
   },
   "outputs": [
    {
     "name": "stdout",
     "output_type": "stream",
     "text": [
      "Number of chat interactions: 6\n",
      "# system: You are a decision intelligence assistant. \n",
      "Assist the user in exploring options, reasoning through decisions, problem-solving, and applying systems thinking to various scenarios. \n",
      "Provide structured, logical, and comprehensive advice.\n",
      "# user: Provide five decision frameworks that can help improve the quality of decisions.\n",
      "# user: Which of these 5 decision frameworks would work best for making a decision to purchase a car. Select only the single best one.\n",
      "# assistant: To determine the best decision framework for purchasing a car, let's briefly review what each framework offers in the context of this scenario:\n",
      "\n",
      "1. **Cost-Benefit Analysis** – This involves listing all the costs associated with purchasing a car (such as price, insurance, maintenance, fuel expenses, etc.) and all the benefits (such as convenience, safety, comfort, etc.). It quantitatively evaluates whether the benefits outweigh the costs.\n",
      "\n",
      "2. **SWOT Analysis** – This framework assesses the strengths, weaknesses, opportunities, and threats related to a decision. For a car purchase, it considers factors like the vehicle’s reliability (strength), cost of parts (weakness), resale value (opportunity), and market volatility (threat).\n",
      "\n",
      "3. **Decision Matrix** – Also known as a grid analysis, this method involves setting up a matrix to compare different options based on various factors that are scored and weighted according to importance. For a car, factors might include cost, fuel efficiency, reliability, brand reputation, and safety features.\n",
      "\n",
      "4. **Pros and Cons List** – A simple yet effective technique where you list the advantages and disadvantages of purchasing a particular car. This helps in visually assessing the positive and negative aspects.\n",
      "\n",
      "5. **Multi-Voting** – This technique involves gathering preferences from multiple stakeholders to reach a consensus. If the decision involves multiple decision-makers (such as family members), each can vote on preferred features or models.\n",
      "\n",
      "For an individual purchasing a car, the most useful decision framework from these options could likely be the **Decision Matrix**. This method is particularly strong because it allows an individual to:\n",
      "   - Clearly define what features are most important;\n",
      "   - Quantitatively assess each vehicle option based on these features;\n",
      "   - Objectively compare multiple cars based on personalized weighted values;\n",
      "   - Arrive at a decision that best fits their needs and priorities.\n",
      "\n",
      "The decision matrix not only organizes all the essential criteria into a manageable format but also helps in reducing bias by focusing on predefined, important factors in a structured way. For such a significant and multifaceted purchase as a car, this detailed and quantitative approach is very beneficial.\n",
      "# user: Which of these 5 decision frameworks listed above are used by the military intelligence community?\n",
      "# assistant: The military intelligence community often deals with complex and high-stakes decisions that require rigorous methodologies to mitigate risks and ensure optimal outcomes. Among the five decision frameworks listed earlier, the following are particularly pertinent for use within the military intelligence community:\n",
      "\n",
      "1. **Cost-Benefit Analysis**:\n",
      "   - **Usage**: This framework helps in assessing the feasibility and desirability of various actions by comparing the costs (resources, risks, manpower, etc.) against the benefits (strategic advantage, security enhancement, mission success, etc.). It aids in resource allocation and strategic planning, particularly in operations and procurement.\n",
      "\n",
      "2. **SWOT Analysis**:\n",
      "   - **Usage**: SWOT analysis is utilized to evaluate the strategic positioning of a military operation or intelligence strategy. It helps in understanding the strengths (what advantages do we have), weaknesses (what areas need improvement), opportunities (potential favorable conditions), and threats (external risks to success) associated with a decision or project.\n",
      "   \n",
      "3. **Decision Matrix**:\n",
      "   - **Usage**: In military intelligence, various options (like different tactical approaches, technologies, or strategies) can be evaluated against a set of important criteria. This method is crucial for systematically comparing alternatives where multiple stakeholders (different branches of the military and intelligence) must agree on a course of action based on quantified and scored criteria.\n",
      "\n",
      "4. **Multi-Voting**:\n",
      "   - **Usage**: This framework is useful in scenarios where decisions need to be made collaboratively across various units or departments within the military. It helps in building consensus and ensuring that all relevant parties are involved in the decision-making process, particularly in joint operations or cooperative strategies across forces or allied nations.\n",
      "\n",
      "While the **Pros and Cons List** can also be used, it is generally more simplistic and may not be as robust as the other methodologies for the complex and layered decisions typical in military intelligence operations. Decisions in this context often require more detailed analysis and structured frameworks that can handle multiple variables and strategic implications.\n"
     ]
    }
   ],
   "source": [
    "Console.WriteLine(\"Number of chat interactions: \" + chatHistory.Count());\n",
    "\n",
    "foreach (var message in chatHistory)\n",
    "{\n",
    "    Console.WriteLine($\"# {message.Role}: {message.Content}\");\n",
    "}"
   ]
  }
 ],
 "metadata": {
  "kernelspec": {
   "display_name": ".NET (C#)",
   "language": "C#",
   "name": ".net-csharp"
  },
  "language_info": {
   "name": "csharp"
  },
  "polyglot_notebook": {
   "kernelInfo": {
    "defaultKernelName": "csharp",
    "items": [
     {
      "aliases": [],
      "name": "csharp"
     }
    ]
   }
  }
 },
 "nbformat": 4,
 "nbformat_minor": 2
}
