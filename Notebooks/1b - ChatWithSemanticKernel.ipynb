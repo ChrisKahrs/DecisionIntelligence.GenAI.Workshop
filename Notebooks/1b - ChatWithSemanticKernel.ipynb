{
 "cells": [
  {
   "cell_type": "code",
   "execution_count": 2,
   "metadata": {
    "dotnet_interactive": {
     "language": "csharp"
    },
    "polyglot_notebook": {
     "kernelName": "csharp"
    },
    "vscode": {
     "languageId": "polyglot-notebook"
    }
   },
   "outputs": [
    {
     "data": {
      "text/html": [
       "<div><div></div><div></div><div><strong>Installed Packages</strong><ul><li><span>Microsoft.Extensions.Configuration, 8.0.0</span></li><li><span>Microsoft.Extensions.Configuration.Json, 8.0.0</span></li></ul></div></div>"
      ]
     },
     "metadata": {},
     "output_type": "display_data"
    }
   ],
   "source": [
    "#r \"nuget: Microsoft.Extensions.Configuration, 8.0.0\"\n",
    "#r \"nuget: Microsoft.Extensions.Configuration.Json, 8.0.0\"\n",
    "\n",
    "using Microsoft.Extensions.Configuration;\n",
    "using System.IO;\n",
    "\n",
    "var configurationBuilder = new ConfigurationBuilder()\n",
    "    .SetBasePath(Directory.GetCurrentDirectory())\n",
    "    .AddJsonFile(\"local.settings.json\", optional: true, reloadOnChange: true)\n",
    "    .AddJsonFile(\"secrets.settings.json\", optional: true, reloadOnChange: true);\n",
    "var config = configurationBuilder.Build();\n",
    "\n",
    "var azureOpenAIEndpoint = config[\"AzureOpenAI:Endpoint\"];\n",
    "var azureOpenAIAPIKey = config[\"AzureOpenAI:APIKey\"];\n",
    "var azureOpenAIModelDeploymentName = config[\"AzureOpenAI:ModelDeploymentName\"];"
   ]
  },
  {
   "cell_type": "code",
   "execution_count": 8,
   "metadata": {
    "vscode": {
     "languageId": "polyglot-notebook"
    }
   },
   "outputs": [
    {
     "data": {
      "text/html": [
       "<div><div></div><div></div><div><strong>Installed Packages</strong><ul><li><span>microsoft.extensions.dependencyinjection, 8.0.0</span></li><li><span>Microsoft.SemanticKernel, 1.11.0</span></li></ul></div></div>"
      ]
     },
     "metadata": {},
     "output_type": "display_data"
    }
   ],
   "source": [
    "#r \"nuget: Microsoft.Extensions.DependencyInjection, 8.0.0\"\n",
    "#r \"nuget: Microsoft.SemanticKernel, 1.11.0\"\n",
    "\n",
    "using Microsoft.Extensions.DependencyInjection;\n",
    "using Microsoft.SemanticKernel;\n",
    "using Microsoft.SemanticKernel.ChatCompletion;\n",
    "using Microsoft.SemanticKernel.Connectors.OpenAI;\n",
    "\n",
    "var semanticKernel = Kernel.CreateBuilder()\n",
    "    .AddAzureOpenAIChatCompletion(\n",
    "        deploymentName: azureOpenAIModelDeploymentName,\n",
    "        endpoint: azureOpenAIEndpoint,\n",
    "        apiKey: azureOpenAIAPIKey)\n",
    "    .Build();\n",
    "\n",
    "var chatCompletionService = semanticKernel.Services.GetRequiredService<IChatCompletionService>();\n"
   ]
  },
  {
   "cell_type": "code",
   "execution_count": 20,
   "metadata": {
    "vscode": {
     "languageId": "polyglot-notebook"
    }
   },
   "outputs": [
    {
     "name": "stdout",
     "output_type": "stream",
     "text": [
      "1. SWOT Analysis: This framework helps in evaluating the Strengths, Weaknesses, Opportunities, and Threats related to a decision. It provides a comprehensive view of both internal and external factors that can impact the decision.\n",
      "\n",
      "2. Decision Matrix: Also known as a Pugh Matrix, this framework helps in evaluating multiple options against a set of criteria. Each option is scored based on how well it meets each criterion, and the option with the highest score is selected.\n",
      "\n",
      "3. Cost-Benefit Analysis: This framework involves listing all the costs and benefits associated with a decision. The decision with the highest net benefit (benefits minus costs) is considered the best choice.\n",
      "\n",
      "4. Pareto Analysis: Also known as the 80/20 rule, this framework helps in identifying the most significant factors that contribute to a problem or decision. By focusing on the vital few factors, decision-makers can achieve the greatest impact.\n",
      "\n",
      "5. Decision Tree: This framework visually maps out different decision paths and their potential outcomes. It helps in evaluating the consequences of each decision and choosing the path with the highest expected value.\n",
      "\n",
      "6. Six Thinking Hats: Developed by Edward de Bono, this framework encourages decision-makers to look at a decision from six different perspectives (emotions, facts, creativity, benefits, caution, and process) to ensure a well-rounded evaluation.\n",
      "\n",
      "7. The Cynefin Framework: This framework helps decision-makers understand the context of the decision and choose an appropriate approach based on whether the context is simple, complicated, complex, or chaotic.\n",
      "\n",
      "8. The Eisenhower Matrix: This framework helps prioritize tasks based on their urgency and importance. It aids in focusing on what is truly important and urgent, leading to better decision-making.\n",
      "\n",
      "By using these frameworks, decision-makers can structure their thinking, consider multiple perspectives, and improve the quality of their decisions.\r\n"
     ]
    }
   ],
   "source": [
    "var openAIPromptExecutionSettings = new OpenAIPromptExecutionSettings { \n",
    "    MaxTokens = 2000, \n",
    "    Temperature = 0.1, \n",
    "    TopP = 1.0, \n",
    "    FrequencyPenalty = 0.0, \n",
    "    PresencePenalty = 0.0\n",
    "    };\n",
    "\n",
    "var simpleDecisionPrompt = \"Provide some decision frameworks that can help improve the quality of decisions.\";\n",
    "var chatResult = await chatCompletionService.GetChatMessageContentAsync(simpleDecisionPrompt, openAIPromptExecutionSettings);\n",
    "\n",
    "Console.WriteLine(chatResult.Content);"
   ]
  },
  {
   "cell_type": "code",
   "execution_count": 26,
   "metadata": {
    "vscode": {
     "languageId": "polyglot-notebook"
    }
   },
   "outputs": [
    {
     "name": "stdout",
     "output_type": "stream",
     "text": [
      "# assistant: Certainly! Here are five decision frameworks that can help improve the quality of decisions:\n",
      "\n",
      "1. **SWOT Analysis**:\n",
      "   - **Description**: SWOT stands for Strengths, Weaknesses, Opportunities, and Threats. This framework helps in assessing these four aspects both internally within an organization or project, and externally in the market or environment.\n",
      "   - **Application**: Use SWOT to evaluate a new project or business venture, or to re-evaluate existing projects. It helps in identifying what advantages you have, what you can improve, potential opportunities to pursue, and external challenges you might face.\n",
      "   - **Benefits**: Provides a clear overview of internal and external factors, aiding in strategic planning and risk management.\n",
      "\n",
      "2. **Decision Matrix** (also known as Pugh Matrix):\n",
      "   - **Description**: A tool used to compare multiple options against a set of weighted criteria. Each option is scored based on how well it meets each criterion, and these scores are then multiplied by the weights to get a total score.\n",
      "   - **Application**: Useful when you have multiple options and need to consider various factors, such as choosing a new supplier, selecting a new employee, or deciding on technology investments.\n",
      "   - **Benefits**: Helps in making objective decisions by quantifying subjective preferences, ensuring that the most critical criteria have the greatest impact on the decision.\n",
      "\n",
      "3. **Cost-Benefit Analysis**:\n",
      "   - **Description**: This framework involves listing and quantifying all the costs and benefits associated with a decision to determine whether the benefits outweigh the costs.\n",
      "   - **Application**: Can be applied to financial decisions, such as investments or budget allocations, as well as broader organizational changes like implementing new technologies or processes.\n",
      "   - **Benefits**: Provides a clear economic perspective on decision-making, helping to avoid decisions that do not offer sufficient returns.\n",
      "\n",
      "4. **Decision Trees**:\n",
      "   - **Description**: A graphical representation of decisions and their possible consequences, including chance event outcomes, resource costs, and utility.\n",
      "   - **Application**: Useful in scenarios with a series of decisions and outcomes, such as market entry strategies, R&D decisions, or any sequential investment decisions.\n",
      "   - **Benefits**: Helps visualize different decision paths and their potential outcomes, making it easier to understand complex choices and the risks associated with them.\n",
      "\n",
      "5. **The Cynefin Framework**:\n",
      "   - **Description**: Developed by Dave Snowden, this framework is used to help leaders understand the context in which they are operating. It categorizes problems into five domains: Simple, Complicated, Complex, Chaotic, and Disorder, suggesting decision-making approaches for each.\n",
      "   - **Application**: Use this framework when facing problems or decisions to understand the nature of the environment and choose an appropriate management and decision-making style.\n",
      "   - **Benefits**: Enhances decision-making by aligning actions with the nature of the problem, promoting more effective and adaptive strategies.\n",
      "\n",
      "Each of these frameworks offers unique advantages and can be chosen based on the specific context and nature of the decision to be made. Combining elements from multiple frameworks can also be beneficial in handling more complex decision-making scenarios.\r\n"
     ]
    }
   ],
   "source": [
    "private void WriteMessages(IReadOnlyList<ChatMessageContent> messages, ChatHistory? history = null)\n",
    "{\n",
    "    foreach (var message in messages)\n",
    "    {\n",
    "        Console.WriteLine($\"# {message.Role}: {message.Content}\");\n",
    "    }\n",
    "\n",
    "    history?.AddRange(messages);\n",
    "}\n",
    "\n",
    "var systemPrompt = \"\"\"\n",
    "You are a decision intelligence assistant. \n",
    "Assist the user in exploring options, reasoning through decisions, problem-solving, and applying systems thinking to various scenarios. \n",
    "Provide structured, logical, and comprehensive advice.\n",
    "\"\"\";\n",
    "var simpleDecisionPrompt = \"Provide five decision frameworks that can help improve the quality of decisions.\";\n",
    "\n",
    "var chatHistory = new ChatHistory();\n",
    "chatHistory.AddSystemMessage(systemPrompt);\n",
    "chatHistory.AddUserMessage(simpleDecisionPrompt);\n",
    "\n",
    "WriteMessages(await chatCompletionService.GetChatMessageContentsAsync(chatHistory, openAIPromptExecutionSettings), chatHistory);"
   ]
  },
  {
   "cell_type": "code",
   "execution_count": 27,
   "metadata": {
    "vscode": {
     "languageId": "polyglot-notebook"
    }
   },
   "outputs": [
    {
     "name": "stdout",
     "output_type": "stream",
     "text": [
      "# assistant: For making a decision to purchase a car, the **Decision Matrix** framework would be the most effective choice. Here’s why:\n",
      "\n",
      "### Why Decision Matrix is Ideal:\n",
      "- **Multiple Factors**: Buying a car involves considering various factors such as price, fuel efficiency, brand reliability, resale value, features, and safety ratings. The Decision Matrix allows you to list all these criteria.\n",
      "- **Weighted Importance**: Not all factors have the same level of importance to every buyer. The Decision Matrix enables you to assign weights to different criteria based on your personal preferences or needs, ensuring that more critical factors have a greater impact on the final decision.\n",
      "- **Comparative Analysis**: Often, car buyers are choosing between multiple models or brands. This framework helps you score each option against the defined criteria, providing a clear, quantitative way to compare these vehicles side by side.\n",
      "- **Objective Decision-Making**: The structured approach of the Decision Matrix helps minimize emotional or impulsive decisions by focusing on predefined criteria and their weighted scores.\n",
      "\n",
      "### How to Apply the Decision Matrix in Car Buying:\n",
      "1. **Define Criteria**: List out all the factors that are important to you in a car (e.g., cost, safety, fuel efficiency, brand, features).\n",
      "2. **Assign Weights**: Give each criterion a weight based on how important it is to you. For instance, if safety is your top priority, you might assign it the highest weight.\n",
      "3. **Score Each Car**: Evaluate each car option against each criterion and assign scores. For example, if Car A has excellent safety features, it might score a 9 out of 10 on safety.\n",
      "4. **Calculate Weighted Scores**: Multiply the scores by the weights for each criterion to get weighted scores. Sum these scores to get a total for each car.\n",
      "5. **Make a Decision**: Compare the total scores of the cars. The car with the highest total score would be the best choice according to your personalized criteria and weights.\n",
      "\n",
      "This framework not only simplifies the decision-making process but also ensures that the decision is tailored to your specific needs and preferences, making it highly suitable for purchasing a car.\r\n"
     ]
    }
   ],
   "source": [
    "var simpleDecisionPromptFollowup = \"Which of these 5 decision frameworks would work best for making a decision to purchase a car. Select only the single best one.\";\n",
    "\n",
    "chatHistory.AddUserMessage(simpleDecisionPromptFollowup);\n",
    "WriteMessages(await chatCompletionService.GetChatMessageContentsAsync(chatHistory, openAIPromptExecutionSettings), chatHistory);"
   ]
  },
  {
   "cell_type": "code",
   "execution_count": 28,
   "metadata": {
    "vscode": {
     "languageId": "polyglot-notebook"
    }
   },
   "outputs": [
    {
     "name": "stdout",
     "output_type": "stream",
     "text": [
      "# assistant: The military intelligence community often employs a variety of decision frameworks to handle complex and high-stakes situations. Among the five frameworks listed earlier, **SWOT Analysis** and **Decision Trees** are particularly relevant and commonly used in military intelligence settings:\n",
      "\n",
      "1. **SWOT Analysis**:\n",
      "   - **Application in Military Intelligence**: SWOT Analysis is used to evaluate the strengths, weaknesses, opportunities, and threats in various strategic contexts. This could involve assessing the capabilities of friendly forces versus enemy forces, evaluating the strategic position of a region, or analyzing the impact of new technologies or alliances.\n",
      "   - **Benefits**: It helps military strategists to understand both internal capabilities and external challenges, aiding in the formulation of robust defense strategies and operational plans.\n",
      "\n",
      "2. **Decision Trees**:\n",
      "   - **Application in Military Intelligence**: Decision Trees are used to map out various possible scenarios and their outcomes based on different decisions. This is crucial in planning military operations where different courses of action need to be evaluated for their potential outcomes and risks.\n",
      "   - **Benefits**: They provide a clear visualization of decision paths and consequences, allowing military planners to anticipate and mitigate risks effectively. Decision Trees help in understanding the implications of each choice in a sequence of decisions, which is vital for dynamic and uncertain environments.\n",
      "\n",
      "### Additional Context:\n",
      "- **Complexity and Uncertainty**: Military operations often involve complex scenarios with high levels of uncertainty. Decision Trees help in breaking down these scenarios into manageable parts, making it easier to analyze and make informed decisions.\n",
      "- **Strategic Planning**: SWOT Analysis aids in strategic planning by providing a structured approach to assess various factors that could impact the success of military operations or strategic initiatives.\n",
      "\n",
      "These frameworks support the military intelligence community in making informed, strategic decisions that are critical to national security and operational success. They are adapted to fit the specific needs and contexts of military operations, often integrated with other military decision-making processes and systems thinking approaches.\r\n"
     ]
    }
   ],
   "source": [
    "var simpleDecisionPromptFollowupPartTwo = \"Which of these 5 decision frameworks listed above are used by the military intelligence community?\";\n",
    "\n",
    "chatHistory.AddUserMessage(simpleDecisionPromptFollowupPartTwo);\n",
    "WriteMessages(await chatCompletionService.GetChatMessageContentsAsync(chatHistory, openAIPromptExecutionSettings), chatHistory);"
   ]
  },
  {
   "cell_type": "code",
   "execution_count": 29,
   "metadata": {
    "vscode": {
     "languageId": "polyglot-notebook"
    }
   },
   "outputs": [
    {
     "name": "stdout",
     "output_type": "stream",
     "text": [
      "7\n",
      "# system: You are a decision intelligence assistant. \n",
      "Assist the user in exploring options, reasoning through decisions, problem-solving, and applying systems thinking to various scenarios. \n",
      "Provide structured, logical, and comprehensive advice.\n",
      "# user: Provide five decision frameworks that can help improve the quality of decisions.\n",
      "# assistant: Certainly! Here are five decision frameworks that can help improve the quality of decisions:\n",
      "\n",
      "1. **SWOT Analysis**:\n",
      "   - **Description**: SWOT stands for Strengths, Weaknesses, Opportunities, and Threats. This framework helps in assessing these four aspects both internally within an organization or project, and externally in the market or environment.\n",
      "   - **Application**: Use SWOT to evaluate a new project or business venture, or to re-evaluate existing projects. It helps in identifying what advantages you have, what you can improve, potential opportunities to pursue, and external challenges you might face.\n",
      "   - **Benefits**: Provides a clear overview of internal and external factors, aiding in strategic planning and risk management.\n",
      "\n",
      "2. **Decision Matrix** (also known as Pugh Matrix):\n",
      "   - **Description**: A tool used to compare multiple options against a set of weighted criteria. Each option is scored based on how well it meets each criterion, and these scores are then multiplied by the weights to get a total score.\n",
      "   - **Application**: Useful when you have multiple options and need to consider various factors, such as choosing a new supplier, selecting a new employee, or deciding on technology investments.\n",
      "   - **Benefits**: Helps in making objective decisions by quantifying subjective preferences, ensuring that the most critical criteria have the greatest impact on the decision.\n",
      "\n",
      "3. **Cost-Benefit Analysis**:\n",
      "   - **Description**: This framework involves listing and quantifying all the costs and benefits associated with a decision to determine whether the benefits outweigh the costs.\n",
      "   - **Application**: Can be applied to financial decisions, such as investments or budget allocations, as well as broader organizational changes like implementing new technologies or processes.\n",
      "   - **Benefits**: Provides a clear economic perspective on decision-making, helping to avoid decisions that do not offer sufficient returns.\n",
      "\n",
      "4. **Decision Trees**:\n",
      "   - **Description**: A graphical representation of decisions and their possible consequences, including chance event outcomes, resource costs, and utility.\n",
      "   - **Application**: Useful in scenarios with a series of decisions and outcomes, such as market entry strategies, R&D decisions, or any sequential investment decisions.\n",
      "   - **Benefits**: Helps visualize different decision paths and their potential outcomes, making it easier to understand complex choices and the risks associated with them.\n",
      "\n",
      "5. **The Cynefin Framework**:\n",
      "   - **Description**: Developed by Dave Snowden, this framework is used to help leaders understand the context in which they are operating. It categorizes problems into five domains: Simple, Complicated, Complex, Chaotic, and Disorder, suggesting decision-making approaches for each.\n",
      "   - **Application**: Use this framework when facing problems or decisions to understand the nature of the environment and choose an appropriate management and decision-making style.\n",
      "   - **Benefits**: Enhances decision-making by aligning actions with the nature of the problem, promoting more effective and adaptive strategies.\n",
      "\n",
      "Each of these frameworks offers unique advantages and can be chosen based on the specific context and nature of the decision to be made. Combining elements from multiple frameworks can also be beneficial in handling more complex decision-making scenarios.\n",
      "# user: Which of these 5 decision frameworks would work best for making a decision to purchase a car. Select only the single best one.\n",
      "# assistant: For making a decision to purchase a car, the **Decision Matrix** framework would be the most effective choice. Here’s why:\n",
      "\n",
      "### Why Decision Matrix is Ideal:\n",
      "- **Multiple Factors**: Buying a car involves considering various factors such as price, fuel efficiency, brand reliability, resale value, features, and safety ratings. The Decision Matrix allows you to list all these criteria.\n",
      "- **Weighted Importance**: Not all factors have the same level of importance to every buyer. The Decision Matrix enables you to assign weights to different criteria based on your personal preferences or needs, ensuring that more critical factors have a greater impact on the final decision.\n",
      "- **Comparative Analysis**: Often, car buyers are choosing between multiple models or brands. This framework helps you score each option against the defined criteria, providing a clear, quantitative way to compare these vehicles side by side.\n",
      "- **Objective Decision-Making**: The structured approach of the Decision Matrix helps minimize emotional or impulsive decisions by focusing on predefined criteria and their weighted scores.\n",
      "\n",
      "### How to Apply the Decision Matrix in Car Buying:\n",
      "1. **Define Criteria**: List out all the factors that are important to you in a car (e.g., cost, safety, fuel efficiency, brand, features).\n",
      "2. **Assign Weights**: Give each criterion a weight based on how important it is to you. For instance, if safety is your top priority, you might assign it the highest weight.\n",
      "3. **Score Each Car**: Evaluate each car option against each criterion and assign scores. For example, if Car A has excellent safety features, it might score a 9 out of 10 on safety.\n",
      "4. **Calculate Weighted Scores**: Multiply the scores by the weights for each criterion to get weighted scores. Sum these scores to get a total for each car.\n",
      "5. **Make a Decision**: Compare the total scores of the cars. The car with the highest total score would be the best choice according to your personalized criteria and weights.\n",
      "\n",
      "This framework not only simplifies the decision-making process but also ensures that the decision is tailored to your specific needs and preferences, making it highly suitable for purchasing a car.\n",
      "# user: Which of these 5 decision frameworks listed above are used by the military intelligence community?\n",
      "# assistant: The military intelligence community often employs a variety of decision frameworks to handle complex and high-stakes situations. Among the five frameworks listed earlier, **SWOT Analysis** and **Decision Trees** are particularly relevant and commonly used in military intelligence settings:\n",
      "\n",
      "1. **SWOT Analysis**:\n",
      "   - **Application in Military Intelligence**: SWOT Analysis is used to evaluate the strengths, weaknesses, opportunities, and threats in various strategic contexts. This could involve assessing the capabilities of friendly forces versus enemy forces, evaluating the strategic position of a region, or analyzing the impact of new technologies or alliances.\n",
      "   - **Benefits**: It helps military strategists to understand both internal capabilities and external challenges, aiding in the formulation of robust defense strategies and operational plans.\n",
      "\n",
      "2. **Decision Trees**:\n",
      "   - **Application in Military Intelligence**: Decision Trees are used to map out various possible scenarios and their outcomes based on different decisions. This is crucial in planning military operations where different courses of action need to be evaluated for their potential outcomes and risks.\n",
      "   - **Benefits**: They provide a clear visualization of decision paths and consequences, allowing military planners to anticipate and mitigate risks effectively. Decision Trees help in understanding the implications of each choice in a sequence of decisions, which is vital for dynamic and uncertain environments.\n",
      "\n",
      "### Additional Context:\n",
      "- **Complexity and Uncertainty**: Military operations often involve complex scenarios with high levels of uncertainty. Decision Trees help in breaking down these scenarios into manageable parts, making it easier to analyze and make informed decisions.\n",
      "- **Strategic Planning**: SWOT Analysis aids in strategic planning by providing a structured approach to assess various factors that could impact the success of military operations or strategic initiatives.\n",
      "\n",
      "These frameworks support the military intelligence community in making informed, strategic decisions that are critical to national security and operational success. They are adapted to fit the specific needs and contexts of military operations, often integrated with other military decision-making processes and systems thinking approaches.\n"
     ]
    }
   ],
   "source": [
    "Console.WriteLine(chatHistory.Count());\n",
    "foreach (var message in chatHistory)\n",
    "{\n",
    "    Console.WriteLine($\"# {message.Role}: {message.Content}\");\n",
    "}"
   ]
  }
 ],
 "metadata": {
  "kernelspec": {
   "display_name": ".NET (C#)",
   "language": "C#",
   "name": ".net-csharp"
  },
  "language_info": {
   "name": "csharp"
  },
  "polyglot_notebook": {
   "kernelInfo": {
    "defaultKernelName": "csharp",
    "items": [
     {
      "aliases": [],
      "name": "csharp"
     }
    ]
   }
  }
 },
 "nbformat": 4,
 "nbformat_minor": 2
}
