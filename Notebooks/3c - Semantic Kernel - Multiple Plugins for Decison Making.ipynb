{
 "cells": [
  {
   "cell_type": "markdown",
   "metadata": {},
   "source": [
    "<img style=\"float: left;\" width =\"40px\" src=\"https://raw.githubusercontent.com/bartczernicki/DecisionIntelligence.GenAI.Workshop/main/Images/SemanticKernelLogo.png\">\n",
    "\n",
    "## Semantic Kernel - Multiple Plugins for Decison Making"
   ]
  },
  {
   "cell_type": "markdown",
   "metadata": {},
   "source": [
    "### Step 1 - Initialize Configuration Builder & Build the Semantic Kernel Orchestration\n",
    "\n",
    "Execute the next two cells to:\n",
    "* Use the Configuration Builder to load the API secrets\n",
    "* Use the API configuration to build the Semantic Kernel orchestrator\n",
    "* The configuration builder will retrieve the Bing Search API Key"
   ]
  },
  {
   "cell_type": "code",
   "execution_count": 2,
   "metadata": {
    "dotnet_interactive": {
     "language": "csharp"
    },
    "polyglot_notebook": {
     "kernelName": "csharp"
    },
    "vscode": {
     "languageId": "polyglot-notebook"
    }
   },
   "outputs": [
    {
     "data": {
      "text/html": [
       "<div><div></div><div></div><div><strong>Installed Packages</strong><ul><li><span>Microsoft.Bing.Search.WebSearch, 1.0.0</span></li><li><span>Microsoft.Extensions.Configuration, 8.0.0</span></li><li><span>Microsoft.Extensions.Configuration.Json, 8.0.0</span></li><li><span>Microsoft.Extensions.ML, 3.0.1</span></li><li><span>Microsoft.ML, 3.0.1</span></li><li><span>Microsoft.ML.FastTree, 3.0.1</span></li><li><span>Microsoft.SemanticKernel, 1.11.1</span></li><li><span>Microsoft.SemanticKernel.Plugins.Core, 1.11.1-alpha</span></li><li><span>Microsoft.SemanticKernel.Plugins.Web, 1.11.1-alpha</span></li></ul></div></div>"
      ]
     },
     "metadata": {},
     "output_type": "display_data"
    }
   ],
   "source": [
    "#r \"nuget: Microsoft.Extensions.Configuration, 8.0.0\"\n",
    "#r \"nuget: Microsoft.Extensions.Configuration.Json, 8.0.0\"\n",
    "#r \"nuget: Microsoft.SemanticKernel, 1.11.1\"\n",
    "#r \"nuget: Microsoft.SemanticKernel.Plugins.Core, 1.11.1-alpha\"\n",
    "#r \"nuget: Microsoft.SemanticKernel.Plugins.Web, 1.11.1-alpha\"\n",
    "#r \"nuget: Microsoft.Bing.Search.WebSearch, 1.0.0\"\n",
    "#r \"nuget: Microsoft.ML, 3.0.1\"\n",
    "#r \"nuget: Microsoft.ML.FastTree, 3.0.1\"\n",
    "#r \"nuget: Microsoft.Extensions.ML, 3.0.1\"\n",
    "\n",
    "using Microsoft.Extensions.Configuration;\n",
    "using Microsoft.SemanticKernel;\n",
    "using Microsoft.SemanticKernel.ChatCompletion;\n",
    "using Microsoft.SemanticKernel.Connectors.OpenAI;\n",
    "using Microsoft.Bing.WebSearch;\n",
    "using System.ComponentModel;\n",
    "using System.IO;\n",
    "\n",
    "var configurationBuilder = new ConfigurationBuilder()\n",
    "    .SetBasePath(Directory.GetCurrentDirectory())\n",
    "    .AddJsonFile(\"local.settings.json\", optional: true, reloadOnChange: true)\n",
    "    .AddJsonFile(\"secrets.settings.json\", optional: true, reloadOnChange: true);\n",
    "var config = configurationBuilder.Build();\n",
    "\n",
    "var azureOpenAIEndpoint = config[\"AzureOpenAI:Endpoint\"];\n",
    "var azureOpenAIAPIKey = config[\"AzureOpenAI:APIKey\"];\n",
    "var azureOpenAIModelDeploymentName = config[\"AzureOpenAI:ModelDeploymentName\"];\n",
    "var bingSearchAPIKey = config[\"BingSearch:APIKey\"];"
   ]
  },
  {
   "cell_type": "code",
   "execution_count": 3,
   "metadata": {
    "dotnet_interactive": {
     "language": "csharp"
    },
    "polyglot_notebook": {
     "kernelName": "csharp"
    },
    "vscode": {
     "languageId": "polyglot-notebook"
    }
   },
   "outputs": [],
   "source": [
    "var semanticKernel = Kernel.CreateBuilder()\n",
    "    .AddAzureOpenAIChatCompletion(\n",
    "        deploymentName: azureOpenAIModelDeploymentName,\n",
    "        endpoint: azureOpenAIEndpoint,\n",
    "        apiKey: azureOpenAIAPIKey)\n",
    "    .Build();\n",
    "\n",
    "// Import the BaseballHallOfFamePlugin.cs file\n",
    "#!import ../Classes/BaseballHallOfFamePlugin.cs\n",
    "\n",
    "// Add the native plugin with the three native functions to the semantic kernel\n",
    "semanticKernel.ImportPluginFromType<BaseballHallOfFamePlugin>();"
   ]
  },
  {
   "cell_type": "markdown",
   "metadata": {},
   "source": [
    "### Step 2 - Introduce Sports Decision Scenario \n",
    "\n",
    "![Sports Decision Scenario](https://raw.githubusercontent.com/bartczernicki/DecisionIntelligence.GenAI.Workshop/main/Images/SportsDecisionScenario.png)  "
   ]
  },
  {
   "cell_type": "markdown",
   "metadata": {},
   "source": [
    "### Step 3 - Background Information"
   ]
  },
  {
   "cell_type": "code",
   "execution_count": 4,
   "metadata": {
    "dotnet_interactive": {
     "language": "csharp"
    },
    "polyglot_notebook": {
     "kernelName": "csharp"
    },
    "vscode": {
     "languageId": "polyglot-notebook"
    }
   },
   "outputs": [
    {
     "name": "stdout",
     "output_type": "stream",
     "text": [
      "350\n",
      "0.69909585\n"
     ]
    }
   ],
   "source": [
    "// Background Information on what is happening\n",
    "\n",
    "// Directory of the historical baseball data\n",
    "string filePathMLBBaseballBatters = Directory.GetParent(Directory.GetCurrentDirectory()) + \"/Data/MLBBaseballBattersPositionPlayers.csv\";\n",
    "// Read the batters data from the CSV file\n",
    "var batters = File.ReadAllLines(filePathMLBBaseballBatters)\n",
    "                        .Skip(1)\n",
    "                        .Select(v => MLBBaseballBatter.FromCsv(v))\n",
    "                        .ToList();\n",
    "\n",
    "// Machine Learing Model and Prediction Engine                       \n",
    "string modelPath = Directory.GetParent(Directory.GetCurrentDirectory()) + \"/Models/InductedToHoF-GeneralizedAdditiveModels.mlnet\";\n",
    "var mlContext = new MLContext(seed: 100);\n",
    "ITransformer loadedModel;\n",
    "DataViewSchema schema;\n",
    "\n",
    "using (var stream = File.OpenRead(modelPath))\n",
    "{\n",
    "    loadedModel = mlContext.Model.Load(stream, out schema);\n",
    "}\n",
    "TransformerChain<ITransformer> transfomerChain = (TransformerChain<ITransformer>)loadedModel;\n",
    "\n",
    "var predEngineInductedToHallOfFame = mlContext.Model.CreatePredictionEngine<MLBBaseballBatter, MLBHOFPrediction>(transfomerChain);\n",
    "\n",
    "// Predict if Mike Trout will be inducted to the Hall of Fame\n",
    "var mikeTroutStats = batters.Where(b => b.FullPlayerName == \"Mike Trout\").FirstOrDefault();\n",
    "Console.WriteLine(mikeTroutStats.HR);\n",
    "var prediction = predEngineInductedToHallOfFame.Predict(mikeTroutStats);\n",
    "Console.WriteLine(prediction.Probability);"
   ]
  },
  {
   "cell_type": "markdown",
   "metadata": {},
   "source": [
    "### Step 4 - Make Hall of Fame Decision only using Web Search Results "
   ]
  },
  {
   "cell_type": "code",
   "execution_count": 5,
   "metadata": {
    "dotnet_interactive": {
     "language": "csharp"
    },
    "polyglot_notebook": {
     "kernelName": "csharp"
    },
    "vscode": {
     "languageId": "polyglot-notebook"
    }
   },
   "outputs": [
    {
     "name": "stdout",
     "output_type": "stream",
     "text": [
      "Based on the analysis of various sources, I would recommend that Mike Trout should be inducted into the Hall of Fame once he becomes eligible, following his retirement and the requisite waiting period. Here are the reasons for this recommendation:\n",
      "\n",
      "1. **Eligibility Criteria**: Mike Trout has satisfied the Hall of Fame election eligibility rule, having played in at least ten Major League championship seasons [1].\n",
      "\n",
      "2. **Performance**: Trout has been an outstanding player throughout his career. He is an 11-time MLB All-Star and a three-time American League Most Valuable Player (MVP), with additional second-place finishes in MVP voting several times [7]. Such achievements underscore his exceptional talent and consistent performance.\n",
      "\n",
      "3. **Impact on the Game**: Despite some injury setbacks, Trout's impact on the field has been significant. His playing statistics and contributions to his team emphasize his role as one of the best players in modern baseball [2], [3].\n",
      "\n",
      "4. **Comparative Analysis**: Discussions around current MLB players likely to make the Hall of Fame consistently mention Trout as a prime candidate, reflecting widespread recognition of his career achievements and potential [2], [5].\n",
      "\n",
      "5. **Longevity and Future Prospects**: Although injuries have impacted his recent seasons, Trout's career statistics are still comparable with many Hall of Fame legends. He is expected to achieve further significant milestones if he maintains a reasonable level of fitness and continues playing [5].\n",
      "\n",
      "Given these points and the references from credible sources, it is reasonable to conclude that Mike Trout has not only met the formal criteria but also embodies the excellence that the Hall of Fame seeks to honor.\n",
      "\n",
      "### Sources\n",
      "1. [Mike Trout Is Now Fully Qualified for the Hall of Fame - Fangraphs](https://blogs.fangraphs.com/mike-trout-is-now-fully-qualified-for-the-hall-of-fame/)\n",
      "2. [Which current MLB players will make the Hall of Fame? - CBS Sports](https://www.cbssports.com/mlb/news/which-current-mlb-players-will-make-the-hall-of-fame-breaking-down-seven-locks-dozens-of-others-with-a-shot/)\n",
      "3. [Mike Trout, now 30, already a future Hall of Famer - Cooperstown Cred](https://www.cooperstowncred.com/mike-trout-now-30-already-a-future-hall-of-famer/)\n",
      "4. [Mike Trout's Knee Injury, How It Affects His Hall of Fame Chances - Esquire](https://www.esquire.com/sports/a60660794/mike-trout-injuries-hall-of-fame/)\n",
      "5. [Mike Trout's injuries are carving into Hall of Fame legacy - CBS Sports](https://www.cbssports.com/mlb/news/mike-trouts-injuries-are-carving-into-hall-of-fame-legacy-where-angels-slugger-stacks-up-against-greats/)\n",
      "6. [Mike Trout discusses recovery timeline - MLB.com](https://www.mlb.com/video/mike-trout-discusses-recovery-timeline)\n",
      "7. [Mike Trout - Wikipedia](https://en.wikipedia.org/wiki/Mike_Trout)\n",
      "8. [Mike Trout - Baseball-Reference.com](https://www.baseball-reference.com/players/t/troutmi01.shtml)"
     ]
    }
   ],
   "source": [
    "// Use WebSearch to find information on Mike Trout\n",
    "\n",
    "var openAIPromptExecutionSettings = new OpenAIPromptExecutionSettings { \n",
    "    MaxTokens = 4000, \n",
    "    Temperature = 0.6, \n",
    "    TopP = 1.0, \n",
    "    FrequencyPenalty = 0.0, \n",
    "    PresencePenalty = 0.0,\n",
    "    // Enable Auto Invoking of Kernel Functions\n",
    "    ToolCallBehavior = ToolCallBehavior.AutoInvokeKernelFunctions\n",
    "};\n",
    "\n",
    "var decisionPromptTemplateString = \"\"\"\n",
    "What decision would you recommend in determining if {{$baseBallPlayer}} should make the hall of fame? \n",
    "Provide sources of information and explain your reasoning.\n",
    "Ensure to cite all the sources using [number] notation of each URL after the reference in order.\n",
    "\"\"\";\n",
    "var kernelArguments = new KernelArguments(openAIPromptExecutionSettings)\n",
    "{\n",
    "    [\"baseBallPlayer\"] = \"Mike Trout\"\n",
    "};\n",
    "\n",
    "// Now with Auto Invoking of Kernel Functions, let the magic happen\n",
    "await foreach (var streamChunk in semanticKernel.InvokePromptStreamingAsync(decisionPromptTemplateString, kernelArguments))\n",
    "{\n",
    "   Console.Write(streamChunk);\n",
    "}"
   ]
  },
  {
   "cell_type": "markdown",
   "metadata": {},
   "source": [
    "### Step 5 - Make Hall of Fame Decision only using Baseball Statistics "
   ]
  },
  {
   "cell_type": "code",
   "execution_count": 6,
   "metadata": {
    "dotnet_interactive": {
     "language": "csharp"
    },
    "polyglot_notebook": {
     "kernelName": "csharp"
    },
    "vscode": {
     "languageId": "polyglot-notebook"
    }
   },
   "outputs": [
    {
     "name": "stdout",
     "output_type": "stream",
     "text": [
      "Mike Trout has a compelling case for induction into the Hall of Fame based on his statistics and achievements. Here are some key statistics and accolades from his career:\n",
      "\n",
      "- **Years Played:** 12\n",
      "- **At Bats (AB):** 5,094\n",
      "- **Runs (R):** 1,052\n",
      "- **Hits (H):** 1,543\n",
      "- **Doubles:** 296\n",
      "- **Triples:** 51\n",
      "- **Home Runs (HR):** 350\n",
      "- **Runs Batted In (RBI):** 896\n",
      "- **Stolen Bases (SB):** 204\n",
      "- **Batting Average:** .303\n",
      "- **Slugging Percentage:** .587\n",
      "- **Total Bases (TB):** 2,991\n",
      "- **All-Star Appearances:** 9\n",
      "- **Total Player Awards:** 21\n",
      "\n",
      "Considering his impressive performance metrics, numerous awards, and multiple All-Star appearances, Mike Trout has established himself as one of the premier players in Major League Baseball. Although he has not yet been placed on the Hall of Fame ballot due to ongoing active play, his current track record strongly suggests that he would be a deserving candidate once eligible."
     ]
    }
   ],
   "source": [
    "// Use Baseball statistics to determine if Mike Trout should be inducted to the Hall of Fame\n",
    "\n",
    "var openAIPromptExecutionSettings = new OpenAIPromptExecutionSettings { \n",
    "    MaxTokens = 4000, \n",
    "    Temperature = 0.6, \n",
    "    TopP = 1.0, \n",
    "    FrequencyPenalty = 0.0, \n",
    "    PresencePenalty = 0.0,\n",
    "    // Enable Auto Invoking of Kernel Functions\n",
    "    ToolCallBehavior = ToolCallBehavior.AutoInvokeKernelFunctions\n",
    "};\n",
    "\n",
    "var decisionPromptTemplateString = \"\"\"\n",
    "What decision would you recommend in determining if {{$baseBallPlayer}} should make the hall of fame? \n",
    "Provide as many baseball statistics as possible.\n",
    "\"\"\";\n",
    "var kernelArguments = new KernelArguments(openAIPromptExecutionSettings)\n",
    "{\n",
    "    [\"baseBallPlayer\"] = \"Mike Trout\"\n",
    "};\n",
    "\n",
    "// Now with Auto Invoking of Kernel Functions, let the magic happen\n",
    "await foreach (var streamChunk in semanticKernel.InvokePromptStreamingAsync(decisionPromptTemplateString, kernelArguments))\n",
    "{\n",
    "   Console.Write(streamChunk);\n",
    "}"
   ]
  },
  {
   "cell_type": "markdown",
   "metadata": {},
   "source": [
    "### Step 6 - Make Hall of Fame Decision only using a Machine Learning Model"
   ]
  },
  {
   "cell_type": "code",
   "execution_count": 7,
   "metadata": {
    "dotnet_interactive": {
     "language": "csharp"
    },
    "polyglot_notebook": {
     "kernelName": "csharp"
    },
    "vscode": {
     "languageId": "polyglot-notebook"
    }
   },
   "outputs": [
    {
     "name": "stdout",
     "output_type": "stream",
     "text": [
      "Based on the machine learning model, Mike Trout has a 69.91% probability of being inducted into the Hall of Fame. Given this high probability and his impressive career statistics, I would recommend that he should be considered a strong candidate for the Hall of Fame."
     ]
    }
   ],
   "source": [
    "// Use Machine Learning Prediction to determine if Mike Trout should be inducted to the Hall of Fame\n",
    "\n",
    "var openAIPromptExecutionSettings = new OpenAIPromptExecutionSettings { \n",
    "    MaxTokens = 4000, \n",
    "    Temperature = 0.6, \n",
    "    TopP = 1.0, \n",
    "    FrequencyPenalty = 0.0, \n",
    "    PresencePenalty = 0.0,\n",
    "    // Enable Auto Invoking of Kernel Functions\n",
    "    ToolCallBehavior = ToolCallBehavior.AutoInvokeKernelFunctions\n",
    "};\n",
    "\n",
    "var decisionPromptTemplateString = \"\"\"\n",
    "What decision would you recommend in determining if {{$baseBallPlayer}} should make the Hall of Fame? \n",
    "Use a machine learning model to get the probability.\n",
    "\"\"\";\n",
    "var kernelArguments = new KernelArguments(openAIPromptExecutionSettings)\n",
    "{\n",
    "    [\"baseBallPlayer\"] = \"Mike Trout\"\n",
    "};\n",
    "\n",
    "// Now with Auto Invoking of Kernel Functions, let the magic happen\n",
    "await foreach (var streamChunk in semanticKernel.InvokePromptStreamingAsync(decisionPromptTemplateString, kernelArguments))\n",
    "{\n",
    "   Console.Write(streamChunk);\n",
    "}"
   ]
  },
  {
   "cell_type": "markdown",
   "metadata": {},
   "source": [
    "### Step 7 - Make Hall of Fame Decision using all of the Available Tools (functions)"
   ]
  },
  {
   "cell_type": "code",
   "execution_count": 9,
   "metadata": {
    "dotnet_interactive": {
     "language": "csharp"
    },
    "polyglot_notebook": {
     "kernelName": "csharp"
    },
    "vscode": {
     "languageId": "polyglot-notebook"
    }
   },
   "outputs": [
    {
     "name": "stdout",
     "output_type": "stream",
     "text": [
      "### Recommendation on Mike Trout's Hall of Fame Induction\n",
      "\n",
      "Based on the comprehensive analysis using the available tools and data, I recommend that Mike Trout should be considered for induction into the Baseball Hall of Fame. Here are the key points that support this recommendation:\n",
      "\n",
      "1. **Statistical Achievement**: Mike Trout's career statistics are impressive. Over 12 years, he has achieved a batting average of .303, hit 350 home runs, and has a slugging percentage of .587. He also boasts 1543 hits, 204 stolen bases, and 896 RBIs in 5094 at-bats [1].\n",
      "\n",
      "2. **Awards and Recognitions**: Trout has made 9 All-Star appearances and has accumulated 21 total player awards, highlighting his consistent performance and recognition in the league [1].\n",
      "\n",
      "3. **Hall of Fame Probability Model**: The Machine Learning model predicts a 69.91% probability that Mike Trout will be inducted into the Hall of Fame, which is a substantial likelihood and suggests a strong case for his induction [1].\n",
      "\n",
      "4. **Eligibility and Public Opinion**: Trout has satisfied the Hall of Fame election eligibility rule, having played more than ten Major League championship seasons [2]. Furthermore, there is a significant amount of public support and expectation for his future induction, as seen in multiple articles and discussions [2][3].\n",
      "\n",
      "5. **Legacy and Impact**: Despite injuries affecting some of his seasons, Trout's overall impact on the game and his legacy as one of the best players in modern baseball are frequently highlighted in sports discussions and analyses [3][4][5].\n",
      "\n",
      "#### Conclusion\n",
      "Considering Mike Trout's exemplary statistics, recognition within the sport, a high probability of induction based on a predictive model, and his eligibility and support for induction, it is recommended that he be seriously considered for the Baseball Hall of Fame once he is eligible for the ballot.\n",
      "\n",
      "#### Sources\n",
      "[1]: [Baseball Reference - Mike Trout](https://www.baseball-reference.com/players/t/troutmi01.shtml)  \n",
      "[2]: [Fangraphs - Mike Trout Is Now Fully Qualified for the Hall of Fame](https://blogs.fangraphs.com/mike-trout-is-now-fully-qualified-for-the-hall-of-fame/)  \n",
      "[3]: [Esquire - Mike Trout's Knee Injury, How It Affects His Hall of Fame Chances](https://www.esquire.com/sports/a60660794/mike-trout-injuries-hall-of-fame/)  \n",
      "[4]: [Wikipedia - Mike Trout](https://en.wikipedia.org/wiki/Mike_Trout)  \n",
      "[5]: [MLB.com - Mike Trout discusses recovery timeline](https://www.mlb.com/video/mike-trout-discusses-recovery-timeline)  \n"
     ]
    }
   ],
   "source": [
    "// Use all of the available tools (functions) to determine if Mike Trout should be inducted to the Hall of Fame\n",
    "\n",
    "var openAIPromptExecutionSettings = new OpenAIPromptExecutionSettings { \n",
    "    MaxTokens = 4000, \n",
    "    Temperature = 0.6, \n",
    "    TopP = 1.0, \n",
    "    FrequencyPenalty = 0.0, \n",
    "    PresencePenalty = 0.0,\n",
    "    // Enable Auto Invoking of Kernel Functions\n",
    "    ToolCallBehavior = ToolCallBehavior.AutoInvokeKernelFunctions\n",
    "};\n",
    "\n",
    "var decisionPromptTemplateString = \"\"\"\n",
    "What decision would you recommend in determining if {{$baseBallPlayer}} should make the hall of fame? \n",
    "Use all of the tools available at your disposal to arrive at a comprehensive decision.\n",
    "You must cite all the sources using [number] notation of each URL after the reference in order.\n",
    "The sources should appear in order on the bottom of the decision.\n",
    "\"\"\";\n",
    "var kernelArguments = new KernelArguments(openAIPromptExecutionSettings)\n",
    "{\n",
    "    [\"baseBallPlayer\"] = \"Mike Trout\"\n",
    "};\n",
    "\n",
    "// Now with Auto Invoking of Kernel Functions, let the magic happen\n",
    "await foreach (var streamChunk in semanticKernel.InvokePromptStreamingAsync(decisionPromptTemplateString, kernelArguments))\n",
    "{\n",
    "   Console.Write(streamChunk);\n",
    "}"
   ]
  },
  {
   "cell_type": "markdown",
   "metadata": {},
   "source": [
    "### Step 8 - Understanding Auto Function Calling Behavior\n",
    "\n",
    "How does Semantic Kernel and the LLM know to call the function? What if there are multiple functions or plugins, how does LLM signal Semantic Kernel which function to call? \n",
    "\n",
    "Executing the cell below will illustrate that the invocation of the functions is not magic, but guided by the descriptions of the plugin function descriptions and parameter descriptions. Note that the Search function is described as \"Perform a Web Search\". This provides a big clue to Semantic Kernel that this a possible tool (function) to use to extract current information."
   ]
  },
  {
   "cell_type": "code",
   "execution_count": 10,
   "metadata": {
    "dotnet_interactive": {
     "language": "csharp"
    },
    "polyglot_notebook": {
     "kernelName": "csharp"
    },
    "vscode": {
     "languageId": "polyglot-notebook"
    }
   },
   "outputs": [
    {
     "name": "stdout",
     "output_type": "stream",
     "text": [
      "Plugin: BaseballHallOfFamePlugin\n",
      "  Function Name: GetPlayerProbabilityOfHallOfFame\n",
      "  Function Description: Retrieves a Machine Learning probability of a player being Inducted to Hall Of Fame using a the player's baseball statistics.\n",
      "    Function Parameters:\n",
      "      - baseballStatistics: The statistics of the baseball player.\n",
      "        default: ''\n",
      "\n",
      "Plugin: BaseballHallOfFamePlugin\n",
      "  Function Name: GetBaseballPlayerStats\n",
      "  Function Description: Retrieves baseball statistics for a given baseball player.\n",
      "    Function Parameters:\n",
      "      - nameOfBaseballPlayer: The name of the baseball player to search for.\n",
      "        default: ''\n",
      "\n",
      "Plugin: BaseballHallOfFamePlugin\n",
      "  Function Name: GetWebSearchResults\n",
      "  Function Description: Retrieves the web search results with identified URL sources for a given baseball player.\n",
      "    Function Parameters:\n",
      "      - nameOfBaseballPlayer: The name of the baseball player to search for.\n",
      "        default: ''\n",
      "\n"
     ]
    }
   ],
   "source": [
    "// Method for printing the functions metadata\n",
    "private void PrintFunction(KernelFunctionMetadata func)\n",
    "{\n",
    "    Console.WriteLine($\"Plugin: {func.PluginName}\");\n",
    "    Console.WriteLine($\"  Function Name: {func.Name}\");\n",
    "    Console.WriteLine($\"  Function Description: {func.Description}\");\n",
    "\n",
    "    if (func.Parameters.Count > 0)\n",
    "    {\n",
    "        Console.WriteLine(\"    Function Parameters:\");\n",
    "        foreach (var p in func.Parameters)\n",
    "        {\n",
    "            Console.WriteLine($\"      - {p.Name}: {p.Description}\");\n",
    "            Console.WriteLine($\"        default: '{p.DefaultValue}'\");\n",
    "        }\n",
    "    }\n",
    "\n",
    "    Console.WriteLine();\n",
    "}\n",
    "// Get the functions metadata\n",
    "var functions = semanticKernel.Plugins.GetFunctionsMetadata();\n",
    "\n",
    "foreach (KernelFunctionMetadata func in functions)\n",
    "{\n",
    "    PrintFunction(func);\n",
    "}"
   ]
  }
 ],
 "metadata": {
  "kernelspec": {
   "display_name": ".NET (C#)",
   "language": "C#",
   "name": ".net-csharp"
  },
  "language_info": {
   "name": "csharp"
  },
  "polyglot_notebook": {
   "kernelInfo": {
    "defaultKernelName": "csharp",
    "items": [
     {
      "aliases": [],
      "name": "csharp"
     }
    ]
   }
  }
 },
 "nbformat": 4,
 "nbformat_minor": 2
}
