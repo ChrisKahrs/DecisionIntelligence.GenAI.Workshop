{
 "cells": [
  {
   "cell_type": "markdown",
   "metadata": {},
   "source": [
    "<img style=\"float: left;\" width =\"40px\" src=\"https://raw.githubusercontent.com/bartczernicki/DecisionIntelligence.GenAI.Workshop/main/Images/SemanticKernelLogo.png\">\n",
    "\n",
    "## Semantic Kernel - Personas\n",
    "\n",
    "Empower multi-agent systems where specialists are defined to execute requests they were designed to fulfill.  "
   ]
  },
  {
   "cell_type": "markdown",
   "metadata": {},
   "source": [
    "### Step 1 - Initialize Configuration Builder & Build the Semantic Kernel Orchestration\n",
    "\n",
    "Execute the next two cells to:\n",
    "* Use the Configuration Builder to load the API secrets.  \n",
    "* Use the API configuration to build the Semantic Kernel orchestrator."
   ]
  },
  {
   "cell_type": "code",
   "execution_count": 11,
   "metadata": {
    "vscode": {
     "languageId": "polyglot-notebook"
    }
   },
   "outputs": [
    {
     "data": {
      "text/html": [
       "<div><div></div><div></div><div><strong>Installed Packages</strong><ul><li><span>Microsoft.Extensions.Configuration, 8.0.0</span></li><li><span>Microsoft.Extensions.Configuration.Json, 8.0.0</span></li></ul></div></div>"
      ]
     },
     "metadata": {},
     "output_type": "display_data"
    }
   ],
   "source": [
    "// Import the required NuGet configuration packages\n",
    "#r \"nuget: Microsoft.Extensions.Configuration, 8.0.0\"\n",
    "#r \"nuget: Microsoft.Extensions.Configuration.Json, 8.0.0\"\n",
    "\n",
    "using Microsoft.Extensions.Configuration;\n",
    "using System.IO;\n",
    "\n",
    "// Load the configuration settings from the local.settings.json and secrets.settings.json files\n",
    "// The secrets.settings.json file is used to store sensitive information such as API keys\n",
    "var configurationBuilder = new ConfigurationBuilder()\n",
    "    .SetBasePath(Directory.GetCurrentDirectory())\n",
    "    .AddJsonFile(\"local.settings.json\", optional: true, reloadOnChange: true)\n",
    "    .AddJsonFile(\"secrets.settings.json\", optional: true, reloadOnChange: true);\n",
    "var config = configurationBuilder.Build();\n",
    "\n",
    "// Retrieve the configuration settings for the Azure OpenAI service\n",
    "var azureOpenAIEndpoint = config[\"AzureOpenAI:Endpoint\"];\n",
    "var azureOpenAIAPIKey = config[\"AzureOpenAI:APIKey\"];\n",
    "var azureOpenAIModelDeploymentName = config[\"AzureOpenAI:ModelDeploymentName\"];"
   ]
  },
  {
   "cell_type": "markdown",
   "metadata": {},
   "source": [
    "Personas leverage the Chat Completion service from the Semantic Kernel Agents package.  "
   ]
  },
  {
   "cell_type": "code",
   "execution_count": 12,
   "metadata": {
    "vscode": {
     "languageId": "polyglot-notebook"
    }
   },
   "outputs": [
    {
     "data": {
      "text/html": [
       "<div><div></div><div></div><div><strong>Installed Packages</strong><ul><li><span>Microsoft.SemanticKernel, 1.11.1</span></li><li><span>Microsoft.SemanticKernel.Experimental.Agents, 1.11.1-alpha</span></li></ul></div></div>"
      ]
     },
     "metadata": {},
     "output_type": "display_data"
    }
   ],
   "source": [
    "// Import the Semantic Kernel NuGet package\n",
    "#r \"nuget: Microsoft.SemanticKernel, 1.11.1\"\n",
    "#r \"nuget: Microsoft.SemanticKernel.Experimental.Agents, 1.11.1-alpha\"  \n",
    "\n",
    "using Microsoft.SemanticKernel;\n",
    "using Microsoft.SemanticKernel.ChatCompletion;\n",
    "using Microsoft.SemanticKernel.Connectors.OpenAI;\n",
    "using Microsoft.SemanticKernel.Experimental.Agents;\n",
    "\n",
    "var name = \"Dwight Eisenhower\";\n",
    "var instructions = \"\"\"\n",
    "You are a decision intelligence strategist with the knowledge of Dwight Eisenhower's Decision Prioritization Matrix. \n",
    "Assist the user in exploring options, reasoning through decisions, problem-solving, and applying systems thinking to various scenarios. \n",
    "Provide structured, logical, and comprehensive advice.\n",
    "\"\"\";\n",
    "var description = \"A chat bot that replies to the message with recommending the Eisenhower Decision Priorotization Matrix.\";\n",
    "\n",
    "#pragma warning disable SKEXP0101\n",
    "var agent = await new AgentBuilder()\n",
    "    .WithAzureOpenAIChatCompletion(\n",
    "        model: azureOpenAIModelDeploymentName,\n",
    "        endpoint: azureOpenAIEndpoint,\n",
    "        apiKey: azureOpenAIAPIKey)\n",
    "    .WithInstructions(instructions)\n",
    "    .WithName(name)\n",
    "    .WithDescription(description)\n",
    "    .BuildAsync();\n",
    "#pragma warning restore SKEXP0101"
   ]
  },
  {
   "cell_type": "code",
   "execution_count": null,
   "metadata": {
    "vscode": {
     "languageId": "polyglot-notebook"
    }
   },
   "outputs": [
    {
     "name": "stdout",
     "output_type": "stream",
     "text": [
      "# You: How do you make decisions?\n",
      "\n",
      "\n"
     ]
    }
   ],
   "source": [
    "#pragma warning disable SKEXP0101\n",
    "var thread = await agent.NewThreadAsync();\n",
    "\n",
    "string[] messages = [\n",
    "    \"How do you make decisions?\",\n",
    "    \"How should I priotize a lazy day?\",\n",
    "    \"How does your favorite decision framework compare to other decision frameworks?\"\n",
    "];\n",
    "\n",
    "foreach (var response in messages.Select(m => thread.InvokeAsync(agent, m)))\n",
    "{\n",
    "    await foreach (var message in response)\n",
    "    {\n",
    "        string speaker = message.Role == \"user\" ? \"You\" : \"Dwight Eisenhower\";\n",
    "        Console.WriteLine($\"# {speaker}: {message.Content}\");\n",
    "        Console.WriteLine();\n",
    "        Console.WriteLine();\n",
    "    }\n",
    "}\n",
    "\n",
    "// Delete the assistants and threads\n",
    "await thread.DeleteAsync();\n",
    "await agent.DeleteAsync();\n",
    "#pragma warning restore SKEXP0101"
   ]
  }
 ],
 "metadata": {
  "kernelspec": {
   "display_name": ".NET (C#)",
   "language": "C#",
   "name": ".net-csharp"
  },
  "language_info": {
   "name": "python"
  },
  "polyglot_notebook": {
   "kernelInfo": {
    "defaultKernelName": "csharp",
    "items": [
     {
      "aliases": [],
      "name": "csharp"
     }
    ]
   }
  }
 },
 "nbformat": 4,
 "nbformat_minor": 2
}
