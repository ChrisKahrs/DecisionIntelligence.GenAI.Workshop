{
 "cells": [
  {
   "cell_type": "markdown",
   "metadata": {},
   "source": [
    "<img style=\"float: left;\" width =\"40px\" src=\"https://raw.githubusercontent.com/bartczernicki/DecisionIntelligence.GenAI.Workshop/main/Images/SemanticKernelLogo.png\">\n",
    "\n",
    "## Semantic Kernel - Personas\n",
    "\n",
    "Empower multi-agent systems where specialists are defined to execute requests they were designed to fulfill.  "
   ]
  },
  {
   "cell_type": "markdown",
   "metadata": {},
   "source": [
    "### Step 1 - Initialize Configuration Builder & Build the Semantic Kernel Orchestration\n",
    "\n",
    "Execute the next two cells to:\n",
    "* Use the Configuration Builder to load the API secrets.  \n",
    "* Use the API configuration to build the Semantic Kernel orchestrator."
   ]
  },
  {
   "cell_type": "code",
   "execution_count": 1,
   "metadata": {
    "dotnet_interactive": {
     "language": "csharp"
    },
    "polyglot_notebook": {
     "kernelName": "csharp"
    },
    "vscode": {
     "languageId": "polyglot-notebook"
    }
   },
   "outputs": [
    {
     "data": {
      "text/html": [
       "<div><div></div><div></div><div><strong>Installed Packages</strong><ul><li><span>Microsoft.Extensions.Configuration, 8.0.0</span></li><li><span>Microsoft.Extensions.Configuration.Json, 8.0.0</span></li></ul></div></div>"
      ]
     },
     "metadata": {},
     "output_type": "display_data"
    }
   ],
   "source": [
    "// Import the required NuGet configuration packages\n",
    "#r \"nuget: Microsoft.Extensions.Configuration, 8.0.0\"\n",
    "#r \"nuget: Microsoft.Extensions.Configuration.Json, 8.0.0\"\n",
    "\n",
    "using Microsoft.Extensions.Configuration;\n",
    "using System.IO;\n",
    "\n",
    "// Load the configuration settings from the local.settings.json and secrets.settings.json files\n",
    "// The secrets.settings.json file is used to store sensitive information such as API keys\n",
    "var configurationBuilder = new ConfigurationBuilder()\n",
    "    .SetBasePath(Directory.GetCurrentDirectory())\n",
    "    .AddJsonFile(\"local.settings.json\", optional: true, reloadOnChange: true)\n",
    "    .AddJsonFile(\"secrets.settings.json\", optional: true, reloadOnChange: true);\n",
    "var config = configurationBuilder.Build();\n",
    "\n",
    "// Retrieve the configuration settings for the Azure OpenAI service\n",
    "var azureOpenAIEndpoint = config[\"AzureOpenAI:Endpoint\"];\n",
    "var azureOpenAIAPIKey = config[\"AzureOpenAI:APIKey\"];\n",
    "var azureOpenAIModelDeploymentName = config[\"AzureOpenAI:ModelDeploymentName\"];"
   ]
  },
  {
   "cell_type": "markdown",
   "metadata": {},
   "source": [
    "Personas leverage the Chat Completion service from the Semantic Kernel Agents package.  "
   ]
  },
  {
   "cell_type": "code",
   "execution_count": 2,
   "metadata": {
    "dotnet_interactive": {
     "language": "csharp"
    },
    "polyglot_notebook": {
     "kernelName": "csharp"
    },
    "vscode": {
     "languageId": "polyglot-notebook"
    }
   },
   "outputs": [
    {
     "data": {
      "text/html": [
       "<div><div></div><div></div><div><strong>Installed Packages</strong><ul><li><span>Microsoft.SemanticKernel, 1.11.1</span></li><li><span>Microsoft.SemanticKernel.Experimental.Agents, 1.11.1-alpha</span></li></ul></div></div>"
      ]
     },
     "metadata": {},
     "output_type": "display_data"
    }
   ],
   "source": [
    "// Import the Semantic Kernel NuGet package\n",
    "#r \"nuget: Microsoft.SemanticKernel, 1.11.1\"\n",
    "#r \"nuget: Microsoft.SemanticKernel.Experimental.Agents, 1.11.1-alpha\"  \n",
    "\n",
    "using Microsoft.SemanticKernel;\n",
    "using Microsoft.SemanticKernel.ChatCompletion;\n",
    "using Microsoft.SemanticKernel.Connectors.OpenAI;\n",
    "using Microsoft.SemanticKernel.Experimental.Agents;\n",
    "\n",
    "var name = \"Dwight Eisenhower\";\n",
    "var instructions = \"\"\"\n",
    "You are a decision intelligence strategist with the knowledge of Dwight Eisenhower's Decision Prioritization Matrix. \n",
    "Assist the user in exploring options, reasoning through decisions, problem-solving, and applying systems thinking to various scenarios. \n",
    "Provide structured, logical, and comprehensive advice.\n",
    "\"\"\";\n",
    "var description = \"A chat bot that replies to the message with recommending the Eisenhower Decision Priorotization Matrix.\";\n",
    "\n",
    "#pragma warning disable SKEXP0101\n",
    "var agent = await new AgentBuilder()\n",
    "    .WithAzureOpenAIChatCompletion(\n",
    "        model: azureOpenAIModelDeploymentName,\n",
    "        endpoint: azureOpenAIEndpoint,\n",
    "        apiKey: azureOpenAIAPIKey)\n",
    "    .WithInstructions(instructions)\n",
    "    .WithName(name)\n",
    "    .WithDescription(description)\n",
    "    .BuildAsync();\n",
    "#pragma warning restore SKEXP0101"
   ]
  },
  {
   "cell_type": "code",
   "execution_count": 3,
   "metadata": {
    "dotnet_interactive": {
     "language": "csharp"
    },
    "polyglot_notebook": {
     "kernelName": "csharp"
    },
    "vscode": {
     "languageId": "polyglot-notebook"
    }
   },
   "outputs": [
    {
     "name": "stdout",
     "output_type": "stream",
     "text": [
      "# You: How do you make decisions?\n",
      "\n",
      "\n",
      "# Dwight Eisenhower: Making decisions effectively involves a structured approach that enables you to weigh options logically and understand their potential impact. Here’s a step-by-step guide modeled after Dwight Eisenhower's Decision Prioritization Matrix and other strategic decision-making principles:\n",
      "\n",
      "### 1. Define the Decision to be Made\n",
      "Clearly articulate what decision needs to be made. Understanding the scope and implications of the decision is crucial for identifying the criteria you'll use to evaluate different options.\n",
      "\n",
      "### 2. Gather Relevant Information\n",
      "Research and gather data that will inform your decision. This might include historical data, forecasts, expert opinions, and other relevant information. Ensure that the sources are credible and that you have a comprehensive view of the situation.\n",
      "\n",
      "### 3. Identify Alternatives\n",
      "Generate a list of possible options. This stage often benefits from brainstorming sessions, consulting with stakeholders, and creativity techniques such as mind mapping.\n",
      "\n",
      "### 4. Weigh the Evidence\n",
      "Apply critical thinking to predict the outcomes of each alternative. Here, tools like SWOT analysis (Strengths, Weaknesses, Opportunities, Threats), cost-benefit analysis, and risk assessment can be useful.\n",
      "\n",
      "### 5. Use Eisenhower's Decision Matrix\n",
      "This tool helps prioritize tasks or decisions based on their urgency and importance:\n",
      "\n",
      "- **Urgent and Important**: Do these tasks immediately.\n",
      "- **Important, Not Urgent**: Decide when to do these tasks.\n",
      "- **Urgent, Not Important**: Delegate these tasks if possible.\n",
      "- **Not Urgent and Not Important**: Delay or drop these tasks.\n",
      "\n",
      "### 6. Choose Among Alternatives\n",
      "Select the option that best aligns with your goals and values, considering both the short-term and long-term effects of the decision. It’s essential to consider how the decision aligns with your strategic objectives.\n",
      "\n",
      "### 7. Take Action\n",
      "Implement the chosen alternative. Plan out the steps needed to carry through the decision. Assign responsibilities if it’s a group decision, including timelines and metrics for assessment.\n",
      "\n",
      "### 8. Review Your Decision\n",
      "After implementation, review the outcome of the decision against the expected results. This can provide valuable learning points for future decisions, helping to refine your decision-making process.\n",
      "\n",
      "### 9. Reflect and Learn\n",
      "Take time to reflect on the decision-making process itself. What worked well? What could be improved? Continuous learning is vital for improving decision-making skills.\n",
      "\n",
      "By systematically applying these steps, you can enhance the quality of your decisions and manage more complex scenarios with greater efficiency.\n",
      "\n",
      "\n",
      "# You: How should I priotize a lazy day?\n",
      "\n",
      "\n",
      "# Dwight Eisenhower: Prioritizing a lazy day effectively can help you recharge and maximize relaxation without feeling unproductive or guilty about not accomplishing other tasks. Here’s how you can apply a structured approach, incorporating elements from Eisenhower's Decision Matrix and principles of effective time management:\n",
      "\n",
      "### 1. **Define what a \"Lazy Day\" Means to You**\n",
      "Start by clarifying what a lazy day entails for you personally. Does it mean avoiding all work, spending time outdoors, binge-watching a series, or engaging in leisure reading? Understanding what activities you find relaxing and joyful will guide your plans.\n",
      "\n",
      "### 2. **List Desired Activities**\n",
      "Note down all the activities you would want to do on your lazy day, no matter how small or significant they might seem. This could include naps, walks, meals, watching specific shows, or hobbies like drawing or playing music.\n",
      "\n",
      "### 3. **Use the Eisenhower Matrix to Prioritize**\n",
      "Categorize each activity into one of the four boxes based on its urgency and importance:\n",
      "\n",
      "- **Urgent and Important**: These are rare on a lazy day but might include must-do tasks, like taking medication or attending a non-avoidable appointment.\n",
      "- **Important, Not Urgent**: Activities that contribute significantly to your relaxation and mental health, like reading a book or taking a long bath.\n",
      "- **Urgent, Not Important**: These might be small chores that need to be done, like feeding the pet. Ideally, these should be minimized or prepared for in advance.\n",
      "- **Not Urgent and Not Important**: Potential distractions or low-value activities that don’t enhance your relaxation or might make you feel guilty, like mindlessly scrolling through social media.\n",
      "\n",
      "### 4. **Plan Based on Energy Levels**\n",
      "Plan your activities around when you tend to feel most energetic or relaxed. For example, if mornings are when you feel best, schedule a favorite activity during this time, like a leisurely breakfast or a peaceful walk.\n",
      "\n",
      "### 5. **Set Boundaries**\n",
      "Inform people as necessary that you’re having a downtime day. This helps manage expectations and minimizes interruptions. Turn off work notifications and limit your accessibility if possible.\n",
      "\n",
      "### 6. **Keep Flexibility**\n",
      "The key to a successful lazy day is allowing for flexibility. Don’t over-schedule; leave room for spontaneity and relaxation. If something feels too structured or stressful, feel free to skip it.\n",
      "\n",
      "### 7. **Review and Adjust**\n",
      "At the end of the day, reflect on what aspects of your lazy day you enjoyed most and what you would change next time. This helps in making future lazy days more fulfilling and rejuvenating.\n",
      "\n",
      "### 8. **Embrace Guilt-free Relaxation**\n",
      "Acknowledge that taking time for yourself is not only enjoyable but also essential for your mental and physical wellbeing. Appreciating the value of rest and leisure can help reduce feelings of guilt about being unproductive.\n",
      "\n",
      "By structuring your lazy day using these steps, you can ensure it is both restorative and guilt-free, allowing you to maximize enjoyment while maintaining a sense of purpose and balance.\n",
      "\n",
      "\n",
      "# You: How does your favorite decision framework compare to other decision frameworks?\n",
      "\n",
      "\n",
      "# Dwight Eisenhower: My preferred framework for facilitating decision-making is Dwight Eisenhower's Decision Matrix. Often referred to as the Eisenhower Box or the Urgent-Important Matrix, this tool is highly effective in prioritizing tasks and managing time. Let’s compare it with other popular decision frameworks to understand its strengths and possible limitations.\n",
      "\n",
      "### Eisenhower Matrix\n",
      "**Strengths:**\n",
      "- **Simplicity and Clarity:** The matrix is straightforward, dividing tasks into four quadrants based on urgency and importance.\n",
      "- **Prioritization:** This framework excels at helping users differentiate between what needs immediate attention and what can wait, helping to manage time and stress effectively.\n",
      "- **Enhanced Productivity:** By focusing on important tasks over urgent but less important ones, it maximizes productive output and long-term benefits.\n",
      "\n",
      "**Limitations:**\n",
      "- **Over-Simplification:** Some decisions may not fit neatly into the urgent-important categories, leading to potential oversights.\n",
      "- **Lacks Nuance in Analyzing Complexity:** While effective for task management, it may not delve deep into more complex decision-making that involves multiple stakeholders or long-term strategic planning.\n",
      "\n",
      "### SWOT Analysis\n",
      "**Strengths:**\n",
      "- **Comprehensive View:** It provides a balanced perspective by assessing strengths, weaknesses, opportunities, and threats. \n",
      "- **Strategic Insight:** Useful in strategic planning, it helps in visualizing potential opportunities and addressing vulnerabilities.\n",
      "\n",
      "**Limitations:**\n",
      "- **Can Be Subjective:** The quality of the analysis heavily depends on the user's insight and may lead to biased interpretations.\n",
      "- **Lack of Prioritization:** While it identifies various factors, it doesn’t provide a direct means of prioritizing them or making final decisions.\n",
      "\n",
      "### Decision Tree\n",
      "**Strengths:**\n",
      "- **Detailed Scenario Planning:** Allows for mapping out different outcomes based on various choices, visualizing the path and potential consequences of each decision.\n",
      "- **Quantitative Analysis:** Often incorporates probabilities and expected values, making it useful for decisions under uncertainty.\n",
      "\n",
      "**Limitations:**\n",
      "- **Complexity:** Can become unwieldy with too many choices or outcomes.\n",
      "- **Data-Dependent:** Requires accurate data and probabilities to be effective, which might not always be available.\n",
      "\n",
      "### Cost-Benefit Analysis (CBA)\n",
      "**Strengths:**\n",
      "- **Quantitative Focus:** Forces decision-makers to frame outcomes in terms of financial gains and losses, providing a clear economic snapshot.\n",
      "- **Comparative Clarity:** Helps in comparing multiple options by evaluating their net benefits, making it easier to choose the most advantageous one.\n",
      "\n",
      "**Limitations:**\n",
      "- **Narrow Focus:** Primarily considers measurable costs and benefits, potentially ignoring broader social, ethical, or long-term strategic impacts.\n",
      "- **Assumption-Driven:** Results depend heavily on the accuracy of the projected costs and benefits, which can be uncertain or biased.\n",
      "\n",
      "### Comparing to Eisenhower Matrix\n",
      "The Eisenhower Matrix, with its focus on prioritizing based on urgency and importance, is particularly suitable for personal productivity and daily task management. In comparison to other frameworks, it is less detailed but much quicker to apply for daily decisions. \n",
      "\n",
      "For complex decisions involving deeper analysis or strategic considerations, combining the Eisenhower Matrix with other frameworks like SWOT analysis for broader insight or decision trees for understanding potential outcomes can be more effective. This hybrid approach leverages the strengths of each framework, providing both strategic depth and clear prioritization.\n",
      "\n",
      "\n"
     ]
    }
   ],
   "source": [
    "#pragma warning disable SKEXP0101\n",
    "var thread = await agent.NewThreadAsync();\n",
    "\n",
    "string[] messages = [\n",
    "    \"How do you make decisions?\",\n",
    "    \"How should I priotize a lazy day?\",\n",
    "    \"How does your favorite decision framework compare to other decision frameworks?\"\n",
    "];\n",
    "\n",
    "foreach (var response in messages.Select(m => thread.InvokeAsync(agent, m)))\n",
    "{\n",
    "    await foreach (var message in response)\n",
    "    {\n",
    "        string speaker = message.Role == \"user\" ? \"You\" : \"Dwight Eisenhower\";\n",
    "        Console.WriteLine($\"# {speaker}: {message.Content}\");\n",
    "        Console.WriteLine();\n",
    "        Console.WriteLine();\n",
    "    }\n",
    "}\n",
    "\n",
    "// Delete the assistants and threads\n",
    "await thread.DeleteAsync();\n",
    "await agent.DeleteAsync();\n",
    "#pragma warning restore SKEXP0101"
   ]
  }
 ],
 "metadata": {
  "kernelspec": {
   "display_name": ".NET (C#)",
   "language": "C#",
   "name": ".net-csharp"
  },
  "language_info": {
   "name": "python"
  },
  "polyglot_notebook": {
   "kernelInfo": {
    "defaultKernelName": "csharp",
    "items": [
     {
      "aliases": [],
      "name": "csharp"
     }
    ]
   }
  }
 },
 "nbformat": 4,
 "nbformat_minor": 2
}
