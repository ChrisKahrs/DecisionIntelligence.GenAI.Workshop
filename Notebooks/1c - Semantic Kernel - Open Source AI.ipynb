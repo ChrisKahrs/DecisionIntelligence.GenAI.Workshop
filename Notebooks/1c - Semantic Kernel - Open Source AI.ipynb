{
 "cells": [
  {
   "cell_type": "markdown",
   "metadata": {},
   "source": [
    "<img style=\"float: left;\" width =\"40px\" src=\"https://raw.githubusercontent.com/bartczernicki/DecisionIntelligence.GenAI.Workshop/main/Images/SemanticKernelLogo.png\">\n",
    "\n",
    "## Semantic Kernel - Open Source AI"
   ]
  },
  {
   "cell_type": "markdown",
   "metadata": {},
   "source": [
    "A recommended enterprise pattern is to scale Articial Intelligence strategy with three key areas:\n",
    "* Commercial AI (OpenAI and proprietary models)\n",
    "* Open-Source AI (open-source providers)\n",
    "* AI from vendors/partners (i.e. company HR Software)  \n",
    "\n",
    "These three areas together strategically form AI capability and capacity in what I like to call the \"AI Brain\". This is illustrated below.\n",
    "\n",
    "<img width =\"750px\" src=\"https://raw.githubusercontent.com/bartczernicki/DecisionIntelligence.GenAI.Workshop/main/Images/AIBrainPillars.png\">\n",
    "\n",
    "Semantic Kernel embraces AI orchestration across all the pillars mentioned above. It allows all types of models (commercial or proprietary) and almost any APIs to be orchestrated to faciliate better decision intelligence."
   ]
  },
  {
   "cell_type": "markdown",
   "metadata": {},
   "source": [
    "### Step 1 - Get Started with LMStudio and Microsoft Phi-3\n",
    "\n",
    "This module highlights how to use local AI models (i.e. LLMs) with Semantic Kernel. To illustrate this the Phi-3 model is run locally using LMStudio.\n",
    "\n",
    "Steps to get started:\n",
    "* Install LMStudio: https://lmstudio.ai/ (Windows, Mac or Linux)  \n",
    "* Run LMStudio. \n",
    "* Download the Phi-3-Mini model (this can be done all in LMStudio)  \n",
    "* Start the LMStudio Server with the Phi-3-Mini model loaded. This will start a local REST endpoint  \n",
    "\n",
    "<img width =\"900px\" src=\"https://raw.githubusercontent.com/bartczernicki/DecisionIntelligence.GenAI.Workshop/main/Images/LMStudioServer.png\">"
   ]
  },
  {
   "cell_type": "markdown",
   "metadata": {},
   "source": [
    "### Step 2 - Initialize Configuration Builder & Build the Semantic Kernel Orchestration\n",
    "\n",
    "Execute the next cell to:\n",
    "* Use the Configuration Builder to use the local LMStudio Server  \n",
    "* Use the API configuration to build the Semantic Kernel orchestrator  \n",
    "* Notice there is no security being passed in and it is simply a URL"
   ]
  },
  {
   "cell_type": "code",
   "execution_count": 3,
   "metadata": {
    "dotnet_interactive": {
     "language": "csharp"
    },
    "polyglot_notebook": {
     "kernelName": "csharp"
    },
    "vscode": {
     "languageId": "polyglot-notebook"
    }
   },
   "outputs": [
    {
     "data": {
      "text/html": [
       "<div><div></div><div></div><div><strong>Installed Packages</strong><ul><li><span>Microsoft.SemanticKernel, 1.13.0</span></li></ul></div></div>"
      ]
     },
     "metadata": {},
     "output_type": "display_data"
    }
   ],
   "source": [
    "#r \"nuget: Microsoft.SemanticKernel, 1.13.0\"\n",
    "\n",
    "using Microsoft.SemanticKernel;\n",
    "using Microsoft.SemanticKernel.ChatCompletion;\n",
    "using Microsoft.SemanticKernel.Connectors.OpenAI;\n",
    "\n",
    "#pragma warning disable SKEXP0010 \n",
    "var semanticKernel = Kernel.CreateBuilder()\n",
    "    .AddOpenAIChatCompletion(\n",
    "        modelId: \"Phi-3\",\n",
    "        endpoint: new Uri(\"http://localhost:1234\"),\n",
    "        apiKey: \"LMStudio\")\n",
    "    .Build();\n",
    "#pragma warning restore SKEXP0010"
   ]
  },
  {
   "cell_type": "markdown",
   "metadata": {},
   "source": [
    "### Step 3 - Use Semantic Kernel with Open Source AI Models\n",
    "\n",
    "Semantic Kernel allows one to interact with any API service that adheres to the OpenAI specification. Notice the method to add LMStudio capability was simply enabled via the \"AddOpenAIChatCompletion\" method.\n",
    "\n",
    "Execute the cell below and note:\n",
    "* OpenAI Prompt Execution Settings are the same in LMStudio as they are for OpenAI and Azure OpenAI\n",
    "* Passing in arguents works the same way in Semantic Kernel\n",
    "* Streaming works as well in Semantic Kernel for supported services"
   ]
  },
  {
   "cell_type": "code",
   "execution_count": 4,
   "metadata": {
    "dotnet_interactive": {
     "language": "csharp"
    },
    "polyglot_notebook": {
     "kernelName": "csharp"
    },
    "vscode": {
     "languageId": "polyglot-notebook"
    }
   },
   "outputs": [
    {
     "name": "stdout",
     "output_type": "stream",
     "text": [
      "Improving the quality of decisions is crucial for achieving desired outcomes and minimizing risks. Here are several decision-making frameworks designed to enhance decision quality:\n",
      "\n",
      "1. **SWOT Analysis**: SWOT stands for Strengths, Weaknesses, Opportunities, and Threats. This framework helps identify internal strengths and weaknesses as well as external opportunities and threats related to a particular situation or project. By analyzing these factors, decision-makers can make informed choices that leverage their strengths, address weaknesses, capitalize on opportunities, and mitigate potential threats.\n",
      "\n",
      "2. **Decision Matrix (Grid Analysis)**: This framework involves creating a table with criteria for evaluating options against each other. Each option is scored based on the importance of each criterion, allowing decision-makers to compare alternatives side by side and choose the best one according to their priorities.\n",
      "\n",
      "3. **Cost-Benefit Analysis (CBA)**: CBA involves comparing the costs and benefits associated with a particular decision or project. By quantifying both positive and negative impacts, decision-makers can determine whether an option is worth pursuing based on its net value to the organization or individual.\n",
      "\n",
      "4. **Multi-Criteria Decision Analysis (MCDA)**: MCDA involves evaluating multiple criteria simultaneously when making decisions. This framework helps prioritize and rank alternatives by assigning weights to each criterion, allowing decision-makers to consider a broader range of factors in their analysis.\n",
      "\n",
      "5. **Pareto Principle (80/20 Rule)**: The Pareto principle states that 80% of the effects come from 20% of the causes. In decision-making, this means focusing on the most significant factors or opportunities to achieve a substantial impact with minimal effort.\n",
      "\n",
      "6. **Pros and Cons List**: This simple yet effective framework involves listing all the positive (pros) and negative (cons) aspects associated with each option under consideration. By comparing these lists, decision-makers can identify potential risks or benefits that may influence their choice.\n",
      "\n",
      "7. **Precedent Analysis**: Precedent analysis involves examining past decisions made in similar situations to determine the outcomes and lessons learned. This framework helps inform current decision-making by providing insights into what worked well, what didn't, and how those experiences can be applied to present circumstances.\n",
      "\n",
      "8. **Decision Trees**: Decision trees are graphical representations of possible decisions and their potential outcomes. By mapping out the various paths a decision could take, along with associated probabilities and payoffs, decision-makers can evaluate different scenarios and choose the most favorable option.\n",
      "\n",
      "9. **Six Thinking Hats**: Developed by Edward de Bono, this framework encourages individuals to think from multiple perspectives (emotional, informational, creative, logical, critical, and optimistic) when making decisions. By considering diverse viewpoints, decision-makers can gain a more comprehensive understanding of the situation at hand.\n",
      "\n",
      "10. **The OODA Loop**: The OODA loop (Observe, Orient, Decide, Act) is a decision-making framework developed by military strategist John Boyd. It emphasizes rapid and iterative cycles of observation, orientation, decision-making, and action to adapt quickly to changing circumstances"
     ]
    }
   ],
   "source": [
    "// You can set the typical OpenAI settings with most open-source models\n",
    "var openAIPromptExecutionSettings = new OpenAIPromptExecutionSettings { \n",
    "    MaxTokens = 750, \n",
    "    Temperature = 0.1, \n",
    "    TopP = 1.0, \n",
    "    FrequencyPenalty = 0.0, \n",
    "    PresencePenalty = 0.0\n",
    "    };\n",
    "KernelArguments kernelArguments = new KernelArguments(openAIPromptExecutionSettings);\n",
    "\n",
    "// Prompting works in a very similar way to the OpenAI API\n",
    "var simplePrompt = \"Provide some decision frameworks that can help improve the quality of decisions.\";\n",
    "// Most open-source GenAI moodels support streaming as well\n",
    "await foreach (var streamChunk in semanticKernel.InvokePromptStreamingAsync(simplePrompt, kernelArguments))\n",
    "{\n",
    "   Console.Write(streamChunk);\n",
    "}"
   ]
  },
  {
   "cell_type": "markdown",
   "metadata": {},
   "source": [
    "## Step 4 - Using the Ben Franklin Decision Framework to Make Great Decisions\n",
    "\n",
    "<img width =\"900px\" src=\"https://raw.githubusercontent.com/bartczernicki/Articles/main/20230326-Make-Great-Decisions-Using-Ben-Franklins-Pros-And-Cons-Method/Image-BenFranklinDecisionMakingMethod.png\">\n",
    "\n",
    "\n",
    "In bullet summary, these are the steps Ben Franklin recommends when making a decision, which he called his \"Decision Making Method of Moral Algebra\":  \n",
    "- Frame a decision that has two options (Yes or a No)\n",
    "- Divide an area into two competing halves: a \"Pro\" side and \"Con\" side\n",
    "- Label the top of one side \"Pro\" (for) and the other \"Con\" (against)\n",
    "- Under each respective side, over a period of time (Ben Franklin recommended days, this could be minutes) write down various reasons/arguments that support (Pro) or are against (Con) the decision\n",
    "- After spending some time thinking exhaustively and writing down the reasons, weight the different Pro and Con reasons/arguments\n",
    "- Determine the relative importance of each reason or argument. This is done by taking reasons/arguments that are of similar value (weight) and crossing them off of the other competing half. Multiple reasons can be combined from one side to form a \"subjective\" value (weight) to balance out the other half. (For example, two medium \"Pro\" reasons might add up to an equal value of a single important \"Con\" reason)\n",
    "- The side with the most remaining reasons is the option one should select for the decision in question\n",
    "\n",
    "Learn more about Ben Franklin's Decision Framework: https://medium.com/@bartczernicki/make-great-decisions-using-ben-franklins-decision-making-method-c7fb8b17905c  "
   ]
  },
  {
   "cell_type": "code",
   "execution_count": 5,
   "metadata": {
    "dotnet_interactive": {
     "language": "csharp"
    },
    "polyglot_notebook": {
     "kernelName": "csharp"
    },
    "vscode": {
     "languageId": "polyglot-notebook"
    }
   },
   "outputs": [
    {
     "name": "stdout",
     "output_type": "stream",
     "text": [
      "To make an informed decision about taking a luxury vacation with your family using the Ben Franklin Decision Framework, let's break down each step:\n",
      "\n",
      "1. Define the problem: The primary issue at hand is deciding if it's worthwhile to take a luxury vacation with your family considering factors such as cost, time commitment, and potential benefits.\n",
      "\n",
      "2. Identify options: List all possible alternatives for addressing this situation. For instance:\n",
      "   A. Take the luxury vacation\n",
      "   B. Opt for a more affordable vacation or staycation\n",
      "   C. Save money for future family trips instead of taking one now\n",
      "   D. Plan an inexpensive local trip with your family\n",
      "\n",
      "3. Weigh the evidence: Evaluate each option based on relevant factors, such as financial situation, time availability, and potential benefits to family relationships or personal well-being. Consider both short-term and long-term consequences of each choice.\n",
      "\n",
      "   A. Luxury vacation: \n",
      "      - Costs: High expenses for accommodations, travel, and activities\n",
      "      - Time commitment: Longer duration due to the luxurious nature of the trip\n",
      "      - Potential benefits: Strengthened family bonds, memorable experiences, relaxation, and personal growth opportunities\n",
      "   B. More affordable vacation or staycation: \n",
      "      - Costs: Lower expenses for accommodations, travel, and activities\n",
      "      - Time commitment: Shorter duration due to budget constraints\n",
      "      - Potential benefits: Strengthened family bonds, memorable experiences within a limited timeframe, relaxation, and personal growth opportunities\n",
      "   C. Save money for future trips: \n",
      "      - Costs: No immediate expenses; however, delaying the vacation may result in higher costs later due to inflation or other factors\n",
      "      - Time commitment: None directly related to this option\n",
      "      - Potential benefits: Financial security and flexibility for planning future family trips with more options available\n",
      "   D. Inexpensive local trip: \n",
      "      - Costs: Low expenses for accommodations, travel, and activities\n",
      "      - Time commitment: Shorter duration due to proximity of the destination\n",
      "      - Potential benefits: Strengthened family bonds, memorable experiences within a limited timeframe, relaxation, and personal growth opportunities\n",
      "\n",
      "4. Choose an option: Based on your evaluation in step 3, select the most suitable choice that aligns with your priorities, values, and circumstances. For example, if you have sufficient savings to cover the luxury vacation without compromising financial security or future plans, it may be worth considering this option due to its potential benefits for family bonding and personal growth.\n",
      "\n",
      "5. Take action: Once a decision is made, create an action plan that outlines specific steps needed to execute your chosen course of action (e.g., research destinations, book accommodations, set aside funds).\n",
      "\n",
      "6. Review the decision: After implementing your choice, reflect on its effectiveness and consider any lessons learned for future decisions. If circumstances change or new information arises, revisit this process to reassess whether an alternative option may be more suitable."
     ]
    }
   ],
   "source": [
    "// You can also use a template to provide more context to the model combining system and user prompts\n",
    "var systemPrompt = \"\"\"\n",
    "You are a decision intelligence assistant. \n",
    "Assist the user in exploring options, reasoning through decisions, problem-solving, and applying systems thinking to various scenarios. \n",
    "Provide structured, logical, and comprehensive advice.\n",
    "\"\"\";\n",
    "var simpleDecisionPrompt = \"Use the Ben Franklin Decision Framework to decide whether to take a luxury vacation with the family.\";\n",
    "\n",
    "var simpleDecisionPromptTemplate = $\"\"\"\n",
    "{systemPrompt}\n",
    "--------------\n",
    "{simpleDecisionPrompt}\n",
    "\"\"\";\n",
    "\n",
    "await foreach (var streamChunk in semanticKernel.InvokePromptStreamingAsync(simpleDecisionPromptTemplate, kernelArguments))\n",
    "{\n",
    "   Console.Write(streamChunk);\n",
    "}"
   ]
  },
  {
   "cell_type": "markdown",
   "metadata": {},
   "source": [
    "### Step 5 - Multiple Different Service Providers\n",
    "\n",
    "Semantic Kernel can include mutliple AI service providers. This allows for hybrid workflows from a single Semantic Kernel instance like: \n",
    "* Capability Optimization. For example, using SLMs for domain specific tasks and LLMs for complex decision reasoning\n",
    "* Capacity Optimization. Splitting functions, plugins, personas or agents across different AI services\n",
    "* Use AI Service selector dynamically allocate AI service execution resources  "
   ]
  },
  {
   "cell_type": "code",
   "execution_count": 6,
   "metadata": {
    "dotnet_interactive": {
     "language": "csharp"
    },
    "polyglot_notebook": {
     "kernelName": "csharp"
    },
    "vscode": {
     "languageId": "polyglot-notebook"
    }
   },
   "outputs": [
    {
     "data": {
      "text/html": [
       "<div><div></div><div></div><div><strong>Installed Packages</strong><ul><li><span>Microsoft.Extensions.Configuration, 8.0.0</span></li><li><span>Microsoft.Extensions.Configuration.Json, 8.0.0</span></li><li><span>Microsoft.SemanticKernel, 1.13.0</span></li></ul></div></div>"
      ]
     },
     "metadata": {},
     "output_type": "display_data"
    }
   ],
   "source": [
    "// Import the required NuGet configuration packages\n",
    "#r \"nuget: Microsoft.Extensions.Configuration, 8.0.0\"\n",
    "#r \"nuget: Microsoft.Extensions.Configuration.Json, 8.0.0\"\n",
    "#r \"nuget: Microsoft.SemanticKernel, 1.13.0\"\n",
    "\n",
    "using Microsoft.Extensions.Configuration;\n",
    "using System.IO;\n",
    "using Microsoft.SemanticKernel;\n",
    "using Microsoft.SemanticKernel.ChatCompletion;\n",
    "using Microsoft.SemanticKernel.Connectors.OpenAI;\n",
    "\n",
    "// Load the configuration settings from the local.settings.json and secrets.settings.json files\n",
    "// The secrets.settings.json file is used to store sensitive information such as API keys\n",
    "var configurationBuilder = new ConfigurationBuilder()\n",
    "    .SetBasePath(Directory.GetCurrentDirectory())\n",
    "    .AddJsonFile(\"local.settings.json\", optional: true, reloadOnChange: true)\n",
    "    .AddJsonFile(\"secrets.settings.json\", optional: true, reloadOnChange: true);\n",
    "var config = configurationBuilder.Build();\n",
    "\n",
    "// Retrieve the configuration settings for the Azure OpenAI service\n",
    "var azureOpenAIEndpoint = config[\"AzureOpenAI:Endpoint\"];\n",
    "var azureOpenAIAPIKey = config[\"AzureOpenAI:APIKey\"];\n",
    "var azureOpenAIModelDeploymentName = config[\"AzureOpenAI:ModelDeploymentName\"];\n",
    "\n",
    "// Example to build a Kernel with Azure OpenAI and Opensource AI\n",
    "#pragma warning disable SKEXP0010 \n",
    "var semanticKernel = Kernel.CreateBuilder()\n",
    "    .AddAzureOpenAIChatCompletion(\n",
    "        deploymentName: azureOpenAIModelDeploymentName,\n",
    "        endpoint: azureOpenAIEndpoint,\n",
    "        apiKey: azureOpenAIAPIKey)\n",
    "    .AddOpenAIChatCompletion(\n",
    "        modelId: \"Phi-3\",\n",
    "        endpoint: new Uri(\"http://localhost:1234\"),\n",
    "        apiKey: \"LMStudio\")\n",
    "    .Build();\n",
    "#pragma warning restore SKEXP0010"
   ]
  }
 ],
 "metadata": {
  "kernelspec": {
   "display_name": ".NET (C#)",
   "language": "C#",
   "name": ".net-csharp"
  },
  "language_info": {
   "name": "csharp"
  },
  "polyglot_notebook": {
   "kernelInfo": {
    "defaultKernelName": "csharp",
    "items": [
     {
      "aliases": [],
      "name": "csharp"
     }
    ]
   }
  }
 },
 "nbformat": 4,
 "nbformat_minor": 2
}
