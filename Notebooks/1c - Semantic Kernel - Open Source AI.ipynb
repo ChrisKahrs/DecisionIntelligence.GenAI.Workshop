{
 "cells": [
  {
   "cell_type": "markdown",
   "metadata": {},
   "source": [
    "<img style=\"float: left;\" width =\"40px\" src=\"https://raw.githubusercontent.com/bartczernicki/DecisionIntelligence.GenAI.Workshop/main/Images/SemanticKernelLogo.png\">\n",
    "\n",
    "## Semantic Kernel - Open Source AI"
   ]
  },
  {
   "cell_type": "markdown",
   "metadata": {},
   "source": [
    "Decision Intelligence applied in this module:  \n",
    "* Listing factors to consider when making a decision  \n",
    "* Use a decision framework (Ben Franklin's Pro & Con List) to create a decision plan  "
   ]
  },
  {
   "cell_type": "markdown",
   "metadata": {},
   "source": [
    "A recommended enterprise pattern is to scale Articial Intelligence strategy with three key areas:\n",
    "* Commercial AI (OpenAI and proprietary models)\n",
    "* Open-Source AI (open-source providers)\n",
    "* Partner (Vendor) AI (i.e. company HR Software)  \n",
    "\n",
    "These three areas together strategically form AI capability and capacity in what I like to call the \"AI Brain\". This is illustrated below.\n",
    "\n",
    "<img width =\"750px\" src=\"https://raw.githubusercontent.com/bartczernicki/DecisionIntelligence.GenAI.Workshop/main/Images/AIBrainPillars.png\">\n",
    "\n",
    "Semantic Kernel embraces AI orchestration across all the pillars mentioned above. It allows all types of models (commercial or proprietary) and almost any APIs to be orchestrated to faciliate better decision intelligence."
   ]
  },
  {
   "cell_type": "markdown",
   "metadata": {},
   "source": [
    "### Step 1 - Get Started with LMStudio and Microsoft Phi-3\n",
    "\n",
    "This module highlights how to use local AI models (i.e. LLMs) with Semantic Kernel. To illustrate this the Phi-3 model is run locally using LMStudio.\n",
    "\n",
    "Steps to get started:\n",
    "* Install LMStudio: https://lmstudio.ai/ (Windows, Mac or Linux)  \n",
    "* Run LMStudio. \n",
    "* Download the Phi-3-Mini model (this can be done all in LMStudio)  \n",
    "* Start the LMStudio Server with the Phi-3-Mini model loaded. This will start a local REST endpoint  \n",
    "\n",
    "<img width =\"900px\" src=\"https://raw.githubusercontent.com/bartczernicki/DecisionIntelligence.GenAI.Workshop/main/Images/LMStudioServer.png\">"
   ]
  },
  {
   "cell_type": "markdown",
   "metadata": {},
   "source": [
    "### Step 2 - Initialize Configuration Builder & Build the Semantic Kernel Orchestration\n",
    "\n",
    "Execute the next cell to:\n",
    "* Use the Configuration Builder to use the local LMStudio Server  \n",
    "* Use the API configuration to build the Semantic Kernel orchestrator  \n",
    "* Notice there is no security being passed in and it is simply a URL"
   ]
  },
  {
   "cell_type": "code",
   "execution_count": 1,
   "metadata": {
    "dotnet_interactive": {
     "language": "csharp"
    },
    "polyglot_notebook": {
     "kernelName": "csharp"
    },
    "vscode": {
     "languageId": "polyglot-notebook"
    }
   },
   "outputs": [
    {
     "data": {
      "text/html": [
       "<div><div></div><div></div><div><strong>Installed Packages</strong><ul><li><span>Microsoft.SemanticKernel, 1.13.0</span></li></ul></div></div>"
      ]
     },
     "metadata": {},
     "output_type": "display_data"
    }
   ],
   "source": [
    "#r \"nuget: Microsoft.SemanticKernel, 1.13.0\"\n",
    "\n",
    "using Microsoft.SemanticKernel;\n",
    "using Microsoft.SemanticKernel.ChatCompletion;\n",
    "using Microsoft.SemanticKernel.Connectors.OpenAI;\n",
    "\n",
    "#pragma warning disable SKEXP0010 \n",
    "var semanticKernel = Kernel.CreateBuilder()\n",
    "    .AddOpenAIChatCompletion(\n",
    "        modelId: \"Phi-3\",\n",
    "        endpoint: new Uri(\"http://localhost:1234\"),\n",
    "        apiKey: \"LMStudio\")\n",
    "    .Build();\n",
    "#pragma warning restore SKEXP0010"
   ]
  },
  {
   "cell_type": "markdown",
   "metadata": {},
   "source": [
    "### Step 3 - Use Semantic Kernel with Open Source AI Models\n",
    "\n",
    "Semantic Kernel allows one to interact with any API service that adheres to the OpenAI specification. Notice the method to add LMStudio capability was simply enabled via the \"AddOpenAIChatCompletion\" method.\n",
    "\n",
    "Execute the cell below and note:\n",
    "* OpenAI Prompt Execution Settings are the same in LMStudio as they are for OpenAI and Azure OpenAI\n",
    "* Passing in arguents works the same way in Semantic Kernel\n",
    "* Streaming works as well in Semantic Kernel for supported services"
   ]
  },
  {
   "cell_type": "markdown",
   "metadata": {},
   "source": [
    "> \"Don't wait to buy real estate. Buy real estate and wait.\"  \n",
    ">\n",
    "> -- <cite>Will Rodgers (American humorist, actor, and social commentator in the early 20th century)</cite>  "
   ]
  },
  {
   "cell_type": "code",
   "execution_count": 2,
   "metadata": {
    "dotnet_interactive": {
     "language": "csharp"
    },
    "polyglot_notebook": {
     "kernelName": "csharp"
    },
    "vscode": {
     "languageId": "polyglot-notebook"
    }
   },
   "outputs": [
    {
     "name": "stdout",
     "output_type": "stream",
     "text": [
      "When purchasing a secondary home as an investment property, there are several key factors that you need to take into consideration. Here is a list of some important aspects:\n",
      "\n",
      "1. Location: The location of your investment property plays a crucial role in determining its potential for appreciation and rental income. Look for areas with strong job markets, good schools, low crime rates, and access to amenities such as shopping centers, parks, and public transportation.\n",
      "\n",
      "2. Market conditions: Research the local real estate market trends, including property values, supply and demand, vacancy rates, and rental prices. This will help you determine if it's a good time to invest in that particular area.\n",
      "\n",
      "3. Property type: Consider the type of property that would best suit your investment goals. For example, single-family homes may be easier to rent out than multi-unit properties or condos, but they might also require more maintenance and upkeep.\n",
      "\n",
      "4. Financing options: Determine how you will finance the purchase of your investment property. You'll need to consider factors such as down payment requirements, interest rates, loan terms, and potential tax implications.\n",
      "\n",
      "5. Cash flow analysis: Calculate the expected rental income from the property and compare it with expenses like mortgage payments, insurance, property management fees, maintenance costs, and vacancy allowances to determine if you'll have positive cash flow.\n",
      "\n",
      "6. Property condition: Assess the current state of the property and estimate any necessary repairs or renovations that may be needed before renting it out. This will help you budget for these expenses and avoid unexpected costs down the line.\n",
      "\n",
      "7. Rental potential: Research comparable rental properties in the area to determine a competitive rental price. Consider factors such as property size, location, amenities, and condition when setting your rental rate.\n",
      "\n",
      "8. Property management: Decide if you will manage the property yourself or hire a professional property manager. If you choose to self-manage, be prepared for the time commitment involved in finding tenants, collecting rent, handling maintenance requests, and dealing with any issues that may arise.\n",
      "\n",
      "9. Legal considerations: Familiarize yourself with local landlord-tenant laws, zoning regulations, and property taxes to ensure you are compliant with all legal requirements as a landlord.\n",
      "\n",
      "10. Exit strategy: Consider your long-term goals for the investment property and have an exit strategy in place if needed. This could include selling the property after a certain period or refinancing it to access equity.\n",
      "\n",
      "By carefully considering these factors, you can make an informed decision when purchasing a secondary home as an investment property that aligns with your financial goals and risk tolerance."
     ]
    }
   ],
   "source": [
    "// Prompting works in a very similar way to the OpenAI API\n",
    "var simplePrompt = \"\"\"\n",
    "You are planning to pruchase a secondary home as an investment property.\n",
    "What are the key factors you should consider when making this decision?\n",
    "\"\"\";\n",
    "\n",
    "// You can set the typical OpenAI settings with most open-source models\n",
    "var openAIPromptExecutionSettings = new OpenAIPromptExecutionSettings { \n",
    "    MaxTokens = 750, \n",
    "    Temperature = 0.1, \n",
    "    TopP = 1.0, \n",
    "    FrequencyPenalty = 0.0, \n",
    "    PresencePenalty = 0.0\n",
    "    };\n",
    "KernelArguments kernelArguments = new KernelArguments(openAIPromptExecutionSettings);\n",
    "\n",
    "// Most open-source GenAI moodels support streaming as well\n",
    "await foreach (var streamChunk in semanticKernel.InvokePromptStreamingAsync(simplePrompt, kernelArguments))\n",
    "{\n",
    "   Console.Write(streamChunk);\n",
    "}"
   ]
  },
  {
   "cell_type": "markdown",
   "metadata": {},
   "source": [
    "## Step 4 - Using the Ben Franklin Decision Framework to Make Great Decisions\n",
    "\n",
    "> \"By failing to prepare, you are preparing to fail.\" \n",
    ">\n",
    "> -- <cite>Ben Franklin (Founding Father of the United States, inventor, writer)</cite> \n",
    "\n",
    "<img width =\"750px\" src=\"https://raw.githubusercontent.com/bartczernicki/Articles/main/20230326-Make-Great-Decisions-Using-Ben-Franklins-Pros-And-Cons-Method/Image-BenFranklinDecisionMakingMethod.png\">\n",
    "\n",
    "\n",
    "In bullet summary, these are the steps Ben Franklin recommends when making a decision, which he called his \"Decision Making Method of Moral Algebra\":  \n",
    "- Frame a decision that has two options (Yes or a No)\n",
    "- Divide an area into two competing halves: a \"Pro\" side and \"Con\" side\n",
    "- Label the top of one side \"Pro\" (for) and the other \"Con\" (against)\n",
    "- Under each respective side, over a period of time (Ben Franklin recommended days, this could be minutes) write down various reasons/arguments that support (Pro) or are against (Con) the decision\n",
    "- After spending some time thinking exhaustively and writing down the reasons, weight the different Pro and Con reasons/arguments\n",
    "- Determine the relative importance of each reason or argument. This is done by taking reasons/arguments that are of similar value (weight) and crossing them off of the other competing half. Multiple reasons can be combined from one side to form a \"subjective\" value (weight) to balance out the other half. (For example, two medium \"Pro\" reasons might add up to an equal value of a single important \"Con\" reason)\n",
    "- The side with the most remaining reasons is the option one should select for the decision in question\n",
    "\n",
    "Learn more about Ben Franklin's Decision Framework: https://medium.com/@bartczernicki/make-great-decisions-using-ben-franklins-decision-making-method-c7fb8b17905c  "
   ]
  },
  {
   "cell_type": "code",
   "execution_count": 3,
   "metadata": {
    "dotnet_interactive": {
     "language": "csharp"
    },
    "polyglot_notebook": {
     "kernelName": "csharp"
    },
    "vscode": {
     "languageId": "polyglot-notebook"
    }
   },
   "outputs": [
    {
     "name": "stdout",
     "output_type": "stream",
     "text": [
      "The Ben Franklin Decision Framework is an excellent tool for making decisions by weighing pros and cons systematically. Let's apply this framework to your decision about taking a luxury vacation with your family:\n",
      "\n",
      "1. Identify the options: In this case, you have two primary options - take the luxury vacation or not take it. \n",
      "2. List the advantages (pros) and disadvantages (cons) of each option:\n",
      "\n",
      "Option A: Take a Luxury Vacation with Family\n",
      "Pros:\n",
      "   a. Quality time spent together as a family, strengthening bonds and creating lasting memories.\n",
      "   b. Opportunity to relax, recharge, and reduce stress levels for all family members.\n",
      "   c. Exposure to new cultures, experiences, and environments that can broaden perspectives and knowledge.\n",
      "   d. Potential educational benefits for children through exposure to different places, people, and customs.\n",
      "   e. Enjoyment of luxury amenities and services, which may not be available in everyday life.\n",
      "\n",
      "Cons:\n",
      "   a. High cost associated with the vacation, including travel expenses, accommodations, meals, activities, etc.\n",
      "   b. Time away from work or other responsibilities that could lead to missed opportunities or increased stress upon return.\n",
      "   c. Potential disruption of routines for children and family members, which may cause temporary adjustment issues.\n",
      "   d. Risk of unforeseen circumstances (e.g., travel delays, illness) affecting the vacation experience negatively.\n",
      "\n",
      "Option B: Do Not Take a Luxury Vacation with Family\n",
      "Pros:\n",
      "   a. Maintaining financial stability and avoiding potential debt or overspending on the trip.\n",
      "   b. Continuity of work, school, and other responsibilities without interruption.\n",
      "   c. Opportunity to plan for alternative family activities that may be more budget-friendly or accessible in your local area.\n",
      "   d. Avoiding potential travel risks and uncertainties associated with vacationing during uncertain times (e.g., pandemic concerns).\n",
      "\n",
      "Cons:\n",
      "   a. Missed opportunity to create lasting memories, strengthen family bonds, and enjoy quality time together in a luxurious setting.\n",
      "   b. Potential for increased stress levels or burnout due to lack of relaxation and rejuvenation opportunities.\n",
      "   c. Limited exposure to new cultures, experiences, and environments that could broaden perspectives and knowledge.\n",
      "   d. Possible feelings of regret or disappointment among family members who were looking forward to the vacation experience.\n",
      "\n",
      "3. Evaluate each option's pros and cons: Assess which factors are most important for your family and weigh them accordingly. Consider both short-term and long-term implications, as well as potential trade-offs between options.\n",
      "\n",
      "4. Make a decision based on the evaluation: After considering all aspects of each option, choose the one that aligns best with your family's values, priorities, and circumstances. In this case, if you determine that the benefits of taking a luxury vacation outweigh the potential drawbacks for your family, then it may be worth pursuing. Conversely, if maintaining financial stability or avoiding travel risks is more important to you at this time, opting not to take the"
     ]
    }
   ],
   "source": [
    "// You can also use a template to provide more context to the model combining system and user prompts\n",
    "var systemPrompt = \"\"\"\n",
    "You are a decision intelligence assistant. \n",
    "Assist the user in exploring options, reasoning through decisions, problem-solving, and applying systems thinking to various scenarios. \n",
    "Provide structured, logical, and comprehensive advice.\n",
    "\"\"\";\n",
    "var simpleDecisionPrompt = \"\"\"\n",
    "Use the Ben Franklin Decision Framework to decide whether to take a luxury vacation with the family.\n",
    "\"\"\";\n",
    "\n",
    "var simpleDecisionPromptTemplate = $\"\"\"\n",
    "{systemPrompt}\n",
    "--------------\n",
    "{simpleDecisionPrompt}\n",
    "\"\"\";\n",
    "\n",
    "await foreach (var streamChunk in semanticKernel.InvokePromptStreamingAsync(simpleDecisionPromptTemplate, kernelArguments))\n",
    "{\n",
    "   Console.Write(streamChunk);\n",
    "}"
   ]
  },
  {
   "cell_type": "markdown",
   "metadata": {},
   "source": [
    "### Step 5 - Multiple Different Service Providers\n",
    "\n",
    "Semantic Kernel can include mutliple AI service providers. This allows for hybrid workflows from a single Semantic Kernel instance like: \n",
    "* Capability Optimization. For example, using SLMs for domain specific tasks and LLMs for complex decision reasoning\n",
    "* Capacity Optimization. Splitting functions, plugins, personas or agents across different AI services\n",
    "* Use AI Service selector dynamically allocate AI service execution resources  "
   ]
  },
  {
   "cell_type": "code",
   "execution_count": 4,
   "metadata": {
    "dotnet_interactive": {
     "language": "csharp"
    },
    "polyglot_notebook": {
     "kernelName": "csharp"
    },
    "vscode": {
     "languageId": "polyglot-notebook"
    }
   },
   "outputs": [
    {
     "data": {
      "text/html": [
       "<div><div></div><div></div><div><strong>Installed Packages</strong><ul><li><span>Microsoft.Extensions.Configuration, 8.0.0</span></li><li><span>Microsoft.Extensions.Configuration.Json, 8.0.0</span></li><li><span>Microsoft.SemanticKernel, 1.13.0</span></li></ul></div></div>"
      ]
     },
     "metadata": {},
     "output_type": "display_data"
    }
   ],
   "source": [
    "// Import the required NuGet configuration packages\n",
    "#r \"nuget: Microsoft.Extensions.Configuration, 8.0.0\"\n",
    "#r \"nuget: Microsoft.Extensions.Configuration.Json, 8.0.0\"\n",
    "#r \"nuget: Microsoft.SemanticKernel, 1.13.0\"\n",
    "\n",
    "using Microsoft.Extensions.Configuration;\n",
    "using System.IO;\n",
    "using Microsoft.SemanticKernel;\n",
    "using Microsoft.SemanticKernel.ChatCompletion;\n",
    "using Microsoft.SemanticKernel.Connectors.OpenAI;\n",
    "\n",
    "// Load the configuration settings from the local.settings.json and secrets.settings.json files\n",
    "// The secrets.settings.json file is used to store sensitive information such as API keys\n",
    "var configurationBuilder = new ConfigurationBuilder()\n",
    "    .SetBasePath(Directory.GetCurrentDirectory())\n",
    "    .AddJsonFile(\"local.settings.json\", optional: true, reloadOnChange: true)\n",
    "    .AddJsonFile(\"secrets.settings.json\", optional: true, reloadOnChange: true);\n",
    "var config = configurationBuilder.Build();\n",
    "\n",
    "// Retrieve the configuration settings for the Azure OpenAI service\n",
    "var azureOpenAIEndpoint = config[\"AzureOpenAI:Endpoint\"];\n",
    "var azureOpenAIAPIKey = config[\"AzureOpenAI:APIKey\"];\n",
    "var azureOpenAIModelDeploymentName = config[\"AzureOpenAI:ModelDeploymentName\"];\n",
    "\n",
    "// Example to build a Kernel with Azure OpenAI and Opensource AI\n",
    "#pragma warning disable SKEXP0010 \n",
    "var semanticKernel = Kernel.CreateBuilder()\n",
    "    .AddAzureOpenAIChatCompletion(\n",
    "        deploymentName: azureOpenAIModelDeploymentName,\n",
    "        endpoint: azureOpenAIEndpoint,\n",
    "        apiKey: azureOpenAIAPIKey)\n",
    "    .AddOpenAIChatCompletion(\n",
    "        modelId: \"Phi-3\",\n",
    "        endpoint: new Uri(\"http://localhost:1234\"),\n",
    "        apiKey: \"LMStudio\")\n",
    "    .Build();\n",
    "#pragma warning restore SKEXP0010"
   ]
  }
 ],
 "metadata": {
  "kernelspec": {
   "display_name": ".NET (C#)",
   "language": "C#",
   "name": ".net-csharp"
  },
  "language_info": {
   "name": "csharp"
  },
  "polyglot_notebook": {
   "kernelInfo": {
    "defaultKernelName": "csharp",
    "items": [
     {
      "aliases": [],
      "name": "csharp"
     }
    ]
   }
  }
 },
 "nbformat": 4,
 "nbformat_minor": 2
}
