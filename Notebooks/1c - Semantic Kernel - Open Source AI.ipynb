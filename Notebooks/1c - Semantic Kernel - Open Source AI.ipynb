{
 "cells": [
  {
   "cell_type": "markdown",
   "metadata": {},
   "source": [
    "<img style=\"float: left;\" width =\"40px\" src=\"https://raw.githubusercontent.com/bartczernicki/DecisionIntelligence.GenAI.Workshop/main/Images/SemanticKernelLogo.png\">\n",
    "\n",
    "## Semantic Kernel - Open Source AI"
   ]
  },
  {
   "cell_type": "markdown",
   "metadata": {},
   "source": [
    "A recommended enterprise pattern is to scale Articial Intelligence strategy with three key areas:\n",
    "* Commercial AI (OpenAI and proprietary models)\n",
    "* Open-Source AI (open-source providers)\n",
    "* AI from vendors/partners (i.e. company HR Software)  \n",
    "\n",
    "These three areas together strategically form AI capability and capacity in what I like to call the \"AI Brain\". This is illustrated below.\n",
    "\n",
    "<img width =\"750px\" src=\"https://raw.githubusercontent.com/bartczernicki/DecisionIntelligence.GenAI.Workshop/main/Images/AIBrainPillars.png\">\n",
    "\n",
    "Semantic Kernel embraces AI orchestration across all the pillars mentioned above. It allows all types of models (commercial or proprietary) and almost any APIs to be orchestrated to faciliate better decision intelligence."
   ]
  },
  {
   "cell_type": "markdown",
   "metadata": {},
   "source": [
    "### Step 1 - Get Started with LMStudio and Microsoft Phi-3\n",
    "\n",
    "This module highlights how to use local AI models (i.e. LLMs) with Semantic Kernel. To illustrate this the Phi-3 model is run locally using LMStudio.\n",
    "\n",
    "Steps to get started:\n",
    "* Install LMStudio: https://lmstudio.ai/ (Windows, Mac or Linux)  \n",
    "* Run LMStudio. \n",
    "* Download the Phi-3-Mini model (this can be done all in LMStudio)  \n",
    "* Start the LMStudio Server with the Phi-3-Mini model loaded. This will start a local REST endpoint  \n",
    "\n",
    "<img width =\"900px\" src=\"https://raw.githubusercontent.com/bartczernicki/DecisionIntelligence.GenAI.Workshop/main/Images/LMStudioServer.png\">"
   ]
  },
  {
   "cell_type": "markdown",
   "metadata": {},
   "source": [
    "### Step 2 - Initialize Configuration Builder & Build the Semantic Kernel Orchestration\n",
    "\n",
    "Execute the next cell to:\n",
    "* Use the Configuration Builder to use the local LMStudio Server  \n",
    "* Use the API configuration to build the Semantic Kernel orchestrator  \n",
    "* Notice there is no security being passed in and it is simply a URL"
   ]
  },
  {
   "cell_type": "code",
   "execution_count": 1,
   "metadata": {
    "dotnet_interactive": {
     "language": "csharp"
    },
    "polyglot_notebook": {
     "kernelName": "csharp"
    },
    "vscode": {
     "languageId": "polyglot-notebook"
    }
   },
   "outputs": [
    {
     "data": {
      "text/html": [
       "<div><div></div><div></div><div><strong>Installed Packages</strong><ul><li><span>Microsoft.SemanticKernel, 1.11.1</span></li></ul></div></div>"
      ]
     },
     "metadata": {},
     "output_type": "display_data"
    }
   ],
   "source": [
    "#r \"nuget: Microsoft.SemanticKernel, 1.11.1\"\n",
    "\n",
    "using Microsoft.SemanticKernel;\n",
    "using Microsoft.SemanticKernel.ChatCompletion;\n",
    "using Microsoft.SemanticKernel.Connectors.OpenAI;\n",
    "\n",
    "#pragma warning disable SKEXP0010 \n",
    "var semanticKernel = Kernel.CreateBuilder()\n",
    "    .AddOpenAIChatCompletion(\n",
    "        modelId: \"Phi-3\",\n",
    "        endpoint: new Uri(\"http://localhost:1234\"),\n",
    "        apiKey: \"LMStudio\")\n",
    "    .Build();\n",
    "#pragma warning restore SKEXP0010"
   ]
  },
  {
   "cell_type": "markdown",
   "metadata": {},
   "source": [
    "### Step 3 - Use Semantic Kernel with Open Source AI Models\n",
    "\n",
    "Semantic Kernel allows one to interact with any API service that adheres to the OpenAI specification. Notice the method to add LMStudio capability was simply enabled via the \"AddOpenAIChatCompletion\" method.\n",
    "\n",
    "Execute the cell below and note:\n",
    "* OpenAI Prompt Execution Settings are the same in LMStudio as they are for OpenAI and Azure OpenAI\n",
    "* Passing in arguents works the same way in Semantic Kernel\n",
    "* Streaming works as well in Semantic Kernel for supported services"
   ]
  },
  {
   "cell_type": "code",
   "execution_count": 2,
   "metadata": {
    "dotnet_interactive": {
     "language": "csharp"
    },
    "polyglot_notebook": {
     "kernelName": "csharp"
    },
    "vscode": {
     "languageId": "polyglot-notebook"
    }
   },
   "outputs": [
    {
     "name": "stdout",
     "output_type": "stream",
     "text": [
      "Improving the quality of decisions is crucial for achieving desired outcomes and minimizing risks. Here are several decision-making frameworks designed to enhance clarity, objectivity, and effectiveness:\n",
      "\n",
      "1. **SWOT Analysis**: SWOT stands for Strengths, Weaknesses, Opportunities, and Threats. This framework helps you evaluate your current situation by identifying internal strengths and weaknesses as well as external opportunities and threats. By analyzing these factors, decision-makers can develop strategies that leverage their strengths, address weaknesses, capitalize on opportunities, and mitigate potential threats.\n",
      "\n",
      "2. **Decision Matrix (Grid Analysis)**: This framework involves creating a table with options as rows and criteria for evaluation as columns. Each option is then scored against each criterion based on its importance to the decision-making process. The scores are totaled, and the highest scoring option is selected. Decision matrix helps in making objective decisions by considering multiple factors simultaneously.\n",
      "\n",
      "3. **Cost-Benefit Analysis (CBA)**: CBA involves comparing the costs of an action or project against its expected benefits to determine whether it's worth pursuing. This framework assists decision-makers in quantifying and evaluating trade-offs, ensuring that resources are allocated efficiently towards initiatives with the highest net benefit.\n",
      "\n",
      "4. **Multi-Criteria Decision Analysis (MCDA)**: MCDA is a structured approach to making decisions involving multiple criteria or objectives. It involves identifying relevant criteria, assigning weights based on their importance, and evaluating options against these weighted criteria. This framework helps decision-makers prioritize alternatives and make informed choices that align with organizational goals.\n",
      "\n",
      "5. **Pareto Analysis (80/20 Rule)**: Pareto analysis is a technique used to identify the most significant factors contributing to an issue or problem, based on the principle that 80% of effects come from 20% of causes. By focusing efforts on addressing these key issues, decision-makers can achieve substantial improvements in outcomes with minimal resources.\n",
      "\n",
      "6. **The Preference Ranking Organization Method for Enrichment Evaluation (PROMETHEE)**: PROMETHEE is a multi-criteria decision analysis method that ranks alternatives based on their preference functions, which represent the degree of preference between two options. This framework helps in identifying and selecting the best alternative among several competing choices by considering multiple criteria simultaneously.\n",
      "\n",
      "7. **The Analytic Hierarchy Process (AHP)**: AHP is a structured decision-making approach that breaks down complex decisions into smaller, more manageable components. It involves creating a hierarchy of factors and subfactors, assigning weights to each factor based on their relative importance, and comparing alternatives against these weighted criteria. This framework helps in making consistent"
     ]
    }
   ],
   "source": [
    "// You can set the typical OpenAI settings with most open-source models\n",
    "var openAIPromptExecutionSettings = new OpenAIPromptExecutionSettings { \n",
    "    MaxTokens = 750, \n",
    "    Temperature = 0.1, \n",
    "    TopP = 1.0, \n",
    "    FrequencyPenalty = 0.0, \n",
    "    PresencePenalty = 0.0\n",
    "    };\n",
    "KernelArguments kernelArguments = new KernelArguments(openAIPromptExecutionSettings);\n",
    "\n",
    "// Prompting works in a very similar way to the OpenAI API\n",
    "var simplePrompt = \"Provide some decision frameworks that can help improve the quality of decisions.\";\n",
    "// Most open-source GenAI moodels support streaming as well\n",
    "await foreach (var streamChunk in semanticKernel.InvokePromptStreamingAsync(simplePrompt, kernelArguments))\n",
    "{\n",
    "   Console.Write(streamChunk);\n",
    "}"
   ]
  },
  {
   "cell_type": "markdown",
   "metadata": {},
   "source": [
    "## Step 4 - Using the Ben Franklin Decision Framework to Make Great Decisions\n",
    "\n",
    "<img width =\"900px\" src=\"https://raw.githubusercontent.com/bartczernicki/Articles/main/20230326-Make-Great-Decisions-Using-Ben-Franklins-Pros-And-Cons-Method/Image-BenFranklinDecisionMakingMethod.png\">\n",
    "\n",
    "\n",
    "In bullet summary, these are the steps Ben Franklin recommends when making a decision, which he called his \"Decision Making Method of Moral Algebra\":  \n",
    "- Frame a decision that has two options (Yes or a No)\n",
    "- Divide an area into two competing halves: a \"Pro\" side and \"Con\" side\n",
    "- Label the top of one side \"Pro\" (for) and the other \"Con\" (against)\n",
    "- Under each respective side, over a period of time (Ben Franklin recommended days, this could be minutes) write down various reasons/arguments that support (Pro) or are against (Con) the decision\n",
    "- After spending some time thinking exhaustively and writing down the reasons, weight the different Pro and Con reasons/arguments\n",
    "- Determine the relative importance of each reason or argument. This is done by taking reasons/arguments that are of similar value (weight) and crossing them off of the other competing half. Multiple reasons can be combined from one side to form a \"subjective\" value (weight) to balance out the other half. (For example, two medium \"Pro\" reasons might add up to an equal value of a single important \"Con\" reason)\n",
    "- The side with the most remaining reasons is the option one should select for the decision in question\n",
    "\n",
    "Learn more about Ben Franklin's Decision Framework: https://medium.com/@bartczernicki/make-great-decisions-using-ben-franklins-decision-making-method-c7fb8b17905c  "
   ]
  },
  {
   "cell_type": "code",
   "execution_count": 4,
   "metadata": {
    "dotnet_interactive": {
     "language": "csharp"
    },
    "polyglot_notebook": {
     "kernelName": "csharp"
    },
    "vscode": {
     "languageId": "polyglot-notebook"
    }
   },
   "outputs": [
    {
     "name": "stdout",
     "output_type": "stream",
     "text": [
      "To make an informed decision about taking a luxury vacation with your family using the Ben Franklin Decision Framework, we'll consider four key factors: personal values, potential benefits and drawbacks, costs involved, and alternative options. Here is how you can apply each factor to this scenario:\n",
      "\n",
      "1. Personal Values: Reflect on what matters most to you as a family member. Consider the importance of quality time spent together, creating lasting memories, or providing your children with unique experiences. Assess whether taking a luxury vacation aligns with these values and priorities.\n",
      "\n",
      "2. Potential Benefits and Drawbacks: Evaluate the potential benefits and drawbacks of going on a luxury vacation. Some possible benefits include relaxation, bonding time, exposure to new cultures or experiences, and creating unforgettable memories for your family. On the other hand, some drawbacks could be financial strain, disruption in daily routines, or potential stress from planning a luxury trip.\n",
      "\n",
      "3. Costs Involved: Analyze the costs associated with taking a luxury vacation. This includes travel expenses (flights, accommodations), activities and entertainment, meals, and any additional fees for exclusive experiences. Compare these costs to your current financial situation, budget constraints, and long-term goals.\n",
      "\n",
      "4. Alternative Options: Consider alternative options that could provide similar benefits at a lower cost or with fewer drawbacks. For example, you might explore local vacation destinations, camping trips, or staycations instead of an expensive luxury trip abroad. Assess the pros and cons of each option in relation to your family's values and goals.\n",
      "\n",
      "After evaluating these factors, weigh the potential benefits against the drawbacks and costs involved. If taking a luxury vacation aligns with your personal values, offers significant benefits for your family, and fits within your budget without causing undue stress or financial strain, it may be worth considering. However, if alternative options provide similar experiences at lower cost or fewer drawbacks, you might want to explore those instead.\n",
      "\n",
      "Remember that the Ben Franklin Decision Framework is a tool to help guide decision-making and should not replace your own judgment. Ultimately, make a choice based on what feels right for your family's unique situation and priorities."
     ]
    }
   ],
   "source": [
    "// You can also use a template to provide more context to the model combining system and user prompts\n",
    "var systemPrompt = \"\"\"\n",
    "You are a decision intelligence assistant. \n",
    "Assist the user in exploring options, reasoning through decisions, problem-solving, and applying systems thinking to various scenarios. \n",
    "Provide structured, logical, and comprehensive advice.\n",
    "\"\"\";\n",
    "var simpleDecisionPrompt = \"Use the Ben Franklin Decision Framework to decide whether to take a luxury vacation with the family.\";\n",
    "\n",
    "var simpleDecisionPromptTemplate = $\"\"\"\n",
    "{systemPrompt}\n",
    "--------------\n",
    "{simpleDecisionPrompt}\n",
    "\"\"\";\n",
    "\n",
    "await foreach (var streamChunk in semanticKernel.InvokePromptStreamingAsync(simpleDecisionPromptTemplate, kernelArguments))\n",
    "{\n",
    "   Console.Write(streamChunk);\n",
    "}"
   ]
  },
  {
   "cell_type": "markdown",
   "metadata": {},
   "source": [
    "### Step 5 - Multiple Different Service Providers\n",
    "\n",
    "Semantic Kernel can include mutliple AI service providers. This allows for hybrid workflows from a single Semantic Kernel instance like: \n",
    "* Capability Optimization. For example, using SLMs for domain specific tasks and LLMs for complex decision reasoning\n",
    "* Capacity Optimization. Splitting functions, plugins, personas or agents across different AI services\n",
    "* Use AI Service selector dynamically allocate AI service execution resources  "
   ]
  },
  {
   "cell_type": "code",
   "execution_count": 6,
   "metadata": {
    "dotnet_interactive": {
     "language": "csharp"
    },
    "polyglot_notebook": {
     "kernelName": "csharp"
    },
    "vscode": {
     "languageId": "polyglot-notebook"
    }
   },
   "outputs": [
    {
     "data": {
      "text/html": [
       "<div><div></div><div></div><div><strong>Installed Packages</strong><ul><li><span>Microsoft.Extensions.Configuration, 8.0.0</span></li><li><span>Microsoft.Extensions.Configuration.Json, 8.0.0</span></li><li><span>Microsoft.SemanticKernel, 1.11.1</span></li></ul></div></div>"
      ]
     },
     "metadata": {},
     "output_type": "display_data"
    }
   ],
   "source": [
    "// Import the required NuGet configuration packages\n",
    "#r \"nuget: Microsoft.Extensions.Configuration, 8.0.0\"\n",
    "#r \"nuget: Microsoft.Extensions.Configuration.Json, 8.0.0\"\n",
    "#r \"nuget: Microsoft.SemanticKernel, 1.11.1\"\n",
    "\n",
    "using Microsoft.Extensions.Configuration;\n",
    "using System.IO;\n",
    "using Microsoft.SemanticKernel;\n",
    "using Microsoft.SemanticKernel.ChatCompletion;\n",
    "using Microsoft.SemanticKernel.Connectors.OpenAI;\n",
    "\n",
    "// Load the configuration settings from the local.settings.json and secrets.settings.json files\n",
    "// The secrets.settings.json file is used to store sensitive information such as API keys\n",
    "var configurationBuilder = new ConfigurationBuilder()\n",
    "    .SetBasePath(Directory.GetCurrentDirectory())\n",
    "    .AddJsonFile(\"local.settings.json\", optional: true, reloadOnChange: true)\n",
    "    .AddJsonFile(\"secrets.settings.json\", optional: true, reloadOnChange: true);\n",
    "var config = configurationBuilder.Build();\n",
    "\n",
    "// Retrieve the configuration settings for the Azure OpenAI service\n",
    "var azureOpenAIEndpoint = config[\"AzureOpenAI:Endpoint\"];\n",
    "var azureOpenAIAPIKey = config[\"AzureOpenAI:APIKey\"];\n",
    "var azureOpenAIModelDeploymentName = config[\"AzureOpenAI:ModelDeploymentName\"];\n",
    "\n",
    "#pragma warning disable SKEXP0010 \n",
    "var semanticKernel = Kernel.CreateBuilder()\n",
    "    .AddAzureOpenAIChatCompletion(\n",
    "        deploymentName: azureOpenAIModelDeploymentName,\n",
    "        endpoint: azureOpenAIEndpoint,\n",
    "        apiKey: azureOpenAIAPIKey)\n",
    "    .AddOpenAIChatCompletion(\n",
    "        modelId: \"Phi-3\",\n",
    "        endpoint: new Uri(\"http://localhost:1234\"),\n",
    "        apiKey: \"LMStudio\")\n",
    "    .Build();\n",
    "#pragma warning restore SKEXP0010"
   ]
  }
 ],
 "metadata": {
  "kernelspec": {
   "display_name": ".NET (C#)",
   "language": "C#",
   "name": ".net-csharp"
  },
  "language_info": {
   "name": "csharp"
  },
  "polyglot_notebook": {
   "kernelInfo": {
    "defaultKernelName": "csharp",
    "items": [
     {
      "aliases": [],
      "name": "csharp"
     }
    ]
   }
  }
 },
 "nbformat": 4,
 "nbformat_minor": 2
}
