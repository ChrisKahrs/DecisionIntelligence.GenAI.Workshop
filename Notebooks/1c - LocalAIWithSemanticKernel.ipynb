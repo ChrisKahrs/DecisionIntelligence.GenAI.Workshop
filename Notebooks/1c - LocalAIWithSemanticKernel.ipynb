{
 "cells": [
  {
   "cell_type": "markdown",
   "metadata": {},
   "source": [
    "### Step 1 - Initialize Configuration Builder & Build the Semantic Kernel Orchestration\n",
    "\n",
    "Execute the next two cells to:\n",
    "* Use the Configuration Builder to load the API secrets.  \n",
    "* Use the API configuration to build the Semantic Kernel orchestrator."
   ]
  },
  {
   "cell_type": "code",
   "execution_count": 1,
   "metadata": {
    "dotnet_interactive": {
     "language": "csharp"
    },
    "polyglot_notebook": {
     "kernelName": "csharp"
    },
    "vscode": {
     "languageId": "polyglot-notebook"
    }
   },
   "outputs": [
    {
     "data": {
      "text/html": [
       "<div><div></div><div></div><div><strong>Installed Packages</strong><ul><li><span>Microsoft.SemanticKernel, 1.11.1</span></li></ul></div></div>"
      ]
     },
     "metadata": {},
     "output_type": "display_data"
    }
   ],
   "source": [
    "#r \"nuget: Microsoft.SemanticKernel, 1.11.1\"\n",
    "\n",
    "using Microsoft.SemanticKernel;\n",
    "using Microsoft.SemanticKernel.ChatCompletion;\n",
    "using Microsoft.SemanticKernel.Connectors.OpenAI;\n",
    "\n",
    "#pragma warning disable SKEXP0010 \n",
    "var semanticKernel = Kernel.CreateBuilder()\n",
    "    .AddOpenAIChatCompletion(\n",
    "        modelId: \"Phi-3\",\n",
    "        endpoint: new Uri(\"http://localhost:1234\"),\n",
    "        apiKey: \"LMStudio\")\n",
    "    .Build();\n",
    "#pragma warning restore SKEXP0010"
   ]
  },
  {
   "cell_type": "code",
   "execution_count": 12,
   "metadata": {
    "dotnet_interactive": {
     "language": "csharp"
    },
    "polyglot_notebook": {
     "kernelName": "csharp"
    },
    "vscode": {
     "languageId": "polyglot-notebook"
    }
   },
   "outputs": [
    {
     "name": "stdout",
     "output_type": "stream",
     "text": [
      "There are several decision-making frameworks and models that can assist in improving the quality of decisions by providing structured approaches to analyze situations, consider alternatives, and evaluate outcomes. Here are a few widely recognized frameworks:\n",
      "\n",
      "1. Rational Decision Making Model: This model involves identifying the problem or opportunity, gathering relevant information, generating alternative solutions, evaluating these options based on their pros and cons, selecting the best option, implementing it, and finally monitoring its effectiveness. The key steps in this process are clear-cut and logical, ensuring a thorough analysis of all available data before making a decision.\n",
      "\n",
      "2. SWOT Analysis: This framework helps organizations identify Strengths, Weaknesses, Opportunities, and Threats related to their business or project. By analyzing these factors, decision-makers can develop strategies that leverage strengths and opportunities while addressing weaknesses and threats.\n",
      "\n",
      "3. Decision Matrix: Also known as a prioritization matrix, this framework helps evaluate multiple alternatives based on specific criteria. Each alternative is scored against each criterion, and the scores are then weighted to determine an overall ranking of options. This approach enables decision-makers to objectively compare different choices and select the most suitable one.\n",
      "\n",
      "4. Cost-Benefit Analysis: In this framework, decision-makers assess the costs and benefits associated with each alternative option. By quantifying these factors, they can determine which choice offers the greatest net benefit or value for their organization or project. This approach is particularly useful when making decisions that involve significant financial investments.\n",
      "\n",
      "5. The Six Thinking Hats: Developed by Edward de Bono, this framework encourages decision-makers to consider multiple perspectives and viewpoints before reaching a conclusion. Each \"hat\" represents a different thinking style or approach (e.g., facts, emotions, creativity), allowing individuals to explore various aspects of the problem at hand.\n",
      "\n",
      "6. The OODA Loop: Developed by military strategist John Boyd, this framework emphasizes rapid decision-making through a continuous cycle of Observe, Orient, Decide, and Act (OODA). By constantly adapting their decisions to changing circumstances, organizations can maintain an advantage over competitors or adversaries.\n",
      "\n",
      "7. The PDCA Cycle: Also known as the Deming Wheel, this framework consists of four stages - Plan, Do, Check, and Act. It encourages decision-makers to plan a course of action, implement it, monitor its effectiveness, and make adjustments based on feedback or new information. This iterative approach helps organizations continuously improve their decisions over time.\n",
      "\n",
      "By utilizing these frameworks, individuals and organizations can enhance the quality of their decision-making processes, leading to better outcomes and more effective problem-solving."
     ]
    }
   ],
   "source": [
    "var openAIPromptExecutionSettings = new OpenAIPromptExecutionSettings { \n",
    "    MaxTokens = 750, \n",
    "    Temperature = 0.1, \n",
    "    TopP = 1.0, \n",
    "    FrequencyPenalty = 0.0, \n",
    "    PresencePenalty = 0.0\n",
    "    };\n",
    "KernelArguments kernelArguments = new KernelArguments(openAIPromptExecutionSettings);\n",
    "\n",
    "var simplePrompt = \"Provide some decision frameworks that can help improve the quality of decisions.\";\n",
    "await foreach (var streamChunk in semanticKernel.InvokePromptStreamingAsync(simplePrompt, kernelArguments))\n",
    "{\n",
    "   Console.Write(streamChunk);\n",
    "}"
   ]
  },
  {
   "cell_type": "code",
   "execution_count": 14,
   "metadata": {
    "dotnet_interactive": {
     "language": "csharp"
    },
    "polyglot_notebook": {
     "kernelName": "csharp"
    },
    "vscode": {
     "languageId": "polyglot-notebook"
    }
   },
   "outputs": [
    {
     "name": "stdout",
     "output_type": "stream",
     "text": [
      "To make an informed decision about taking a luxury vacation with your family using the Ben Franklin Decision Framework, we'll break down each step of the framework and apply it to this scenario:\n",
      "\n",
      "1. Define the problem: The primary issue at hand is whether or not you should take a luxury vacation with your family. This decision involves considering various factors such as financial implications, time constraints, personal preferences, and potential benefits for your family's well-being.\n",
      "\n",
      "2. Identify options: List down all the possible alternatives to taking a luxury vacation. Some of these could include:\n",
      "   - Taking a budget-friendly vacation or staycation instead\n",
      "   - Postponing the vacation until you have more financial stability\n",
      "   - Splitting the cost with other family members, if feasible\n",
      "   - Exploring local attractions and activities within your current location\n",
      "   - Planning an affordable but memorable trip to a nearby destination\n",
      "\n",
      "3. Weigh the evidence: Evaluate each option based on its pros and cons in relation to your specific situation. Consider factors such as financial impact, time commitment, family preferences, and potential benefits for relationships or personal growth. For example:\n",
      "   - Luxury vacation: Pros may include creating lasting memories with the family, experiencing new cultures, and providing a break from daily routines. Cons could be high costs, possible financial strain, and time away from work/school commitments.\n",
      "   - Budget-friendly or staycation alternatives: These options might save money, reduce stress related to travel logistics, and still provide quality family time. However, they may not offer the same level of novelty as a luxury vacation.\n",
      "\n",
      "4. Choose an option: After weighing all factors, select the option that best aligns with your priorities and values while considering the potential consequences for yourself and your family. For instance, if financial stability is crucial at this time, you might opt to postpone or choose a more affordable vacation alternative.\n",
      "\n",
      "5. Take action: Once an option has been chosen, develop a plan of action that outlines specific steps needed to implement the decision. This may include setting a budget for the trip, researching destinations and accommodations, booking travel arrangements, and communicating your plans with family members.\n",
      "\n",
      "6. Review the decision: After implementing the chosen option, evaluate its effectiveness in addressing the original problem. Reflect on whether it met expectations and consider any lessons learned for future decisions. If necessary, revisit earlier steps to make adjustments or explore alternative options.\n",
      "\n",
      "By following this Ben Franklin Decision Framework, you can systematically analyze your decision-making process regarding a luxury vacation with the family, ensuring that all relevant factors are considered and leading to an informed choice."
     ]
    }
   ],
   "source": [
    "var systemPrompt = \"\"\"\n",
    "You are a decision intelligence assistant. \n",
    "Assist the user in exploring options, reasoning through decisions, problem-solving, and applying systems thinking to various scenarios. \n",
    "Provide structured, logical, and comprehensive advice.\n",
    "\"\"\";\n",
    "var simpleDecisionPrompt = \"Use the Ben Franklin Decision Framework to decide whether to take a luxury vacation with the family.\";\n",
    "\n",
    "var simpleDecisionPromptTemplate = $\"\"\"\n",
    "{systemPrompt}\n",
    "--------------\n",
    "{simpleDecisionPrompt}\n",
    "\"\"\";\n",
    "\n",
    "await foreach (var streamChunk in semanticKernel.InvokePromptStreamingAsync(simpleDecisionPromptTemplate, kernelArguments))\n",
    "{\n",
    "   Console.Write(streamChunk);\n",
    "}"
   ]
  }
 ],
 "metadata": {
  "kernelspec": {
   "display_name": ".NET (C#)",
   "language": "C#",
   "name": ".net-csharp"
  },
  "language_info": {
   "name": "csharp"
  },
  "polyglot_notebook": {
   "kernelInfo": {
    "defaultKernelName": "csharp",
    "items": [
     {
      "aliases": [],
      "name": "csharp"
     }
    ]
   }
  }
 },
 "nbformat": 4,
 "nbformat_minor": 2
}
