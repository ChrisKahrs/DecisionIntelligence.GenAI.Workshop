{
 "cells": [
  {
   "cell_type": "code",
   "execution_count": 11,
   "metadata": {
    "dotnet_interactive": {
     "language": "csharp"
    },
    "polyglot_notebook": {
     "kernelName": "csharp"
    },
    "vscode": {
     "languageId": "polyglot-notebook"
    }
   },
   "outputs": [
    {
     "data": {
      "text/html": [
       "<div><div></div><div></div><div><strong>Installed Packages</strong><ul><li><span>Microsoft.SemanticKernel, 1.11.0</span></li></ul></div></div>"
      ]
     },
     "metadata": {},
     "output_type": "display_data"
    }
   ],
   "source": [
    "#r \"nuget: Microsoft.SemanticKernel, 1.11.0\"\n",
    "\n",
    "using Microsoft.SemanticKernel;\n",
    "using Microsoft.SemanticKernel.ChatCompletion;\n",
    "using Microsoft.SemanticKernel.Connectors.OpenAI;\n",
    "\n",
    "#pragma warning disable SKEXP0010 \n",
    "var semanticKernel = Kernel.CreateBuilder()\n",
    "    .AddOpenAIChatCompletion(\n",
    "        modelId: \"Phi-3\",\n",
    "        endpoint: new Uri(\"http://localhost:1234\"),\n",
    "        apiKey: \"LMStudio\")\n",
    "    .Build();\n"
   ]
  },
  {
   "cell_type": "code",
   "execution_count": 12,
   "metadata": {
    "vscode": {
     "languageId": "polyglot-notebook"
    }
   },
   "outputs": [
    {
     "name": "stdout",
     "output_type": "stream",
     "text": [
      "There are several decision-making frameworks and models that can assist in improving the quality of decisions by providing structured approaches to analyze situations, consider alternatives, and evaluate outcomes. Here are a few widely recognized frameworks:\n",
      "\n",
      "1. Rational Decision Making Model: This model involves identifying the problem or opportunity, gathering relevant information, generating alternative solutions, evaluating these options based on their pros and cons, selecting the best option, implementing it, and finally monitoring its effectiveness. The key steps in this process are clear-cut and logical, ensuring a thorough analysis of all available data before making a decision.\n",
      "\n",
      "2. SWOT Analysis: This framework helps organizations identify Strengths, Weaknesses, Opportunities, and Threats related to their business or project. By analyzing these factors, decision-makers can develop strategies that leverage strengths and opportunities while addressing weaknesses and threats.\n",
      "\n",
      "3. Decision Matrix: Also known as a prioritization matrix, this framework helps evaluate multiple alternatives based on specific criteria. Each alternative is scored against each criterion, and the scores are then weighted to determine an overall ranking of options. This approach enables decision-makers to objectively compare different choices and select the most suitable one.\n",
      "\n",
      "4. Cost-Benefit Analysis: In this framework, decision-makers assess the costs and benefits associated with each alternative option. By quantifying these factors, they can determine which choice offers the greatest net benefit or value for their organization or project. This approach is particularly useful when making decisions that involve significant financial investments.\n",
      "\n",
      "5. The Six Thinking Hats: Developed by Edward de Bono, this framework encourages decision-makers to consider multiple perspectives and viewpoints before reaching a conclusion. Each \"hat\" represents a different thinking style or approach (e.g., facts, emotions, creativity), allowing individuals to explore various aspects of the problem at hand.\n",
      "\n",
      "6. The OODA Loop: Developed by military strategist John Boyd, this framework emphasizes rapid decision-making through a continuous cycle of Observe, Orient, Decide, and Act (OODA). By constantly adapting their decisions to changing circumstances, organizations can maintain an advantage over competitors or adversaries.\n",
      "\n",
      "7. The PDCA Cycle: Also known as the Deming Wheel, this framework consists of four stages - Plan, Do, Check, and Act. It encourages decision-makers to plan a course of action, implement it, monitor its effectiveness, and make adjustments based on feedback or new information. This iterative approach helps organizations continuously improve their decisions over time.\n",
      "\n",
      "By utilizing these frameworks, individuals and organizations can enhance the quality of their decision-making processes, leading to better outcomes and more effective problem-solving."
     ]
    }
   ],
   "source": [
    "var openAIPromptExecutionSettings = new OpenAIPromptExecutionSettings { \n",
    "    MaxTokens = 750, \n",
    "    Temperature = 0.1, \n",
    "    TopP = 1.0, \n",
    "    FrequencyPenalty = 0.0, \n",
    "    PresencePenalty = 0.0\n",
    "    };\n",
    "KernelArguments kernelArguments = new KernelArguments(openAIPromptExecutionSettings);\n",
    "\n",
    "var simplePrompt = \"Provide some decision frameworks that can help improve the quality of decisions.\";\n",
    "await foreach (var streamChunk in semanticKernel.InvokePromptStreamingAsync(simplePrompt, kernelArguments))\n",
    "{\n",
    "   Console.Write(streamChunk);\n",
    "}"
   ]
  }
 ],
 "metadata": {
  "kernelspec": {
   "display_name": ".NET (C#)",
   "language": "C#",
   "name": ".net-csharp"
  },
  "language_info": {
   "name": "csharp"
  },
  "polyglot_notebook": {
   "kernelInfo": {
    "defaultKernelName": "csharp",
    "items": [
     {
      "aliases": [],
      "name": "csharp"
     }
    ]
   }
  }
 },
 "nbformat": 4,
 "nbformat_minor": 2
}
