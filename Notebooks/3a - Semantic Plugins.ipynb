{
 "cells": [
  {
   "cell_type": "code",
   "execution_count": 3,
   "metadata": {
    "vscode": {
     "languageId": "polyglot-notebook"
    }
   },
   "outputs": [
    {
     "data": {
      "text/html": [
       "<div><div></div><div></div><div><strong>Installed Packages</strong><ul><li><span>Microsoft.Extensions.Configuration, 8.0.0</span></li><li><span>Microsoft.Extensions.Configuration.Json, 8.0.0</span></li><li><span>Microsoft.SemanticKernel, 1.11.1</span></li><li><span>Microsoft.SemanticKernel.Plugins.Core, 1.11.1-alpha</span></li><li><span>Microsoft.SemanticKernel.Plugins.Web, 1.11.1-alpha</span></li></ul></div></div>"
      ]
     },
     "metadata": {},
     "output_type": "display_data"
    }
   ],
   "source": [
    "#r \"nuget: Microsoft.Extensions.Configuration, 8.0.0\"\n",
    "#r \"nuget: Microsoft.Extensions.Configuration.Json, 8.0.0\"\n",
    "#r \"nuget: Microsoft.SemanticKernel, 1.11.1\"\n",
    "#r \"nuget: Microsoft.SemanticKernel.Plugins.Core, 1.11.1-alpha\"\n",
    "#r \"nuget: Microsoft.SemanticKernel.Plugins.Web, 1.11.1-alpha\"\n",
    "\n",
    "using Microsoft.Extensions.Configuration;\n",
    "using Microsoft.SemanticKernel;\n",
    "using Microsoft.SemanticKernel.ChatCompletion;\n",
    "using Microsoft.SemanticKernel.Connectors.OpenAI;\n",
    "using System.IO;\n",
    "\n",
    "var configurationBuilder = new ConfigurationBuilder()\n",
    "    .SetBasePath(Directory.GetCurrentDirectory())\n",
    "    .AddJsonFile(\"local.settings.json\", optional: true, reloadOnChange: true)\n",
    "    .AddJsonFile(\"secrets.settings.json\", optional: true, reloadOnChange: true);\n",
    "var config = configurationBuilder.Build();\n",
    "\n",
    "var azureOpenAIEndpoint = config[\"AzureOpenAI:Endpoint\"];\n",
    "var azureOpenAIAPIKey = config[\"AzureOpenAI:APIKey\"];\n",
    "var azureOpenAIModelDeploymentName = config[\"AzureOpenAI:ModelDeploymentName\"];\n",
    "var bingSearchAPIKey = config[\"BingSearch:APIKey\"];"
   ]
  },
  {
   "cell_type": "code",
   "execution_count": 4,
   "metadata": {
    "vscode": {
     "languageId": "polyglot-notebook"
    }
   },
   "outputs": [],
   "source": [
    "var semanticKernel = Kernel.CreateBuilder()\n",
    "    .AddAzureOpenAIChatCompletion(\n",
    "        deploymentName: azureOpenAIModelDeploymentName,\n",
    "        endpoint: azureOpenAIEndpoint,\n",
    "        apiKey: azureOpenAIAPIKey)\n",
    "    .Build();"
   ]
  },
  {
   "cell_type": "code",
   "execution_count": 5,
   "metadata": {
    "vscode": {
     "languageId": "polyglot-notebook"
    }
   },
   "outputs": [],
   "source": [
    "using Microsoft.SemanticKernel.Plugins.Web;\n",
    "using Microsoft.SemanticKernel.Plugins.Web.Bing;\n",
    "\n",
    "#pragma warning disable SKEXP0050\n",
    "var bingConnector = new BingConnector(bingSearchAPIKey);\n",
    "var bingSearchPlugin = new WebSearchEnginePlugin(bingConnector);\n",
    "\n",
    "semanticKernel.ImportPluginFromObject(bingSearchPlugin, \"bing\");\n",
    "#pragma warning restore SKEXP0050"
   ]
  },
  {
   "cell_type": "code",
   "execution_count": 23,
   "metadata": {
    "vscode": {
     "languageId": "polyglot-notebook"
    }
   },
   "outputs": [
    {
     "name": "stdout",
     "output_type": "stream",
     "text": [
      "[\"3 frameworks for collective decision making. Group decision-making is a must when dealing with sensitive topics or subjects that a lot of people have an interest in. A substantial part of what stakeholder management means is the need to share accountability. Frameworks help a great deal in organizing people and giving clarity on objectives.\",\"4 Cynefin framework. 5 Xanax for decision-making. 6 Dimensionality reduction. 7 WRAP framework. 8 Wrapping up. The Logic or Decision Tree is a critical thinking framework based on root-cause analysis. The essence of the framework lies in a visual representation of a problem decomposed into small chunks.\",\"Frameworks are the lifeline of every case – whether in real life or in a case interview.They help navigate complex business scenarios in a simple, structured, and pragmatic manner while being rooted in hypotheses and concepts like 80:20 and the pyramid principle.One of the important types of cases you will experience in case interviews is “decision-making” cases.\",\"Scalable decision frameworks. Although this might be a little “Attack of the Acronyms”, there are a variety of ways an organization can simplify the decision-making ordeal with a well-defined process. Here are some of the popular scalable decision-making frameworks: DACI Decision Framework. DACI is a scalable, collaborative decision-making ...\",\"This article is designed to help. We compare six leading strategy frameworks— Exponential Organization 2.0, Odyssey 3.14, Connected Strategy, Porter's Five Forces, Lean Startup, and Blue Ocean Strategy —exploring their unique strengths, limitations, and optimal applications so you can make an informed selection tailored to your organization ...\",\"This person is responsible for doing the work or making the final decision. More than one person can be ‘responsible’ but you shouldn’t involve so many that you need a separate decision-making framework to get to a consensus! Accountable: Owns the task/decision. This person is ultimately responsible for the task or decision being finished.\",\"Lay out a simple, plain-English playbook for the process to define the calendar, cadence, handoffs, and decisions. Too often, companies find themselves building complex process diagrams that are rarely read or used beyond the team that created them. Keep it simple. Run water through the pipes.\",\"It is especially useful in complex decision scenarios where intuition, derived from past experiences and expertise, can guide decision-making. 13. Cynefin Framework. Dave Snowden developed the Cynefin Framework, which categorizes decision-making contexts into simple, complicated, complex, and chaotic domains.\",\"Companies that are most effective at decisions don’t dither. They follow a carefully structured approach to decisions, one that ensures agreement on criteria, facts, alternatives, commitment and closure. And they put in a place a few simple enablers that help the process work smoothly. The results are fast, high-quality decision making and execution.\",\"The simplified framework. Step 1: Write down the decision you need to make in as few words as possible. Step 2: Write down the unknowns for each option, without using comparisons. Step 3: Determine your confidence level that each unknown has a positive outcome.\"]"
     ]
    }
   ],
   "source": [
    "var promptTemplateString = \"What are the current {{$decisionTopic}} being used by companies?\";\n",
    "var bingSearchPluginImport = semanticKernel.Plugins[\"bing\"][\"search\"];\n",
    "\n",
    "var kernelArguments = new KernelArguments()\n",
    "{\n",
    "    [\"decisionTopic\"] = \"simple decision frameworks\"\n",
    "};\n",
    "var promptTemplateFactory = new KernelPromptTemplateFactory();\n",
    "var promptTemplate = promptTemplateFactory.Create(new PromptTemplateConfig(promptTemplateString));\n",
    "var renderedPrompt = await promptTemplate.RenderAsync(semanticKernel, kernelArguments);\n",
    "\n",
    "var kernelArgumentsBing = new KernelArguments()\n",
    "{\n",
    "    [\"query\"] = renderedPrompt\n",
    "};\n",
    "var bingResult = await semanticKernel.InvokeAsync(bingSearchPluginImport, kernelArgumentsBing);\n",
    "\n",
    "Console.Write(bingResult);"
   ]
  }
 ],
 "metadata": {
  "kernelspec": {
   "display_name": ".NET (C#)",
   "language": "C#",
   "name": ".net-csharp"
  },
  "language_info": {
   "name": "csharp"
  },
  "polyglot_notebook": {
   "kernelInfo": {
    "defaultKernelName": "csharp",
    "items": [
     {
      "aliases": [],
      "name": "csharp"
     }
    ]
   }
  }
 },
 "nbformat": 4,
 "nbformat_minor": 2
}
