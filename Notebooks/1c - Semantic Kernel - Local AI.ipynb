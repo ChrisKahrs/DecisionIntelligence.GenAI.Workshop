{
 "cells": [
  {
   "cell_type": "markdown",
   "metadata": {},
   "source": [
    "## Semantic Kernel - Local Artificial Intelligence\n",
    "\n",
    "A recommended enterprise pattern is to scale Articial Intelligence strategy with three key areas: Commercial AI (OpenAI and proprietary models), Open-Source AI (open-source providers) and from AI from vendors/partners (i.e. company HR Software). These three areas build AI capability and capacity in what I like to call the \"AI Brain\". This is illustrated below.\n",
    "\n",
    "![](https://raw.githubusercontent.com/bartczernicki/DecisionIntelligence.GenAI.Workshop/main/Images/AIBrainPillars.png)  \n",
    "\n",
    "Semantic Kernel embraces AI orchestration across all the pillars mentioned above. It allows all types of models (commercial or proprietary) and almost any APIs to be orchestrated to faciliate better decision intelligence."
   ]
  },
  {
   "cell_type": "markdown",
   "metadata": {},
   "source": [
    "This module highlights how to use local AI models (i.e. LLMs) with Semantic Kernel. To illustrate this the Phi-3 model is run locally using LMStudio.\n",
    "\n",
    "Steps to get started:\n",
    "* Install LMStudio: https://lmstudio.ai/ (Windows, Mac or Linux)  \n",
    "* Run LMStudio. \n",
    "* Download the Phi-3-Mini model (this can be done all in LMStudio)  \n",
    "* Start the LMStudio Server with the Phi-3-Mini model loaded. This will start a local REST endpoint  \n",
    "\n",
    "![](https://raw.githubusercontent.com/bartczernicki/DecisionIntelligence.GenAI.Workshop/main/Images/LMStudioServer.png)"
   ]
  },
  {
   "cell_type": "markdown",
   "metadata": {},
   "source": [
    "### Step 1 - Initialize Configuration Builder & Build the Semantic Kernel Orchestration\n",
    "\n",
    "Execute the next two cells to:\n",
    "* Use the Configuration Builder to load the API secrets.  \n",
    "* Use the API configuration to build the Semantic Kernel orchestrator."
   ]
  },
  {
   "cell_type": "code",
   "execution_count": 1,
   "metadata": {
    "dotnet_interactive": {
     "language": "csharp"
    },
    "polyglot_notebook": {
     "kernelName": "csharp"
    },
    "vscode": {
     "languageId": "polyglot-notebook"
    }
   },
   "outputs": [
    {
     "data": {
      "text/html": [
       "<div><div></div><div></div><div><strong>Installed Packages</strong><ul><li><span>Microsoft.SemanticKernel, 1.11.1</span></li></ul></div></div>"
      ]
     },
     "metadata": {},
     "output_type": "display_data"
    }
   ],
   "source": [
    "#r \"nuget: Microsoft.SemanticKernel, 1.11.1\"\n",
    "\n",
    "using Microsoft.SemanticKernel;\n",
    "using Microsoft.SemanticKernel.ChatCompletion;\n",
    "using Microsoft.SemanticKernel.Connectors.OpenAI;\n",
    "\n",
    "#pragma warning disable SKEXP0010 \n",
    "var semanticKernel = Kernel.CreateBuilder()\n",
    "    .AddOpenAIChatCompletion(\n",
    "        modelId: \"Phi-3\",\n",
    "        endpoint: new Uri(\"http://localhost:1234\"),\n",
    "        apiKey: \"LMStudio\")\n",
    "    .Build();\n",
    "#pragma warning restore SKEXP0010"
   ]
  },
  {
   "cell_type": "code",
   "execution_count": 2,
   "metadata": {
    "dotnet_interactive": {
     "language": "csharp"
    },
    "polyglot_notebook": {
     "kernelName": "csharp"
    },
    "vscode": {
     "languageId": "polyglot-notebook"
    }
   },
   "outputs": [
    {
     "name": "stdout",
     "output_type": "stream",
     "text": [
      "There are several decision-making frameworks and models that can assist in improving the quality of decisions by providing structured approaches to analyze situations, evaluate options, and make informed choices. Here are a few notable ones:\n",
      "\n",
      "1. SWOT Analysis (Strengths, Weaknesses, Opportunities, Threats): This framework helps identify internal strengths and weaknesses as well as external opportunities and threats to an organization or project. By analyzing these factors, decision-makers can develop strategies that leverage strengths, address weaknesses, capitalize on opportunities, and mitigate potential risks.\n",
      "\n",
      "2. The Decision Matrix (Grid Analysis): This framework involves creating a table with options listed along one axis and criteria for evaluation along the other. Each option is then scored against each criterion based on its importance to the decision-making process. By summing up scores, you can identify which option best meets your needs or objectives.\n",
      "\n",
      "3. The Cost-Benefit Analysis (CBA): This framework involves comparing the costs and benefits of different options in order to determine their overall value. Decision-makers weigh each cost against its associated benefit, assigning a monetary value when possible. By calculating net values for each option, decision-makers can identify which choice offers the greatest return on investment or positive impact.\n",
      "\n",
      "4. The Pareto Principle (80/20 Rule): This principle suggests that 80% of results come from 20% of causes. Decision-makers can use this framework to prioritize their efforts by focusing on the most significant factors, which will likely yield the greatest impact or improvement in a given situation.\n",
      "\n",
      "5. The Analytic Hierarchy Process (AHP): This decision-making model involves breaking down complex decisions into smaller, more manageable components and assigning weights to each component based on their relative importance. By comparing options across these weighted criteria, decision-makers can determine the best course of action.\n",
      "\n",
      "6. The Six Thinking Hats: Developed by Edward de Bono, this framework encourages individuals or groups to think from different perspectives (represented by six colored hats) when making decisions. This approach helps identify potential biases and consider multiple viewpoints before arriving at a conclusion.\n",
      "\n",
      "7. The OODA Loop: Developed by military strategist John Boyd, this framework involves four stages - Observe, Orient, Decide, and Act. By continuously cycling through these steps, decision-makers can adapt to changing circumstances and make more effective decisions in dynamic environments.\n",
      "\n",
      "8. The Preference Ranking Organization Method for Enrichment Evaluation (PROMETHEE): This multi-criteria decision analysis method involves ranking alternatives based on their performance across multiple criteria. Decision-makers assign weights to each criterion and evaluate the options, ultimately determining which alternative best meets their needs or objectives.\n",
      "\n",
      "By utilizing these frameworks in combination with critical thinking skills and relevant data, decision-makers can improve the quality of their decisions and achieve better outcomes for themselves and their organizations."
     ]
    }
   ],
   "source": [
    "// You can set the typical OpenAI settings with most open-source models\n",
    "var openAIPromptExecutionSettings = new OpenAIPromptExecutionSettings { \n",
    "    MaxTokens = 750, \n",
    "    Temperature = 0.1, \n",
    "    TopP = 1.0, \n",
    "    FrequencyPenalty = 0.0, \n",
    "    PresencePenalty = 0.0\n",
    "    };\n",
    "KernelArguments kernelArguments = new KernelArguments(openAIPromptExecutionSettings);\n",
    "\n",
    "// Prompting works in a very similar way to the OpenAI API\n",
    "var simplePrompt = \"Provide some decision frameworks that can help improve the quality of decisions.\";\n",
    "// Most open-source GenAI moodels support streaming as well\n",
    "await foreach (var streamChunk in semanticKernel.InvokePromptStreamingAsync(simplePrompt, kernelArguments))\n",
    "{\n",
    "   Console.Write(streamChunk);\n",
    "}"
   ]
  },
  {
   "cell_type": "markdown",
   "metadata": {},
   "source": [
    "## Using the Ben Franklin Decision Framework to Make Great Decisions\n",
    "\n",
    "![Ben Franklin Decision Framework](https://raw.githubusercontent.com/bartczernicki/Articles/main/20230326-Make-Great-Decisions-Using-Ben-Franklins-Pros-And-Cons-Method/Image-BenFranklinDecisionMakingMethod.png)  \n",
    "\n",
    "In bullet summary, these are the steps Ben Franklin recommends when making a decision, which he called his \"Decision Making Method of Moral Algebra\":  \n",
    "- Frame a decision that has two options (Yes or a No)\n",
    "- Divide an area into two competing halves: a \"Pro\" side and \"Con\" side\n",
    "- Label the top of one side \"Pro\" (for) and the other \"Con\" (against)\n",
    "- Under each respective side, over a period of time (Ben Franklin recommended days, this could be minutes) write down various reasons/arguments that support (Pro) or are against (Con) the decision\n",
    "- After spending some time thinking exhaustively and writing down the reasons, weight the different Pro and Con reasons/arguments\n",
    "- Determine the relative importance of each reason or argument. This is done by taking reasons/arguments that are of similar value (weight) and crossing them off of the other competing half. Multiple reasons can be combined from one side to form a \"subjective\" value (weight) to balance out the other half. (For example, two medium \"Pro\" reasons might add up to an equal value of a single important \"Con\" reason)\n",
    "- The side with the most remaining reasons is the option one should select for the decision in question\n",
    "\n",
    "Learn more about Ben Franklin's Decision Framework: https://medium.com/@bartczernicki/make-great-decisions-using-ben-franklins-decision-making-method-c7fb8b17905c  "
   ]
  },
  {
   "cell_type": "code",
   "execution_count": 3,
   "metadata": {
    "dotnet_interactive": {
     "language": "csharp"
    },
    "polyglot_notebook": {
     "kernelName": "csharp"
    },
    "vscode": {
     "languageId": "polyglot-notebook"
    }
   },
   "outputs": [
    {
     "name": "stdout",
     "output_type": "stream",
     "text": [
      "To make an informed decision about taking a luxury vacation with your family using the Ben Franklin Decision Framework, we can break down this process into four key steps: Listing the advantages and disadvantages (Pros and Cons), considering alternative actions, evaluating potential outcomes, and making a final decision.\n",
      "\n",
      "Step 1: Pros and Cons\n",
      "Advantages of taking a luxury vacation with your family may include:\n",
      "- Strengthening family bonds through shared experiences\n",
      "- Creating lasting memories for all family members\n",
      "- Providing an opportunity to relax and recharge from daily routines\n",
      "- Exposing the children to new cultures, languages, or environments\n",
      "- Boosting overall happiness and wellbeing of each family member\n",
      "\n",
      "Disadvantages may include:\n",
      "- High cost associated with luxury vacations (e.g., accommodation, travel expenses)\n",
      "- Potential disruption in work schedules for parents\n",
      "- Possible stress related to planning and organizing the trip\n",
      "- Limited availability or difficulty securing desired dates/destinations\n",
      "- Environmental impact of air travel and luxury tourism\n",
      "\n",
      "Step 2: Consider Alternative Actions\n",
      "Instead of a luxury vacation, consider alternative actions that could still provide family bonding experiences while being more cost-effective. Some options may include:\n",
      "- Planning a staycation with local attractions or activities\n",
      "- Organizing a camping trip in nearby natural areas\n",
      "- Visiting national parks and historical sites within driving distance\n",
      "- Attending educational workshops, classes, or events together as a family\n",
      "- Volunteering for community service projects that involve the whole family\n",
      "\n",
      "Step 3: Evaluate Potential Outcomes\n",
      "Evaluate potential outcomes of both taking a luxury vacation and choosing an alternative action. Consider factors such as financial impact, time commitment, emotional benefits, and long-term effects on your family's wellbeing. For example, while the luxury vacation may provide immediate happiness and relaxation, it could also lead to increased debt or stress related to finances. On the other hand, alternative actions might offer more sustainable experiences that promote personal growth and development within a budget.\n",
      "\n",
      "Step 4: Make a Final Decision\n",
      "After weighing the pros and cons of each option and considering potential outcomes, make an informed decision based on your family's values, priorities, and financial situation. If you decide to take a luxury vacation, consider ways to minimize its negative impact (e.g., offsetting carbon emissions or choosing eco-friendly accommodations). Alternatively, if you choose an alternative action, ensure that it still provides meaningful experiences for your family while staying within budget constraints.\n",
      "\n",
      "Remember that the Ben Franklin Decision Framework is a tool to help guide decision-making and should be used in conjunction with other factors such as personal values, financial circumstances, and long-term goals."
     ]
    }
   ],
   "source": [
    "// You can also use a template to provide more context to the model combining system and user prompts\n",
    "var systemPrompt = \"\"\"\n",
    "You are a decision intelligence assistant. \n",
    "Assist the user in exploring options, reasoning through decisions, problem-solving, and applying systems thinking to various scenarios. \n",
    "Provide structured, logical, and comprehensive advice.\n",
    "\"\"\";\n",
    "var simpleDecisionPrompt = \"Use the Ben Franklin Decision Framework to decide whether to take a luxury vacation with the family.\";\n",
    "\n",
    "var simpleDecisionPromptTemplate = $\"\"\"\n",
    "{systemPrompt}\n",
    "--------------\n",
    "{simpleDecisionPrompt}\n",
    "\"\"\";\n",
    "\n",
    "await foreach (var streamChunk in semanticKernel.InvokePromptStreamingAsync(simpleDecisionPromptTemplate, kernelArguments))\n",
    "{\n",
    "   Console.Write(streamChunk);\n",
    "}"
   ]
  }
 ],
 "metadata": {
  "kernelspec": {
   "display_name": ".NET (C#)",
   "language": "C#",
   "name": ".net-csharp"
  },
  "language_info": {
   "name": "csharp"
  },
  "polyglot_notebook": {
   "kernelInfo": {
    "defaultKernelName": "csharp",
    "items": [
     {
      "aliases": [],
      "name": "csharp"
     }
    ]
   }
  }
 },
 "nbformat": 4,
 "nbformat_minor": 2
}
