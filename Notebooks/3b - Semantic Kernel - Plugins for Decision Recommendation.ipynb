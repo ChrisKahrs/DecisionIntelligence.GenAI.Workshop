{
 "cells": [
  {
   "cell_type": "markdown",
   "metadata": {},
   "source": [
    "<img style=\"float: left;\" width =\"40px\" src=\"https://raw.githubusercontent.com/bartczernicki/DecisionIntelligence.GenAI.Workshop/main/Images/SemanticKernelLogo.png\">\n",
    "\n",
    "## Semantic Kernel - Plugins for Decision Recommendation\n",
    "\n",
    "This module will show how to perform a more advanced search using the Bing Search SDK. Any .NET SDK that is used for decision making, business processes, interacts with data etc. can be integrated into AI Orchestration with Semantic Kernel. \n",
    "\n",
    "This plugin will be used to recommend whether to make a decision if a baseball player should be inducted into the Hall of Fame."
   ]
  },
  {
   "cell_type": "markdown",
   "metadata": {},
   "source": [
    "### Step 1 - Initialize Configuration Builder & Build the Semantic Kernel Orchestration\n",
    "\n",
    "Execute the next two cells to:\n",
    "* Use the Configuration Builder to load the API secrets\n",
    "* Use the API configuration to build the Semantic Kernel orchestrator\n",
    "* The configuration builder will retrieve the Bing Search API Key"
   ]
  },
  {
   "cell_type": "code",
   "execution_count": 2,
   "metadata": {
    "dotnet_interactive": {
     "language": "csharp"
    },
    "polyglot_notebook": {
     "kernelName": "csharp"
    },
    "vscode": {
     "languageId": "polyglot-notebook"
    }
   },
   "outputs": [
    {
     "data": {
      "text/html": [
       "<div><div></div><div></div><div><strong>Installed Packages</strong><ul><li><span>Microsoft.Bing.Search.WebSearch, 1.0.0</span></li><li><span>Microsoft.Extensions.Configuration, 8.0.0</span></li><li><span>Microsoft.Extensions.Configuration.Json, 8.0.0</span></li><li><span>Microsoft.SemanticKernel, 1.13.0</span></li><li><span>Microsoft.SemanticKernel.Plugins.Core, 1.13.0-alpha</span></li><li><span>Microsoft.SemanticKernel.Plugins.Web, 1.13.0-alpha</span></li></ul></div></div>"
      ]
     },
     "metadata": {},
     "output_type": "display_data"
    }
   ],
   "source": [
    "#r \"nuget: Microsoft.Extensions.Configuration, 8.0.0\"\n",
    "#r \"nuget: Microsoft.Extensions.Configuration.Json, 8.0.0\"\n",
    "#r \"nuget: Microsoft.SemanticKernel, 1.13.0\"\n",
    "#r \"nuget: Microsoft.SemanticKernel.Plugins.Core, 1.13.0-alpha\"\n",
    "#r \"nuget: Microsoft.SemanticKernel.Plugins.Web, 1.13.0-alpha\"\n",
    "#r \"nuget: Microsoft.Bing.Search.WebSearch, 1.0.0\"\n",
    "\n",
    "using Microsoft.Extensions.Configuration;\n",
    "using Microsoft.SemanticKernel;\n",
    "using Microsoft.SemanticKernel.ChatCompletion;\n",
    "using Microsoft.SemanticKernel.Connectors.OpenAI;\n",
    "using Microsoft.Bing.WebSearch;\n",
    "using System.ComponentModel;\n",
    "using System.IO;\n",
    "\n",
    "var configurationBuilder = new ConfigurationBuilder()\n",
    "    .SetBasePath(Directory.GetCurrentDirectory())\n",
    "    .AddJsonFile(\"local.settings.json\", optional: true, reloadOnChange: true)\n",
    "    .AddJsonFile(\"secrets.settings.json\", optional: true, reloadOnChange: true);\n",
    "var config = configurationBuilder.Build();\n",
    "\n",
    "var azureOpenAIEndpoint = config[\"AzureOpenAI:Endpoint\"];\n",
    "var azureOpenAIAPIKey = config[\"AzureOpenAI:APIKey\"];\n",
    "var azureOpenAIModelDeploymentName = config[\"AzureOpenAI:ModelDeploymentName\"];\n",
    "var bingSearchAPIKey = config[\"BingSearch:APIKey\"];"
   ]
  },
  {
   "cell_type": "code",
   "execution_count": 3,
   "metadata": {
    "dotnet_interactive": {
     "language": "csharp"
    },
    "polyglot_notebook": {
     "kernelName": "csharp"
    },
    "vscode": {
     "languageId": "polyglot-notebook"
    }
   },
   "outputs": [],
   "source": [
    "// Create a semantic kernel with Azure OpenAI chat completion\n",
    "var semanticKernel = Kernel.CreateBuilder()\n",
    "    .AddAzureOpenAIChatCompletion(\n",
    "        deploymentName: azureOpenAIModelDeploymentName,\n",
    "        endpoint: azureOpenAIEndpoint,\n",
    "        apiKey: azureOpenAIAPIKey)\n",
    "    .Build();"
   ]
  },
  {
   "cell_type": "markdown",
   "metadata": {},
   "source": [
    "### Step 2 - Create a custom WebSearch Results Plugin\n",
    "\n",
    "Execute the next two cells to:\n",
    "* Create a custom WebSearchResultsPlugin\n",
    "* The plugin includes a native C# function called GetWebSearchResults\n",
    "* GetWebSearchResults uses the Bing Search SDK to perform an advanced web search\n",
    "* Notice that the GetWebSearchResults method is decorated with the KernelFunction attribute. This lets Semantic Kernel know that this is a kernel function that can be imported  \n",
    "* Both the GetWebSearchResults method and the nameOfBaseballPLayer parameter have descriptions  "
   ]
  },
  {
   "cell_type": "code",
   "execution_count": 4,
   "metadata": {
    "dotnet_interactive": {
     "language": "csharp"
    },
    "polyglot_notebook": {
     "kernelName": "csharp"
    },
    "vscode": {
     "languageId": "polyglot-notebook"
    }
   },
   "outputs": [],
   "source": [
    "public class WebSearchResult\n",
    "{\n",
    "    public int Id { get; set; } = 0;\n",
    "    public string Name { get; set; } = string.Empty;\n",
    "    public string Snippet { get; set; } = string.Empty;\n",
    "    public string Url { get; set; } = string.Empty;\n",
    "}\n",
    "\n",
    "public class WebSearchResultsPlugin\n",
    "{\n",
    "    [KernelFunction]\n",
    "    [Description(\"Retrieves the web search results with identified URL sources for a given baseball player.\")]\n",
    "    public async Task<string> GetWebSearchResults(\n",
    "        [Description(\"Name of the baseball player to search.\")]\n",
    "        string nameOfBaseballPlayer)\n",
    "    {\n",
    "        var configurationBuilder = new ConfigurationBuilder()\n",
    "            .SetBasePath(Directory.GetCurrentDirectory())\n",
    "            .AddJsonFile(\"local.settings.json\", optional: true, reloadOnChange: true)\n",
    "            .AddJsonFile(\"secrets.settings.json\", optional: true, reloadOnChange: true);\n",
    "        var config = configurationBuilder.Build();\n",
    "        var bingSearchAPIKey = config[\"BingSearch:APIKey\"];\n",
    "\n",
    "        var webSearchResultsString = \"Web search results:\\r\\n\\r\\n\";\n",
    "        var footNotes = string.Empty;\n",
    "        var bingSearchId = 0;\n",
    "        var webSearchResults = new List<WebSearchResult>();\n",
    "\n",
    "        var bingSearchClient = new WebSearchClient(new ApiKeyServiceClientCredentials(bingSearchAPIKey));\n",
    "        var bingWebData = await bingSearchClient.Web.SearchAsync(query: \"baseball hall of fame \" + nameOfBaseballPlayer, count: 8);\n",
    "\n",
    "        if (bingWebData?.WebPages?.Value?.Count > 0)\n",
    "        {\n",
    "            // Itertate over the Bing Web Pages (Non-Cache Results)\n",
    "            foreach (var bingWebPage in bingWebData.WebPages.Value)\n",
    "            {\n",
    "                bingSearchId++;\n",
    "\n",
    "                webSearchResultsString += string.Format(\"[{0}]: \\\"{1}: {2}\\\"\\r\\nURL: {3}\\r\\n\\r\\n\",\n",
    "                    bingSearchId, bingWebPage.Name, bingWebPage.Snippet, bingWebPage.Url);\n",
    "\n",
    "                footNotes += string.Format(\"[{0}]: {1}: {2}  \\r\\n\",\n",
    "                    bingSearchId, bingWebPage.Name, bingWebPage.Url);\n",
    "\n",
    "                webSearchResults.Add(new WebSearchResult\n",
    "                {\n",
    "                    Id = bingSearchId,\n",
    "                    Name = bingWebPage.Name,\n",
    "                    Snippet = bingWebPage.Snippet,\n",
    "                    Url = bingWebPage.Url\n",
    "                });\n",
    "            }\n",
    "        }\n",
    "\n",
    "        return webSearchResultsString;\n",
    "    }\n",
    "}\n",
    "semanticKernel.ImportPluginFromType<WebSearchResultsPlugin>();"
   ]
  },
  {
   "cell_type": "markdown",
   "metadata": {},
   "source": [
    "### Step 3 - Recommend a Decision using the Internet Knowledge Graph\n",
    "\n",
    "The custom plugin above performs an advanced Bing Search query, maintains the sources (sites) that were used for search and keeps the index of each site used. This is important as it not only provides knowledge grounding information but it also provides a framework to create citations as the LLM reasons over the decision recommendation. This allows AI architects to build \"AI explainability\" into their AI orchestration pipelines.\n",
    "\n",
    "Execute the cell below to understand the LLMs reasoning process, it's final decision recommendation on Mike Trout's hall of fame induction and finally the sources that were used to arrive at that conclusion."
   ]
  },
  {
   "cell_type": "code",
   "execution_count": 5,
   "metadata": {
    "dotnet_interactive": {
     "language": "csharp"
    },
    "polyglot_notebook": {
     "kernelName": "csharp"
    },
    "vscode": {
     "languageId": "polyglot-notebook"
    }
   },
   "outputs": [
    {
     "name": "stdout",
     "output_type": "stream",
     "text": [
      "I would recommend affirming Mike Trout's candidacy for the Baseball Hall of Fame based on several compelling factors underscored by his career achievements, statistical milestones, and the criteria set by the Hall of Fame itself.\n",
      "\n",
      "1. **Career Achievements**: Mike Trout’s three MVP awards and consistent top finishes in MVP voting underscore his dominance in Major League Baseball (MLB). An 11-time MLB All-Star, Trout has been a central figure in baseball since his debut, showcasing a level of consistency and excellence that is hallmark of a Hall of Fame career [4].\n",
      "\n",
      "2. **Statistical Milestones**: Trout has not only matched but surpassed several Hall of Famers in career Wins Above Replacement (WAR), a key metric used to evaluate the overall contributions of a player. Before the age of 30, Trout had already amassed a higher career WAR than notable Hall of Famers such as Kirby Puckett and Tony Lazzeri [6]. His pace suggests that he could end his career as one of the top players in history by this metric [5].\n",
      "\n",
      "3. **Hall of Fame Eligibility**: Trout meets the basic eligibility requirements for Hall of Fame consideration, having played ten MLB seasons. This qualifies him to be elected once his career concludes and he passes the mandatory five-year waiting period [2].\n",
      "\n",
      "4. **Comparative Analysis**: Considering the benchmarks set by other Hall of Famers, Trout’s career trajectory not only aligns with many of these legends but in many aspects surpasses them. This is evident in discussions about his ongoing career, where he is frequently compared to and ranked above other Hall of Famers in terms of career achievements and impact on the game [7].\n",
      "\n",
      "In conclusion, based on Trout's exceptional career achievements, surpassing of key statistical thresholds, fulfillment of Hall of Fame eligibility criteria, and his comparative standing among baseball's all-time greats, it is reasonable and well-supported to recommend his induction into the Hall of Fame upon eligibility. The sources providing this information include detailed analyses and career overviews from reputable sports and baseball-specific publications [1][2][3][4][5][6][7]."
     ]
    }
   ],
   "source": [
    "// Configure the OpenAI prompt execution settings with Auto Invoking of Kernel Functions\n",
    "var openAIPromptExecutionSettings = new OpenAIPromptExecutionSettings { \n",
    "    MaxTokens = 4000, \n",
    "    Temperature = 0.6, \n",
    "    TopP = 1.0, \n",
    "    FrequencyPenalty = 0.0, \n",
    "    PresencePenalty = 0.0,\n",
    "    // Enable Auto Invoking of Kernel Functions\n",
    "    ToolCallBehavior = ToolCallBehavior.AutoInvokeKernelFunctions\n",
    "};\n",
    "\n",
    "var decisionPromptTemplateString = \"\"\"\n",
    "What decision would you recommend in determining if {{$baseBallPlayer}} should make the hall of fame? \n",
    "Provide sources of information and explain your reasoning.\n",
    "Ensure to cite all the sources using [number] notation of each URL after the reference in order.\n",
    "\"\"\";\n",
    "var kernelArguments = new KernelArguments(openAIPromptExecutionSettings)\n",
    "{\n",
    "    [\"baseBallPlayer\"] = \"Mike Trout\"\n",
    "};\n",
    "\n",
    "// Now with Auto Invoking of Kernel Functions, let's invoke the prompt and stream the results\n",
    "await foreach (var streamChunk in semanticKernel.InvokePromptStreamingAsync(decisionPromptTemplateString, kernelArguments))\n",
    "{\n",
    "   Console.Write(streamChunk);\n",
    "}"
   ]
  }
 ],
 "metadata": {
  "kernelspec": {
   "display_name": ".NET (C#)",
   "language": "C#",
   "name": ".net-csharp"
  },
  "language_info": {
   "name": "csharp"
  },
  "polyglot_notebook": {
   "kernelInfo": {
    "defaultKernelName": "csharp",
    "items": [
     {
      "aliases": [],
      "name": "csharp"
     }
    ]
   }
  }
 },
 "nbformat": 4,
 "nbformat_minor": 2
}
