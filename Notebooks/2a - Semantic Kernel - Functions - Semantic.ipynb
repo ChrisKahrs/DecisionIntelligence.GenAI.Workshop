{
 "cells": [
  {
   "cell_type": "markdown",
   "metadata": {},
   "source": [
    "<img style=\"float: left;\" width =\"40px\" src=\"https://raw.githubusercontent.com/bartczernicki/DecisionIntelligence.GenAI.Workshop/main/Images/SemanticKernelLogo.png\">\n",
    "\n",
    "## Semantic Kernel - Functions Semantic  "
   ]
  },
  {
   "cell_type": "markdown",
   "metadata": {},
   "source": [
    "Decision Intelligence applied in this module:  \n",
    "* Listing of various decision-making frameworks and what their descriptions  \n",
    "* Listing types of decision-making frameworks dynamically based on the type  "
   ]
  },
  {
   "cell_type": "markdown",
   "metadata": {},
   "source": [
    "Semantic Kernel Functions are the core building blocks of functionality for intelligent AI orchestration. Semantic Kernel functions usually have a single responsibility to perform. For example, a Sementic Kernel function can: send an e-mail, call an API, recommend a reasoning framework for a high-stakes decision etc. \n",
    "\n",
    "What makes Semantic Kernel functions so special? Can't one just produce similar outcomes by using a prompt in an LLM or just writing a software program? In order to answer that, one has to look at what makes GenAI so innovative. The GenAI models have a unique ability to process instructions with reasoning and logic. This allows these models to behave almost like a human decision maker. Even with basic prompts, GenAI models perform reasonably well. However, providing GenAI models with additional functions allows them to gain access to business processes, data and basically anything a GenAI model should consider when performing AI orchestration. \n",
    "\n",
    "For example, imagine you want to prepare a great Thanksgiving dinner and want to get help from a GenAI cooking application to create a new recipe. You enter what you want todo and it comes up with the most delicious looking feast for Thanksgiving. However, there is a problem it used ingredients and recommended using cooking appliances that you do not own! You could enter all of the ingredients and keep prompting until it narrowed down the what you could realistically make. Wouldn't it be better if the GenAI cooking application had access to: your available ingredients, your time availability, kitchen appliances and even your allergic preferences. Now the GenAI model can craft a Thanksgiving feast understanding the parameters and data without having to be guided. This is exactly what Semantic Kernel functions provide.\n",
    "\n",
    "Semantic Kernel functions come in two flavors: semantic functions and native functions. Semantic functions are basically prompt instructions that help guide GenAI LLMs around the specific guidelines it should adhere to when building the AI orchestration. Therefore, semantic functions are likely the first place most AI architects/engineers start when composing AI orchestration with Semantic Kernel. Semantic functions can also take in parameters for dynamic creaation of instructions. \n",
    "\n",
    "Below is an example of semantic function that can be used for facilitating decision-making. Note the {{$decisionToMake}} input where the parameter can be dynamically passed in to provide additional specificity.\n",
    "\n",
    "```javascript\n",
    "[DECISION FRAMEWORKS TO USE]\n",
    "Price's Law\n",
    "Pareto Principle\n",
    "Laplace Rule of Succession\n",
    "Eisenhower Matrix\n",
    "Median Rule of Five\n",
    "Second Order Thinking\n",
    "\n",
    "[DECISION GUIDANCE]\n",
    "Try to use the best fitting framework.  \n",
    "Prefer using quantitative decision frameworks rather qualitative ones.  \n",
    "Use the code interpreter to validate quantitative reasoning.\n",
    "\n",
    "Use the decision frameworks above to help the user make the following decision:\n",
    "{{$decisionToMake}}\n",
    "```  \n",
    "\n",
    "The image below illustrates the core value of semantic functions. \n",
    "\n",
    "<img width =\"700px\" src=\"https://learn.microsoft.com/en-us/semantic-kernel/media/semantic-function-explainer.png\">\n",
    "\n",
    " \n",
    " "
   ]
  },
  {
   "cell_type": "markdown",
   "metadata": {},
   "source": [
    "### Step 1 - Initialize Configuration Builder & Build the Semantic Kernel Orchestration\n",
    "\n",
    "Execute the next two cells to:\n",
    "* Use the Configuration Builder to load the API secrets.  \n",
    "* Use the API configuration to build the Semantic Kernel orchestrator."
   ]
  },
  {
   "cell_type": "code",
   "execution_count": 1,
   "metadata": {
    "dotnet_interactive": {
     "language": "csharp"
    },
    "polyglot_notebook": {
     "kernelName": "csharp"
    },
    "vscode": {
     "languageId": "polyglot-notebook"
    }
   },
   "outputs": [
    {
     "data": {
      "text/html": [
       "<div><div></div><div></div><div><strong>Installed Packages</strong><ul><li><span>Microsoft.Extensions.Configuration, 8.0.0</span></li><li><span>Microsoft.Extensions.Configuration.Json, 8.0.0</span></li><li><span>Microsoft.SemanticKernel, 1.13.0</span></li><li><span>Microsoft.SemanticKernel.Plugins.Core, 1.13.0-alpha</span></li></ul></div></div>"
      ]
     },
     "metadata": {},
     "output_type": "display_data"
    }
   ],
   "source": [
    "#r \"nuget: Microsoft.Extensions.Configuration, 8.0.0\"\n",
    "#r \"nuget: Microsoft.Extensions.Configuration.Json, 8.0.0\"\n",
    "#r \"nuget: Microsoft.SemanticKernel, 1.13.0\"\n",
    "#r \"nuget: Microsoft.SemanticKernel.Plugins.Core, 1.13.0-alpha\"\n",
    "\n",
    "using Microsoft.Extensions.Configuration;\n",
    "using Microsoft.SemanticKernel;\n",
    "using Microsoft.SemanticKernel.ChatCompletion;\n",
    "using Microsoft.SemanticKernel.Connectors.OpenAI;\n",
    "using System.IO;\n",
    "\n",
    "var configurationBuilder = new ConfigurationBuilder()\n",
    "    .SetBasePath(Directory.GetCurrentDirectory())\n",
    "    .AddJsonFile(\"local.settings.json\", optional: true, reloadOnChange: true)\n",
    "    .AddJsonFile(\"secrets.settings.json\", optional: true, reloadOnChange: true);\n",
    "var config = configurationBuilder.Build();\n",
    "\n",
    "// IMPORTANT: You ONLY NEED either Azure OpenAI or OpenAI connectiopn info, not both.\n",
    "// Azure OpenAI Connection Info\n",
    "var azureOpenAIEndpoint = config[\"AzureOpenAI:Endpoint\"];\n",
    "var azureOpenAIAPIKey = config[\"AzureOpenAI:APIKey\"];\n",
    "var azureOpenAIModelDeploymentName = config[\"AzureOpenAI:ModelDeploymentName\"];\n",
    "// OpenAI Connection Info \n",
    "var openAIAPIKey = config[\"OpenAI:APIKey\"];\n",
    "var openAIModelId = config[\"OpenAI:ModelId\"];"
   ]
  },
  {
   "cell_type": "code",
   "execution_count": 2,
   "metadata": {
    "dotnet_interactive": {
     "language": "csharp"
    },
    "polyglot_notebook": {
     "kernelName": "csharp"
    },
    "vscode": {
     "languageId": "polyglot-notebook"
    }
   },
   "outputs": [
    {
     "name": "stdout",
     "output_type": "stream",
     "text": [
      "Using Azure OpenAI Service\r\n"
     ]
    }
   ],
   "source": [
    "Kernel semanticKernel;\n",
    "\n",
    "// Set the flag to use Azure OpenAI or OpenAI. False to use OpenAI, True to use Azure OpenAI\n",
    "var useAzureOpenAI = true;\n",
    "\n",
    "// Create a new Semantic Kernel instance\n",
    "if (useAzureOpenAI)\n",
    "{\n",
    "    Console.WriteLine(\"Using Azure OpenAI Service\");\n",
    "    semanticKernel = Kernel.CreateBuilder()\n",
    "        .AddAzureOpenAIChatCompletion(\n",
    "            deploymentName: azureOpenAIModelDeploymentName,\n",
    "            endpoint: azureOpenAIEndpoint,\n",
    "            apiKey: azureOpenAIAPIKey)\n",
    "        .Build();\n",
    "}\n",
    "else\n",
    "{\n",
    "    Console.WriteLine(\"Using OpenAI Service\");\n",
    "    semanticKernel = Kernel.CreateBuilder()\n",
    "        .AddOpenAIChatCompletion(\n",
    "            modelId: openAIModelId,\n",
    "            apiKey: openAIAPIKey)\n",
    "        .Build();\n",
    "}"
   ]
  },
  {
   "cell_type": "markdown",
   "metadata": {},
   "source": [
    "### Step 2 - Create a Semantic Kernel - Semantic Function\n",
    "\n",
    "Semantic functions are constructs inside Semantic Kernel that are basically just prompt instructions. What makes the special is that they can be exposed as functions, thus it makes re-usability easy. Furthermore, future modules will show how they can faciliate composability into plugins. "
   ]
  },
  {
   "cell_type": "code",
   "execution_count": 3,
   "metadata": {
    "dotnet_interactive": {
     "language": "csharp"
    },
    "polyglot_notebook": {
     "kernelName": "csharp"
    },
    "vscode": {
     "languageId": "polyglot-notebook"
    }
   },
   "outputs": [
    {
     "name": "stdout",
     "output_type": "stream",
     "text": [
      "Certainly! Here are several well-regarded decision frameworks that can help improve the quality and effectiveness of decision-making:\n",
      "\n",
      "1. **SWOT Analysis (Strengths, Weaknesses, Opportunities, Threats)**\n",
      "   - This framework helps to identify internal (strengths and weaknesses) and external (opportunities and threats) factors, providing a comprehensive view of the situation at hand.\n",
      "\n",
      "2. **PEST Analysis (Political, Economic, Social, Technological)**\n",
      "   - This tool is used to understand the external macro-environmental factors that could impact organizational decision-making.\n",
      "\n",
      "3. **Decision Matrix (or Multi-Criteria Decision Analysis)**\n",
      "   - This involves listing options and evaluating them against a set of weighted criteria to make a more objective decision.\n",
      "\n",
      "4. **Six Thinking Hats** (Edward de Bono)\n",
      "   - A group decision-making and discussion technique that involves looking at a problem from different perspectives (emotional, analytical, creative, etc.).\n",
      "\n",
      "5. **Root Cause Analysis (RCA)**\n",
      "   - This problem-solving method is used to identify the underlying reasons for a problem, rather than just treating the symptoms.\n",
      "\n",
      "6. **Cost-Benefit Analysis (CBA)**\n",
      "   - Assessing the strengths and weaknesses of alternatives by comparing their costs and benefits.\n",
      "\n",
      "7. **Pareto Analysis (80/20 Rule)**\n",
      "   - This involves identifying the few critical factors that generally account for the bulk of the results, helping prioritize resources and efforts effectively.\n",
      "\n",
      "8. **The Decision Tree**\n",
      "   - This is a graphical representation that uses branching to illustrate all possible outcomes of a decision and their potential repercussions.\n",
      "\n",
      "9. **Scenario Planning**\n",
      "   - This involves developing different scenarios based on varying assumptions about future trends, helping to prepare for a range of possible futures.\n",
      "\n",
      "10. **OODA Loop (Observe, Orient, Decide, Act)**\n",
      "   - A decision cycle originally developed for military use, focusing on rapid, iterative decision-making processes.\n",
      "\n",
      "11. **Nudge Theory**\n",
      "   - A behavioral economics concept that involves subtly guiding choices and behaviors by changing the way options are presented.\n",
      "\n",
      "12. **Kepner-Tregoe Matrix**\n",
      "   - A step-by-step approach to problem-solving and decision-making that helps in systematically evaluating and prioritizing options.\n",
      "\n",
      "13. **Eisenhower Matrix (or Urgent-Important Matrix)**\n",
      "   - This framework helps prioritize tasks by urgency and importance to enhance time management and decision-making.\n",
      "\n",
      "14. **Pros and Cons Analysis**\n",
      "   - A simple yet effective technique where the advantages and disadvantages of an option are listed to help weigh the potential outcomes.\n",
      "\n",
      "15. **Monte Carlo Simulation**\n",
      "   - A statistical technique that uses probability distributions to simulate and analyze the impact of risk and uncertainty in decision-making.\n",
      "\n",
      "16. **Value Chain Analysis**\n",
      "   - Identifying and analyzing the primary and support activities in a business that add value to the final product or service to optimize performance.\n",
      "\n",
      "Each of these frameworks has its own strengths and can be selected based on the specific context and complexity of the decision to be made."
     ]
    }
   ],
   "source": [
    "var decisionPromptTemplate = \"\"\"\n",
    "Provide a list of decision frameworks that can help improve the quality of decisions.\n",
    "\"\"\";\n",
    "\n",
    "// Takes a regular prompt and creats a function that can be used to invoke the model\n",
    "var semanticDecisionFunction = semanticKernel.CreateFunctionFromPrompt(decisionPromptTemplate);\n",
    "\n",
    "await foreach (var streamChunk in semanticKernel.InvokeStreamingAsync(semanticDecisionFunction))\n",
    "{\n",
    "   Console.Write(streamChunk);\n",
    "}"
   ]
  },
  {
   "cell_type": "markdown",
   "metadata": {},
   "source": [
    "### Step 3 - Semantic Function Dynamic Execution\n",
    "\n",
    "Semantic functions can be dynamically composed using Kernel arguments. This allows the ease of passing in parameters and execution settings into the semantic functions."
   ]
  },
  {
   "cell_type": "code",
   "execution_count": 7,
   "metadata": {
    "dotnet_interactive": {
     "language": "csharp"
    },
    "polyglot_notebook": {
     "kernelName": "csharp"
    },
    "vscode": {
     "languageId": "polyglot-notebook"
    }
   },
   "outputs": [
    {
     "name": "stdout",
     "output_type": "stream",
     "text": [
      "1. SWOT Analysis: This framework helps organizations assess their internal Strengths and Weaknesses, as well as external Opportunities and Threats. By identifying these factors, decision-makers can develop strategies that leverage strengths, address weaknesses, capitalize on opportunities, and mitigate threats.\n",
      "\n",
      "2. Balanced Scorecard: This framework helps organizations align their strategic objectives with performance metrics across four perspectives: financial, customer, internal processes, and learning and growth. By monitoring and analyzing these metrics, decision-makers can make informed decisions that drive strategic success and improve overall performance.\n",
      "\n",
      "3. Scenario Planning: This framework involves creating multiple plausible future scenarios based on various external factors and trends. By considering different potential outcomes, decision-makers can develop flexible strategies that are robust under various conditions, thereby improving the quality of strategic decisions and enhancing the organization's ability to adapt to changing environments."
     ]
    }
   ],
   "source": [
    "// Create the OpenAI prompt execution settings\n",
    "var openAIPromptExecutionSettings = new OpenAIPromptExecutionSettings { \n",
    "    MaxTokens = 1500, \n",
    "    Temperature = 0.1, \n",
    "    TopP = 1.0, \n",
    "    FrequencyPenalty = 0.0, \n",
    "    PresencePenalty = 0.0\n",
    "    };\n",
    "    \n",
    "var decisionPromptTemplate = \"Provide some {{$numberOfFrameworks}} frameworks that can help improve the quality of {{$decisionType}} decisions.\";\n",
    "var semanticDecisionFunctionWithInput = semanticKernel.CreateFunctionFromPrompt(decisionPromptTemplate, openAIPromptExecutionSettings);\n",
    "\n",
    "// Dynamically set the number of frameworks and decision type\n",
    "var kernelArguments = new KernelArguments();\n",
    "kernelArguments.Add(\"numberOfFrameworks\", 3);\n",
    "kernelArguments.Add(\"decisionType\", \"strategic\");\n",
    "\n",
    "await foreach (var streamChunk in semanticKernel.InvokeStreamingAsync(semanticDecisionFunctionWithInput, kernelArguments))\n",
    "{\n",
    "   Console.Write(streamChunk);\n",
    "}"
   ]
  },
  {
   "cell_type": "code",
   "execution_count": 5,
   "metadata": {
    "dotnet_interactive": {
     "language": "csharp"
    },
    "polyglot_notebook": {
     "kernelName": "csharp"
    },
    "vscode": {
     "languageId": "polyglot-notebook"
    }
   },
   "outputs": [
    {
     "name": "stdout",
     "output_type": "stream",
     "text": [
      "1. OODA Loop (Observe, Orient, Decide, Act): Developed by military strategist John Boyd, the OODA Loop is a decision-making framework that emphasizes rapid observation and orientation to make quick and effective decisions in fast-paced environments.\n",
      "\n",
      "2. RAPID Framework: RAPID is an acronym for Recommend, Agree, Perform, Input, and Decide. This framework assigns clear roles and responsibilities to team members, ensuring that decisions are made efficiently and effectively by the right people.\n",
      "\n",
      "3. The Cynefin Framework: Developed by Dave Snowden, the Cynefin Framework helps leaders understand the context of a situation to make appropriate decisions. It categorizes problems into five domains (simple, complicated, complex, chaotic, and disorder) and suggests decision-making approaches for each.\n",
      "\n",
      "4. The Decision Matrix: Also known as the Pugh Matrix, this framework helps prioritize and evaluate options based on specific criteria. By scoring each option against weighted criteria, decision-makers can quickly identify the most suitable choice.\n",
      "\n",
      "5. The Two-Second Rule: Popularized in high-speed environments like racing or emergency response, the Two-Second Rule encourages decision-makers to take immediate action within two seconds of recognizing a situation. This rule helps prevent overthinking and ensures timely responses in critical situations."
     ]
    }
   ],
   "source": [
    "// Dynamically set the number of frameworks and decision type\n",
    "var kernelArguments = new KernelArguments(openAIPromptExecutionSettings);\n",
    "kernelArguments.Add(\"numberOfFrameworks\", 5);\n",
    "kernelArguments.Add(\"decisionType\", \"requring fast action\");\n",
    "\n",
    "await foreach (var streamChunk in semanticKernel.InvokeStreamingAsync(semanticDecisionFunctionWithInput, kernelArguments))\n",
    "{\n",
    "   Console.Write(streamChunk);\n",
    "}"
   ]
  }
 ],
 "metadata": {
  "kernelspec": {
   "display_name": ".NET (C#)",
   "language": "C#",
   "name": ".net-csharp"
  },
  "language_info": {
   "name": "csharp"
  },
  "polyglot_notebook": {
   "kernelInfo": {
    "defaultKernelName": "csharp",
    "items": [
     {
      "aliases": [],
      "name": "csharp"
     }
    ]
   }
  }
 },
 "nbformat": 4,
 "nbformat_minor": 2
}
