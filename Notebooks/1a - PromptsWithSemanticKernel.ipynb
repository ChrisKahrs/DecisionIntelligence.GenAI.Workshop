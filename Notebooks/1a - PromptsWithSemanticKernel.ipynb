{
 "cells": [
  {
   "cell_type": "code",
   "execution_count": 4,
   "metadata": {
    "dotnet_interactive": {
     "language": "csharp"
    },
    "polyglot_notebook": {
     "kernelName": "csharp"
    },
    "vscode": {
     "languageId": "polyglot-notebook"
    }
   },
   "outputs": [
    {
     "data": {
      "text/html": [
       "<div><div></div><div></div><div><strong>Installed Packages</strong><ul><li><span>Microsoft.Extensions.Configuration, 8.0.0</span></li><li><span>Microsoft.Extensions.Configuration.Json, 8.0.0</span></li></ul></div></div>"
      ]
     },
     "metadata": {},
     "output_type": "display_data"
    }
   ],
   "source": [
    "#r \"nuget: Microsoft.Extensions.Configuration, 8.0.0\"\n",
    "#r \"nuget: Microsoft.Extensions.Configuration.Json, 8.0.0\"\n",
    "\n",
    "using Microsoft.Extensions.Configuration;\n",
    "using System.IO;\n",
    "\n",
    "var configurationBuilder = new ConfigurationBuilder()\n",
    "    .SetBasePath(Directory.GetCurrentDirectory())\n",
    "    .AddJsonFile(\"local.settings.json\", optional: true, reloadOnChange: true)\n",
    "    .AddJsonFile(\"secrets.settings.json\", optional: true, reloadOnChange: true);\n",
    "var config = configurationBuilder.Build();\n",
    "\n",
    "var azureOpenAIEndpoint = config[\"AzureOpenAI:Endpoint\"];\n",
    "var azureOpenAIAPIKey = config[\"AzureOpenAI:APIKey\"];\n",
    "var azureOpenAIModelDeploymentName = config[\"AzureOpenAI:ModelDeploymentName\"];"
   ]
  },
  {
   "cell_type": "code",
   "execution_count": 5,
   "metadata": {
    "dotnet_interactive": {
     "language": "csharp"
    },
    "polyglot_notebook": {
     "kernelName": "csharp"
    },
    "vscode": {
     "languageId": "polyglot-notebook"
    }
   },
   "outputs": [
    {
     "data": {
      "text/html": [
       "<div><div></div><div></div><div><strong>Installed Packages</strong><ul><li><span>Microsoft.SemanticKernel, 1.11.0</span></li></ul></div></div>"
      ]
     },
     "metadata": {},
     "output_type": "display_data"
    }
   ],
   "source": [
    "#r \"nuget: Microsoft.SemanticKernel, 1.11.0\"\n",
    "\n",
    "using Microsoft.SemanticKernel;\n",
    "using Microsoft.SemanticKernel.ChatCompletion;\n",
    "using Microsoft.SemanticKernel.Connectors.OpenAI;\n",
    "\n",
    "var semanticKernel = Kernel.CreateBuilder()\n",
    "    .AddAzureOpenAIChatCompletion(\n",
    "        deploymentName: azureOpenAIModelDeploymentName,\n",
    "        endpoint: azureOpenAIEndpoint,\n",
    "        apiKey: azureOpenAIAPIKey)\n",
    "    .Build();"
   ]
  },
  {
   "cell_type": "code",
   "execution_count": 6,
   "metadata": {
    "dotnet_interactive": {
     "language": "csharp"
    },
    "polyglot_notebook": {
     "kernelName": "csharp"
    },
    "vscode": {
     "languageId": "polyglot-notebook"
    }
   },
   "outputs": [
    {
     "name": "stdout",
     "output_type": "stream",
     "text": [
      "1. SWOT Analysis: This framework evaluates the strengths, weaknesses, opportunities, and threats associated with a decision. It helps in identifying external and internal factors that could impact the outcome of a decision.\n",
      "\n",
      "2. Decision Matrix: Also known as a Pugh matrix, this framework involves listing criteria that are important to the decision and rating each option against those criteria. This helps in quantifying and comparing options systematically.\n",
      "\n",
      "3. Cost-Benefit Analysis: This framework involves listing and quantifying the costs and benefits associated with each option. By comparing the net benefits (benefits minus costs) of each option, it helps in determining which option offers the most value.\n",
      "\n",
      "4. Pareto Analysis (80/20 rule): This technique helps identify the factors that have the most significant impact on the decision. By focusing on the 20% of factors that contribute to 80% of the results, it helps prioritize resources and efforts effectively.\n",
      "\n",
      "5. Decision Tree: This graphical representation of decision-making process helps in visualizing the potential outcomes and consequences of various choices. It helps in identifying the most favorable decision path based on probabilities and payoffs.\n",
      "\n",
      "6. Six Thinking Hats: This framework encourages looking at a decision from multiple perspectives (emotions, facts, creativity, caution, benefits, and process) by metaphorically wearing different colored \"hats\". It promotes comprehensive and balanced decision-making.\n",
      "\n",
      "7. Pros and Cons List: A simple but effective framework where the advantages and disadvantages of each option are listed side by side. This helps in weighing the positives and negatives of each option more clearly.\n",
      "\n",
      "8. Delphi Technique: This method involves gathering input and feedback from a panel of experts anonymously and iteratively. It helps in achieving consensus on complex decisions by synthesizing different expert opinions.\n",
      "\n",
      "9. Scenario Planning: This approach involves envisioning various future scenarios and assessing how different decisions might play out in each scenario. It helps in preparing for uncertainties and making decisions that are resilient to various future states.\n",
      "\n",
      "Each of these frameworks provides a structured approach to decision-making, promoting clarity, objectivity, and thorough consideration of options and consequences.\r\n"
     ]
    }
   ],
   "source": [
    "var simplePrompt = \"Provide some decision frameworks that can help improve the quality of decisions.\";\n",
    "\n",
    "var simplePromptResponse = await semanticKernel.InvokePromptAsync(simplePrompt);\n",
    "Console.WriteLine(simplePromptResponse.GetValue<string>());"
   ]
  },
  {
   "cell_type": "code",
   "execution_count": 7,
   "metadata": {
    "dotnet_interactive": {
     "language": "csharp"
    },
    "polyglot_notebook": {
     "kernelName": "csharp"
    },
    "vscode": {
     "languageId": "polyglot-notebook"
    }
   },
   "outputs": [
    {
     "name": "stdout",
     "output_type": "stream",
     "text": [
      "1. SWOT Analysis: Analyzing the strengths, weaknesses, opportunities, and threats associated with a decision can help in determining the feasibility and potential outcomes.\n",
      "\n",
      "2. Decision Matrix: This framework involves creating a grid that weighs different options against relevant criteria to help quantify and compare decisions.\n",
      "\n",
      "3. Cost-Benefit Analysis: Evaluating the costs versus the benefits of each decision to understand the potential return on investment.\n",
      "\n",
      "4. Decision Trees: Mapping out each possible decision path and its outcomes to visualize consequences and probabilities visually.\n",
      "\n",
      "5. Pareto Analysis: Applying the 80/20 rule to prioritize options based on which will have the most significant impact.\n",
      "\n",
      "6. Six Thinking Hats: Encouraging different perspectives (e.g., emotional, factual, creative, etc.) to be considered during decision-making to provide a well-rounded view.\n",
      "\n",
      "7. The Cynefin Framework: Helping to categorize decisions into simple, complicated, complex, or chaotic domains to guide appropriate decision-making approaches.\n",
      "\n",
      "8. Scenario Planning: Envisioning multiple future scenarios based on different decisions to anticipate possible risks and outcomes.\n",
      "\n",
      "By leveraging these decision frameworks, individuals and organizations can enhance the quality and effectiveness of their decision-making processes."
     ]
    }
   ],
   "source": [
    "await foreach (var streamChunk in semanticKernel.InvokePromptStreamingAsync(simplePrompt))\n",
    "{\n",
    "   Console.Write(streamChunk);\n",
    "}"
   ]
  },
  {
   "cell_type": "code",
   "execution_count": 8,
   "metadata": {
    "dotnet_interactive": {
     "language": "csharp"
    },
    "polyglot_notebook": {
     "kernelName": "csharp"
    },
    "vscode": {
     "languageId": "polyglot-notebook"
    }
   },
   "outputs": [
    {
     "name": "stdout",
     "output_type": "stream",
     "text": [
      "1. SWOT Analysis: This framework helps in evaluating the Strengths, Weaknesses, Opportunities, and Threats related to a decision. It provides a comprehensive view of both internal and external factors that can impact the decision.\n",
      "\n",
      "2. Decision Matrix: This framework involves creating a matrix to evaluate different options based on specific criteria. Each option is scored and weighted based on its importance, which helps in making a more objective decision.\n",
      "\n",
      "3. Cost-Benefit Analysis: This framework involves comparing the costs and benefits of different options. It helps in identifying the option that provides the maximum benefit for the minimum cost.\n",
      "\n",
      "4. Pareto Analysis: This framework, also known as the 80/20 rule, helps in identifying the most important factors that will have the greatest impact on the decision. It focuses on prioritizing tasks that will yield the most significant results.\n",
      "\n",
      "5. Decision Tree: This framework involves mapping out different options and their potential outcomes in a tree-like structure. It helps in visualizing the consequences of each decision path and choosing the one with the most favorable outcome.\n",
      "\n",
      "6. Six Thinking Hats: This framework, developed by Edward de Bono, involves looking at a decision from six different perspectives (emotions, facts, creativity, benefits, caution, and process). It encourages a more well-rounded approach to decision-making.\n",
      "\n",
      "7. The Cynefin Framework: This framework helps in understanding the context of the decision by categorizing it into one of five domains: simple, complicated, complex, chaotic, or disorder. It guides the decision-making process based on the nature of the situation.\n",
      "\n",
      "By using these frameworks, decision-makers can structure their thinking, consider multiple perspectives, and make more informed and effective decisions."
     ]
    }
   ],
   "source": [
    "var openAIPromptExecutionSettings = new OpenAIPromptExecutionSettings { \n",
    "    MaxTokens = 500, \n",
    "    Temperature = 0.1, \n",
    "    TopP = 1.0, \n",
    "    FrequencyPenalty = 0.0, \n",
    "    PresencePenalty = 0.0\n",
    "    };\n",
    "\n",
    "KernelArguments kernelArguments = new KernelArguments(openAIPromptExecutionSettings);\n",
    "await foreach (var streamChunk in semanticKernel.InvokePromptStreamingAsync(simplePrompt, kernelArguments))\n",
    "{\n",
    "   Console.Write(streamChunk);\n",
    "}"
   ]
  },
  {
   "cell_type": "code",
   "execution_count": null,
   "metadata": {
    "dotnet_interactive": {
     "language": "csharp"
    },
    "polyglot_notebook": {
     "kernelName": "csharp"
    },
    "vscode": {
     "languageId": "polyglot-notebook"
    }
   },
   "outputs": [
    {
     "name": "stdout",
     "output_type": "stream",
     "text": [
      "You are a decision intelligence assistant. \n",
      "Assist the user in exploring options, reasoning through decisions, problem-solving, and applying systems thinking to various scenarios. \n",
      "Provide structured, logical, and comprehensive advice.\n",
      "--------------\n",
      "Provide some decision frameworks that can help improve the quality of decisions.\n",
      "Certainly! Here are several decision frameworks that can help improve the quality of decisions:\n",
      "\n",
      "1. **SWOT Analysis**:\n",
      "   - **Strengths**: Identify what advantages your organization or project has.\n",
      "   - **Weaknesses**: Recognize areas of improvement or limitations.\n",
      "   - **Opportunities**: Look for external factors that could be beneficial.\n",
      "   - **Threats**: Be aware of external challenges that could affect your goals.\n",
      "   - *Application*: Use this framework to evaluate a decision’s potential by analyzing these four aspects, which can help in making more informed, balanced decisions.\n",
      "\n",
      "2. **Decision Matrix"
     ]
    }
   ],
   "source": [
    "var systemPrompt = \"\"\"\n",
    "You are a decision intelligence assistant. \n",
    "Assist the user in exploring options, reasoning through decisions, problem-solving, and applying systems thinking to various scenarios. \n",
    "Provide structured, logical, and comprehensive advice.\n",
    "\"\"\";\n",
    "\n",
    "var simpleDecisionPromptTemplate = $\"\"\"\n",
    "{systemPrompt}\n",
    "--------------\n",
    "{simplePrompt}\n",
    "\"\"\";\n",
    "\n",
    "Console.WriteLine(simpleDecisionPromptTemplate);\n",
    "\n",
    "await foreach (var streamChunk in semanticKernel.InvokePromptStreamingAsync(simpleDecisionPromptTemplate, kernelArguments))\n",
    "{\n",
    "   Console.Write(streamChunk);\n",
    "}"
   ]
  }
 ],
 "metadata": {
  "kernelspec": {
   "display_name": ".NET (C#)",
   "language": "C#",
   "name": ".net-csharp"
  },
  "language_info": {
   "name": "csharp"
  },
  "polyglot_notebook": {
   "kernelInfo": {
    "defaultKernelName": "csharp",
    "items": [
     {
      "aliases": [],
      "name": "csharp"
     }
    ]
   }
  }
 },
 "nbformat": 4,
 "nbformat_minor": 2
}
