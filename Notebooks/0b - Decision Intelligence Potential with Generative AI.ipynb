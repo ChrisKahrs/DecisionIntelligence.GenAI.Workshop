{
 "cells": [
  {
   "cell_type": "markdown",
   "metadata": {},
   "source": [
    "<img style=\"float: left;\" width =\"40px\" src=\"https://raw.githubusercontent.com/bartczernicki/DecisionIntelligence.GenAI.Workshop/main/Images/SemanticKernelLogo.png\">\n",
    "\n",
    "## Decision Intelligence Potential with Generative AI"
   ]
  },
  {
   "cell_type": "markdown",
   "metadata": {},
   "source": [
    "> \"Whenever you see a successful business, someone once made a courageous decision.\"\n",
    ">\n",
    "> -- <cite>Peter Drucker (father of modern management)</cite>  \n",
    "\n",
    "<img width =\"600px\" src=\"https://raw.githubusercontent.com/bartczernicki/DecisionIntelligence.GenAI.Workshop/main/Images/DdecisionIntelligence2.png\">\n",
    "<br/>  "
   ]
  },
  {
   "cell_type": "markdown",
   "metadata": {},
   "source": [
    "Decision-making ability is regarded by executives as one of the most highly desired business skills! Most people (even business professionals) make decisions using simple intuition. However, when the problem is sufficiently important, the chance of making a mistake is high or the decision outcome stakes are high; it is important to apply Decision Intelligence principles to solve those problems.\n",
    "\n",
    "To most people, making quality systematic decisions can be a daunting task. There is good news though!! It has been shown that in the same way with the training of top-tier athletes, decision-makers can employ techniques, plans, and instruments to improve with practice. This can include:  \n",
    "* Framing the Decision in different perspectives  \n",
    "* Gathering the Information and Intelligence for the Decision  \n",
    "* Making the Decision using a systematic framework  \n",
    "* Communicating the Decision & Monitoring the Decision Outcome  \n",
    "\n",
    "Decision Intelligence sounds interesting, but what does this have todo with Generative AI? Large Language Models (LLMs) equipped with Generative AI (GenAI) capabilities possess potential for enhancing decision-making processes through advanced reasoning abilities. These LLMs have been trained on complex data sets with logic, patterns, outputting source (programming) code, problem solving in mind. This allows them to simulate human-like reasoning, offering insights and recommendations based on comprehensive data analysis. So what does this all mean? This means that all the past decision-making, problem-solving, mental models, decision huersistics can be appllied to LLMs with GenAI and help humans make decisions!\n",
    "\n",
    "As you can imagine there has been much study, thought and literature written on decision-making. There are examples and resources provided below to immerse yourself into the paradigm. Therefore, this workshop isn't meant to be a full introduction Decision Intelligence or Decision-Making, but will be used as the context for the GenAI exercises seen throughout. It is meant to show how you \"really\" can make decisions with AI & GenAI and not just apply simple prompt techniques.  \n",
    "\n",
    "So do you need to read a ton of information before getting started with the workshop? Not necessarily. The workshop will introduce specific Decision Intelligence topics and showcase how they can be applied with GenAI. In order to make progress, the workshop has to start somewhere. To start most people getting familiar with decision intelligence focus on the \"Making the Decision\" step. This is not ideal, but a great place to start is with simple decision mental models or decision hueristics, which can be effectively applied to many business decisions. This is where most of the workshop content will be applied.  "
   ]
  },
  {
   "cell_type": "markdown",
   "metadata": {},
   "source": [
    "### 1 - Decision Intelligence Examples - Using Intuition for Decision-Making\n",
    "\n",
    "> \"All of my best decisions in business and in life have been made with heart, intuition, guts... not analysis. \n",
    "> When you can make a decision with analysis, you should do so. But it turns out, in life, your most important\n",
    "> decisions are always made with instinct, intuition, taste, heart.\"\n",
    ">\n",
    "> -- <cite>Jeff Bezos (founder of Amazon, Space Entrepreneur)</cite>  "
   ]
  },
  {
   "cell_type": "markdown",
   "metadata": {},
   "source": [
    "The above quote from Jeff Bezos above underscores the balance between data-driven decision-making and the role of intuition and instinct in navigating complex or uncertain situations. A majority of this Decision Intelligence workshop focuses on systematic, process-driven Decision Intelligence. However, intuition is usually how many people start making decisions. \n",
    "\n",
    "**What is intuition? Intuition is best described as the ability to understand something immediately, without the need for conscious reasoning.** It's based on patterns and experiences that the brain has internalized over time. Intuitive judgments can be rapid and efficient, drawing on a wealth of experience & knowledge. Therefore, intuition can be a highly effective decision-making tool by people who are highly experienced. For example, a basketaball coach for 20 years has probably experienced similar patterns in basketball scenarios allowing the coach to make immediate decisions for his team.  However, in highly fluid environments decision-making that relies on intuition is rather unreliable.  \n",
    "\n",
    "In the context of this workshop, intuition is basically allowing the Generative AI model make a decision from it's own knowledge & patterns it has learned from the mountains of trained data. You may trust an AI system to recommend a path for your next roadtrip, filter spam in your e-mail...but not for making high-stakes decisions without specific instructions, knowledge or guardrails. \n",
    "\n",
    "If you send a basic prompt to a GenAI model you are entrusting the GenAI's intuition (it's knowledge, pattern discovery and experience it has learned). The more basic the prompt and less specific the instruction, the more you are entrusting GenAI's intuition. Generally the practice of decision-making using simple intuition with GenAI will only be lightly introduced in favor of more specific Decision Intelligence.  "
   ]
  },
  {
   "cell_type": "markdown",
   "metadata": {},
   "source": [
    "### 2 - Decision Intelligence Examples - Improving Options with Decision-Framing"
   ]
  },
  {
   "cell_type": "markdown",
   "metadata": {},
   "source": [
    "> \"The framing effect shows that people's decisions can be influenced by the way a problem is presented.\"\n",
    ">\n",
    "> -- <cite>Daniel Kahneman (Nobel laureate, known for psychology of judgment and decision-making)</cite>  "
   ]
  },
  {
   "cell_type": "markdown",
   "metadata": {},
   "source": [
    "**Decision framing is about presenting or thinking about choices when making a decision.** Imagine you are trying to decide whether to take a new job. If you focus on the higher salary and exciting new opportunities, you might feel more positive about the move. But if you think about the longer commute and the risk of not liking your new coworkers, you might feel hesitant.\n",
    "\n",
    "The way you \"frame\" the decision can greatly influence what you decide. It's like looking at the same picture through different lenses: each lens highlights different parts and colors, changing your overall view. By being aware of how you're framing a decision, you can create more optimized paths on how to approach a decision. Furthermore, decision-framing can also help you uncover more decision choices. Going back to the example above on taking a high-paying job with a potentially long commute. Considering all the options may allow you to frame your decision conditionally. For example, you may only consider this job if the option presents itself to work a hybrid schedule from home.  \n",
    "\n",
    "There are several decision-framing techniques, processes and frameworks that can be applied to improve decision-framing such as: Pareto Analysis, the 10-10-10 rule, Pascal's Wager, the Six Thinking Hats etc. **The good news is that these decision-framing techniques are either built-in to the GenAI model or the model can be provided with new decision-framing techniques.**\n",
    "\n",
    "The image below illustrates the Six Thinking Hats technique, which approaches a decision problem from 6 different perspectives. As humans, we are \"trapped in our own world\" and it is difficult to release some of our anchors, biases etc. However, for a Generative AI model (while certainly not perfect) these different decision-frames are easier to utilize.\n",
    "\n",
    "<img width =\"600px\" src=\"https://raw.githubusercontent.com/bartczernicki/DecisionIntelligence.GenAI.Workshop/main/Images/six-thinking-hats-illustration.png\">"
   ]
  },
  {
   "cell_type": "markdown",
   "metadata": {},
   "source": [
    "Some example decision-frames and alternate decision-frames. Notice how the primary and alternate decision-frames can adjust the path in how a decision is approached.  \n",
    "\n",
    "| Situation              | Decision-Frame | Alternate Decision-Frame |\n",
    "| :--------------------- | :------------- | :----------------------- |\n",
    "| New required corporate security training | \"Noise\" that prohibits you from your job. Considering watching the videos as 2x speed.        | Opportunity to learn new security innovations. |\n",
    "| You own a stock that recently dropped 20% | Financial risk & consider selling. The stock is in a free-fall and you might lose a more money if you hold onto the stock. | Do more research. Potential opportunity to buy more and lower total ownership costs. |\n",
    "| A competitor comes out with a new solution powered by GenAI         | Opportunity to modernize & innovate on your own company's solution with GenAI.         | Risk to the business that could canibalize your revenue. |\n",
    "| A new powerful laptop has been released. Should you purchase it?     |  Your current laptop is recent and working fine. Need good hardware functionality reasons to upgrade.        | Warranty is expiring on your current laptop. What is the risk of it breaking and being stuck with no laptop? |  \n"
   ]
  },
  {
   "cell_type": "markdown",
   "metadata": {},
   "source": [
    "### Decision Intelligence - Simple Decision Hueristic Example - Price's Law\n",
    "\n",
    "<img width =\"750px\" src=\"https://raw.githubusercontent.com/bartczernicki/Articles/main/20230129-MeasuringSalesPerformanceUsingSimpleStatisticalModels/Image-CoverofSalesTeam.png\">\n",
    "<br/>  \n",
    "<br/>  \n",
    "<br/>  \n",
    "<img width =\"750px\" src=\"https://raw.githubusercontent.com/bartczernicki/Articles/main/20230129-MeasuringSalesPerformanceUsingSimpleStatisticalModels/Image-SalesPricesLaw.png\">\n",
    "\n",
    "\n",
    "Full article: https://medium.com/@bartczernicki/measuring-sales-performance-using-simple-statistical-models-6b995f088f99 "
   ]
  },
  {
   "cell_type": "markdown",
   "metadata": {},
   "source": [
    "### Using Simple Statitics to Measure Probability  \n",
    "<img width =\"750px\" src=\"https://raw.githubusercontent.com/bartczernicki/Articles/main/DevTo-20221222-my-moms-predictive-dream-about-my-family-before-she-passed/CalculatingProbability-Header.webp\">\n",
    "<br/>  \n",
    "<br/>  \n",
    "<br/>  \n",
    "<img width =\"750px\" src=\"https://raw.githubusercontent.com/bartczernicki/Articles/main/DevTo-20221222-my-moms-predictive-dream-about-my-family-before-she-passed/CalculateProbability-DaughtersAndCensusInfo.png\">\n",
    "\n",
    "\n",
    "Full article: https://github.com/bartczernicki/Articles/tree/main/DevTo-20221222-my-moms-predictive-dream-about-my-family-before-she-passed  "
   ]
  },
  {
   "cell_type": "markdown",
   "metadata": {},
   "source": [
    "### Eisenhower Decision Priorotization Matrix   \n",
    "<img width =\"750px\" src=\"https://raw.githubusercontent.com/bartczernicki/DecisionIntelligence.GenAI.Workshop/main/Images/EisenhowerDecisonMatrix.png\">\n",
    "<br/>  \n",
    "<br/>  \n",
    "Named after U.S. President Dwight D. Eisenhower, this prioritization framework will help you organize your tasks and activities by importance and urgency. It's especially useful when you're very busy but don't feel like what you do has much impact.\n",
    "\n",
    "The Eisenhower Decision Matrix prioritizes tasks into four quadrants:\n",
    "1. Important & Urgent: Do immediately (e.g., crises, deadlines).\n",
    "2. Important & Not Urgent: Schedule time for these (e.g., planning, development).\n",
    "3. Not Important & Urgent: Delegate (e.g., interruptions, some meetings).\n",
    "4. Not Important & Not Urgent: Eliminate (e.g., distractions, trivial activities).\n",
    "\n",
    "\n",
    "Task List:\n",
    "* Complete project report (due tomorrow)\n",
    "* Plan next quarter's strategy\n",
    "* Respond to urgent emails\n",
    "* Organize desk\n",
    "* Attend a non-essential meeting\n",
    "* Exercise\n",
    "Categorization:\n",
    "* Important & Urgent: Complete project report (due tomorrow)\n",
    "* Important & Not Urgent: Plan next quarter's strategy, Exercise\n",
    "* Not Important & Urgent: Respond to urgent emails, Attend a non-essential meeting\n",
    "* Not Important & Not Urgent: Organize desk\n",
    "Actions:\n",
    "* Do Now: Complete project report.\n",
    "* Schedule: Plan next quarter's strategy, Exercise.\n",
    "* Delegate: Respond to urgent emails, Attend a non-essential meeting.\n",
    "* Eliminate: Organize desk."
   ]
  },
  {
   "cell_type": "markdown",
   "metadata": {},
   "source": [
    "## Decision Systems - Decision Support Systems & Decision Management Systems\n",
    "\n",
    "<img width=\"850px\" src=\"https://raw.githubusercontent.com/bartczernicki/DecisionIntelligence.GenAI.Workshop/main/Images/DecisionSystemTypes.png\">\n",
    "<br/>  \n",
    "<br/>  \n",
    "\n"
   ]
  },
  {
   "cell_type": "markdown",
   "metadata": {},
   "source": [
    "## Decision Intelligence Resources\n",
    "\n",
    "Decision & Reasoning Tools: https://untools.co "
   ]
  }
 ],
 "metadata": {
  "kernelspec": {
   "display_name": ".NET (C#)",
   "language": "C#",
   "name": ".net-csharp"
  },
  "language_info": {
   "name": "csharp"
  },
  "polyglot_notebook": {
   "kernelInfo": {
    "defaultKernelName": "csharp",
    "items": [
     {
      "aliases": [],
      "name": "csharp"
     }
    ]
   }
  }
 },
 "nbformat": 4,
 "nbformat_minor": 2
}
