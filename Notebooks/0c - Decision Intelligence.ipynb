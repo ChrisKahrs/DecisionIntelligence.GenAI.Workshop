{
 "cells": [
  {
   "cell_type": "markdown",
   "metadata": {},
   "source": [
    "<img style=\"float: left;\" width =\"40px\" src=\"https://raw.githubusercontent.com/bartczernicki/DecisionIntelligence.GenAI.Workshop/main/Images/SemanticKernelLogo.png\">\n",
    "\n",
    "## Decision Intelligence"
   ]
  },
  {
   "cell_type": "markdown",
   "metadata": {},
   "source": [
    "Decision-making ability is regarded by executives as one of the most highly desired business skills! However, making decisions can be a daunting task, particularly when the stakes are high. As with the training of top-tier athletes, decision-makers can employ techniques, plans, and instruments to improve and achieve more. One such tool is the weighted pros and cons list, which was popularized by none other than Benjamin Franklin.  "
   ]
  }
 ],
 "metadata": {
  "language_info": {
   "name": "csharp"
  }
 },
 "nbformat": 4,
 "nbformat_minor": 2
}
