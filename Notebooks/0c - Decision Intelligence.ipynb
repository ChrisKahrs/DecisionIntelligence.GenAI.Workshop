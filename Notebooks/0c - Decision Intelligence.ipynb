{
 "cells": [
  {
   "cell_type": "markdown",
   "metadata": {},
   "source": [
    "<img style=\"float: left;\" width =\"40px\" src=\"https://raw.githubusercontent.com/bartczernicki/DecisionIntelligence.GenAI.Workshop/main/Images/SemanticKernelLogo.png\">\n",
    "\n",
    "## Decision Intelligence"
   ]
  },
  {
   "cell_type": "markdown",
   "metadata": {},
   "source": [
    "Decision-making ability is regarded by executives as one of the most highly desired business skills! However, making decisions can be a daunting task, particularly when the stakes are high. As with the training of top-tier athletes, decision-makers can employ techniques, plans, and instruments to improve and achieve more. A great place to start is with simple decision mental models or decision hueristics, which can be effectively applied to many business decisions.  "
   ]
  },
  {
   "cell_type": "markdown",
   "metadata": {},
   "source": [
    "### Price's Law\n",
    "\n",
    "<img width =\"750px\" src=\"https://raw.githubusercontent.com/bartczernicki/Articles/main/20230129-MeasuringSalesPerformanceUsingSimpleStatisticalModels/Image-CoverofSalesTeam.png\">\n",
    "<br/>  \n",
    "<br/>  \n",
    "<br/>  \n",
    "<img width =\"750px\" src=\"https://raw.githubusercontent.com/bartczernicki/Articles/main/20230129-MeasuringSalesPerformanceUsingSimpleStatisticalModels/Image-SalesPricesLaw.png\">\n",
    "\n",
    "\n",
    "Full article: https://medium.com/@bartczernicki/measuring-sales-performance-using-simple-statistical-models-6b995f088f99 "
   ]
  },
  {
   "cell_type": "markdown",
   "metadata": {},
   "source": [
    "### Using Simple Statitics to Measure Probability  \n",
    "<img width =\"750px\" src=\"https://raw.githubusercontent.com/bartczernicki/Articles/main/DevTo-20221222-my-moms-predictive-dream-about-my-family-before-she-passed/CalculatingProbability-Header.webp\">\n",
    "<br/>  \n",
    "<br/>  \n",
    "<br/>  \n",
    "<img width =\"750px\" src=\"https://raw.githubusercontent.com/bartczernicki/Articles/main/DevTo-20221222-my-moms-predictive-dream-about-my-family-before-she-passed/CalculateProbability-DaughtersAndCensusInfo.png\">\n",
    "\n",
    "\n",
    "Full article: https://github.com/bartczernicki/Articles/tree/main/DevTo-20221222-my-moms-predictive-dream-about-my-family-before-she-passed  "
   ]
  },
  {
   "cell_type": "markdown",
   "metadata": {},
   "source": [
    "### Eisenhower Decision Matrix   \n",
    "<img width =\"750px\" src=\"https://raw.githubusercontent.com/bartczernicki/DecisionIntelligence.GenAI.Workshop/main/Images/EisenhowerDecisionMatrix.png\">\n",
    "<br/>  "
   ]
  }
 ],
 "metadata": {
  "language_info": {
   "name": "csharp"
  }
 },
 "nbformat": 4,
 "nbformat_minor": 2
}
