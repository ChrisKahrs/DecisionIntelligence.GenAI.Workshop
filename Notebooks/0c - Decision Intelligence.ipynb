{
 "cells": [
  {
   "cell_type": "markdown",
   "metadata": {},
   "source": [
    "<img style=\"float: left;\" width =\"40px\" src=\"https://raw.githubusercontent.com/bartczernicki/DecisionIntelligence.GenAI.Workshop/main/Images/SemanticKernelLogo.png\">\n",
    "\n",
    "## Decision Intelligence"
   ]
  },
  {
   "cell_type": "markdown",
   "metadata": {},
   "source": [
    "Decision-making ability is regarded by executives as one of the most highly desired business skills! However, making decisions can be a daunting task, particularly when the stakes are high. As with the training of top-tier athletes, decision-makers can employ techniques, plans, and instruments to improve and achieve more. A great place to start is with simple decision mental models or decision hueristics, which can be effectively applied to many business decisions.  "
   ]
  },
  {
   "cell_type": "markdown",
   "metadata": {},
   "source": [
    "### Price's Law\n",
    "\n",
    "<img width =\"750px\" src=\"https://raw.githubusercontent.com/bartczernicki/Articles/main/20230129-MeasuringSalesPerformanceUsingSimpleStatisticalModels/Image-CoverofSalesTeam.png\">\n",
    "<br/>  \n",
    "<br/>  \n",
    "<br/>  \n",
    "<img width =\"750px\" src=\"https://raw.githubusercontent.com/bartczernicki/Articles/main/20230129-MeasuringSalesPerformanceUsingSimpleStatisticalModels/Image-SalesPricesLaw.png\">\n",
    "\n",
    "\n",
    "Full article: https://medium.com/@bartczernicki/measuring-sales-performance-using-simple-statistical-models-6b995f088f99 "
   ]
  },
  {
   "cell_type": "markdown",
   "metadata": {},
   "source": [
    "### Using Simple Statitics to Measure Probability  \n",
    "<img width =\"750px\" src=\"https://raw.githubusercontent.com/bartczernicki/Articles/main/DevTo-20221222-my-moms-predictive-dream-about-my-family-before-she-passed/CalculatingProbability-Header.webp\">\n",
    "<br/>  \n",
    "<br/>  \n",
    "<br/>  \n",
    "<img width =\"750px\" src=\"https://raw.githubusercontent.com/bartczernicki/Articles/main/DevTo-20221222-my-moms-predictive-dream-about-my-family-before-she-passed/CalculateProbability-DaughtersAndCensusInfo.png\">\n",
    "\n",
    "\n",
    "Full article: https://github.com/bartczernicki/Articles/tree/main/DevTo-20221222-my-moms-predictive-dream-about-my-family-before-she-passed  "
   ]
  },
  {
   "cell_type": "markdown",
   "metadata": {},
   "source": [
    "### Eisenhower Decision Priorotization Matrix   \n",
    "<img width =\"750px\" src=\"https://raw.githubusercontent.com/bartczernicki/DecisionIntelligence.GenAI.Workshop/main/Images/EisenhowerDecisonMatrix.png\">\n",
    "<br/>  \n",
    "<br/>  \n",
    "Named after U.S. President Dwight D. Eisenhower, this prioritization framework will help you organize your tasks and activities by importance and urgency. It's especially useful when you're very busy but don't feel like what you do has much impact.\n",
    "\n",
    "The Eisenhower Decision Matrix prioritizes tasks into four quadrants:\n",
    "1. Important & Urgent: Do immediately (e.g., crises, deadlines).\n",
    "2. Important & Not Urgent: Schedule time for these (e.g., planning, development).\n",
    "3. Not Important & Urgent: Delegate (e.g., interruptions, some meetings).\n",
    "4. Not Important & Not Urgent: Eliminate (e.g., distractions, trivial activities).\n",
    "\n",
    "\n",
    "Task List:\n",
    "* Complete project report (due tomorrow)\n",
    "* Plan next quarter's strategy\n",
    "* Respond to urgent emails\n",
    "* Organize desk\n",
    "* Attend a non-essential meeting\n",
    "* Exercise\n",
    "Categorization:\n",
    "* Important & Urgent: Complete project report (due tomorrow)\n",
    "* Important & Not Urgent: Plan next quarter's strategy, Exercise\n",
    "* Not Important & Urgent: Respond to urgent emails, Attend a non-essential meeting\n",
    "* Not Important & Not Urgent: Organize desk\n",
    "Actions:\n",
    "* Do Now: Complete project report.\n",
    "* Schedule: Plan next quarter's strategy, Exercise.\n",
    "* Delegate: Respond to urgent emails, Attend a non-essential meeting.\n",
    "* Eliminate: Organize desk."
   ]
  },
  {
   "cell_type": "markdown",
   "metadata": {},
   "source": [
    "## Decision Intelligence Resources\n",
    "\n",
    "Decision & Reasoning Tools: https://untools.co "
   ]
  }
 ],
 "metadata": {
  "language_info": {
   "name": "csharp"
  }
 },
 "nbformat": 4,
 "nbformat_minor": 2
}
