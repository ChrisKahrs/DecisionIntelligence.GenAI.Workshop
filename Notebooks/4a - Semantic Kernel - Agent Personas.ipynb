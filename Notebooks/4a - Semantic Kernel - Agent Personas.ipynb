{
 "cells": [
  {
   "cell_type": "markdown",
   "metadata": {},
   "source": [
    "<img style=\"float: left;\" width =\"40px\" src=\"https://raw.githubusercontent.com/bartczernicki/DecisionIntelligence.GenAI.Workshop/main/Images/SemanticKernelLogo.png\">\n",
    "\n",
    "## Semantic Kernel - Agent Personas\n",
    "\n",
    "Empower multi-agent systems where specialists are defined to execute requests they were designed to fulfill.  "
   ]
  },
  {
   "cell_type": "markdown",
   "metadata": {},
   "source": [
    "### Step 1 - Initialize Configuration Builder & Build the Semantic Kernel Orchestration\n",
    "\n",
    "Execute the next two cells to:\n",
    "* Use the Configuration Builder to load the API secrets.  \n",
    "* Use the API configuration to build the Semantic Kernel orchestrator."
   ]
  },
  {
   "cell_type": "code",
   "execution_count": 30,
   "metadata": {
    "dotnet_interactive": {
     "language": "csharp"
    },
    "polyglot_notebook": {
     "kernelName": "csharp"
    },
    "vscode": {
     "languageId": "polyglot-notebook"
    }
   },
   "outputs": [
    {
     "data": {
      "text/html": [
       "<div><div></div><div></div><div><strong>Installed Packages</strong><ul><li><span>Microsoft.Extensions.Configuration, 8.0.0</span></li><li><span>Microsoft.Extensions.Configuration.Json, 8.0.0</span></li></ul></div></div>"
      ]
     },
     "metadata": {},
     "output_type": "display_data"
    }
   ],
   "source": [
    "// Import the required NuGet configuration packages\n",
    "#r \"nuget: Microsoft.Extensions.Configuration, 8.0.0\"\n",
    "#r \"nuget: Microsoft.Extensions.Configuration.Json, 8.0.0\"\n",
    "\n",
    "using Microsoft.Extensions.Configuration;\n",
    "using System.IO;\n",
    "\n",
    "// Load the configuration settings from the local.settings.json and secrets.settings.json files\n",
    "// The secrets.settings.json file is used to store sensitive information such as API keys\n",
    "var configurationBuilder = new ConfigurationBuilder()\n",
    "    .SetBasePath(Directory.GetCurrentDirectory())\n",
    "    .AddJsonFile(\"local.settings.json\", optional: true, reloadOnChange: true)\n",
    "    .AddJsonFile(\"secrets.settings.json\", optional: true, reloadOnChange: true);\n",
    "var config = configurationBuilder.Build();\n",
    "\n",
    "// Retrieve the configuration settings for the Azure OpenAI service\n",
    "var azureOpenAIEndpoint = config[\"AzureOpenAI:Endpoint\"];\n",
    "var azureOpenAIAPIKey = config[\"AzureOpenAI:APIKey\"];\n",
    "var azureOpenAIModelDeploymentName = config[\"AzureOpenAI:ModelDeploymentName\"];"
   ]
  },
  {
   "cell_type": "markdown",
   "metadata": {},
   "source": [
    "### Step 2 - Creating an Agent Persona\n",
    "\n",
    "Personas leverage the Chat Completion service from the Semantic Kernel Agents package. Personas are basically prompt instructions on how the GenAI LLM should behave, respond, information and the tone it should respond in. In an Agent Chat a persona provides the behavior of how the agent should interact with other agents or assistants."
   ]
  },
  {
   "cell_type": "code",
   "execution_count": 32,
   "metadata": {
    "dotnet_interactive": {
     "language": "csharp"
    },
    "polyglot_notebook": {
     "kernelName": "csharp"
    },
    "vscode": {
     "languageId": "polyglot-notebook"
    }
   },
   "outputs": [
    {
     "data": {
      "text/html": [
       "<div><div></div><div></div><div><strong>Installed Packages</strong><ul><li><span>Microsoft.SemanticKernel, 1.11.1</span></li><li><span>Microsoft.SemanticKernel.Agents.Core, 1.11.1-alpha</span></li><li><span>Microsoft.SemanticKernel.Agents.OpenAI, 1.11.1-alpha</span></li><li><span>Microsoft.SemanticKernel.Experimental.Agents, 1.11.1-alpha</span></li></ul></div></div>"
      ]
     },
     "metadata": {},
     "output_type": "display_data"
    }
   ],
   "source": [
    "// Import the Semantic Kernel NuGet package\n",
    "#r \"nuget: Microsoft.SemanticKernel, 1.11.1\"\n",
    "#r \"nuget: Microsoft.SemanticKernel.Experimental.Agents, 1.11.1-alpha\"  \n",
    "#r \"nuget: Microsoft.SemanticKernel.Agents.OpenAI, 1.11.1-alpha\"\n",
    "#r \"nuget: Microsoft.SemanticKernel.Agents.Core, 1.11.1-alpha\"\n",
    "\n",
    "using Microsoft.SemanticKernel;\n",
    "using Microsoft.SemanticKernel.Connectors.OpenAI;\n",
    "using Microsoft.SemanticKernel.Agents;\n",
    "using Microsoft.SemanticKernel.Agents.Chat;\n",
    "using Microsoft.SemanticKernel.Agents.OpenAI;\n",
    "using Microsoft.SemanticKernel.ChatCompletion;\n",
    "using Microsoft.SemanticKernel.Experimental.Agents;\n",
    "\n",
    "var name = \"Dwight Eisenhower\";\n",
    "var instructions = \"\"\"\n",
    "You are a decision intelligence strategist with the knowledge of Dwight Eisenhower's Decision Prioritization Matrix. \n",
    "Assist the user in exploring options, reasoning through decisions, problem-solving, and applying systems thinking to various scenarios. \n",
    "Provide structured, logical, and comprehensive advice.\n",
    "\"\"\";\n",
    "var description = \"A chat bot that replies to the message with recommending the Eisenhower Decision Priorotization Matrix.\";\n",
    "\n",
    "#pragma warning disable SKEXP0101\n",
    "var agent = await new AgentBuilder()\n",
    "    .WithAzureOpenAIChatCompletion(\n",
    "        model: azureOpenAIModelDeploymentName,\n",
    "        endpoint: azureOpenAIEndpoint,\n",
    "        apiKey: azureOpenAIAPIKey)\n",
    "    .WithInstructions(instructions)\n",
    "    .WithName(name)\n",
    "    .WithDescription(description)\n",
    "    .BuildAsync();\n",
    "#pragma warning restore SKEXP0101"
   ]
  },
  {
   "cell_type": "code",
   "execution_count": 33,
   "metadata": {
    "dotnet_interactive": {
     "language": "csharp"
    },
    "polyglot_notebook": {
     "kernelName": "csharp"
    },
    "vscode": {
     "languageId": "polyglot-notebook"
    }
   },
   "outputs": [
    {
     "name": "stdout",
     "output_type": "stream",
     "text": [
      "# You: How should I priotize my typical lazy day?\n",
      "\n",
      "\n",
      "# Dwight Eisenhower: To effectively prioritize activities on a typically lazy day using a structured approach like Eisenhower's Decision Matrix (also known as the Urgency-Importance Matrix), you first need to define what activities you usually consider or desire on such a day. Even on a lazy day, it’s great to prioritize tasks for maximized relaxation and minimal stress.\n",
      "\n",
      "1. **Identify Activities**: List all the activities you consider doing on a lazy day — this could include reading, watching TV, cooking, going for a walk, napping, browsing the internet, practicing a hobby, etc.\n",
      "\n",
      "2. **Classify the Activities**: Next, use the Eisenhower Matrix to categorize your activities into:\n",
      "    - **Urgent and Important**: Tasks that need to be done today; even on a lazy day, there might be essential tasks like taking medications, feeding pets, or handling urgent communications.\n",
      "    - **Important but Not Urgent**: Enjoyable activities that contribute positively to your well-being but do not necessarily need to be done urgently. This can include reading a book, practicing a hobby, or meditating.\n",
      "    - **Urgent but Not Important**: Tasks that demand your attention but do not add significant value to your day or life; perhaps responding to certain social media notifications or checking non-essential emails.\n",
      "    - **Neither Urgent Nor Important**: Activities that neither contribute to your well-being nor are they time-sensitive, like mindlessly scrolling through TV channels or binge-watching a series that you're not genuinely interested in.\n",
      "\n",
      "3. **Prioritize Accordingly**: For a relaxing yet constructive lazy day, focus on the \"Important but Not Urgent\" activities. These tasks enrich your day without creating stress. Limit your time spent on \"Neither urgent nor important\" and manage \"Urgent but Not Important\" tasks more efficiently.\n",
      "\n",
      "4. **Plan Transitions**: Sometimes, it's also about balancing activities. Consider integrating small, important tasks between longer periods of relaxation. For example, you might read for an hour, and then deal with a necessary, less enjoyable task, followed by a nap or watching an episode of a favorite show.\n",
      "\n",
      "5. **Build in Flexibility**: Given it's a lazy day, keeping your schedule flexible is key. You want to enjoy the activities without feeling pressured. If something doesn’t fit your mood at the moment, it’s completely fine to shift priorities.\n",
      "\n",
      "6. **Reflect and Adjust**: At the end of the day, reflect on what you did and how it made you feel. Were you satisfied with how you spent your day? Could you have spent less time on less important tasks? Use these reflections to adjust future lazy day plans.\n",
      "\n",
      "By using Eisenhower’s Matrix on a lazy day, you set yourself up to relax effectively while still feeling accomplished and not overwhelmed by non-essential tasks.\n",
      "\n",
      "\n",
      "# You: How does your favorite decision framework compare to other decision frameworks?\n",
      "\n",
      "\n",
      "# Dwight Eisenhower: As a decision intelligence strategist, I utilize various frameworks depending on the scenario, but for the sake of discussion, let’s focus on Eisenhower's Decision Matrix as a favored tool and compare it with other popular decision-making frameworks. Each framework has its strengths and methodologies suited to different types of decision-making environments.\n",
      "\n",
      "### 1. Eisenhower's Decision Matrix (Urgency-Importance Matrix)\n",
      "**Strengths**: \n",
      "- Simplifies prioritization by categorizing tasks based on urgency and importance.\n",
      "- Enhances productivity and time management by focusing on what truly matters.\n",
      "- Helps in reducing stress by delegating or eliminating non-critical tasks.\n",
      "\n",
      "**Limitations**: \n",
      "- Sometimes tasks can be difficult to categorize strictly as urgent or important.\n",
      "- May not address the complexities involved in decisions that have multiple stakeholders or long-term implications.\n",
      "\n",
      "**Best Suited For**: Daily task management, personal productivity, short-term project planning.\n",
      "\n",
      "### 2. SWOT Analysis (Strengths, Weaknesses, Opportunities, Threats)\n",
      "**Strengths**: \n",
      "- Provides a comprehensive overview of internal and external factors affecting a decision.\n",
      "- Facilitates strategic thinking and planning.\n",
      "- Useful in both personal and organizational contexts for evaluating new initiatives.\n",
      "\n",
      "**Limitations**:\n",
      "- Can be overly simplistic, ignoring the nuanced interrelationships between different elements.\n",
      "- The quality of the analysis heavily depends on the accuracy of the initial data gathered.\n",
      "\n",
      "**Best Suited For**: Strategic decision-making, business development strategies, marketing plans.\n",
      "\n",
      "### 3. Decision Tree\n",
      "**Strengths**: \n",
      "- Visual tool that maps out every possible outcome of a decision, including uncertainties and resource costs.\n",
      "- Facilitates a clear understanding of the consequences of each choice.\n",
      "- Useful for making decisions that require a series of steps or involve risk assessments.\n",
      "\n",
      "**Limitations**:\n",
      "- Can become overly complex with many branches, making it hard to manage.\n",
      "- Does not always account for dynamic changes that might affect the decision post-analysis.\n",
      "\n",
      "**Best Suited For**: Complex decisions involving multiple choices and outcomes, financial investments, risk management.\n",
      "\n",
      "### 4. Cost-Benefit Analysis (CBA)\n",
      "**Strengths**:\n",
      "- Quantifies the value of decisions by comparing benefits with costs.\n",
      "- Aids in objectively evaluating decisions based on financial viability.\n",
      "- Encourages decision-makers to explore multiple alternatives and scenarios.\n",
      "\n",
      "**Limitations**:\n",
      "- Can be limited by its focus on quantifiable metrics while overlooking qualitative factors like employee satisfaction or brand impact.\n",
      "- Potentially biased toward short-term gains over long-term benefits.\n",
      "\n",
      "**Best Suited For**: Financial decisions, policy formulation, project management where costs and returns can be estimated.\n",
      "\n",
      "### Comparison\n",
      "- Each framework has unique advantages tailored to specific decision-making needs. Eisenhower’s Matrix excels in task-oriented, time-sensitive environments by promoting efficiency and stress reduction. In contrast, frameworks like SWOT and CBA provide more depth for strategic and financial planning, respectively.\n",
      "- Decision Trees and Eisenhower’s Matrix both help in breaking down complex decisions, but Decision Trees provide a deeper analysis of probabilistic outcomes, making them better for scenarios with higher uncertainty.\n",
      "\n",
      "### Conclusion\n",
      "Choosing the right decision framework depends largely on the context, the nature of the decision, and the specific needs of the decision-maker. Eisenhower’s Matrix is an excellent tool for day-to-day and immediate prioritization challenges but integrating insights from other frameworks could provide a more holistic approach to more complex decision-making scenarios. Being adaptable and employing an appropriate mix of these tools can significantly enhance decision quality and outcomes.\n",
      "\n",
      "\n"
     ]
    }
   ],
   "source": [
    "#pragma warning disable SKEXP0101\n",
    "var thread = await agent.NewThreadAsync();\n",
    "\n",
    "string[] messages = [\n",
    "    \"How should I priotize my typical lazy day?\",\n",
    "    \"How does your favorite decision framework compare to other decision frameworks?\"\n",
    "];\n",
    "\n",
    "foreach (var response in messages.Select(m => thread.InvokeAsync(agent, m)))\n",
    "{\n",
    "    await foreach (var message in response)\n",
    "    {\n",
    "        string speaker = message.Role == \"user\" ? \"You\" : \"Dwight Eisenhower\";\n",
    "        Console.WriteLine($\"# {speaker}: {message.Content}\");\n",
    "        Console.WriteLine();\n",
    "        Console.WriteLine();\n",
    "    }\n",
    "}\n",
    "\n",
    "// Delete the assistants and threads\n",
    "await thread.DeleteAsync();\n",
    "await agent.DeleteAsync();\n",
    "#pragma warning restore SKEXP0101"
   ]
  },
  {
   "cell_type": "markdown",
   "metadata": {},
   "source": [
    "### Step 3 - Creating a Multi-agent Persona\n",
    "\n",
    "Single agent personas are effective constructs in Semantic Kernel, but can largely be replicated in other ways. Creating multiple personas that can interact with each other is the true power of the Semantic Kernel Agent functionality. This allows multiple chat agents to interact in various ways.\n",
    "\n",
    "Execute the cell below to illustrate how two different personas can interact in a decision-making process moderated by a decision intelligence expert that makes the final reasoning conclusiion on the decision task at hand."
   ]
  },
  {
   "cell_type": "code",
   "execution_count": null,
   "metadata": {
    "vscode": {
     "languageId": "polyglot-notebook"
    }
   },
   "outputs": [
    {
     "name": "stdout",
     "output_type": "stream",
     "text": [
      "# user: 'Decide whether to purchase a new car or repair the existing one. The new car is more expensive but has better fuel efficiency and safety features. The existing car is reliable and has sentimental value. Repairing the existing car is cheaper but may require more frequent repairs in the future. The new car is more environmentally friendly and has a better resale value. The existing car has a lower insurance cost and maintenance cost. The new car has a longer warranty and better financing options. The existing car has a lower monthly payment and is already paid off. The new car has a higher safety rating and better crash test results. The existing car has a lower carbon footprint and is more familiar to drive. The new car has a higher resale value and better technology features. The existing car has a lower total cost of ownership and is more affordable to maintain. The new car has a higher reliability rating and better performance. The existing car has a lower depreciation rate and is more cost-effective to own. The new car has a higher customer satisfaction rating and better brand reputation. The existing car has a lower environmental impact and is more sustainable to operate. The new car has a higher fuel efficiency rating and better fuel economy. The existing car has a lower carbon footprint and is more fuel-efficient to operate. The new car has a higher safety rating and better crash test results. The existing car has a lower insurance cost and maintenance cost. The new car has a longer warranty and better financing options. The existing car has a lower monthly payment and is already paid off. The new car has a higher safety rating and better crash test results. The existing car has a lower carbon footprint and is more familiar to drive. The new car has a higher resale value and better technology features. The existing car has a lower total cost of ownership and is more affordable to maintain. The new car has a higher reliability rating and better performance. The existing car has a lower depreciation rate and is more cost-effective to own. The new car has a higher customer satisfaction rating and better brand reputation. The existing car has a lower environmental impact and is more sustainable to operate. The new car has a higher fuel efficiency rating and better fuel economy. The existing car has a lower carbon footprint and is more fuel-efficient to operate. The new car has a higher safety rating and better crash test results. The existing car has a lower insurance cost and maintenance cost. The new car has a longer warranty and better financing options. The existing car has a lower monthly payment and is already paid off.'\n"
     ]
    }
   ],
   "source": [
    "using System.Threading;\n",
    "\n",
    "#pragma warning disable SKEXP0110\n",
    "// Create a new chat TerminationStrategy that will terminate when the final message contains the term \"final decision\"\n",
    "private sealed class ApprovalTerminationStrategy : TerminationStrategy\n",
    "{\n",
    "    // Terminate when the final message contains the term \"approve\"\n",
    "    protected override Task<bool> ShouldAgentTerminateAsync(Agent agent, IReadOnlyList<ChatMessageContent> history, CancellationToken cancellationToken)\n",
    "        => Task.FromResult(history[history.Count - 1].Content?.Contains(\"final decision\", StringComparison.OrdinalIgnoreCase) ?? false);\n",
    "}\n",
    "\n",
    "var semanticKernel = Kernel.CreateBuilder()\n",
    "    .AddAzureOpenAIChatCompletion(\n",
    "        deploymentName: azureOpenAIModelDeploymentName,\n",
    "        endpoint: azureOpenAIEndpoint,\n",
    "        apiKey: azureOpenAIAPIKey)\n",
    "    .Build();\n",
    "\n",
    "\n",
    "var assistantDwightEisenhower = new Microsoft.SemanticKernel.Agents.ChatCompletionAgent\n",
    "{\n",
    "    Kernel = semanticKernel,\n",
    "    Name = \"Dwight\",\n",
    "    Description = \"A chat bot that replies to the message with recommending the Eisenhower Decision Priorotization Matrix.\",\n",
    "    Instructions = \"You are a decision intelligence strategist with the knowledge of Dwight Eisenhower's Decision Prioritization Matrix. Assist the user in exploring options, reasoning through decisions, problem-solving, and applying systems thinking to various scenarios. Provide structured, logical, and comprehensive advice.\"\n",
    "};\n",
    "\n",
    "var assistantBenFranklin = new Microsoft.SemanticKernel.Agents.ChatCompletionAgent\n",
    "{\n",
    "    Kernel = semanticKernel,\n",
    "    Name = \"Ben\",\n",
    "    Description = \"A chat bot that replies to the message with recommending the Ben Franklin Decision Framework.\",\n",
    "    Instructions = \"You are a decision intelligence strategist with the knowledge of Ben Franklin's Decision Framework. Assist the user in exploring options, reasoning through decisions, problem-solving, and applying systems thinking to various scenarios. Provide structured, logical, and comprehensive advice.\"\n",
    "};\n",
    "\n",
    "var assistantDecisionMaker = new Microsoft.SemanticKernel.Agents.ChatCompletionAgent\n",
    "{\n",
    "    Kernel = semanticKernel,\n",
    "    Name = \"DecisionMaker\",\n",
    "    Description = \"A chat bot that approves the final decision.\",\n",
    "    Instructions = \"\"\"\n",
    "    You are a decision intelligence maker. Make the final decision and describe the reasoning from the recommendations.\n",
    "    You're laser focused on the goal at hand.\n",
    "    Don't waste time with chit chat.\n",
    "    Consider suggestions when refining an idea. Use the words final decision to approve the final decision.\n",
    "    \"\"\"\n",
    "};\n",
    "\n",
    "var chat =\n",
    "    new AgentGroupChat(assistantDwightEisenhower, assistantBenFranklin, assistantDecisionMaker)\n",
    "    {\n",
    "        ExecutionSettings =\n",
    "            new()\n",
    "            {\n",
    "                // Here a TerminationStrategy subclass is used that will terminate when\n",
    "                // an assistant message contains the term \"approve\".\n",
    "                TerminationStrategy =\n",
    "                    new ApprovalTerminationStrategy()\n",
    "                    {\n",
    "                        // Only decision maker may approve.\n",
    "                        Agents = [assistantDecisionMaker],\n",
    "                        // Limit total number of turns\n",
    "                        MaximumIterations = 5,\n",
    "                    }\n",
    "            }\n",
    "    };\n",
    "\n",
    "#pragma warning disable SKEXP0001\n",
    "// Invoke chat and display messages.\n",
    "string input = \"Decide whether to purchase a new car or repair the existing one. The new car is more expensive but has better fuel efficiency and safety features. The existing car is reliable and has sentimental value. Repairing the existing car is cheaper but may require more frequent repairs in the future. The new car is more environmentally friendly and has a better resale value. The existing car has a lower insurance cost and maintenance cost. The new car has a longer warranty and better financing options. The existing car has a lower monthly payment and is already paid off. The new car has a higher safety rating and better crash test results. The existing car has a lower carbon footprint and is more familiar to drive. The new car has a higher resale value and better technology features. The existing car has a lower total cost of ownership and is more affordable to maintain. The new car has a higher reliability rating and better performance. The existing car has a lower depreciation rate and is more cost-effective to own. The new car has a higher customer satisfaction rating and better brand reputation. The existing car has a lower environmental impact and is more sustainable to operate. The new car has a higher fuel efficiency rating and better fuel economy. The existing car has a lower carbon footprint and is more fuel-efficient to operate. The new car has a higher safety rating and better crash test results. The existing car has a lower insurance cost and maintenance cost. The new car has a longer warranty and better financing options. The existing car has a lower monthly payment and is already paid off. The new car has a higher safety rating and better crash test results. The existing car has a lower carbon footprint and is more familiar to drive. The new car has a higher resale value and better technology features. The existing car has a lower total cost of ownership and is more affordable to maintain. The new car has a higher reliability rating and better performance. The existing car has a lower depreciation rate and is more cost-effective to own. The new car has a higher customer satisfaction rating and better brand reputation. The existing car has a lower environmental impact and is more sustainable to operate. The new car has a higher fuel efficiency rating and better fuel economy. The existing car has a lower carbon footprint and is more fuel-efficient to operate. The new car has a higher safety rating and better crash test results. The existing car has a lower insurance cost and maintenance cost. The new car has a longer warranty and better financing options. The existing car has a lower monthly payment and is already paid off.\";\n",
    "chat.AddChatMessage(new ChatMessageContent(AuthorRole.User, input));\n",
    "Console.WriteLine($\"# {AuthorRole.User}: '{input}'\");\n",
    "\n",
    "await foreach (var content in chat.InvokeAsync())\n",
    "{\n",
    "    Console.WriteLine($\"# {content.Role} - {content.AuthorName ?? \"*\"}: '{content.Content}'\");\n",
    "}\n",
    "\n",
    "Console.WriteLine($\"# IS COMPLETE: {chat.IsComplete}\");\n",
    "\n"
   ]
  }
 ],
 "metadata": {
  "kernelspec": {
   "display_name": ".NET (C#)",
   "language": "C#",
   "name": ".net-csharp"
  },
  "language_info": {
   "name": "python"
  },
  "polyglot_notebook": {
   "kernelInfo": {
    "defaultKernelName": "csharp",
    "items": [
     {
      "aliases": [],
      "name": "csharp"
     }
    ]
   }
  }
 },
 "nbformat": 4,
 "nbformat_minor": 2
}
