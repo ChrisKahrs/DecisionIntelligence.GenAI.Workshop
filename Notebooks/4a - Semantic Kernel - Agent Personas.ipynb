{
 "cells": [
  {
   "cell_type": "markdown",
   "metadata": {},
   "source": [
    "<img style=\"float: left;\" width =\"40px\" src=\"https://raw.githubusercontent.com/bartczernicki/DecisionIntelligence.GenAI.Workshop/main/Images/SemanticKernelLogo.png\">\n",
    "\n",
    "## Semantic Kernel - Agent Personas\n",
    "\n",
    "Empower multi-agent systems where specialists are defined to execute requests they were designed to fulfill.  "
   ]
  },
  {
   "cell_type": "markdown",
   "metadata": {},
   "source": [
    "### Step 1 - Initialize Configuration Builder & Build the Semantic Kernel Orchestration\n",
    "\n",
    "Execute the next two cells to:\n",
    "* Use the Configuration Builder to load the API secrets.  \n",
    "* Use the API configuration to build the Semantic Kernel orchestrator."
   ]
  },
  {
   "cell_type": "code",
   "execution_count": 1,
   "metadata": {
    "dotnet_interactive": {
     "language": "csharp"
    },
    "polyglot_notebook": {
     "kernelName": "csharp"
    },
    "vscode": {
     "languageId": "polyglot-notebook"
    }
   },
   "outputs": [
    {
     "data": {
      "text/html": [
       "<div><div></div><div></div><div><strong>Installed Packages</strong><ul><li><span>Microsoft.Extensions.Configuration, 8.0.0</span></li><li><span>Microsoft.Extensions.Configuration.Json, 8.0.0</span></li></ul></div></div>"
      ]
     },
     "metadata": {},
     "output_type": "display_data"
    }
   ],
   "source": [
    "// Import the required NuGet configuration packages\n",
    "#r \"nuget: Microsoft.Extensions.Configuration, 8.0.0\"\n",
    "#r \"nuget: Microsoft.Extensions.Configuration.Json, 8.0.0\"\n",
    "\n",
    "using Microsoft.Extensions.Configuration;\n",
    "using System.IO;\n",
    "\n",
    "// Load the configuration settings from the local.settings.json and secrets.settings.json files\n",
    "// The secrets.settings.json file is used to store sensitive information such as API keys\n",
    "var configurationBuilder = new ConfigurationBuilder()\n",
    "    .SetBasePath(Directory.GetCurrentDirectory())\n",
    "    .AddJsonFile(\"local.settings.json\", optional: true, reloadOnChange: true)\n",
    "    .AddJsonFile(\"secrets.settings.json\", optional: true, reloadOnChange: true);\n",
    "var config = configurationBuilder.Build();\n",
    "\n",
    "// Retrieve the configuration settings for the Azure OpenAI service\n",
    "var azureOpenAIEndpoint = config[\"AzureOpenAI:Endpoint\"];\n",
    "var azureOpenAIAPIKey = config[\"AzureOpenAI:APIKey\"];\n",
    "var azureOpenAIModelDeploymentName = config[\"AzureOpenAI:ModelDeploymentName\"];"
   ]
  },
  {
   "cell_type": "markdown",
   "metadata": {},
   "source": [
    "Personas leverage the Chat Completion service from the Semantic Kernel Agents package.  "
   ]
  },
  {
   "cell_type": "code",
   "execution_count": 7,
   "metadata": {
    "dotnet_interactive": {
     "language": "csharp"
    },
    "polyglot_notebook": {
     "kernelName": "csharp"
    },
    "vscode": {
     "languageId": "polyglot-notebook"
    }
   },
   "outputs": [
    {
     "data": {
      "text/html": [
       "<div><div></div><div></div><div><strong>Installed Packages</strong><ul><li><span>Microsoft.SemanticKernel, 1.11.1</span></li><li><span>Microsoft.SemanticKernel.Agents.Core, 1.11.1-alpha</span></li><li><span>Microsoft.SemanticKernel.Agents.OpenAI, 1.11.1-alpha</span></li><li><span>Microsoft.SemanticKernel.Experimental.Agents, 1.11.1-alpha</span></li></ul></div></div>"
      ]
     },
     "metadata": {},
     "output_type": "display_data"
    }
   ],
   "source": [
    "// Import the Semantic Kernel NuGet package\n",
    "#r \"nuget: Microsoft.SemanticKernel, 1.11.1\"\n",
    "#r \"nuget: Microsoft.SemanticKernel.Experimental.Agents, 1.11.1-alpha\"  \n",
    "#r \"nuget: Microsoft.SemanticKernel.Agents.OpenAI, 1.11.1-alpha\"\n",
    "#r \"nuget: Microsoft.SemanticKernel.Agents.Core, 1.11.1-alpha\"\n",
    "\n",
    "using Microsoft.SemanticKernel;\n",
    "using Microsoft.SemanticKernel.Connectors.OpenAI;\n",
    "using Microsoft.SemanticKernel.Agents;\n",
    "using Microsoft.SemanticKernel.Agents.Chat;\n",
    "using Microsoft.SemanticKernel.Agents.OpenAI;\n",
    "using Microsoft.SemanticKernel.ChatCompletion;\n",
    "using Microsoft.SemanticKernel.Experimental.Agents;\n",
    "\n",
    "var name = \"Dwight Eisenhower\";\n",
    "var instructions = \"\"\"\n",
    "You are a decision intelligence strategist with the knowledge of Dwight Eisenhower's Decision Prioritization Matrix. \n",
    "Assist the user in exploring options, reasoning through decisions, problem-solving, and applying systems thinking to various scenarios. \n",
    "Provide structured, logical, and comprehensive advice.\n",
    "\"\"\";\n",
    "var description = \"A chat bot that replies to the message with recommending the Eisenhower Decision Priorotization Matrix.\";\n",
    "\n",
    "#pragma warning disable SKEXP0101\n",
    "var agent = await new AgentBuilder()\n",
    "    .WithAzureOpenAIChatCompletion(\n",
    "        model: azureOpenAIModelDeploymentName,\n",
    "        endpoint: azureOpenAIEndpoint,\n",
    "        apiKey: azureOpenAIAPIKey)\n",
    "    .WithInstructions(instructions)\n",
    "    .WithName(name)\n",
    "    .WithDescription(description)\n",
    "    .BuildAsync();\n",
    "#pragma warning restore SKEXP0101"
   ]
  },
  {
   "cell_type": "code",
   "execution_count": 10,
   "metadata": {
    "dotnet_interactive": {
     "language": "csharp"
    },
    "polyglot_notebook": {
     "kernelName": "csharp"
    },
    "vscode": {
     "languageId": "polyglot-notebook"
    }
   },
   "outputs": [
    {
     "name": "stdout",
     "output_type": "stream",
     "text": [
      "# You: How do you make decisions?\n",
      "\n",
      "\n"
     ]
    },
    {
     "ename": "Error",
     "evalue": "Command cancelled.",
     "output_type": "error",
     "traceback": [
      "Command cancelled."
     ]
    }
   ],
   "source": [
    "#pragma warning disable SKEXP0101\n",
    "var thread = await agent.NewThreadAsync();\n",
    "\n",
    "string[] messages = [\n",
    "    \"How do you make decisions?\",\n",
    "    \"How should I priotize a lazy day?\",\n",
    "    \"How does your favorite decision framework compare to other decision frameworks?\"\n",
    "];\n",
    "\n",
    "foreach (var response in messages.Select(m => thread.InvokeAsync(agent, m)))\n",
    "{\n",
    "    await foreach (var message in response)\n",
    "    {\n",
    "        string speaker = message.Role == \"user\" ? \"You\" : \"Dwight Eisenhower\";\n",
    "        Console.WriteLine($\"# {speaker}: {message.Content}\");\n",
    "        Console.WriteLine();\n",
    "        Console.WriteLine();\n",
    "    }\n",
    "}\n",
    "\n",
    "// Delete the assistants and threads\n",
    "await thread.DeleteAsync();\n",
    "await agent.DeleteAsync();\n",
    "#pragma warning restore SKEXP0101"
   ]
  },
  {
   "cell_type": "code",
   "execution_count": 29,
   "metadata": {
    "vscode": {
     "languageId": "polyglot-notebook"
    }
   },
   "outputs": [
    {
     "name": "stdout",
     "output_type": "stream",
     "text": [
      "# user: 'Decide whether to purchase a new car or repair the existing one. The new car is more expensive but has better fuel efficiency and safety features. The existing car is reliable and has sentimental value. Repairing the existing car is cheaper but may require more frequent repairs in the future. The new car is more environmentally friendly and has a better resale value. The existing car has a lower insurance cost and maintenance cost. The new car has a longer warranty and better financing options. The existing car has a lower monthly payment and is already paid off. The new car has a higher safety rating and better crash test results. The existing car has a lower carbon footprint and is more familiar to drive. The new car has a higher resale value and better technology features. The existing car has a lower total cost of ownership and is more affordable to maintain. The new car has a higher reliability rating and better performance. The existing car has a lower depreciation rate and is more cost-effective to own. The new car has a higher customer satisfaction rating and better brand reputation. The existing car has a lower environmental impact and is more sustainable to operate. The new car has a higher fuel efficiency rating and better fuel economy. The existing car has a lower carbon footprint and is more fuel-efficient to operate. The new car has a higher safety rating and better crash test results. The existing car has a lower insurance cost and maintenance cost. The new car has a longer warranty and better financing options. The existing car has a lower monthly payment and is already paid off. The new car has a higher safety rating and better crash test results. The existing car has a lower carbon footprint and is more familiar to drive. The new car has a higher resale value and better technology features. The existing car has a lower total cost of ownership and is more affordable to maintain. The new car has a higher reliability rating and better performance. The existing car has a lower depreciation rate and is more cost-effective to own. The new car has a higher customer satisfaction rating and better brand reputation. The existing car has a lower environmental impact and is more sustainable to operate. The new car has a higher fuel efficiency rating and better fuel economy. The existing car has a lower carbon footprint and is more fuel-efficient to operate. The new car has a higher safety rating and better crash test results. The existing car has a lower insurance cost and maintenance cost. The new car has a longer warranty and better financing options. The existing car has a lower monthly payment and is already paid off.'\n",
      "# assistant - Dwight: 'To help you decide whether to purchase a new car or repair your existing one, we can apply a decision-making framework inspired by Dwight Eisenhower's Decision Prioritization Matrix. This matrix helps prioritize tasks based on their importance and urgency, and we can adapt this method to assess your decision by considering various factors under \"importance\" and weighing their immediate and long-term benefits (urgency).\n",
      "\n",
      "### Step 1: Define Key Factors\n",
      "Let's categorize the key factors you mentioned into benefits of the new car and benefits of keeping or repairing the existing car.\n",
      "\n",
      "**New Car Benefits:**\n",
      "- Better fuel efficiency and safety features\n",
      "- More environmentally friendly\n",
      "- Better resale value\n",
      "- Longer warranty\n",
      "- Better financing options\n",
      "- Higher safety rating and crash test results\n",
      "- Better technology features\n",
      "- Higher reliability rating and better performance\n",
      "- Higher customer satisfaction rating and better brand reputation\n",
      "- Better fuel economy\n",
      "\n",
      "**Existing Car Benefits:**\n",
      "- Cheaper initial cost for repairs vs. new purchase\n",
      "- Sentimental value\n",
      "- Lower insurance and maintenance costs\n",
      "- Already paid off; no ongoing car payments\n",
      "- Lower carbon footprint\n",
      "- Familiarity with the car's handling and functions\n",
      "- Lower total cost of ownership\n",
      "- Lower depreciation rate\n",
      "- More cost-effective to own\n",
      "- More sustainable to operate\n",
      "\n",
      "### Step 2: Assess Urgency and Importance\n",
      "Next, evaluate how urgent and important these factors are in your situation. Consider your current financial condition, environmental concerns, personal values, and lifestyle needs.\n",
      "\n",
      "**Financial Considerations:**\n",
      "- Can you afford the upfront cost of the new car without undue financial strain?\n",
      "- Compare the long-term savings from fuel efficiency and lower repair needs of the new car with the cost of frequent repairs and higher fuel costs of the existing car.\n",
      "\n",
      "**Safety and Technology:**\n",
      "- Safety is often viewed as both urgent and important. If the existing car poses safety concerns, this will lean the decision toward the new car.\n",
      "- Evaluate how much value you place on newer technology and enhanced safety features.\n",
      "\n",
      "**Environmental Impact:**\n",
      "- Consider your personal stance on environmental responsibility. Weigh the lower carbon footprint of keeping the old car against potentially higher emissions from less efficient technology versus the newer car’s cleaner technologies.\n",
      "\n",
      "**Emotional and Practical Considerations:**\n",
      "- Sentimental value and familiarity with the existing car are significant but may not outweigh practical aspects such as safety, reliability, and ongoing costs.\n",
      "- Consider the stress and inconvenience associated with frequent repairs.\n",
      "\n",
      "### Step 3: Make a Decision\n",
      "Based on the Eisenhower Matrix approach:\n",
      "\n",
      "- **Urgent and Important:** Safety concerns, reliability issues with the existing car, burgeoning repair costs, and financial ability to purchase the new car.\n",
      "- **Important but not Urgent:** Environmental considerations, fuel efficiency over time, better technology, and enhanced performance.\n",
      "- **Less Important:** Sentimental value, familiarity with the existing car.\n",
      "- **Neither Urgent nor Important:** Factors that do not affect safety, financial strain, or major lifestyle changes.\n",
      "\n",
      "Considering the analysis above, if safety, reliability, and overall cost savings (in fuel and maintenance) provided by the new car are crucial for you, the decision would lean toward purchasing the new car. If, however, the current financial strain and sentimental value of the existing car outweigh potential savings and safety benefits, repairing the existing car might be the appropriate choice. Assess these factors based on your personal circumstances and priorities to come to the most suitable decision.'\n",
      "# assistant - Ben: 'To aid you in deciding whether to purchase a new car or repair your existing one, we can use Ben Franklin's Decision Framework, which involves listing pros and cons for each option and assessing them to make a rational decision. Let's break down your options by listing the advantages and disadvantages of both purchasing a new car and repairing the existing one.\n",
      "\n",
      "### Option 1: Purchase a New Car\n",
      "**Pros:**\n",
      "1. **Better Fuel Efficiency:** Saves money on fuel in the long run and is environmentally friendly.\n",
      "2. **Advanced Safety Features:** Provides enhanced protection and peace of mind.\n",
      "3. **Better Resale Value:** Likely to recoup a higher amount when sold.\n",
      "4. **Longer Warranty and Better Financing Options:** Offers lower risk and potential cost savings on financing.\n",
      "5. **High Reliability and Performance:** Potentially fewer maintenance issues.\n",
      "6. **Latest Technology Features:** Offers conveniences and improved driving experience.\n",
      "7. **High Customer Satisfaction and Brand Reputation:** Confidence in quality and service.\n",
      "8. **Environmentally Friendly:** Contributes to reducing your carbon footprint.\n",
      "\n",
      "**Cons:**\n",
      "1. **Higher Initial Cost:** Significantly more expensive upfront compared to repair costs.\n",
      "2. **Higher Insurance Costs:** Typically, newer cars cost more to insure.\n",
      "3. **Depreciation:** New cars lose value rapidly in the first few years.\n",
      "\n",
      "### Option 2: Repair Existing Car\n",
      "**Pros:**\n",
      "1. **Lower Initial Expense:** Repair costs are generally lower than buying new.\n",
      "2. **Sentimental Value:** Keeping a car that may have personal significance.\n",
      "3. **Lower Insurance Costs:** Older cars often have lower insurance premiums.\n",
      "4. **No Car Payments:** If already paid off, no further monthly payments are required.\n",
      "5. **Familiarity:** Knowing your car’s history and how it handles.\n",
      "6. **Lower Depreciation Rate:** The bulk of depreciation has already occurred.\n",
      "7. **Sustainability:** Extending the lifespan of the existing car is environmentally beneficial in terms of waste and manufacturing emissions.\n",
      "\n",
      "**Cons:**\n",
      "1. **Frequent Repairs:** Older cars may require more maintenance and unexpected repairs.\n",
      "2. **Lower Safety Features:** May lack the latest safety technology.\n",
      "3. **Lower Fuel Efficiency:** Older models are typically less fuel-efficient, leading to higher running costs.\n",
      "4. **Lower Resale Value:** If you decide to sell later, it may not yield much return.\n",
      "\n",
      "### Analysis:\n",
      "- **Financial Considerations:** The new car involves a higher initial cost, potentially higher insurance, but savings on fuel and potential repairs. The old car has less upfront cost but may incur higher ongoing repair and fuel costs.\n",
      "- **Safety and Comfort:** The new car offers advanced safety and the latest features, which could be crucial depending on your needs, while the old car offers familiarity and ease of use.\n",
      "- **Environmental Impact:** Both options present environmental considerations; the new car through better fuel efficiency and the old car by avoiding the environmental cost of manufacturing a new vehicle.\n",
      "\n",
      "### Conclusion:\n",
      "To make a decision, weigh the importance you place on aspects like safety, ongoing costs, environmental impact, and emotional value. If safety and reducing future costs are priorities, the new car might be the better option. If minimizing upfront costs and retaining the existing car holds more emotional or practical value, repairing might be preferable. Consider your financial situation, needs for safety and technology, and evaluate which option aligns best with your priorities and long-term interests.'\n",
      "# assistant - DecisionMaker: 'Final decision: Purchase a new car.\n",
      "\n",
      "### Reasoning:\n",
      "- **Safety and Reliability**: The new car's higher safety ratings and reliability are critically important. Given the risk associated with less safe and potentially less reliable older cars, the priority must be on ensuring safety and minimizing the risk of breakdowns.\n",
      "- **Long-Term Cost Efficiency**: Despite the higher initial cost, the new car provides better fuel efficiency, longer warranty, and potentially lower maintenance costs over time, contributing to cost savings in the long run.\n",
      "- **Environmental Considerations**: The new car's better fuel economy and lower emissions align with environmental responsibility, an urgent need in today's context of climate change.\n",
      "- **Resale Value and Technological Advancements**: Enhanced resale value and the inclusion of modern technological features not only improve the driving experience but also ensure the vehicle remains competitive and valuable in the market.\n",
      "\n",
      "Considering these factors, the benefits of purchasing a new car outweigh those of repairing the existing car, particularly in critical areas such as safety, reliability, and overall financial prudence over time.'\n",
      "# IS COMPLETE: True\n"
     ]
    }
   ],
   "source": [
    "using System.Threading;\n",
    "\n",
    "#pragma warning disable SKEXP0110\n",
    "private sealed class ApprovalTerminationStrategy : TerminationStrategy\n",
    "{\n",
    "    // Terminate when the final message contains the term \"approve\"\n",
    "    protected override Task<bool> ShouldAgentTerminateAsync(Agent agent, IReadOnlyList<ChatMessageContent> history, CancellationToken cancellationToken)\n",
    "        => Task.FromResult(history[history.Count - 1].Content?.Contains(\"final decision\", StringComparison.OrdinalIgnoreCase) ?? false);\n",
    "}\n",
    "\n",
    "var semanticKernel = Kernel.CreateBuilder()\n",
    "    .AddAzureOpenAIChatCompletion(\n",
    "        deploymentName: azureOpenAIModelDeploymentName,\n",
    "        endpoint: azureOpenAIEndpoint,\n",
    "        apiKey: azureOpenAIAPIKey)\n",
    "    .Build();\n",
    "\n",
    "\n",
    "var assistantDwightEisenhower = new Microsoft.SemanticKernel.Agents.ChatCompletionAgent\n",
    "{\n",
    "    Kernel = semanticKernel,\n",
    "    Name = \"Dwight\",\n",
    "    Description = \"A chat bot that replies to the message with recommending the Eisenhower Decision Priorotization Matrix.\",\n",
    "    Instructions = \"You are a decision intelligence strategist with the knowledge of Dwight Eisenhower's Decision Prioritization Matrix. Assist the user in exploring options, reasoning through decisions, problem-solving, and applying systems thinking to various scenarios. Provide structured, logical, and comprehensive advice.\"\n",
    "};\n",
    "\n",
    "var assistantBenFranklin = new Microsoft.SemanticKernel.Agents.ChatCompletionAgent\n",
    "{\n",
    "    Kernel = semanticKernel,\n",
    "    Name = \"Ben\",\n",
    "    Description = \"A chat bot that replies to the message with recommending the Ben Franklin Decision Framework.\",\n",
    "    Instructions = \"You are a decision intelligence strategist with the knowledge of Ben Franklin's Decision Framework. Assist the user in exploring options, reasoning through decisions, problem-solving, and applying systems thinking to various scenarios. Provide structured, logical, and comprehensive advice.\"\n",
    "};\n",
    "\n",
    "var assistantDecisionMaker = new Microsoft.SemanticKernel.Agents.ChatCompletionAgent\n",
    "{\n",
    "    Kernel = semanticKernel,\n",
    "    Name = \"DecisionMaker\",\n",
    "    Description = \"A chat bot that approves the final decision.\",\n",
    "    Instructions = \"\"\"\n",
    "    You are a decision intelligence maker. Make the final decision and describe the reasoning from the recommendations.\n",
    "    You're laser focused on the goal at hand.\n",
    "    Don't waste time with chit chat.\n",
    "    Consider suggestions when refining an idea. Use the words final decision to approve the final decision.\n",
    "    \"\"\"\n",
    "};\n",
    "\n",
    "var chat =\n",
    "    new AgentGroupChat(assistantDwightEisenhower, assistantBenFranklin, assistantDecisionMaker)\n",
    "    {\n",
    "        ExecutionSettings =\n",
    "            new()\n",
    "            {\n",
    "                // Here a TerminationStrategy subclass is used that will terminate when\n",
    "                // an assistant message contains the term \"approve\".\n",
    "                TerminationStrategy =\n",
    "                    new ApprovalTerminationStrategy()\n",
    "                    {\n",
    "                        // Only decision maker may approve.\n",
    "                        Agents = [assistantDecisionMaker],\n",
    "                        // Limit total number of turns\n",
    "                        MaximumIterations = 5,\n",
    "                    }\n",
    "            }\n",
    "    };\n",
    "\n",
    "#pragma warning disable SKEXP0001\n",
    "// Invoke chat and display messages.\n",
    "string input = \"Decide whether to purchase a new car or repair the existing one. The new car is more expensive but has better fuel efficiency and safety features. The existing car is reliable and has sentimental value. Repairing the existing car is cheaper but may require more frequent repairs in the future. The new car is more environmentally friendly and has a better resale value. The existing car has a lower insurance cost and maintenance cost. The new car has a longer warranty and better financing options. The existing car has a lower monthly payment and is already paid off. The new car has a higher safety rating and better crash test results. The existing car has a lower carbon footprint and is more familiar to drive. The new car has a higher resale value and better technology features. The existing car has a lower total cost of ownership and is more affordable to maintain. The new car has a higher reliability rating and better performance. The existing car has a lower depreciation rate and is more cost-effective to own. The new car has a higher customer satisfaction rating and better brand reputation. The existing car has a lower environmental impact and is more sustainable to operate. The new car has a higher fuel efficiency rating and better fuel economy. The existing car has a lower carbon footprint and is more fuel-efficient to operate. The new car has a higher safety rating and better crash test results. The existing car has a lower insurance cost and maintenance cost. The new car has a longer warranty and better financing options. The existing car has a lower monthly payment and is already paid off. The new car has a higher safety rating and better crash test results. The existing car has a lower carbon footprint and is more familiar to drive. The new car has a higher resale value and better technology features. The existing car has a lower total cost of ownership and is more affordable to maintain. The new car has a higher reliability rating and better performance. The existing car has a lower depreciation rate and is more cost-effective to own. The new car has a higher customer satisfaction rating and better brand reputation. The existing car has a lower environmental impact and is more sustainable to operate. The new car has a higher fuel efficiency rating and better fuel economy. The existing car has a lower carbon footprint and is more fuel-efficient to operate. The new car has a higher safety rating and better crash test results. The existing car has a lower insurance cost and maintenance cost. The new car has a longer warranty and better financing options. The existing car has a lower monthly payment and is already paid off.\";\n",
    "chat.AddChatMessage(new ChatMessageContent(AuthorRole.User, input));\n",
    "Console.WriteLine($\"# {AuthorRole.User}: '{input}'\");\n",
    "\n",
    "await foreach (var content in chat.InvokeAsync())\n",
    "{\n",
    "    Console.WriteLine($\"# {content.Role} - {content.AuthorName ?? \"*\"}: '{content.Content}'\");\n",
    "}\n",
    "\n",
    "Console.WriteLine($\"# IS COMPLETE: {chat.IsComplete}\");\n",
    "\n"
   ]
  }
 ],
 "metadata": {
  "kernelspec": {
   "display_name": ".NET (C#)",
   "language": "C#",
   "name": ".net-csharp"
  },
  "language_info": {
   "name": "python"
  },
  "polyglot_notebook": {
   "kernelInfo": {
    "defaultKernelName": "csharp",
    "items": [
     {
      "aliases": [],
      "name": "csharp"
     }
    ]
   }
  }
 },
 "nbformat": 4,
 "nbformat_minor": 2
}
