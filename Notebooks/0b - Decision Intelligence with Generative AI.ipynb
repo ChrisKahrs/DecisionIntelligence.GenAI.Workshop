{
 "cells": [
  {
   "cell_type": "markdown",
   "metadata": {},
   "source": [
    "<img style=\"float: left;\" width =\"40px\" src=\"https://raw.githubusercontent.com/bartczernicki/DecisionIntelligence.GenAI.Workshop/main/Images/SemanticKernelLogo.png\">\n",
    "\n",
    "## Decision Intelligence with Generative AI"
   ]
  },
  {
   "cell_type": "markdown",
   "metadata": {},
   "source": [
    "> \"Whenever you see a successful business, someone once made a courageous decision.\"\n",
    ">\n",
    "> -- <cite>Peter Drucker (father of modern management)</cite>  \n",
    "\n",
    "Decision-making ability is regarded by executives as one of the most highly desired business skills! Most people (even business professionals) make decisions using simple intuition. However, when the problem is sufficiently important, the chance of making a mistake is high or the decision outcome stakes are high; it is important to apply Decision Intelligence principles to solve those problems.\n",
    "\n",
    "To most people, making quality systematic decisions can be a daunting task. There is good news though!! It has been shown that in the same way with the training of top-tier athletes, decision-makers can employ techniques, plans, and instruments to improve and achieve more. This can include:  \n",
    "* Framing the Decision in different perspectives  \n",
    "* Gathering the Information and Intelligence for the Decision  \n",
    "* Making the Decision using a systematic framework  \n",
    "* Communicating the Decision & Monitoring the Decision Outcome  \n",
    "\n",
    "Decision Intelligence sounds interesting, but what does this have todo with Generative AI? Large Language Models (LLMs) equipped with Generative AI (GenAI) capabilities possess potential for enhancing decision-making processes through advanced reasoning abilities. These LLMs have been trained on complex data sets with logic, patterns, outputting source (programming) code, problem solving in mind. This allows them to simulate human-like reasoning, offering insights and recommendations based on comprehensive data analysis. So what does this all mean? This means that all the past decision-making, problem-solving, mental models, decision huersistics can be appllied to LLMs with GenAI and help humans make decisions!\n",
    "\n",
    "As you can imagine there has been much study, thought and literature written on decision-making. There are examples and resources provided below to immerse yourself into the paradigm. Therefore, this workshop isn't meant to be a full introduction Decision Intelligence or Decision-Making, but will be used as the context for the GenAI exercises seen throughout. It is meant to show how you \"really\" can make decisions with AI & GenAI and not just apply simple prompt techniques.  \n",
    "\n",
    "So do you need to read a ton of information before getting started with the workshop? Not necessarily. The workshop will introduce specific Decision Intelligence topics and showcase how they can be applied with GenAI. In order to make progress, the workshop has to start somewhere. To start most people getting familiar with decision intelligence focus on the \"Making the Decision\" step. This is not ideal, but a great place to start is with simple decision mental models or decision hueristics, which can be effectively applied to many business decisions. This is where most of the workshop content will be applied.  "
   ]
  },
  {
   "cell_type": "markdown",
   "metadata": {},
   "source": [
    "### Decision Intelligence - Using Intuition for Decision-Making\n",
    "\n",
    "> \"All of my best decisions in business and in life have been made with heart, intuition, guts... not analysis. \n",
    "> When you can make a decision with analysis, you should do so. But it turns out, in life, your most important\n",
    "> decisions are always made with instinct, intuition, taste, heart.\"\n",
    ">\n",
    "> -- <cite>Jeff Bezos (founder of Amazon, Space Entrepreneur)</cite>  "
   ]
  },
  {
   "cell_type": "markdown",
   "metadata": {},
   "source": [
    "The above quote from Jeff Bezos above underscores the balance between data-driven decision-making and the role of intuition and instinct in navigating complex or uncertain situations. A majority of this Decision Intelligence workshop focuses on systematic, process-driven Decision Intelligence. However, intuition is usually how many people start making decisions. \n",
    "\n",
    "**What is intuition? Intuition is best described as the ability to understand something immediately, without the need for conscious reasoning.** It's based on patterns and experiences that the brain has internalized over time. Intuitive judgments can be rapid and efficient, drawing on a wealth of experience & knowledge. Therefore, intuition can be a highly effective decision-making tool by people who are highly experienced. For example, a basketaball coach for 20 years has probably experienced similar patterns in basketball scenarios allowing the coach to make immediate decisions for his team.  However, in highly fluid environments decision-making that relies on intuition is rather unreliable.  \n",
    "\n",
    "In the context of this workshop, intuition is basically allowing the Generative AI model make a decision from it's own knowledge & patterns it has learned from the mountains of trained data. You may trust an AI system to recommend a path for your next roadtrip, filter spam in your e-mail...but not for making high-stakes decisions without specific instructions, knowledge or guardrails. This is why the practice of decision-making using simple intuition with GenAI will largely be skipped for this workshop.\n",
    "\n",
    "\n",
    "\n"
   ]
  },
  {
   "cell_type": "markdown",
   "metadata": {},
   "source": [
    "### Decision Intelligence - Simple Decision Hueristic Example - Price's Law\n",
    "\n",
    "<img width =\"750px\" src=\"https://raw.githubusercontent.com/bartczernicki/Articles/main/20230129-MeasuringSalesPerformanceUsingSimpleStatisticalModels/Image-CoverofSalesTeam.png\">\n",
    "<br/>  \n",
    "<br/>  \n",
    "<br/>  \n",
    "<img width =\"750px\" src=\"https://raw.githubusercontent.com/bartczernicki/Articles/main/20230129-MeasuringSalesPerformanceUsingSimpleStatisticalModels/Image-SalesPricesLaw.png\">\n",
    "\n",
    "\n",
    "Full article: https://medium.com/@bartczernicki/measuring-sales-performance-using-simple-statistical-models-6b995f088f99 "
   ]
  },
  {
   "cell_type": "markdown",
   "metadata": {},
   "source": [
    "### Using Simple Statitics to Measure Probability  \n",
    "<img width =\"750px\" src=\"https://raw.githubusercontent.com/bartczernicki/Articles/main/DevTo-20221222-my-moms-predictive-dream-about-my-family-before-she-passed/CalculatingProbability-Header.webp\">\n",
    "<br/>  \n",
    "<br/>  \n",
    "<br/>  \n",
    "<img width =\"750px\" src=\"https://raw.githubusercontent.com/bartczernicki/Articles/main/DevTo-20221222-my-moms-predictive-dream-about-my-family-before-she-passed/CalculateProbability-DaughtersAndCensusInfo.png\">\n",
    "\n",
    "\n",
    "Full article: https://github.com/bartczernicki/Articles/tree/main/DevTo-20221222-my-moms-predictive-dream-about-my-family-before-she-passed  "
   ]
  },
  {
   "cell_type": "markdown",
   "metadata": {},
   "source": [
    "### Eisenhower Decision Priorotization Matrix   \n",
    "<img width =\"750px\" src=\"https://raw.githubusercontent.com/bartczernicki/DecisionIntelligence.GenAI.Workshop/main/Images/EisenhowerDecisonMatrix.png\">\n",
    "<br/>  \n",
    "<br/>  \n",
    "Named after U.S. President Dwight D. Eisenhower, this prioritization framework will help you organize your tasks and activities by importance and urgency. It's especially useful when you're very busy but don't feel like what you do has much impact.\n",
    "\n",
    "The Eisenhower Decision Matrix prioritizes tasks into four quadrants:\n",
    "1. Important & Urgent: Do immediately (e.g., crises, deadlines).\n",
    "2. Important & Not Urgent: Schedule time for these (e.g., planning, development).\n",
    "3. Not Important & Urgent: Delegate (e.g., interruptions, some meetings).\n",
    "4. Not Important & Not Urgent: Eliminate (e.g., distractions, trivial activities).\n",
    "\n",
    "\n",
    "Task List:\n",
    "* Complete project report (due tomorrow)\n",
    "* Plan next quarter's strategy\n",
    "* Respond to urgent emails\n",
    "* Organize desk\n",
    "* Attend a non-essential meeting\n",
    "* Exercise\n",
    "Categorization:\n",
    "* Important & Urgent: Complete project report (due tomorrow)\n",
    "* Important & Not Urgent: Plan next quarter's strategy, Exercise\n",
    "* Not Important & Urgent: Respond to urgent emails, Attend a non-essential meeting\n",
    "* Not Important & Not Urgent: Organize desk\n",
    "Actions:\n",
    "* Do Now: Complete project report.\n",
    "* Schedule: Plan next quarter's strategy, Exercise.\n",
    "* Delegate: Respond to urgent emails, Attend a non-essential meeting.\n",
    "* Eliminate: Organize desk."
   ]
  },
  {
   "cell_type": "markdown",
   "metadata": {},
   "source": [
    "## Decision Systems - Decision Support Systems & Decision Management Systems\n",
    "\n",
    "<img width=\"850px\" src=\"https://raw.githubusercontent.com/bartczernicki/DecisionIntelligence.GenAI.Workshop/main/Images/DecisionSystemTypes.png\">\n",
    "<br/>  \n",
    "<br/>  \n",
    "\n"
   ]
  },
  {
   "cell_type": "markdown",
   "metadata": {},
   "source": [
    "## Decision Intelligence Resources\n",
    "\n",
    "Decision & Reasoning Tools: https://untools.co "
   ]
  }
 ],
 "metadata": {
  "kernelspec": {
   "display_name": ".NET (C#)",
   "language": "C#",
   "name": ".net-csharp"
  },
  "language_info": {
   "name": "csharp"
  },
  "polyglot_notebook": {
   "kernelInfo": {
    "defaultKernelName": "csharp",
    "items": [
     {
      "aliases": [],
      "name": "csharp"
     }
    ]
   }
  }
 },
 "nbformat": 4,
 "nbformat_minor": 2
}
