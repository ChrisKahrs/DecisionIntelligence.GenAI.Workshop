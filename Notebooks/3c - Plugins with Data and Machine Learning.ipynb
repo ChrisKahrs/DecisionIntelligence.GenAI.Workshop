{
 "cells": [
  {
   "cell_type": "code",
   "execution_count": 2,
   "metadata": {
    "dotnet_interactive": {
     "language": "csharp"
    },
    "polyglot_notebook": {
     "kernelName": "csharp"
    },
    "vscode": {
     "languageId": "polyglot-notebook"
    }
   },
   "outputs": [
    {
     "data": {
      "text/html": [
       "<div><div></div><div></div><div><strong>Installed Packages</strong><ul><li><span>Microsoft.Bing.Search.WebSearch, 1.0.0</span></li><li><span>Microsoft.Extensions.Configuration, 8.0.0</span></li><li><span>Microsoft.Extensions.Configuration.Json, 8.0.0</span></li><li><span>Microsoft.Extensions.ML, 3.0.1</span></li><li><span>Microsoft.ML, 3.0.1</span></li><li><span>Microsoft.ML.FastTree, 3.0.1</span></li><li><span>Microsoft.SemanticKernel, 1.11.1</span></li><li><span>Microsoft.SemanticKernel.Plugins.Core, 1.11.1-alpha</span></li><li><span>Microsoft.SemanticKernel.Plugins.Web, 1.11.1-alpha</span></li></ul></div></div>"
      ]
     },
     "metadata": {},
     "output_type": "display_data"
    }
   ],
   "source": [
    "#r \"nuget: Microsoft.Extensions.Configuration, 8.0.0\"\n",
    "#r \"nuget: Microsoft.Extensions.Configuration.Json, 8.0.0\"\n",
    "#r \"nuget: Microsoft.SemanticKernel, 1.11.1\"\n",
    "#r \"nuget: Microsoft.SemanticKernel.Plugins.Core, 1.11.1-alpha\"\n",
    "#r \"nuget: Microsoft.SemanticKernel.Plugins.Web, 1.11.1-alpha\"\n",
    "#r \"nuget: Microsoft.Bing.Search.WebSearch, 1.0.0\"\n",
    "#r \"nuget: Microsoft.ML, 3.0.1\"\n",
    "#r \"nuget: Microsoft.ML.FastTree, 3.0.1\"\n",
    "#r \"nuget: Microsoft.Extensions.ML, 3.0.1\""
   ]
  },
  {
   "cell_type": "code",
   "execution_count": 15,
   "metadata": {
    "vscode": {
     "languageId": "polyglot-notebook"
    }
   },
   "outputs": [],
   "source": [
    "using Microsoft.ML;\n",
    "using Microsoft.ML.Data;\n",
    "using System.IO;\n",
    "using System.Linq;\n",
    "\n",
    "public class MLBBaseballBatter\n",
    "{\n",
    "    [LoadColumn(0), ColumnName(\"InductedToHallOfFame\")]\n",
    "    public bool InductedToHallOfFame { get; set; }\n",
    "\n",
    "    [LoadColumn(1), ColumnName(\"OnHallOfFameBallot\")]\n",
    "    public bool OnHallOfFameBallot { get; set; }\n",
    "\n",
    "    [LoadColumn(2), ColumnName(\"FullPlayerName\")]\n",
    "    public string FullPlayerName { get; set; }\n",
    "\n",
    "    [LoadColumn(3), ColumnName(\"YearsPlayed\")]\n",
    "    public float YearsPlayed { get; set; }\n",
    "\n",
    "    [LoadColumn(4), ColumnName(\"AB\")]\n",
    "    public float AB { get; set; }\n",
    "\n",
    "    [LoadColumn(5), ColumnName(\"R\")]\n",
    "    public float R { get; set; }\n",
    "\n",
    "    [LoadColumn(6), ColumnName(\"H\")]\n",
    "    public float H { get; set; }\n",
    "\n",
    "    [LoadColumn(7), ColumnName(\"Doubles\")]\n",
    "    public float Doubles { get; set; }\n",
    "\n",
    "    [LoadColumn(8), ColumnName(\"Triples\")]\n",
    "    public float Triples { get; set; }\n",
    "\n",
    "    [LoadColumn(9), ColumnName(\"HR\")]\n",
    "    public float HR { get; set; }\n",
    "\n",
    "    [LoadColumn(10), ColumnName(\"RBI\")]\n",
    "    public float RBI { get; set; }\n",
    "\n",
    "    [LoadColumn(11), ColumnName(\"SB\")]\n",
    "    public float SB { get; set; }\n",
    "\n",
    "    [LoadColumn(12), ColumnName(\"BattingAverage\")]\n",
    "    public float BattingAverage { get; set; }\n",
    "\n",
    "    [LoadColumn(13), ColumnName(\"SluggingPct\")]\n",
    "    public float SluggingPct { get; set; }\n",
    "\n",
    "    [LoadColumn(14), ColumnName(\"AllStarAppearances\")]\n",
    "    public float AllStarAppearances { get; set; }\n",
    "\n",
    "    [LoadColumn(15), ColumnName(\"TB\")]\n",
    "    public float TB { get; set; }\n",
    "\n",
    "    [LoadColumn(16), ColumnName(\"TotalPlayerAwards\")]\n",
    "    public float TotalPlayerAwards { get; set; }\n",
    "\n",
    "    [LoadColumn(17), ColumnName(\"LastYearPlayed\")]\n",
    "    public float LastYearPlayed { get; set; }\n",
    "\n",
    "    [LoadColumn(18), ColumnName(\"ID\")]\n",
    "    public string ID { get; set; }\n",
    "\n",
    "    public override string ToString()\n",
    "    {\n",
    "        var mlbBatterString = $@\"FullPlayerName:{this.FullPlayerName}, YearPlayed:{this.YearsPlayed}, AB:{this.AB}\n",
    "        R:{this.R}, H:{this.H}, Doubles:{this.Doubles}, Triples:{this.Triples}, HR:{this.HR}, RBI:{this.RBI}, SB:{this.SB},\n",
    "        BattingAvg:{this.BattingAverage}, Slg:{this.SluggingPct}, AllStar:{this.AllStarAppearances},\n",
    "        TB:{this.TB}, LastYearPlayed:{this.LastYearPlayed}, ID:{this.ID}\";\n",
    "\n",
    "        return mlbBatterString;\n",
    "    }\n",
    "\n",
    "    public static MLBBaseballBatter FromCsv(string csvLine)\n",
    "    {\n",
    "        string[] values = csvLine.Split(',');\n",
    "        MLBBaseballBatter mlbBaseballBatter = new MLBBaseballBatter();\n",
    "\n",
    "        mlbBaseballBatter.InductedToHallOfFame = Convert.ToBoolean(values[0]);\n",
    "        mlbBaseballBatter.OnHallOfFameBallot = Convert.ToBoolean(values[1]);\n",
    "        mlbBaseballBatter.FullPlayerName = Convert.ToString(values[2]);\n",
    "        mlbBaseballBatter.YearsPlayed = float.Parse(values[3], System.Globalization.NumberStyles.Any);\n",
    "        mlbBaseballBatter.AB = float.Parse(values[4], System.Globalization.NumberStyles.Any);\n",
    "        mlbBaseballBatter.R = float.Parse(values[5], System.Globalization.NumberStyles.Any);\n",
    "        mlbBaseballBatter.H = float.Parse(values[6], System.Globalization.NumberStyles.Any);\n",
    "        mlbBaseballBatter.Doubles = float.Parse(values[7], System.Globalization.NumberStyles.Any);\n",
    "        mlbBaseballBatter.Triples = float.Parse(values[8], System.Globalization.NumberStyles.Any);\n",
    "        mlbBaseballBatter.HR = float.Parse(values[9], System.Globalization.NumberStyles.Any);\n",
    "        mlbBaseballBatter.RBI = float.Parse(values[10], System.Globalization.NumberStyles.Any);\n",
    "        mlbBaseballBatter.SB = float.Parse(values[11], System.Globalization.NumberStyles.Any);\n",
    "        mlbBaseballBatter.BattingAverage = float.Parse(values[12], System.Globalization.NumberStyles.Any);\n",
    "        mlbBaseballBatter.SluggingPct = float.Parse(values[13], System.Globalization.NumberStyles.Any);\n",
    "        mlbBaseballBatter.AllStarAppearances = float.Parse(values[14]);\n",
    "        mlbBaseballBatter.TB = float.Parse(values[15], System.Globalization.NumberStyles.Any);\n",
    "        mlbBaseballBatter.TotalPlayerAwards = float.Parse(values[16], System.Globalization.NumberStyles.Any);\n",
    "        mlbBaseballBatter.LastYearPlayed = float.Parse(values[17], System.Globalization.NumberStyles.Any);\n",
    "        mlbBaseballBatter.ID = Convert.ToString(values[18]);\n",
    "\n",
    "        return mlbBaseballBatter;\n",
    "    }\n",
    "}\n",
    "\n",
    "public class MLBHOFPrediction\n",
    "{\n",
    "    [ColumnName(\"PredictedLabel\")]\n",
    "    public bool Prediction { get; set; }\n",
    "\n",
    "    [ColumnName(\"Probability\")]\n",
    "    public float Probability { get; set; }\n",
    "\n",
    "    [ColumnName(\"Score\")]\n",
    "    public float Score { get; set; }\n",
    "}"
   ]
  },
  {
   "cell_type": "code",
   "execution_count": 23,
   "metadata": {
    "vscode": {
     "languageId": "polyglot-notebook"
    }
   },
   "outputs": [
    {
     "name": "stdout",
     "output_type": "stream",
     "text": [
      "0.69909585\r\n"
     ]
    }
   ],
   "source": [
    "// Directory of the historical baseball data\n",
    "string filePathMLBBaseballBatters = Directory.GetParent(Directory.GetCurrentDirectory()) + \"/Data/MLBBaseballBattersPositionPlayers.csv\";\n",
    "// Read the batters data from the CSV file\n",
    "var batters = File.ReadAllLines(filePathMLBBaseballBatters)\n",
    "                        .Skip(1)\n",
    "                        .Select(v => MLBBaseballBatter.FromCsv(v))\n",
    "                        .ToList();\n",
    "\n",
    "// Machine Learing Model and Prediction Engine                       \n",
    "string modelPath = Directory.GetParent(Directory.GetCurrentDirectory()) + \"/Models/InductedToHoF-GeneralizedAdditiveModels.mlnet\";\n",
    "var mlContext = new MLContext(seed: 100);\n",
    "ITransformer loadedModel;\n",
    "DataViewSchema schema;\n",
    "\n",
    "using (var stream = File.OpenRead(modelPath))\n",
    "{\n",
    "    loadedModel = mlContext.Model.Load(stream, out schema);\n",
    "}\n",
    "TransformerChain<ITransformer> transfomerChain = (TransformerChain<ITransformer>)loadedModel;\n",
    "\n",
    "var predEngineInductedToHallOfFame = mlContext.Model.CreatePredictionEngine<MLBBaseballBatter, MLBHOFPrediction>(transfomerChain);\n",
    "\n",
    "// Predict if Mike Trout will be inducted to the Hall of Fame\n",
    "var mikeTroutStats = batters.Where(b => b.FullPlayerName == \"Mike Trout\").FirstOrDefault();\n",
    "var prediction = predEngineInductedToHallOfFame.Predict(mikeTroutStats);\n",
    "Console.WriteLine(prediction.Probability);"
   ]
  }
 ],
 "metadata": {
  "kernelspec": {
   "display_name": ".NET (C#)",
   "language": "C#",
   "name": ".net-csharp"
  },
  "language_info": {
   "name": "csharp"
  },
  "polyglot_notebook": {
   "kernelInfo": {
    "defaultKernelName": "csharp",
    "items": [
     {
      "aliases": [],
      "name": "csharp"
     }
    ]
   }
  }
 },
 "nbformat": 4,
 "nbformat_minor": 2
}
