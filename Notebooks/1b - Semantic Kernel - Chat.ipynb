{
 "cells": [
  {
   "cell_type": "markdown",
   "metadata": {},
   "source": [
    "<img style=\"float: left;\" width =\"40px\" src=\"https://raw.githubusercontent.com/bartczernicki/DecisionIntelligence.GenAI.Workshop/main/Images/SemanticKernelLogo.png\">\n",
    "\n",
    "## Semantic Kernel - Chat"
   ]
  },
  {
   "cell_type": "markdown",
   "metadata": {},
   "source": [
    "In this module, the Semantic Kernel ability to create a chat experience will be introduced. This is a much richer experience than just sending simple prompts that are stateless and context is forgotten.\n",
    "\n",
    "Semantic Kernel has first-class support for chat scenarios, where the user talks back and forth with the LLM, the arguments get populated with the history of the conversation. During each new run of the kernel, the arguments will be provided to the AI with content. This allows the LLM to know the historical context of the conversation."
   ]
  },
  {
   "cell_type": "markdown",
   "metadata": {},
   "source": [
    "### Step 1 - Initialize Configuration Builder & Build the Semantic Kernel Orchestration\n",
    "\n",
    "Execute the next two cells to:\n",
    "* Use the Configuration Builder to load the API secrets.  \n",
    "* Use the API configuration to build the Semantic Kernel orchestrator."
   ]
  },
  {
   "cell_type": "code",
   "execution_count": 6,
   "metadata": {
    "dotnet_interactive": {
     "language": "csharp"
    },
    "polyglot_notebook": {
     "kernelName": "csharp"
    },
    "vscode": {
     "languageId": "polyglot-notebook"
    }
   },
   "outputs": [
    {
     "data": {
      "text/html": [
       "<div><div></div><div></div><div><strong>Installed Packages</strong><ul><li><span>Microsoft.Extensions.Configuration, 8.0.0</span></li><li><span>Microsoft.Extensions.Configuration.Json, 8.0.0</span></li></ul></div></div>"
      ]
     },
     "metadata": {},
     "output_type": "display_data"
    }
   ],
   "source": [
    "// Import the required NuGet configuration packages\n",
    "#r \"nuget: Microsoft.Extensions.Configuration, 8.0.0\"\n",
    "#r \"nuget: Microsoft.Extensions.Configuration.Json, 8.0.0\"\n",
    "\n",
    "using Microsoft.Extensions.Configuration;\n",
    "using System.IO;\n",
    "\n",
    "// Load the configuration settings from the local.settings.json and secrets.settings.json files\n",
    "// The secrets.settings.json file is used to store sensitive information such as API keys\n",
    "var configurationBuilder = new ConfigurationBuilder()\n",
    "    .SetBasePath(Directory.GetCurrentDirectory())\n",
    "    .AddJsonFile(\"local.settings.json\", optional: true, reloadOnChange: true)\n",
    "    .AddJsonFile(\"secrets.settings.json\", optional: true, reloadOnChange: true);\n",
    "var config = configurationBuilder.Build();\n",
    "\n",
    "// Retrieve the configuration settings for the Azure OpenAI service\n",
    "var azureOpenAIEndpoint = config[\"AzureOpenAI:Endpoint\"];\n",
    "var azureOpenAIAPIKey = config[\"AzureOpenAI:APIKey\"];\n",
    "var azureOpenAIModelDeploymentName = config[\"AzureOpenAI:ModelDeploymentName\"];"
   ]
  },
  {
   "cell_type": "code",
   "execution_count": 7,
   "metadata": {
    "dotnet_interactive": {
     "language": "csharp"
    },
    "polyglot_notebook": {
     "kernelName": "csharp"
    },
    "vscode": {
     "languageId": "polyglot-notebook"
    }
   },
   "outputs": [
    {
     "data": {
      "text/html": [
       "<div><div></div><div></div><div><strong>Installed Packages</strong><ul><li><span>Microsoft.Extensions.DependencyInjection, 8.0.0</span></li><li><span>Microsoft.SemanticKernel, 1.11.1</span></li></ul></div></div>"
      ]
     },
     "metadata": {},
     "output_type": "display_data"
    }
   ],
   "source": [
    "// Install the required NuGet packages\n",
    "// Note: This also installs the Dependency Injection Package to retrieve the ChatCompletionService\n",
    "#r \"nuget: Microsoft.Extensions.DependencyInjection, 8.0.0\"\n",
    "#r \"nuget: Microsoft.SemanticKernel, 1.11.1\"\n",
    "\n",
    "using Microsoft.Extensions.DependencyInjection;\n",
    "using Microsoft.SemanticKernel;\n",
    "using Microsoft.SemanticKernel.ChatCompletion;\n",
    "using Microsoft.SemanticKernel.Connectors.OpenAI;\n",
    "\n",
    "var semanticKernel = Kernel.CreateBuilder()\n",
    "    .AddAzureOpenAIChatCompletion(\n",
    "        deploymentName: azureOpenAIModelDeploymentName,\n",
    "        endpoint: azureOpenAIEndpoint,\n",
    "        apiKey: azureOpenAIAPIKey)\n",
    "    .Build();\n",
    "\n",
    "var chatCompletionService = semanticKernel.Services.GetRequiredService<IChatCompletionService>();\n"
   ]
  },
  {
   "cell_type": "markdown",
   "metadata": {},
   "source": [
    "### Step 2 - Execute the Chat Completion Service with Prompt Execution Settings\n",
    "\n",
    "Using the Semantic Kernel ChatCompletion service is very similar to inovoking a prompt for basic LLM interactions. The chat completion service will provide very similar results to invoking the prompt directly."
   ]
  },
  {
   "cell_type": "code",
   "execution_count": 8,
   "metadata": {
    "dotnet_interactive": {
     "language": "csharp"
    },
    "polyglot_notebook": {
     "kernelName": "csharp"
    },
    "vscode": {
     "languageId": "polyglot-notebook"
    }
   },
   "outputs": [
    {
     "name": "stdout",
     "output_type": "stream",
     "text": [
      "1. SWOT Analysis: This framework helps identify the strengths, weaknesses, opportunities, and threats related to a decision. It provides a comprehensive view of the internal and external factors that can impact the decision.\n",
      "\n",
      "2. Decision Matrix: This framework helps evaluate and prioritize different options based on specific criteria. Each option is scored based on how well it meets each criterion, and the option with the highest score is selected.\n",
      "\n",
      "3. Cost-Benefit Analysis: This framework helps assess the costs and benefits of different options. It involves quantifying the costs and benefits in monetary terms and comparing them to determine which option provides the greatest net benefit.\n",
      "\n",
      "4. Pareto Analysis: This framework helps identify the most significant factors that contribute to a problem or decision. It involves ranking factors based on their impact and focusing on the top factors that account for the majority of the impact.\n",
      "\n",
      "5. Decision Tree: This framework helps visualize the different options and outcomes of a decision. It involves creating a tree-like diagram that shows the possible options, outcomes, and probabilities associated with each option.\n",
      "\n",
      "6. Six Thinking Hats: This framework helps consider a decision from different perspectives. It involves wearing six different \"hats\" that represent different modes of thinking, such as emotional, analytical, creative, and practical thinking.\n",
      "\n",
      "7. Pros and Cons List: This simple framework helps weigh the advantages and disadvantages of different options. It involves listing the pros and cons of each option and comparing them to determine which option has the most favorable balance.\n",
      "\n",
      "By using these decision frameworks, individuals and organizations can improve the quality of their decisions by considering multiple factors, evaluating options systematically, and thinking critically about the potential outcomes.\n"
     ]
    }
   ],
   "source": [
    "// Create a new OpenAI prompt execution settings object\n",
    "var openAIPromptExecutionSettings = new OpenAIPromptExecutionSettings { \n",
    "    MaxTokens = 2500, \n",
    "    Temperature = 0.1, \n",
    "    TopP = 1.0, \n",
    "    FrequencyPenalty = 0.0, \n",
    "    PresencePenalty = 0.0\n",
    "    };\n",
    "\n",
    "var simpleDecisionPrompt = \"Provide some decision frameworks that can help improve the quality of decisions.\";\n",
    "var chatResult = await chatCompletionService.GetChatMessageContentAsync(simpleDecisionPrompt, openAIPromptExecutionSettings);\n",
    "\n",
    "Console.WriteLine(chatResult.Content);"
   ]
  },
  {
   "cell_type": "markdown",
   "metadata": {},
   "source": [
    "### Step 3 - Execute a Semantic Kernel Chat Completion with Streaming\n",
    "\n",
    "Semantic Kernel supports prompt response streaming in the ChatCompletionService. This allows responses to be streamed to the client as soon as they are made available by the LLM and service. Below the same decision prompt is executed. However, notice that chunks are streamed and can be read by the user as soon as they appear. "
   ]
  },
  {
   "cell_type": "code",
   "execution_count": 9,
   "metadata": {
    "dotnet_interactive": {
     "language": "csharp"
    },
    "polyglot_notebook": {
     "kernelName": "csharp"
    },
    "vscode": {
     "languageId": "polyglot-notebook"
    }
   },
   "outputs": [
    {
     "name": "stdout",
     "output_type": "stream",
     "text": [
      "1. SWOT Analysis: Analyzing strengths, weaknesses, opportunities, and threats helps to evaluate options and identify potential risks and benefits of various decisions.\n",
      "\n",
      "2. Decision Matrix: This involves listing decision criteria and options, assigning weights to each criterion based on importance, and scoring each option against the criteria to compute a total score for each option, helping to assess which option is most favorable.\n",
      "\n",
      "3. Cost-Benefit Analysis: Comparing the costs and benefits of alternatives allows for a quantifiable assessment of the potential outcomes of a decision.\n",
      "\n",
      "4. Decision Trees: Mapping out different possible outcomes and paths in a tree-like structure, with branching decisions, allows individuals to foresee consequences and make informed choices based on probabilities.\n",
      "\n",
      "5. Pareto Analysis: Utilizing the 80/20 rule, this identifies the most significant factors influencing a decision by focusing on the few causes that have the largest impact.\n",
      "\n",
      "6. Multi-Criteria Decision Analysis (MCDA): Considering multiple factors and alternatives, MCDA helps to evaluate and prioritize choices based on a set of defined criteria and weights.\n",
      "\n",
      "7. The Eisenhower Matrix: Prioritizing tasks based on urgency and importance, this framework helps to focus energy on the most impactful decisions and activities.\n",
      "\n",
      "8. Pros and Cons List: Creating a simple list of advantages and disadvantages of available options can provide a clear comparative view that aids in selecting the best option. \n",
      "\n",
      "By integrating these decision frameworks, individuals and organizations can enhance the quality and effectiveness of their decisions."
     ]
    }
   ],
   "source": [
    "await foreach (var content in chatCompletionService.GetStreamingChatMessageContentsAsync(simpleDecisionPrompt))\n",
    "{\n",
    "    Console.Write(content);\n",
    "}"
   ]
  },
  {
   "cell_type": "markdown",
   "metadata": {},
   "source": [
    "### Step 4 - Execute a Semantic Kernel with Chat History\n",
    "\n",
    "Semantic Kernel has a ChatHistory object that can be used with the ChatCompletionService to provide historical chat context to the LLM. Notice that the ChatHistory object differentiates between the different types of chat messages:\n",
    "* System Message - System or MetaPrompt\n",
    "* User Message - A message from the user\n",
    "* Assistante Message - A message from the LLM\n",
    "\n",
    "This is a more sophisticated approach than passing chat history in a long dynamic string. ChatHistory objects can be serialized and persisted into databases as well."
   ]
  },
  {
   "cell_type": "code",
   "execution_count": 10,
   "metadata": {
    "vscode": {
     "languageId": "polyglot-notebook"
    }
   },
   "outputs": [
    {
     "name": "stdout",
     "output_type": "stream",
     "text": [
      "Certainly! Here are five decision frameworks that can help in improving decision-making quality across various contexts:\n",
      "\n",
      "1. **Cost-Benefit Analysis (CBA)**:\n",
      "   - **Description**: This framework involves weighing the costs and benefits of various options to determine which yields the highest net benefits. Costs and benefits are quantified in monetary terms or scored based on importance and impact.\n",
      "   - **Ideal Use Case**: Best suited for financial decisions, investment opportunities, or evaluating resource allocation in project management.\n",
      "   - **Steps**:\n",
      "     1. List all option costs and benefits.\n",
      "     2. Quantify costs and benefits in comparable terms.\n",
      "     3. Compare net benefits (benefits minus costs) of each option.\n",
      "     4. Select the option with the highest net benefits.\n",
      "\n",
      "2. **SWOT Analysis**:\n",
      "   - **Description**: This involves identifying Strengths, Weaknesses, Opportunities, and Threats related to a decision or project. It helps in understanding both internal and external factors that can impact the outcome.\n",
      "   - **Ideal Use Case**: Useful in strategic planning and marketing decisions.\n",
      "   - **Steps**:\n",
      "     1. Identify internal strengths and weaknesses.\n",
      "     2. Identify external opportunities and threats.\n",
      "     3. Align strengths to capitalize on opportunities and mitigate threats.\n",
      "     4. Consider strategies to improve weaknesses and address external risks.\n",
      "\n",
      "3. **Decision Matrix (or Grid Analysis)**:\n",
      "   - **Description**: This tool helps evaluate and prioritize a list of options based upon a set of predetermined criteria weighted according to importance.\n",
      "   - **Ideal Use Case**: Effective when there are multiple choices and several significant factors to consider, such as choosing suppliers, selecting software, or hiring employees.\n",
      "   - **Steps**:\n",
      "     1. Define criteria important to the decision.\n",
      "     2. Assign weights to each criterion reflecting their relative importance.\n",
      "     3. Rate each option against the criteria.\n",
      "     4. Calculate weighted scores and choose the option with the highest score.\n",
      "\n",
      "4. **The Pareto Analysis (80/20 Rule)**:\n",
      "   - **Description**: This principle suggests that 80% of effects come from 20% of the causes. Identifying and focusing resources on these critical causes can significantly impact results.\n",
      "   - **Ideal Use Case**: Great for prioritizing problem-solving efforts, quality control, and process optimization.\n",
      "   - **Steps**:\n",
      "     1. Identify and list problems or options.\n",
      "     2. Determine the root cause or major contributing factor for each.\n",
      "     3. Assign a score or value to each cause based on its impact.\n",
      "     4. Focus efforts on the top 20% of causes that will solve 80% of the problems.\n",
      "\n",
      "5. **Pros and Cons List**:\n",
      "   - **Description**: One of the simplest yet effective methods where positives and negatives of each option are listed to facilitate a straightforward comparison.\n",
      "   - **Ideal Use Case**: Useful for straightforward decisions where rapid assessment is needed with fewer complexities.\n",
      "   - **Steps**:\n",
      "     1. List down all the options.\n",
      "     2. Under each option, write down the pros and cons.\n",
      "     3. Assess the overall positive and negative impacts visually or by scoring.\n",
      "     4. Choose the option with the most favorable balance.\n",
      "\n",
      "Each of these frameworks can be tailored to suit specific contexts and decision scales, from individual choices to organizational strategic planning. Deploying these frameworks requires clear understanding of objectives, thoughtful criteria-setting, and careful data gathering. Using a combination of these frameworks can further strengthen decision-making processes."
     ]
    }
   ],
   "source": [
    "var systemPrompt = \"\"\"\n",
    "You are a decision intelligence assistant. \n",
    "Assist the user in exploring options, reasoning through decisions, problem-solving, and applying systems thinking to various scenarios. \n",
    "Provide structured, logical, and comprehensive advice.\n",
    "\"\"\";\n",
    "var simpleDecisionPrompt = \"Provide five decision frameworks that can help improve the quality of decisions.\";\n",
    "\n",
    "var chatHistory = new ChatHistory();\n",
    "chatHistory.AddSystemMessage(systemPrompt);\n",
    "chatHistory.AddUserMessage(simpleDecisionPrompt);\n",
    "\n",
    "var chatResponse = string.Empty;\n",
    "await foreach (var content in chatCompletionService.GetStreamingChatMessageContentsAsync(chatHistory))\n",
    "{\n",
    "    chatResponse += content;\n",
    "    Console.Write(content);\n",
    "}\n",
    "chatHistory.AddAssistantMessage(chatResponse);\n",
    "\n",
    "// private void WriteMessages(IReadOnlyList<ChatMessageContent> messages, ChatHistory? history = null)\n",
    "// {\n",
    "//     foreach (var message in messages)\n",
    "//     {\n",
    "//         Console.WriteLine($\"# {message.Role}: {message.Content}\");\n",
    "//     }\n",
    "//     history?.AddRange(messages);\n",
    "// }\n",
    "// WriteMessages(await chatCompletionService.GetChatMessageContentsAsync(chatHistory, openAIPromptExecutionSettings), chatHistory);"
   ]
  },
  {
   "cell_type": "markdown",
   "metadata": {},
   "source": [
    "### Step 5 - Using Semantic Kernel Chat History in Conversation\n",
    "\n",
    "With Semantic Kernel maintaining state with the ChatHistory object, a user can interact with the LLM in a natural way. Note the interaction below, where the user is asking which of the particular decision frameworks are best suited to purchase a car. Without the ChatHistory being passed along, the LLM would not have the proper context to answer the question."
   ]
  },
  {
   "cell_type": "code",
   "execution_count": 11,
   "metadata": {
    "dotnet_interactive": {
     "language": "csharp"
    },
    "polyglot_notebook": {
     "kernelName": "csharp"
    },
    "vscode": {
     "languageId": "polyglot-notebook"
    }
   },
   "outputs": [
    {
     "name": "stdout",
     "output_type": "stream",
     "text": [
      "For making a decision to purchase a car, the **Decision Matrix (or Grid Analysis)** would be the most effective framework among the ones listed. Here’s why it stands out as the best choice for this specific scenario:\n",
      "\n",
      "### Rationale for Choosing Decision Matrix for Car Purchase:\n",
      "1. **Multiple Factors**: Buying a car involves considering multiple factors such as price, brand, fuel efficiency, reliability, resale value, features, and aesthetic preferences. A decision matrix allows for all these factors to be listed and quantified.\n",
      " \n",
      "2. **Customizable Criteria**: Each buyer may have different priorities or constraints (e.g., budget limitations, need for safety features, concern about environmental impact). The decision matrix framework facilitates the customization of criteria weights based on individual preferences, ensuring that the decision aligns with personal priorities.\n",
      "\n",
      "3. **Quantitative Comparison**: Car buying decisions can benefit from a structured comparison, where each aspect is scored and weighed. This structured quantification helps in objectively comparing diverse options, avoiding bias and focusing on data-driven decision-making.\n",
      "\n",
      "4. **Ease of Visualization**: A decision matrix provides a clear, tabular representation of options against criteria, making it easier to visualize which car best meets your combined needs and wants. The decision matrix thus simplifies complex decisions by breaking them down into manageable, comparable parts.\n",
      "\n",
      "### Implementation Steps:\n",
      "1. **Identify Key Criteria**: List all relevant factors such as cost, fuel efficiency, maintenance costs, brand reliability, after-sales service, and any specific features desired (like all-wheel drive, infotainment system, etc.).\n",
      "\n",
      "2. **Weigh Each Criterion**: Assign weights to each criterion reflecting their importance in your decision-making process. For instance, if budget is the most critical factor, assign it the highest weight.\n",
      "\n",
      "3. **Rate Each Car Option**: Evaluate each car option against each criterion on a consistent scale (e.g., 1 to 10). For instance, rate cars on cost, with higher scores for more affordable options.\n",
      "\n",
      "4. **Calculate Weighted Scores**: Multiply the ratings by the weights for each criterion and sum these to get a total score for each car.\n",
      "\n",
      "5. **Select the Best Option**: Compare the total scores of all car options. The car with the highest total score ideally balances cost with desired features and other personal criteria, making it the best choice based on your personalized decision matrix.\n",
      "\n",
      "By applying this structured decision-making tool, the process of buying a car becomes more systematic, transparent, and tailored to personal needs and preferences, significantly enhancing the likelihood of making a well-informed purchase."
     ]
    }
   ],
   "source": [
    "var simpleDecisionPromptFollowup = \"Which of these 5 decision frameworks would work best for making a decision to purchase a car. Select only the single best one.\";\n",
    "\n",
    "chatHistory.AddUserMessage(simpleDecisionPromptFollowup);\n",
    "\n",
    "var chatResponse = string.Empty;\n",
    "await foreach (var content in chatCompletionService.GetStreamingChatMessageContentsAsync(chatHistory))\n",
    "{\n",
    "    chatResponse += content;\n",
    "    Console.Write(content);\n",
    "}\n",
    "chatHistory.AddAssistantMessage(chatResponse);"
   ]
  },
  {
   "cell_type": "code",
   "execution_count": 12,
   "metadata": {
    "dotnet_interactive": {
     "language": "csharp"
    },
    "polyglot_notebook": {
     "kernelName": "csharp"
    },
    "vscode": {
     "languageId": "polyglot-notebook"
    }
   },
   "outputs": [
    {
     "name": "stdout",
     "output_type": "stream",
     "text": [
      "The military intelligence community often integrates various decision-making frameworks to address complex and dynamic security environments. Two frameworks from the list provided that are notably utilized within the military context are the **SWOT Analysis** and **Cost-Benefit Analysis (CBA)**. Here’s how each framework is utilized:\n",
      "\n",
      "1. **SWOT Analysis**:\n",
      "   - **Utility in Military Intelligence**: SWOT Analysis is used extensively in strategic planning within the military to assess the strengths, weaknesses, opportunities, and threats related to specific operations, potential military campaigns, or overall defense strategies. It aids in recognizing internal capabilities and external circumstances that could impact the success of a mission or the security posture of a military unit or nation.\n",
      "   - **Application Example**: Before deploying troops or initiating a new operational strategy, military strategists might conduct a SWOT analysis to evaluate the preparedness of their forces (strengths and weaknesses) and analyze the geopolitical landscape (opportunities and threats) to determine potential success rates and strategic advantages.\n",
      "\n",
      "2. **Cost-Benefit Analysis (CBA)**:\n",
      "   - **Utility in Military Intelligence**: This framework is imperative for making decisions regarding resource allocation, procurement, and other financial decisions in the military. Cost-Benefit Analysis helps in evaluating the trade-offs between different resource uses, including financial costs, personnel, equipment, and time against the strategic or tactical gains expected from those investments.\n",
      "   - **Application Example**: Cost-Benefit Analysis might be employed to decide whether to invest in advanced drone technology versus manned aircraft, considering various factors such as cost, effectiveness, risk to human life, and technological advantages in intelligence, surveillance, and reconnaissance missions.\n",
      "\n",
      "### Additional Context:\n",
      "- While not explicitly listed in the primary frameworks, military decisions often also involve elements of risk analysis and scenario planning, which are integral to handling uncertainties and forecasting potential outcomes in complex conflict zones or during peacekeeping missions.\n",
      "\n",
      "- The military often adapts these frameworks to fit within larger doctrinal approaches or combines them with other military-specific decision-making tools such as the OODA Loop (Observe, Orient, Decide, Act), developed by military strategist John Boyd, which emphasizes rapid decision-making in combat situations.\n",
      "\n",
      "Overall, SWOT Analysis and Cost-Benefit Analysis are critical in enabling the military intelligence community to make informed, strategic decisions by analyzing both internal and external factors and evaluating the effectiveness and efficiency of various options in meeting their objectives."
     ]
    }
   ],
   "source": [
    "var simpleDecisionPromptFollowupPartTwo = \"Which of these 5 decision frameworks listed above are used by the military intelligence community?\";\n",
    "\n",
    "chatHistory.AddUserMessage(simpleDecisionPromptFollowupPartTwo);\n",
    "\n",
    "var chatResponse = string.Empty;\n",
    "await foreach (var content in chatCompletionService.GetStreamingChatMessageContentsAsync(chatHistory))\n",
    "{\n",
    "    chatResponse += content;\n",
    "    Console.Write(content);\n",
    "}\n",
    "chatHistory.AddAssistantMessage(chatResponse);"
   ]
  },
  {
   "cell_type": "markdown",
   "metadata": {},
   "source": [
    "### Step 6 - Semantic Kernel inspecting Chat History \n",
    "\n",
    "The Semantic Kernel Chat History is a transparent object that can be inspected and written out. In fact, the ChatHistory object can be manipulated to replay chats from middle interactions to simulate different outcomes.\n",
    "\n",
    "Execute the cell below to write out the Semantic Kernel Chat History of this chat."
   ]
  },
  {
   "cell_type": "code",
   "execution_count": 13,
   "metadata": {
    "dotnet_interactive": {
     "language": "csharp"
    },
    "polyglot_notebook": {
     "kernelName": "csharp"
    },
    "vscode": {
     "languageId": "polyglot-notebook"
    }
   },
   "outputs": [
    {
     "name": "stdout",
     "output_type": "stream",
     "text": [
      "Number of chat interactions: 7\n",
      "# system: You are a decision intelligence assistant. \n",
      "Assist the user in exploring options, reasoning through decisions, problem-solving, and applying systems thinking to various scenarios. \n",
      "Provide structured, logical, and comprehensive advice.\n",
      "# user: Provide five decision frameworks that can help improve the quality of decisions.\n",
      "# assistant: Certainly! Here are five decision frameworks that can help in improving decision-making quality across various contexts:\n",
      "\n",
      "1. **Cost-Benefit Analysis (CBA)**:\n",
      "   - **Description**: This framework involves weighing the costs and benefits of various options to determine which yields the highest net benefits. Costs and benefits are quantified in monetary terms or scored based on importance and impact.\n",
      "   - **Ideal Use Case**: Best suited for financial decisions, investment opportunities, or evaluating resource allocation in project management.\n",
      "   - **Steps**:\n",
      "     1. List all option costs and benefits.\n",
      "     2. Quantify costs and benefits in comparable terms.\n",
      "     3. Compare net benefits (benefits minus costs) of each option.\n",
      "     4. Select the option with the highest net benefits.\n",
      "\n",
      "2. **SWOT Analysis**:\n",
      "   - **Description**: This involves identifying Strengths, Weaknesses, Opportunities, and Threats related to a decision or project. It helps in understanding both internal and external factors that can impact the outcome.\n",
      "   - **Ideal Use Case**: Useful in strategic planning and marketing decisions.\n",
      "   - **Steps**:\n",
      "     1. Identify internal strengths and weaknesses.\n",
      "     2. Identify external opportunities and threats.\n",
      "     3. Align strengths to capitalize on opportunities and mitigate threats.\n",
      "     4. Consider strategies to improve weaknesses and address external risks.\n",
      "\n",
      "3. **Decision Matrix (or Grid Analysis)**:\n",
      "   - **Description**: This tool helps evaluate and prioritize a list of options based upon a set of predetermined criteria weighted according to importance.\n",
      "   - **Ideal Use Case**: Effective when there are multiple choices and several significant factors to consider, such as choosing suppliers, selecting software, or hiring employees.\n",
      "   - **Steps**:\n",
      "     1. Define criteria important to the decision.\n",
      "     2. Assign weights to each criterion reflecting their relative importance.\n",
      "     3. Rate each option against the criteria.\n",
      "     4. Calculate weighted scores and choose the option with the highest score.\n",
      "\n",
      "4. **The Pareto Analysis (80/20 Rule)**:\n",
      "   - **Description**: This principle suggests that 80% of effects come from 20% of the causes. Identifying and focusing resources on these critical causes can significantly impact results.\n",
      "   - **Ideal Use Case**: Great for prioritizing problem-solving efforts, quality control, and process optimization.\n",
      "   - **Steps**:\n",
      "     1. Identify and list problems or options.\n",
      "     2. Determine the root cause or major contributing factor for each.\n",
      "     3. Assign a score or value to each cause based on its impact.\n",
      "     4. Focus efforts on the top 20% of causes that will solve 80% of the problems.\n",
      "\n",
      "5. **Pros and Cons List**:\n",
      "   - **Description**: One of the simplest yet effective methods where positives and negatives of each option are listed to facilitate a straightforward comparison.\n",
      "   - **Ideal Use Case**: Useful for straightforward decisions where rapid assessment is needed with fewer complexities.\n",
      "   - **Steps**:\n",
      "     1. List down all the options.\n",
      "     2. Under each option, write down the pros and cons.\n",
      "     3. Assess the overall positive and negative impacts visually or by scoring.\n",
      "     4. Choose the option with the most favorable balance.\n",
      "\n",
      "Each of these frameworks can be tailored to suit specific contexts and decision scales, from individual choices to organizational strategic planning. Deploying these frameworks requires clear understanding of objectives, thoughtful criteria-setting, and careful data gathering. Using a combination of these frameworks can further strengthen decision-making processes.\n",
      "# user: Which of these 5 decision frameworks would work best for making a decision to purchase a car. Select only the single best one.\n",
      "# assistant: For making a decision to purchase a car, the **Decision Matrix (or Grid Analysis)** would be the most effective framework among the ones listed. Here’s why it stands out as the best choice for this specific scenario:\n",
      "\n",
      "### Rationale for Choosing Decision Matrix for Car Purchase:\n",
      "1. **Multiple Factors**: Buying a car involves considering multiple factors such as price, brand, fuel efficiency, reliability, resale value, features, and aesthetic preferences. A decision matrix allows for all these factors to be listed and quantified.\n",
      " \n",
      "2. **Customizable Criteria**: Each buyer may have different priorities or constraints (e.g., budget limitations, need for safety features, concern about environmental impact). The decision matrix framework facilitates the customization of criteria weights based on individual preferences, ensuring that the decision aligns with personal priorities.\n",
      "\n",
      "3. **Quantitative Comparison**: Car buying decisions can benefit from a structured comparison, where each aspect is scored and weighed. This structured quantification helps in objectively comparing diverse options, avoiding bias and focusing on data-driven decision-making.\n",
      "\n",
      "4. **Ease of Visualization**: A decision matrix provides a clear, tabular representation of options against criteria, making it easier to visualize which car best meets your combined needs and wants. The decision matrix thus simplifies complex decisions by breaking them down into manageable, comparable parts.\n",
      "\n",
      "### Implementation Steps:\n",
      "1. **Identify Key Criteria**: List all relevant factors such as cost, fuel efficiency, maintenance costs, brand reliability, after-sales service, and any specific features desired (like all-wheel drive, infotainment system, etc.).\n",
      "\n",
      "2. **Weigh Each Criterion**: Assign weights to each criterion reflecting their importance in your decision-making process. For instance, if budget is the most critical factor, assign it the highest weight.\n",
      "\n",
      "3. **Rate Each Car Option**: Evaluate each car option against each criterion on a consistent scale (e.g., 1 to 10). For instance, rate cars on cost, with higher scores for more affordable options.\n",
      "\n",
      "4. **Calculate Weighted Scores**: Multiply the ratings by the weights for each criterion and sum these to get a total score for each car.\n",
      "\n",
      "5. **Select the Best Option**: Compare the total scores of all car options. The car with the highest total score ideally balances cost with desired features and other personal criteria, making it the best choice based on your personalized decision matrix.\n",
      "\n",
      "By applying this structured decision-making tool, the process of buying a car becomes more systematic, transparent, and tailored to personal needs and preferences, significantly enhancing the likelihood of making a well-informed purchase.\n",
      "# user: Which of these 5 decision frameworks listed above are used by the military intelligence community?\n",
      "# assistant: The military intelligence community often integrates various decision-making frameworks to address complex and dynamic security environments. Two frameworks from the list provided that are notably utilized within the military context are the **SWOT Analysis** and **Cost-Benefit Analysis (CBA)**. Here’s how each framework is utilized:\n",
      "\n",
      "1. **SWOT Analysis**:\n",
      "   - **Utility in Military Intelligence**: SWOT Analysis is used extensively in strategic planning within the military to assess the strengths, weaknesses, opportunities, and threats related to specific operations, potential military campaigns, or overall defense strategies. It aids in recognizing internal capabilities and external circumstances that could impact the success of a mission or the security posture of a military unit or nation.\n",
      "   - **Application Example**: Before deploying troops or initiating a new operational strategy, military strategists might conduct a SWOT analysis to evaluate the preparedness of their forces (strengths and weaknesses) and analyze the geopolitical landscape (opportunities and threats) to determine potential success rates and strategic advantages.\n",
      "\n",
      "2. **Cost-Benefit Analysis (CBA)**:\n",
      "   - **Utility in Military Intelligence**: This framework is imperative for making decisions regarding resource allocation, procurement, and other financial decisions in the military. Cost-Benefit Analysis helps in evaluating the trade-offs between different resource uses, including financial costs, personnel, equipment, and time against the strategic or tactical gains expected from those investments.\n",
      "   - **Application Example**: Cost-Benefit Analysis might be employed to decide whether to invest in advanced drone technology versus manned aircraft, considering various factors such as cost, effectiveness, risk to human life, and technological advantages in intelligence, surveillance, and reconnaissance missions.\n",
      "\n",
      "### Additional Context:\n",
      "- While not explicitly listed in the primary frameworks, military decisions often also involve elements of risk analysis and scenario planning, which are integral to handling uncertainties and forecasting potential outcomes in complex conflict zones or during peacekeeping missions.\n",
      "\n",
      "- The military often adapts these frameworks to fit within larger doctrinal approaches or combines them with other military-specific decision-making tools such as the OODA Loop (Observe, Orient, Decide, Act), developed by military strategist John Boyd, which emphasizes rapid decision-making in combat situations.\n",
      "\n",
      "Overall, SWOT Analysis and Cost-Benefit Analysis are critical in enabling the military intelligence community to make informed, strategic decisions by analyzing both internal and external factors and evaluating the effectiveness and efficiency of various options in meeting their objectives.\n"
     ]
    }
   ],
   "source": [
    "Console.WriteLine(\"Number of chat interactions: \" + chatHistory.Count());\n",
    "\n",
    "foreach (var message in chatHistory)\n",
    "{\n",
    "    Console.WriteLine($\"# {message.Role}: {message.Content}\");\n",
    "}"
   ]
  }
 ],
 "metadata": {
  "kernelspec": {
   "display_name": ".NET (C#)",
   "language": "C#",
   "name": ".net-csharp"
  },
  "language_info": {
   "name": "csharp"
  },
  "polyglot_notebook": {
   "kernelInfo": {
    "defaultKernelName": "csharp",
    "items": [
     {
      "aliases": [],
      "name": "csharp"
     }
    ]
   }
  }
 },
 "nbformat": 4,
 "nbformat_minor": 2
}
