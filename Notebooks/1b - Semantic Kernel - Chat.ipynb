{
 "cells": [
  {
   "cell_type": "markdown",
   "metadata": {},
   "source": [
    "<img style=\"float: left;\" width =\"40px\" src=\"https://raw.githubusercontent.com/bartczernicki/DecisionIntelligence.GenAI.Workshop/main/Images/SemanticKernelLogo.png\">\n",
    "\n",
    "## Semantic Kernel - Chat"
   ]
  },
  {
   "cell_type": "markdown",
   "metadata": {},
   "source": [
    "In this module, the Semantic Kernel ability to create a chat experience will be introduced. This is a much richer experience than just sending simple prompts that are stateless and context is forgotten.\n",
    "\n",
    "Semantic Kernel has first-class support for chat scenarios, where the user talks back and forth with the LLM, the arguments get populated with the history of the conversation. During each new run of the kernel, the arguments will be provided to the AI with content. This allows the LLM to know the historical context of the conversation."
   ]
  },
  {
   "cell_type": "markdown",
   "metadata": {},
   "source": [
    "### Step 1 - Initialize Configuration Builder & Build the Semantic Kernel Orchestration\n",
    "\n",
    "Execute the next two cells to:\n",
    "* Use the Configuration Builder to load the API secrets.  \n",
    "* Use the API configuration to build the Semantic Kernel orchestrator."
   ]
  },
  {
   "cell_type": "code",
   "execution_count": 4,
   "metadata": {
    "dotnet_interactive": {
     "language": "csharp"
    },
    "polyglot_notebook": {
     "kernelName": "csharp"
    },
    "vscode": {
     "languageId": "polyglot-notebook"
    }
   },
   "outputs": [
    {
     "data": {
      "text/html": [
       "<div><div></div><div></div><div><strong>Installed Packages</strong><ul><li><span>Microsoft.Extensions.Configuration, 8.0.0</span></li><li><span>Microsoft.Extensions.Configuration.Json, 8.0.0</span></li></ul></div></div>"
      ]
     },
     "metadata": {},
     "output_type": "display_data"
    }
   ],
   "source": [
    "// Import the required NuGet configuration packages\n",
    "#r \"nuget: Microsoft.Extensions.Configuration, 8.0.0\"\n",
    "#r \"nuget: Microsoft.Extensions.Configuration.Json, 8.0.0\"\n",
    "\n",
    "using Microsoft.Extensions.Configuration;\n",
    "using System.IO;\n",
    "\n",
    "// Load the configuration settings from the local.settings.json and secrets.settings.json files\n",
    "// The secrets.settings.json file is used to store sensitive information such as API keys\n",
    "var configurationBuilder = new ConfigurationBuilder()\n",
    "    .SetBasePath(Directory.GetCurrentDirectory())\n",
    "    .AddJsonFile(\"local.settings.json\", optional: true, reloadOnChange: true)\n",
    "    .AddJsonFile(\"secrets.settings.json\", optional: true, reloadOnChange: true);\n",
    "var config = configurationBuilder.Build();\n",
    "\n",
    "// IMPORTANT: You ONLY NEED either Azure OpenAI or OpenAI connectiopn info, not both.\n",
    "// Azure OpenAI Connection Info\n",
    "var azureOpenAIEndpoint = config[\"AzureOpenAI:Endpoint\"];\n",
    "var azureOpenAIAPIKey = config[\"AzureOpenAI:APIKey\"];\n",
    "var azureOpenAIModelDeploymentName = config[\"AzureOpenAI:ModelDeploymentName\"];\n",
    "// OpenAI Connection Info \n",
    "var openAIAPIKey = config[\"OpenAI:APIKey\"];\n",
    "var openAIModelId = config[\"OpenAI:ModelId\"];"
   ]
  },
  {
   "cell_type": "code",
   "execution_count": 5,
   "metadata": {
    "dotnet_interactive": {
     "language": "csharp"
    },
    "polyglot_notebook": {
     "kernelName": "csharp"
    },
    "vscode": {
     "languageId": "polyglot-notebook"
    }
   },
   "outputs": [
    {
     "data": {
      "text/html": [
       "<div><div></div><div></div><div><strong>Installed Packages</strong><ul><li><span>Microsoft.Extensions.DependencyInjection, 8.0.0</span></li><li><span>Microsoft.SemanticKernel, 1.13.0</span></li></ul></div></div>"
      ]
     },
     "metadata": {},
     "output_type": "display_data"
    },
    {
     "name": "stdout",
     "output_type": "stream",
     "text": [
      "Using Azure OpenAI Service\r\n"
     ]
    }
   ],
   "source": [
    "// Install the required NuGet packages\n",
    "// Note: This also installs the Dependency Injection Package to retrieve the ChatCompletionService\n",
    "#r \"nuget: Microsoft.Extensions.DependencyInjection, 8.0.0\"\n",
    "#r \"nuget: Microsoft.SemanticKernel, 1.13.0\"\n",
    "\n",
    "using Microsoft.Extensions.DependencyInjection;\n",
    "using Microsoft.SemanticKernel;\n",
    "using Microsoft.SemanticKernel.ChatCompletion;\n",
    "using Microsoft.SemanticKernel.Connectors.OpenAI;\n",
    "\n",
    "Kernel semanticKernel;\n",
    "\n",
    "// Set the flag to use Azure OpenAI or OpenAI. False to use OpenAI, True to use Azure OpenAI\n",
    "var useAzureOpenAI = true;\n",
    "\n",
    "// Create a new Semantic Kernel instance\n",
    "if (useAzureOpenAI)\n",
    "{\n",
    "    Console.WriteLine(\"Using Azure OpenAI Service\");\n",
    "    semanticKernel = Kernel.CreateBuilder()\n",
    "        .AddAzureOpenAIChatCompletion(\n",
    "            deploymentName: azureOpenAIModelDeploymentName,\n",
    "            endpoint: azureOpenAIEndpoint,\n",
    "            apiKey: azureOpenAIAPIKey)\n",
    "        .Build();\n",
    "}\n",
    "else\n",
    "{\n",
    "    Console.WriteLine(\"Using OpenAI Service\");\n",
    "    semanticKernel = Kernel.CreateBuilder()\n",
    "        .AddOpenAIChatCompletion(\n",
    "            modelId: openAIModelId,\n",
    "            apiKey: openAIAPIKey)\n",
    "        .Build();\n",
    "}\n",
    "\n",
    "var chatCompletionService = semanticKernel.Services.GetRequiredService<IChatCompletionService>();\n"
   ]
  },
  {
   "cell_type": "markdown",
   "metadata": {},
   "source": [
    "### Step 2 - Execute the Chat Completion Service with Prompt Execution Settings\n",
    "\n",
    "Using the Semantic Kernel ChatCompletion service is very similar to inovoking a prompt for basic LLM interactions. The chat completion service will provide very similar results to invoking the prompt directly."
   ]
  },
  {
   "cell_type": "code",
   "execution_count": 6,
   "metadata": {
    "dotnet_interactive": {
     "language": "csharp"
    },
    "polyglot_notebook": {
     "kernelName": "csharp"
    },
    "vscode": {
     "languageId": "polyglot-notebook"
    }
   },
   "outputs": [
    {
     "name": "stdout",
     "output_type": "stream",
     "text": [
      "Certainly! Decision-making frameworks can significantly enhance the quality of decisions by providing structured approaches to evaluate options and outcomes. Here are some widely recognized frameworks:\n",
      "\n",
      "### 1. **SWOT Analysis**\n",
      "   - **Strengths**: Identify internal strengths.\n",
      "   - **Weaknesses**: Identify internal weaknesses.\n",
      "   - **Opportunities**: Identify external opportunities.\n",
      "   - **Threats**: Identify external threats.\n",
      "   - **Usage**: Helps in strategic planning and understanding the internal and external factors affecting a decision.\n",
      "\n",
      "### 2. **PEST Analysis**\n",
      "   - **Political**: Evaluate political factors.\n",
      "   - **Economic**: Evaluate economic factors.\n",
      "   - **Social**: Evaluate social factors.\n",
      "   - **Technological**: Evaluate technological factors.\n",
      "   - **Usage**: Useful for understanding the macro-environmental factors that could impact a decision.\n",
      "\n",
      "### 3. **Decision Matrix (Weighted Scoring Model)**\n",
      "   - **Criteria Identification**: List the criteria important for the decision.\n",
      "   - **Weight Assignment**: Assign weights to each criterion based on importance.\n",
      "   - **Scoring**: Score each option against each criterion.\n",
      "   - **Calculation**: Multiply scores by weights and sum them up for each option.\n",
      "   - **Usage**: Helps in comparing multiple options quantitatively.\n",
      "\n",
      "### 4. **Cost-Benefit Analysis (CBA)**\n",
      "   - **Identify Costs**: List all costs associated with the decision.\n",
      "   - **Identify Benefits**: List all benefits associated with the decision.\n",
      "   - **Quantify**: Assign monetary values to both costs and benefits.\n",
      "   - **Compare**: Compare the total costs and benefits.\n",
      "   - **Usage**: Useful for financial and economic decisions to determine the feasibility and profitability of an option.\n",
      "\n",
      "### 5. **Pros and Cons List**\n",
      "   - **Pros**: List all the advantages of each option.\n",
      "   - **Cons**: List all the disadvantages of each option.\n",
      "   - **Usage**: Simple and quick method to visualize the positive and negative aspects of each choice.\n",
      "\n",
      "### 6. **Six Thinking Hats (Edward de Bono)**\n",
      "   - **White Hat**: Focus on data and information.\n",
      "   - **Red Hat**: Focus on emotions and feelings.\n",
      "   - **Black Hat**: Focus on potential problems and risks.\n",
      "   - **Yellow Hat**: Focus on benefits and optimism.\n",
      "   - **Green Hat**: Focus on creativity and new ideas.\n",
      "   - **Blue Hat**: Focus on process control and organization.\n",
      "   - **Usage**: Encourages looking at a decision from multiple perspectives.\n",
      "\n",
      "### 7. **Pareto Analysis (80/20 Rule)**\n",
      "   - **Identify Problems**: List all problems or causes.\n",
      "   - **Score**: Assign a score based on impact or frequency.\n",
      "   - **Prioritize**: Focus on the top 20% of causes that result in 80% of the problems.\n",
      "   - **Usage**: Helps in prioritizing actions that will have the most significant impact.\n",
      "\n",
      "### 8. **OODA Loop (John Boyd)**\n",
      "   - **Observe**: Gather information and data.\n",
      "   - **Orient**: Analyze the information and form a perspective.\n",
      "   - **Decide**: Make a decision based on the analysis.\n",
      "   - **Act**: Implement the decision.\n",
      "   - **Usage**: Useful in dynamic and fast-paced environments where quick decision-making is crucial.\n",
      "\n",
      "### 9. **Kepner-Tregoe Decision Analysis**\n",
      "   - **Situation Analysis**: Define the problem and its context.\n",
      "   - **Problem Analysis**: Identify the root cause of the problem.\n",
      "   - **Decision Analysis**: Evaluate alternatives and their potential impacts.\n",
      "   - **Potential Problem Analysis**: Identify potential problems with the chosen solution and develop preventive actions.\n",
      "   - **Usage**: Structured approach for complex decision-making scenarios.\n",
      "\n",
      "### 10. **Rational Decision-Making Model**\n",
      "   - **Define the Problem**: Clearly articulate the problem.\n",
      "   - **Identify Decision Criteria**: Determine what criteria will guide the decision.\n",
      "   - **Weight the Criteria**: Assign importance to each criterion.\n",
      "   - **Generate Alternatives**: List possible solutions.\n",
      "   - **Evaluate Alternatives**: Assess each alternative against the criteria.\n",
      "   - **Choose the Best Alternative**: Select the option that scores highest.\n",
      "   - **Implement the Decision**: Put the chosen solution into action.\n",
      "   - **Evaluate the Decision**: Review the outcome and process.\n",
      "   - **Usage**: Ensures a logical and thorough approach to decision-making.\n",
      "\n",
      "These frameworks can be adapted and combined based on the specific context and complexity of the decision at hand.\r\n"
     ]
    }
   ],
   "source": [
    "// Create a new OpenAI prompt execution settings object\n",
    "var openAIPromptExecutionSettings = new OpenAIPromptExecutionSettings { \n",
    "    MaxTokens = 2500, \n",
    "    Temperature = 0.1, \n",
    "    TopP = 1.0, \n",
    "    FrequencyPenalty = 0.0, \n",
    "    PresencePenalty = 0.0\n",
    "    };\n",
    "\n",
    "var simpleDecisionPrompt = \"Provide some decision frameworks that can help improve the quality of decisions.\";\n",
    "var chatResult = await chatCompletionService.GetChatMessageContentAsync(simpleDecisionPrompt, openAIPromptExecutionSettings);\n",
    "\n",
    "Console.WriteLine(chatResult.Content);"
   ]
  },
  {
   "cell_type": "markdown",
   "metadata": {},
   "source": [
    "### Step 3 - Execute a Semantic Kernel Chat Completion with Streaming\n",
    "\n",
    "Semantic Kernel supports prompt response streaming in the ChatCompletionService. This allows responses to be streamed to the client as soon as they are made available by the LLM and service. Below the same decision prompt is executed. However, notice that chunks are streamed and can be read by the user as soon as they appear. "
   ]
  },
  {
   "cell_type": "code",
   "execution_count": 7,
   "metadata": {
    "dotnet_interactive": {
     "language": "csharp"
    },
    "polyglot_notebook": {
     "kernelName": "csharp"
    },
    "vscode": {
     "languageId": "polyglot-notebook"
    }
   },
   "outputs": [
    {
     "name": "stdout",
     "output_type": "stream",
     "text": [
      "Certainly! Improving the quality of decisions can be achieved through various decision-making frameworks. These frameworks provide structured approaches that ensure all necessary factors are considered. Here are some well-regarded frameworks:\n",
      "\n",
      "### 1. **Rational Decision-Making Model**\n",
      "This is a step-by-step approach for making logically sound decisions.\n",
      "\n",
      "Steps include:\n",
      "- **Define the problem**\n",
      "- **Identify decision criteria**\n",
      "- **Weight the criteria**\n",
      "- **Generate alternatives**\n",
      "- **Rate each alternative on each criterion**\n",
      "- **Compute the optimal decision**\n",
      "\n",
      "### 2. **Kepner-Tregoe Matrix**\n",
      "A systematic process for problem-solving and decision-making.\n",
      "\n",
      "Steps include:\n",
      "- **Situational Analysis**: Clarify the situation, define problems, and prioritize\n",
      "- **Problem Analysis**: Determine root causes\n",
      "- **Decision Analysis**: Define objectives, evaluate alternatives against criteria\n",
      "- **Potential Problem Analysis**: Identify potential problems and preventive actions\n",
      "\n",
      "### 3. **SWOT Analysis**\n",
      "A strategic planning tool used to identify strengths, weaknesses, opportunities, and threats related to business competition or project planning.\n",
      "\n",
      "Steps include:\n",
      "- **Identify internal strengths**\n",
      "- **Identify internal weaknesses**\n",
      "- **Identify external opportunities**\n",
      "- **Identify external threats**\n",
      "\n",
      "### 4. **OODA Loop**\n",
      "A framework largely used in military strategy and competitive business environments.\n",
      "\n",
      "Steps include:\n",
      "- **Observe**: Collect current information from as many sources as possible.\n",
      "- **Orient**: Analyze this information, and use it to update your existing reality.\n",
      "- **Decide**: Determine a course of action based on your current reality.\n",
      "- **Act**: Follow through on your decision.\n",
      "\n",
      "### 5. **Cost-Benefit Analysis (CBA)**\n",
      "A systematic approach to estimate the strengths and weaknesses of alternatives.\n",
      "\n",
      "Steps include:\n",
      "- **List all costs and benefits associated with the decision**\n",
      "- **Assign a monetary value to each cost and benefit**\n",
      "- **Subtract the total costs from the total benefits**\n",
      "- **Choose the option with the highest net benefit**\n",
      "\n",
      "### 6. **Six Thinking Hats**\n",
      "A tool for group discussion and individual thinking, involving six different categories of thinking.\n",
      "\n",
      "Hats include:\n",
      "- **White Hat**: Information and data\n",
      "- **Red Hat**: Emotions and feelings\n",
      "- **Black Hat**: Caution and critical judgment\n",
      "- **Yellow Hat**: Optimism and positive speculation\n",
      "- **Green Hat**: Creativity and new ideas\n",
      "- **Blue Hat**: Process control and metacognition\n",
      "\n",
      "### 7. **Decision Trees**\n",
      "A visual and analytical decision support tool where decisions and their possible consequences are mapped out.\n",
      "\n",
      "Steps include:\n",
      "- **Start with a decision node**\n",
      "- **Add branches for each possible option**\n",
      "- **Add subsequent nodes for possible outcomes**\n",
      "- **Evaluate and analyze paths for their expected utility**\n",
      "\n",
      "### 8. **Pros and Cons List**\n",
      "A simple yet effective method for making decisions.\n",
      "\n",
      "Steps include:\n",
      "- **Draw a line down the middle of a paper**\n",
      "- **List pros on one side and cons on the other**\n",
      "- **Compare the lists to determine the best option**\n",
      "\n",
      "### 9. **Pareto Analysis (80/20 Rule)**\n",
      "Focuses on identifying the most important changes to make by recognizing that roughly 80% of effects come from 20% of the causes.\n",
      "\n",
      "Steps include:\n",
      "- **List problems or decisions alternatives**\n",
      "- **Score each option on a scale of importance**\n",
      "- **Focus on the top 20% that will give the largest benefit**\n",
      "\n",
      "### 10. **Multi-Criteria Decision Analysis (MCDA)**\n",
      "A structured approach for comparing, ranking, and selecting from among multiple alternatives based on multiple criteria.\n",
      "\n",
      "Steps include:\n",
      "- **Define decision criteria and their weights**\n",
      "- **Rate each alternative on each criterion**\n",
      "- **Aggregate weighted scores for each alternative**\n",
      "\n",
      "Each of these frameworks has its strengths and is suited to different types of decisions. By applying one or more of these methods, you can systematically make well-informed decisions and improve overall decision quality."
     ]
    }
   ],
   "source": [
    "await foreach (var content in chatCompletionService.GetStreamingChatMessageContentsAsync(simpleDecisionPrompt))\n",
    "{\n",
    "    Console.Write(content);\n",
    "}"
   ]
  },
  {
   "cell_type": "markdown",
   "metadata": {},
   "source": [
    "### Step 4 - Execute a Semantic Kernel with Chat History\n",
    "\n",
    "Semantic Kernel has a ChatHistory object that can be used with the ChatCompletionService to provide historical chat context to the LLM. Notice that the ChatHistory object differentiates between the different types of chat messages:\n",
    "* System Message - System or MetaPrompt\n",
    "* User Message - A message from the user\n",
    "* Assistante Message - A message from the LLM\n",
    "\n",
    "This is a more sophisticated approach than passing chat history in a long dynamic string. ChatHistory objects can be serialized and persisted into databases as well."
   ]
  },
  {
   "cell_type": "code",
   "execution_count": 5,
   "metadata": {
    "dotnet_interactive": {
     "language": "csharp"
    },
    "polyglot_notebook": {
     "kernelName": "csharp"
    },
    "vscode": {
     "languageId": "polyglot-notebook"
    }
   },
   "outputs": [
    {
     "name": "stdout",
     "output_type": "stream",
     "text": [
      "Decision-making is a critical skill in various aspects of life and work, and having robust frameworks can significantly enhance the quality and outcomes of the decisions. Here are five decision frameworks that can aid in this process:\n",
      "\n",
      "1. **SWOT Analysis**:\n",
      "   - **Description**: SWOT stands for Strengths, Weaknesses, Opportunities, and Threats. This framework helps in understanding the internal and external factors that could impact the decision. It's particularly useful in strategic decision-making.\n",
      "   - **Application**: Use this when entering a new market, launching a product, or when decision outcomes can be influenced by external and internal factors. It ensures that you are aware of your capabilities and the environment in which you are operating.\n",
      "   - **Benefits**: Provides a balanced overview of both positive and negative factors and helps in identifying the key elements that could influence the success or failure of a decision.\n",
      "\n",
      "2. **Decision Matrix (Weighted Scoring Model)**:\n",
      "   - **Description**: This framework helps evaluate multiple options based on several predetermined criteria that are weighted according to their importance. Each option is scored against these criteria and the option with the highest weighted score is selected.\n",
      "   - **Application**: Use this method when you have multiple options and need to consider various factors with different levels of importance in your decision. \n",
      "   - **Benefits**: Allows comparative analysis of different options based on relevant, weighted criteria. It adds objectivity to the decision-making process when multiple stakeholders or complex factors are involved.\n",
      "\n",
      "3. **Cost-Benefit Analysis (CBA)**:\n",
      "   - **Description**: This involves listing all potential costs and benefits of a decision, both quantifiable and qualitative, and then calculating the net benefit to aid in decision-making.\n",
      "   - **Application**: Useful in budgetary, financial, or investment decisions, where it is crucial to understand the economic feasibility and impact of different options.\n",
      "   - **Benefits**: Provides a clear picture of the financial viability of a decision. Helps in making informed choices by quantifying the expected returns relative to costs.\n",
      "\n",
      "4. **Pareto Analysis (80/20 Rule)**:\n",
      "   - **Description**: Based on the principle that 80% of effects come from 20% of the causes. This tool is used to prioritize efforts that will yield the most significant results.\n",
      "   - **Application**: Effective in time management, resource allocation, and when aiming to improve productivity or profitability. Prioritize actions that will provide the most substantial benefits.\n",
      "   - **Benefits**: Encourages efficiency and highest impact activities, reducing time spent on less impactful tasks or decisions.\n",
      "\n",
      "5. **Pros and Cons List**:\n",
      "   - **Description**: One of the simplest and most straightforward decision-making frameworks. List down the advantages (pros) and disadvantages (cons) of each option.\n",
      "   - **Application**: Suitable for quickly evaluating everyday decisions where the stakes are not very high, or when trying to simplify more complex decisions to a basic level for clear understanding.\n",
      "   - **Benefits**: Helps in visualizing the positive and negative aspects side-by-side, simplifies complex decisions, promotes thorough examination before making a decision.\n",
      "\n",
      "Each of these frameworks has its strengths and is suited for different types of decision-making situations. Understanding and applying the right framework based on the context can significantly enhance the quality and effectiveness of decisions."
     ]
    }
   ],
   "source": [
    "var systemPrompt = \"\"\"\n",
    "You are a decision intelligence assistant. \n",
    "Assist the user in exploring options, reasoning through decisions, problem-solving, and applying systems thinking to various scenarios. \n",
    "Provide structured, logical, and comprehensive advice.\n",
    "\"\"\";\n",
    "var simpleDecisionPrompt = \"Provide five decision frameworks that can help improve the quality of decisions.\";\n",
    "\n",
    "var chatHistory = new ChatHistory();\n",
    "chatHistory.AddSystemMessage(systemPrompt);\n",
    "chatHistory.AddUserMessage(simpleDecisionPrompt);\n",
    "\n",
    "var chatResponse = string.Empty;\n",
    "await foreach (var content in chatCompletionService.GetStreamingChatMessageContentsAsync(chatHistory))\n",
    "{\n",
    "    chatResponse += content;\n",
    "    Console.Write(content);\n",
    "}\n",
    "chatHistory.AddAssistantMessage(chatResponse);"
   ]
  },
  {
   "cell_type": "markdown",
   "metadata": {},
   "source": [
    "### Step 5 - Using Semantic Kernel Chat History in Conversation\n",
    "\n",
    "With Semantic Kernel maintaining state with the ChatHistory object, a user can interact with the LLM in a natural way. Note the interaction below, where the user is asking which of the particular decision frameworks are best suited to purchase a car. Without the ChatHistory being passed along, the LLM would not have the proper context to answer the question."
   ]
  },
  {
   "cell_type": "code",
   "execution_count": 6,
   "metadata": {
    "dotnet_interactive": {
     "language": "csharp"
    },
    "polyglot_notebook": {
     "kernelName": "csharp"
    },
    "vscode": {
     "languageId": "polyglot-notebook"
    }
   },
   "outputs": [
    {
     "name": "stdout",
     "output_type": "stream",
     "text": [
      "For making a decision to purchase a car, the **Decision Matrix (Weighted Scoring Model)** is the single best framework among the options provided. This approach stands out because purchasing a car involves evaluating multiple factors, each of which may vary in importance according to your personal needs and preferences. \n",
      "\n",
      "### How to Apply the Decision Matrix to Car Buying:\n",
      "\n",
      "1. **Identify Criteria**: List all factors that are important to you in a car. Common criteria might include fuel efficiency, cost, reliability, brand, design, safety features, resale value, service availability, etc.\n",
      "\n",
      "2. **Weight the Criteria**: Assign a weight to each criterion based on how important it is to you. For example, if safety is a top priority, you might give it a higher weight compared to other less critical features.\n",
      "\n",
      "3. **List the Options**: Write down the car models you are considering. \n",
      "\n",
      "4. **Rate Each Option**: Score each car model against each criterion on a consistent scale (e.g., 1-10). For instance, if one model has excellent fuel efficiency, it might score a 9 under that criterion, whereas a less efficient model scores a 5.\n",
      "\n",
      "5. **Calculate Weighted Scores**: Multiply the score for each criterion by the weight of that criterion. Sum these weighted scores for each car to get a total score.\n",
      "\n",
      "6. **Decision Making**: The car with the highest total score would be the best choice according to the specific criteria and weights you've established.\n",
      "\n",
      "### Benefits of Using the Decision Matrix for Car Buying:\n",
      "\n",
      "- **Personalization**: It tailors the decision to your specific preferences and priorities.\n",
      "- **Comprehensive Evaluation**: Allows for a detailed comparison based on multiple factors, providing a balanced view across different attributes.\n",
      "- **Reduction of Bias**: By quantifying preferences and scores, it reduces emotional or impulsive decisions, focusing on factual criteria assessments.\n",
      "\n",
      "This method ensures that the decision to purchase a car is made rationally and according to your most valued preferences, ultimately aiming to maximize satisfaction with the purchase."
     ]
    }
   ],
   "source": [
    "var simpleDecisionPromptFollowup = \"Which of these 5 decision frameworks would work best for making a decision to purchase a car. Select only the single best one.\";\n",
    "\n",
    "chatHistory.AddUserMessage(simpleDecisionPromptFollowup);\n",
    "\n",
    "var chatResponse = string.Empty;\n",
    "await foreach (var content in chatCompletionService.GetStreamingChatMessageContentsAsync(chatHistory))\n",
    "{\n",
    "    chatResponse += content;\n",
    "    Console.Write(content);\n",
    "}\n",
    "chatHistory.AddAssistantMessage(chatResponse);"
   ]
  },
  {
   "cell_type": "code",
   "execution_count": 7,
   "metadata": {
    "dotnet_interactive": {
     "language": "csharp"
    },
    "polyglot_notebook": {
     "kernelName": "csharp"
    },
    "vscode": {
     "languageId": "polyglot-notebook"
    }
   },
   "outputs": [
    {
     "name": "stdout",
     "output_type": "stream",
     "text": [
      "The military intelligence community frequently employs decision-making frameworks to analyze data and make strategic decisions efficiently and effectively. Among the five frameworks previously listed, two are particularly pertinent to military operations:\n",
      "\n",
      "1. **SWOT Analysis**:\n",
      "   - **Usage in Military Intelligence**: The SWOT framework is utilized to evaluate the strengths, weaknesses, opportunities, and threats concerning specific operations, strategic positions, or in broader strategic planning. In the military context, strengths and weaknesses often pertain to the capabilities and limitations of own forces, while opportunities and threats typically focus on the operational environment or the enemy’s capabilities.\n",
      "   - **Benefits**: This analysis helps the military to exploit advantages, shore up weaknesses, capitalize on strategic opportunities, and mitigate external threats. It fosters a comprehensive view that is crucial for operation planning and national security strategy formulation.\n",
      "\n",
      "2. **Cost-Benefit Analysis (CBA)**:\n",
      "   - **Usage in Military Intelligence**: CBA is critical in defense spending, procurement, and logistics to evaluate the financial feasibility and strategic value of various military assets and operations. This includes everything from the acquisition of new technology and systems to decisions about base locations and the deployment of troops.\n",
      "   - **Benefits**: It aids in rationalizing expenditures in defense budgets, ensuring that investments are justified by their expected operational benefits. This is crucial not only from a financial perspective but also for resource allocation efficiency in defense operations.\n",
      "\n",
      "### Additional Insight:\n",
      "\n",
      "While directly listed frameworks like the Decision Matrix and Pareto Analysis are also conceptually used within the military context, they might not be referred as such or might be integrated into more complex military decision-making processes like:\n",
      "- **The Military Decision-Making Process (MDMP)**: An iterative planning methodology that combines rigorous analysis and synthesis to arrive at decisions. Each step can entail elements of the discussed frameworks, adapting them to military needs and integrating them into comprehensive operational plans.\n",
      "- **OODA Loop (Observe, Orient, Decide, Act)**: Developed by military strategist John Boyd, which focuses on rapid decision-making in a competitive environment, aligning with the dynamic analysis and swift decision requirements of military operations.\n",
      "\n",
      "Overall, SWOT and Cost-Benefit Analysis are directly applicable and highly beneficial for structured decision-making in the military intelligence community, helping combine strategic overview with tactical efficiency."
     ]
    }
   ],
   "source": [
    "var simpleDecisionPromptFollowupPartTwo = \"Which of these 5 decision frameworks listed above are used by the military intelligence community?\";\n",
    "\n",
    "chatHistory.AddUserMessage(simpleDecisionPromptFollowupPartTwo);\n",
    "\n",
    "var chatResponse = string.Empty;\n",
    "await foreach (var content in chatCompletionService.GetStreamingChatMessageContentsAsync(chatHistory))\n",
    "{\n",
    "    chatResponse += content;\n",
    "    Console.Write(content);\n",
    "}\n",
    "chatHistory.AddAssistantMessage(chatResponse);"
   ]
  },
  {
   "cell_type": "markdown",
   "metadata": {},
   "source": [
    "### Step 6 - Semantic Kernel inspecting Chat History \n",
    "\n",
    "The Semantic Kernel Chat History is a transparent object that can be inspected and written out. In fact, the ChatHistory object can be manipulated to replay chats from middle interactions to simulate different outcomes.\n",
    "\n",
    "Execute the cell below to write out the Semantic Kernel Chat History of this chat."
   ]
  },
  {
   "cell_type": "code",
   "execution_count": 8,
   "metadata": {
    "dotnet_interactive": {
     "language": "csharp"
    },
    "polyglot_notebook": {
     "kernelName": "csharp"
    },
    "vscode": {
     "languageId": "polyglot-notebook"
    }
   },
   "outputs": [
    {
     "name": "stdout",
     "output_type": "stream",
     "text": [
      "Number of chat interactions: 7\n",
      "# system: You are a decision intelligence assistant. \n",
      "Assist the user in exploring options, reasoning through decisions, problem-solving, and applying systems thinking to various scenarios. \n",
      "Provide structured, logical, and comprehensive advice.\n",
      "# user: Provide five decision frameworks that can help improve the quality of decisions.\n",
      "# assistant: Decision-making is a critical skill in various aspects of life and work, and having robust frameworks can significantly enhance the quality and outcomes of the decisions. Here are five decision frameworks that can aid in this process:\n",
      "\n",
      "1. **SWOT Analysis**:\n",
      "   - **Description**: SWOT stands for Strengths, Weaknesses, Opportunities, and Threats. This framework helps in understanding the internal and external factors that could impact the decision. It's particularly useful in strategic decision-making.\n",
      "   - **Application**: Use this when entering a new market, launching a product, or when decision outcomes can be influenced by external and internal factors. It ensures that you are aware of your capabilities and the environment in which you are operating.\n",
      "   - **Benefits**: Provides a balanced overview of both positive and negative factors and helps in identifying the key elements that could influence the success or failure of a decision.\n",
      "\n",
      "2. **Decision Matrix (Weighted Scoring Model)**:\n",
      "   - **Description**: This framework helps evaluate multiple options based on several predetermined criteria that are weighted according to their importance. Each option is scored against these criteria and the option with the highest weighted score is selected.\n",
      "   - **Application**: Use this method when you have multiple options and need to consider various factors with different levels of importance in your decision. \n",
      "   - **Benefits**: Allows comparative analysis of different options based on relevant, weighted criteria. It adds objectivity to the decision-making process when multiple stakeholders or complex factors are involved.\n",
      "\n",
      "3. **Cost-Benefit Analysis (CBA)**:\n",
      "   - **Description**: This involves listing all potential costs and benefits of a decision, both quantifiable and qualitative, and then calculating the net benefit to aid in decision-making.\n",
      "   - **Application**: Useful in budgetary, financial, or investment decisions, where it is crucial to understand the economic feasibility and impact of different options.\n",
      "   - **Benefits**: Provides a clear picture of the financial viability of a decision. Helps in making informed choices by quantifying the expected returns relative to costs.\n",
      "\n",
      "4. **Pareto Analysis (80/20 Rule)**:\n",
      "   - **Description**: Based on the principle that 80% of effects come from 20% of the causes. This tool is used to prioritize efforts that will yield the most significant results.\n",
      "   - **Application**: Effective in time management, resource allocation, and when aiming to improve productivity or profitability. Prioritize actions that will provide the most substantial benefits.\n",
      "   - **Benefits**: Encourages efficiency and highest impact activities, reducing time spent on less impactful tasks or decisions.\n",
      "\n",
      "5. **Pros and Cons List**:\n",
      "   - **Description**: One of the simplest and most straightforward decision-making frameworks. List down the advantages (pros) and disadvantages (cons) of each option.\n",
      "   - **Application**: Suitable for quickly evaluating everyday decisions where the stakes are not very high, or when trying to simplify more complex decisions to a basic level for clear understanding.\n",
      "   - **Benefits**: Helps in visualizing the positive and negative aspects side-by-side, simplifies complex decisions, promotes thorough examination before making a decision.\n",
      "\n",
      "Each of these frameworks has its strengths and is suited for different types of decision-making situations. Understanding and applying the right framework based on the context can significantly enhance the quality and effectiveness of decisions.\n",
      "# user: Which of these 5 decision frameworks would work best for making a decision to purchase a car. Select only the single best one.\n",
      "# assistant: For making a decision to purchase a car, the **Decision Matrix (Weighted Scoring Model)** is the single best framework among the options provided. This approach stands out because purchasing a car involves evaluating multiple factors, each of which may vary in importance according to your personal needs and preferences. \n",
      "\n",
      "### How to Apply the Decision Matrix to Car Buying:\n",
      "\n",
      "1. **Identify Criteria**: List all factors that are important to you in a car. Common criteria might include fuel efficiency, cost, reliability, brand, design, safety features, resale value, service availability, etc.\n",
      "\n",
      "2. **Weight the Criteria**: Assign a weight to each criterion based on how important it is to you. For example, if safety is a top priority, you might give it a higher weight compared to other less critical features.\n",
      "\n",
      "3. **List the Options**: Write down the car models you are considering. \n",
      "\n",
      "4. **Rate Each Option**: Score each car model against each criterion on a consistent scale (e.g., 1-10). For instance, if one model has excellent fuel efficiency, it might score a 9 under that criterion, whereas a less efficient model scores a 5.\n",
      "\n",
      "5. **Calculate Weighted Scores**: Multiply the score for each criterion by the weight of that criterion. Sum these weighted scores for each car to get a total score.\n",
      "\n",
      "6. **Decision Making**: The car with the highest total score would be the best choice according to the specific criteria and weights you've established.\n",
      "\n",
      "### Benefits of Using the Decision Matrix for Car Buying:\n",
      "\n",
      "- **Personalization**: It tailors the decision to your specific preferences and priorities.\n",
      "- **Comprehensive Evaluation**: Allows for a detailed comparison based on multiple factors, providing a balanced view across different attributes.\n",
      "- **Reduction of Bias**: By quantifying preferences and scores, it reduces emotional or impulsive decisions, focusing on factual criteria assessments.\n",
      "\n",
      "This method ensures that the decision to purchase a car is made rationally and according to your most valued preferences, ultimately aiming to maximize satisfaction with the purchase.\n",
      "# user: Which of these 5 decision frameworks listed above are used by the military intelligence community?\n",
      "# assistant: The military intelligence community frequently employs decision-making frameworks to analyze data and make strategic decisions efficiently and effectively. Among the five frameworks previously listed, two are particularly pertinent to military operations:\n",
      "\n",
      "1. **SWOT Analysis**:\n",
      "   - **Usage in Military Intelligence**: The SWOT framework is utilized to evaluate the strengths, weaknesses, opportunities, and threats concerning specific operations, strategic positions, or in broader strategic planning. In the military context, strengths and weaknesses often pertain to the capabilities and limitations of own forces, while opportunities and threats typically focus on the operational environment or the enemy’s capabilities.\n",
      "   - **Benefits**: This analysis helps the military to exploit advantages, shore up weaknesses, capitalize on strategic opportunities, and mitigate external threats. It fosters a comprehensive view that is crucial for operation planning and national security strategy formulation.\n",
      "\n",
      "2. **Cost-Benefit Analysis (CBA)**:\n",
      "   - **Usage in Military Intelligence**: CBA is critical in defense spending, procurement, and logistics to evaluate the financial feasibility and strategic value of various military assets and operations. This includes everything from the acquisition of new technology and systems to decisions about base locations and the deployment of troops.\n",
      "   - **Benefits**: It aids in rationalizing expenditures in defense budgets, ensuring that investments are justified by their expected operational benefits. This is crucial not only from a financial perspective but also for resource allocation efficiency in defense operations.\n",
      "\n",
      "### Additional Insight:\n",
      "\n",
      "While directly listed frameworks like the Decision Matrix and Pareto Analysis are also conceptually used within the military context, they might not be referred as such or might be integrated into more complex military decision-making processes like:\n",
      "- **The Military Decision-Making Process (MDMP)**: An iterative planning methodology that combines rigorous analysis and synthesis to arrive at decisions. Each step can entail elements of the discussed frameworks, adapting them to military needs and integrating them into comprehensive operational plans.\n",
      "- **OODA Loop (Observe, Orient, Decide, Act)**: Developed by military strategist John Boyd, which focuses on rapid decision-making in a competitive environment, aligning with the dynamic analysis and swift decision requirements of military operations.\n",
      "\n",
      "Overall, SWOT and Cost-Benefit Analysis are directly applicable and highly beneficial for structured decision-making in the military intelligence community, helping combine strategic overview with tactical efficiency.\n"
     ]
    }
   ],
   "source": [
    "Console.WriteLine(\"Number of chat interactions: \" + chatHistory.Count());\n",
    "\n",
    "foreach (var message in chatHistory)\n",
    "{\n",
    "    Console.WriteLine($\"# {message.Role}: {message.Content}\");\n",
    "}"
   ]
  }
 ],
 "metadata": {
  "kernelspec": {
   "display_name": ".NET (C#)",
   "language": "C#",
   "name": ".net-csharp"
  },
  "language_info": {
   "name": "csharp"
  },
  "polyglot_notebook": {
   "kernelInfo": {
    "defaultKernelName": "csharp",
    "items": [
     {
      "aliases": [],
      "name": "csharp"
     }
    ]
   }
  }
 },
 "nbformat": 4,
 "nbformat_minor": 2
}
