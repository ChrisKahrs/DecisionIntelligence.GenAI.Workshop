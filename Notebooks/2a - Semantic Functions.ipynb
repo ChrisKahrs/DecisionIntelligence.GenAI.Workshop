{
 "cells": [
  {
   "cell_type": "code",
   "execution_count": 4,
   "metadata": {
    "dotnet_interactive": {
     "language": "csharp"
    },
    "polyglot_notebook": {
     "kernelName": "csharp"
    },
    "vscode": {
     "languageId": "polyglot-notebook"
    }
   },
   "outputs": [
    {
     "data": {
      "text/html": [
       "<div><div></div><div></div><div><strong>Installed Packages</strong><ul><li><span>Microsoft.Extensions.Configuration, 8.0.0</span></li><li><span>Microsoft.Extensions.Configuration.Json, 8.0.0</span></li><li><span>Microsoft.SemanticKernel, 1.11.0</span></li><li><span>Microsoft.SemanticKernel.Plugins.Core, 1.11.0-alpha</span></li></ul></div></div>"
      ]
     },
     "metadata": {},
     "output_type": "display_data"
    }
   ],
   "source": [
    "#r \"nuget: Microsoft.Extensions.Configuration, 8.0.0\"\n",
    "#r \"nuget: Microsoft.Extensions.Configuration.Json, 8.0.0\"\n",
    "#r \"nuget: Microsoft.SemanticKernel, 1.11.0\"\n",
    "#r \"nuget: Microsoft.SemanticKernel.Plugins.Core, 1.11.0-alpha\"\n",
    "\n",
    "using Microsoft.Extensions.Configuration;\n",
    "using Microsoft.SemanticKernel;\n",
    "using Microsoft.SemanticKernel.ChatCompletion;\n",
    "using Microsoft.SemanticKernel.Connectors.OpenAI;\n",
    "using System.IO;\n",
    "\n",
    "var configurationBuilder = new ConfigurationBuilder()\n",
    "    .SetBasePath(Directory.GetCurrentDirectory())\n",
    "    .AddJsonFile(\"local.settings.json\", optional: true, reloadOnChange: true)\n",
    "    .AddJsonFile(\"secrets.settings.json\", optional: true, reloadOnChange: true);\n",
    "var config = configurationBuilder.Build();\n",
    "\n",
    "var azureOpenAIEndpoint = config[\"AzureOpenAI:Endpoint\"];\n",
    "var azureOpenAIAPIKey = config[\"AzureOpenAI:APIKey\"];\n",
    "var azureOpenAIModelDeploymentName = config[\"AzureOpenAI:ModelDeploymentName\"];"
   ]
  },
  {
   "cell_type": "code",
   "execution_count": 5,
   "metadata": {
    "vscode": {
     "languageId": "polyglot-notebook"
    }
   },
   "outputs": [],
   "source": [
    "var semanticKernel = Kernel.CreateBuilder()\n",
    "    .AddAzureOpenAIChatCompletion(\n",
    "        deploymentName: azureOpenAIModelDeploymentName,\n",
    "        endpoint: azureOpenAIEndpoint,\n",
    "        apiKey: azureOpenAIAPIKey)\n",
    "    .Build();"
   ]
  },
  {
   "cell_type": "code",
   "execution_count": 7,
   "metadata": {
    "vscode": {
     "languageId": "polyglot-notebook"
    }
   },
   "outputs": [
    {
     "name": "stdout",
     "output_type": "stream",
     "text": [
      "1. SWOT Analysis: By evaluating the Strengths, Weaknesses, Opportunities, and Threats associated with a decision, one can better understand potential outcomes and make informed choices.\n",
      "\n",
      "2. Pareto Analysis: This technique involves identifying the vital few factors that will have the greatest impact on the decision outcome and focusing resources on those factors.\n",
      "\n",
      "3. Decision Matrix: Weighting criteria based on their importance and scoring each option against those criteria can help in objectively comparing different choices.\n",
      "\n",
      "4. Cost-Benefit Analysis: Evaluating the costs and benefits associated with each decision option can help in understanding the economic impact and making financially sound decisions.\n",
      "\n",
      "5. Pros and Cons List: Listing the advantages and disadvantages of each option can provide a simple yet effective way to visualize the potential impacts of a decision.\n",
      "\n",
      "6. Scenario Planning: Considering different future scenarios and their implications on the decision can help in making choices that are robust under various circumstances.\n",
      "\n",
      "7. Six Thinking Hats: This technique encourages looking at a decision from different perspectives (logical, emotional, creative, etc.) to ensure a well-rounded evaluation.\n",
      "\n",
      "8. The Delphi Method: Consulting a panel of experts and aggregating their opinions can provide valuable insights and improve the quality of complex decisions.\n",
      "\n",
      "By applying these frameworks, decisions can be made systematically and with a higher likelihood of achieving desired outcomes."
     ]
    }
   ],
   "source": [
    "var decisionPromptTemplate = \"Provide some decision frameworks that can help improve the quality of decisions.\";\n",
    "var semanticDecisionFunction = semanticKernel.CreateFunctionFromPrompt(decisionPromptTemplate);\n",
    "\n",
    "await foreach (var streamChunk in semanticKernel.InvokeStreamingAsync(semanticDecisionFunction))\n",
    "{\n",
    "   Console.Write(streamChunk);\n",
    "}"
   ]
  },
  {
   "cell_type": "code",
   "execution_count": 10,
   "metadata": {
    "vscode": {
     "languageId": "polyglot-notebook"
    }
   },
   "outputs": [
    {
     "name": "stdout",
     "output_type": "stream",
     "text": [
      "1. SWOT Analysis: This framework helps organizations assess their internal strengths and weaknesses, as well as external opportunities and threats. By systematically evaluating these factors, decision-makers can make more informed strategic choices that align with the organization's capabilities and market conditions.\n",
      "\n",
      "2. Balanced Scorecard: This framework helps organizations translate their strategic objectives into a set of performance measures that provide a more comprehensive view of their performance. By considering financial, customer, internal process, and learning and growth perspectives, decision-makers can make more balanced and effective strategic decisions.\n",
      "\n",
      "3. Scenario Planning: This framework involves developing multiple plausible scenarios of the future and analyzing how different strategic decisions might play out in each scenario. By considering a range of potential outcomes, decision-makers can make more robust and adaptable strategic choices that are better prepared for uncertainty and change."
     ]
    }
   ],
   "source": [
    "var openAIPromptExecutionSettings = new OpenAIPromptExecutionSettings { \n",
    "    MaxTokens = 750, \n",
    "    Temperature = 0.1, \n",
    "    TopP = 1.0, \n",
    "    FrequencyPenalty = 0.0, \n",
    "    PresencePenalty = 0.0\n",
    "    };\n",
    "    \n",
    "var decisionPromptTemplate = \"Provide some {{$numberOfFrameworks}} frameworks that can help improve the quality of {{$decisionType}} decisions.\";\n",
    "var semanticDecisionFunctionWithInput = semanticKernel.CreateFunctionFromPrompt(decisionPromptTemplate, openAIPromptExecutionSettings);\n",
    "\n",
    "var kernelArguments = new KernelArguments();\n",
    "kernelArguments.Add(\"numberOfFrameworks\", 3);\n",
    "kernelArguments.Add(\"decisionType\", \"strategic\");\n",
    "\n",
    "await foreach (var streamChunk in semanticKernel.InvokeStreamingAsync(semanticDecisionFunctionWithInput, kernelArguments))\n",
    "{\n",
    "   Console.Write(streamChunk);\n",
    "}"
   ]
  },
  {
   "cell_type": "code",
   "execution_count": 13,
   "metadata": {
    "vscode": {
     "languageId": "polyglot-notebook"
    }
   },
   "outputs": [
    {
     "name": "stdout",
     "output_type": "stream",
     "text": [
      "1. OODA Loop (Observe, Orient, Decide, Act): Developed by military strategist John Boyd, the OODA Loop is a decision-making framework that emphasizes rapid observation and orientation to changing circumstances, followed by swift decision-making and action.\n",
      "\n",
      "2. Rapid Decision Making Model: This framework involves identifying the problem, generating alternative solutions, evaluating the alternatives, choosing the best solution, and implementing the decision quickly. It is designed to streamline the decision-making process and reduce the time taken to act.\n",
      "\n",
      "3. The Recognition-Primed Decision Model (RPD): Developed by Gary Klein, the RPD model is based on the idea that experienced decision-makers use their intuition and pattern recognition skills to make quick decisions. This model involves recognizing familiar patterns and using past experiences to make rapid decisions.\n",
      "\n",
      "4. The Cynefin Framework: This framework helps decision-makers to categorize problems into five domains (simple, complicated, complex, chaotic, and disorder) and choose appropriate decision-making strategies based on the nature of the problem. It aids in quickly understanding the context and selecting the right approach for fast action.\n",
      "\n",
      "5. The Two-Track Mind Model: This framework involves using both intuitive and analytical thinking processes simultaneously to make fast and effective decisions. It encourages decision-makers to rely on their gut feelings for immediate actions while also considering analytical data and logical reasoning to support their choices."
     ]
    }
   ],
   "source": [
    "var kernelArguments = new KernelArguments();\n",
    "kernelArguments.Add(\"numberOfFrameworks\", 5);\n",
    "kernelArguments.Add(\"decisionType\", \"requring fast action\");\n",
    "\n",
    "await foreach (var streamChunk in semanticKernel.InvokeStreamingAsync(semanticDecisionFunctionWithInput, kernelArguments))\n",
    "{\n",
    "   Console.Write(streamChunk);\n",
    "}"
   ]
  }
 ],
 "metadata": {
  "kernelspec": {
   "display_name": ".NET (C#)",
   "language": "C#",
   "name": ".net-csharp"
  },
  "language_info": {
   "name": "csharp"
  },
  "polyglot_notebook": {
   "kernelInfo": {
    "defaultKernelName": "csharp",
    "items": [
     {
      "aliases": [],
      "name": "csharp"
     }
    ]
   }
  }
 },
 "nbformat": 4,
 "nbformat_minor": 2
}
