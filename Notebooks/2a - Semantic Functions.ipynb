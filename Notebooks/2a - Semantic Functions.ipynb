{
 "cells": [
  {
   "cell_type": "code",
   "execution_count": 12,
   "metadata": {
    "dotnet_interactive": {
     "language": "csharp"
    },
    "polyglot_notebook": {
     "kernelName": "csharp"
    },
    "vscode": {
     "languageId": "polyglot-notebook"
    }
   },
   "outputs": [
    {
     "data": {
      "text/html": [
       "<div><div></div><div></div><div><strong>Installed Packages</strong><ul><li><span>Microsoft.Extensions.Configuration, 8.0.0</span></li><li><span>Microsoft.Extensions.Configuration.Json, 8.0.0</span></li><li><span>Microsoft.SemanticKernel, 1.11.1</span></li><li><span>Microsoft.SemanticKernel.Plugins.Core, 1.11.1-alpha</span></li></ul></div></div>"
      ]
     },
     "metadata": {},
     "output_type": "display_data"
    }
   ],
   "source": [
    "#r \"nuget: Microsoft.Extensions.Configuration, 8.0.0\"\n",
    "#r \"nuget: Microsoft.Extensions.Configuration.Json, 8.0.0\"\n",
    "#r \"nuget: Microsoft.SemanticKernel, 1.11.1\"\n",
    "#r \"nuget: Microsoft.SemanticKernel.Plugins.Core, 1.11.1-alpha\"\n",
    "\n",
    "using Microsoft.Extensions.Configuration;\n",
    "using Microsoft.SemanticKernel;\n",
    "using Microsoft.SemanticKernel.ChatCompletion;\n",
    "using Microsoft.SemanticKernel.Connectors.OpenAI;\n",
    "using System.IO;\n",
    "\n",
    "var configurationBuilder = new ConfigurationBuilder()\n",
    "    .SetBasePath(Directory.GetCurrentDirectory())\n",
    "    .AddJsonFile(\"local.settings.json\", optional: true, reloadOnChange: true)\n",
    "    .AddJsonFile(\"secrets.settings.json\", optional: true, reloadOnChange: true);\n",
    "var config = configurationBuilder.Build();\n",
    "\n",
    "var azureOpenAIEndpoint = config[\"AzureOpenAI:Endpoint\"];\n",
    "var azureOpenAIAPIKey = config[\"AzureOpenAI:APIKey\"];\n",
    "var azureOpenAIModelDeploymentName = config[\"AzureOpenAI:ModelDeploymentName\"];"
   ]
  },
  {
   "cell_type": "code",
   "execution_count": 6,
   "metadata": {
    "vscode": {
     "languageId": "polyglot-notebook"
    }
   },
   "outputs": [],
   "source": [
    "var semanticKernel = Kernel.CreateBuilder()\n",
    "    .AddAzureOpenAIChatCompletion(\n",
    "        deploymentName: azureOpenAIModelDeploymentName,\n",
    "        endpoint: azureOpenAIEndpoint,\n",
    "        apiKey: azureOpenAIAPIKey)\n",
    "    .Build();"
   ]
  },
  {
   "cell_type": "code",
   "execution_count": 7,
   "metadata": {
    "vscode": {
     "languageId": "polyglot-notebook"
    }
   },
   "outputs": [
    {
     "name": "stdout",
     "output_type": "stream",
     "text": [
      "1. SWOT Analysis: This framework involves evaluating the Strengths, Weaknesses, Opportunities, and Threats related to a decision. It can help uncover potential risks and benefits and guide strategic decision-making.\n",
      "\n",
      "2. Decision Matrix: This involves creating a matrix to evaluate and compare different options based on specific criteria. Each option is scored based on how well it meets each criterion and the option with the highest score is chosen.\n",
      "\n",
      "3. Cost-Benefit Analysis: This framework involves comparing the costs and benefits of each decision option. It helps decision-makers to choose the option that provides the greatest net benefit.\n",
      "\n",
      "4. Decision Trees: This method visually maps out the different possible outcomes and paths of a decision. It can help decision-makers consider potential consequences and choose the option with the highest expected value.\n",
      "\n",
      "5. Pareto Analysis: This technique uses the 80/20 rule to prioritize decisions based on their impact. It can help focus resources on the most significant issues.\n",
      "\n",
      "6. Six Thinking Hats: This method involves looking at a decision from six different perspectives (emotions, facts, creativity, benefits, caution, and process) to ensure all angles are considered.\n",
      "\n",
      "7. The Delphi Method: This technique involves gathering input from a panel of experts and using their collective knowledge to make informed decisions.\n",
      "\n",
      "By using these frameworks, decision-makers can systematically evaluate options and improve the quality of their decisions."
     ]
    }
   ],
   "source": [
    "var decisionPromptTemplate = \"Provide some decision frameworks that can help improve the quality of decisions.\";\n",
    "var semanticDecisionFunction = semanticKernel.CreateFunctionFromPrompt(decisionPromptTemplate);\n",
    "\n",
    "await foreach (var streamChunk in semanticKernel.InvokeStreamingAsync(semanticDecisionFunction))\n",
    "{\n",
    "   Console.Write(streamChunk);\n",
    "}"
   ]
  },
  {
   "cell_type": "code",
   "execution_count": 9,
   "metadata": {
    "vscode": {
     "languageId": "polyglot-notebook"
    }
   },
   "outputs": [
    {
     "name": "stdout",
     "output_type": "stream",
     "text": [
      "1. SWOT Analysis: This framework helps organizations assess their internal strengths and weaknesses, as well as external opportunities and threats. By identifying these factors, decision-makers can develop strategies that leverage strengths, address weaknesses, capitalize on opportunities, and mitigate threats.\n",
      "\n",
      "2. Balanced Scorecard: This framework helps organizations align their strategic objectives with performance metrics across four perspectives: financial, customer, internal processes, and learning and growth. By monitoring and analyzing these metrics, decision-makers can make informed decisions that drive strategic success and improve overall performance.\n",
      "\n",
      "3. Scenario Planning: This framework involves creating multiple plausible future scenarios based on various factors and uncertainties. By exploring different potential outcomes and their implications, decision-makers can develop flexible strategies that are robust across different scenarios, reducing risk and improving the quality of strategic decisions."
     ]
    }
   ],
   "source": [
    "var openAIPromptExecutionSettings = new OpenAIPromptExecutionSettings { \n",
    "    MaxTokens = 1500, \n",
    "    Temperature = 0.1, \n",
    "    TopP = 1.0, \n",
    "    FrequencyPenalty = 0.0, \n",
    "    PresencePenalty = 0.0\n",
    "    };\n",
    "    \n",
    "var decisionPromptTemplate = \"Provide some {{$numberOfFrameworks}} frameworks that can help improve the quality of {{$decisionType}} decisions.\";\n",
    "var semanticDecisionFunctionWithInput = semanticKernel.CreateFunctionFromPrompt(decisionPromptTemplate, openAIPromptExecutionSettings);\n",
    "\n",
    "var kernelArguments = new KernelArguments();\n",
    "kernelArguments.Add(\"numberOfFrameworks\", 3);\n",
    "kernelArguments.Add(\"decisionType\", \"strategic\");\n",
    "\n",
    "await foreach (var streamChunk in semanticKernel.InvokeStreamingAsync(semanticDecisionFunctionWithInput, kernelArguments))\n",
    "{\n",
    "   Console.Write(streamChunk);\n",
    "}"
   ]
  },
  {
   "cell_type": "code",
   "execution_count": 10,
   "metadata": {
    "vscode": {
     "languageId": "polyglot-notebook"
    }
   },
   "outputs": [
    {
     "name": "stdout",
     "output_type": "stream",
     "text": [
      "1. OODA Loop (Observe, Orient, Decide, Act): Developed by military strategist John Boyd, the OODA Loop is a decision-making framework that emphasizes rapid observation and orientation to make quick and effective decisions in fast-paced environments.\n",
      "\n",
      "2. Rapid Decision Making Model: This framework involves identifying the problem, generating alternative solutions, evaluating the alternatives, choosing the best solution, and implementing the decision quickly. It is designed to streamline the decision-making process and reduce the time needed to take action.\n",
      "\n",
      "3. Recognition-Primed Decision Model (RPD): Developed by Gary Klein, the RPD model is based on the idea that experienced decision-makers use their intuition and pattern recognition skills to make quick decisions. This framework involves recognizing familiar patterns and using past experiences to choose a course of action rapidly.\n",
      "\n",
      "4. Agile Decision-Making: Inspired by agile methodologies used in software development, this framework emphasizes flexibility, collaboration, and iterative decision-making. It involves breaking down decisions into smaller, manageable parts and continuously reassessing and adapting decisions based on new information and feedback.\n",
      "\n",
      "5. Critical Thinking Framework: This framework involves systematically analyzing and evaluating information to make reasoned and well-informed decisions. It includes identifying assumptions, evaluating evidence, considering alternative perspectives, and drawing logical conclusions. By enhancing critical thinking skills, decision-makers can improve their ability to make fast and effective decisions under pressure."
     ]
    }
   ],
   "source": [
    "var kernelArguments = new KernelArguments();\n",
    "kernelArguments.Add(\"numberOfFrameworks\", 5);\n",
    "kernelArguments.Add(\"decisionType\", \"requring fast action\");\n",
    "\n",
    "await foreach (var streamChunk in semanticKernel.InvokeStreamingAsync(semanticDecisionFunctionWithInput, kernelArguments))\n",
    "{\n",
    "   Console.Write(streamChunk);\n",
    "}"
   ]
  },
  {
   "cell_type": "code",
   "execution_count": 11,
   "metadata": {
    "vscode": {
     "languageId": "polyglot-notebook"
    }
   },
   "outputs": [],
   "source": []
  }
 ],
 "metadata": {
  "kernelspec": {
   "display_name": ".NET (C#)",
   "language": "C#",
   "name": ".net-csharp"
  },
  "language_info": {
   "name": "csharp"
  },
  "polyglot_notebook": {
   "kernelInfo": {
    "defaultKernelName": "csharp",
    "items": [
     {
      "aliases": [],
      "name": "csharp"
     }
    ]
   }
  }
 },
 "nbformat": 4,
 "nbformat_minor": 2
}
