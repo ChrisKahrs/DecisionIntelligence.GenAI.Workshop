{
 "cells": [
  {
   "cell_type": "markdown",
   "metadata": {},
   "source": [
    "This setup will be repeated throughout each of the notebooks to ensure they are re-runnable from beginning to end."
   ]
  },
  {
   "cell_type": "markdown",
   "metadata": {},
   "source": [
    "### Step 1 - Configuration Builder\n",
    "\n",
    "In this step Microsoft NuGet packages are installed, so that you can create access to your resources using API keys. These keys should be protected and not checked in. Therefore, the secrets.settings.json is ignored in the .gitignore and is the place you should add the API key information. You will need:\n",
    "* Azure OpenAI - Model Deployment Name, Endpoint URL and the API Key\n",
    "* Bing Web Search - API Key (this is used for internet grounding)\n",
    "\n",
    "Use the local.settings.json template to create the secrets.settings.json\n",
    "```javascript\n",
    "{\n",
    "  \"AzureOpenAI\": {\n",
    "    \"Endpoint\": \"https://YOURENDPOINT.openai.azure.com\",\n",
    "    \"APIKey\": \"AZUREOPENAIAPIKEY\",\n",
    "    \"ModelDeploymentName\": \"MODELDEPLOYMENTNAME\"\n",
    "  },\n",
    "  \"BingSearch\": {\n",
    "    \"APIKey\": \"BINGSEARCHAPIKEY\"\n",
    "  }\n",
    "}\n",
    "```  "
   ]
  },
  {
   "cell_type": "code",
   "execution_count": 1,
   "metadata": {
    "dotnet_interactive": {
     "language": "csharp"
    },
    "polyglot_notebook": {
     "kernelName": "csharp"
    },
    "vscode": {
     "languageId": "polyglot-notebook"
    }
   },
   "outputs": [
    {
     "data": {
      "text/html": [
       "<div><div></div><div></div><div><strong>Installed Packages</strong><ul><li><span>Microsoft.Extensions.Configuration, 8.0.0</span></li><li><span>Microsoft.Extensions.Configuration.Json, 8.0.0</span></li></ul></div></div>"
      ]
     },
     "metadata": {},
     "output_type": "display_data"
    }
   ],
   "source": [
    "#r \"nuget: Microsoft.Extensions.Configuration, 8.0.0\"\n",
    "#r \"nuget: Microsoft.Extensions.Configuration.Json, 8.0.0\"\n",
    "\n",
    "using Microsoft.Extensions.Configuration;\n",
    "using System.IO;\n",
    "\n",
    "var configurationBuilder = new ConfigurationBuilder()\n",
    "    .SetBasePath(Directory.GetCurrentDirectory())\n",
    "    .AddJsonFile(\"local.settings.json\", optional: true, reloadOnChange: true)\n",
    "    .AddJsonFile(\"secrets.settings.json\", optional: true, reloadOnChange: true);\n",
    "var config = configurationBuilder.Build();\n"
   ]
  },
  {
   "cell_type": "markdown",
   "metadata": {},
   "source": [
    "### Step 2 - Test Configuration\n",
    "\n",
    "If the keys were properly entered in the JSON file, they should be available to be loaded.  \n",
    "Note: If you run the cell, ensure to clear out the output not to cache nor persist any API keys in the output."
   ]
  },
  {
   "cell_type": "code",
   "execution_count": 2,
   "metadata": {
    "dotnet_interactive": {
     "language": "csharp"
    },
    "polyglot_notebook": {
     "kernelName": "csharp"
    },
    "vscode": {
     "languageId": "polyglot-notebook"
    }
   },
   "outputs": [],
   "source": [
    "var azureOpenAIEndpoint = config[\"AzureOpenAI:Endpoint\"];\n",
    "var azureOpenAIAPIKey = config[\"AzureOpenAI:APIKey\"];\n",
    "var azureOpenAIModelDeploymentName = config[\"AzureOpenAI:ModelDeploymentName\"];\n",
    "\n",
    "// Test the configuration\n",
    "//Console.WriteLine(azureOpenAIEndpoint);\n",
    "//Console.WriteLine(azureOpenAIAPIKey);\n",
    "//Console.WriteLine(azureOpenAIModelDeploymentName);"
   ]
  },
  {
   "cell_type": "markdown",
   "metadata": {},
   "source": [
    "### Step 3 - Install Semantic Kernel Package\n",
    "\n",
    "This is just a test to show the installation some Semantic Kernel packages. Note that Semantic Kernel includes a variety of packages with different release state lifecycles. Some packages are in alpha state or even experimental."
   ]
  },
  {
   "cell_type": "code",
   "execution_count": 4,
   "metadata": {
    "dotnet_interactive": {
     "language": "csharp"
    },
    "polyglot_notebook": {
     "kernelName": "csharp"
    },
    "vscode": {
     "languageId": "polyglot-notebook"
    }
   },
   "outputs": [
    {
     "data": {
      "text/html": [
       "<div><div></div><div></div><div><strong>Installed Packages</strong><ul><li><span>Microsoft.SemanticKernel, 1.11.1</span></li><li><span>Microsoft.SemanticKernel.Plugins.Core, 1.11.1-alpha</span></li><li><span>Microsoft.SemanticKernel.Plugins.Web, 1.11.1-alpha</span></li></ul></div></div>"
      ]
     },
     "metadata": {},
     "output_type": "display_data"
    }
   ],
   "source": [
    "#r \"nuget: Microsoft.SemanticKernel, 1.11.1\"\n",
    "#r \"nuget: Microsoft.SemanticKernel.Plugins.Core, 1.11.1-alpha\"\n",
    "#r \"nuget: Microsoft.SemanticKernel.Plugins.Web, 1.11.1-alpha\"\n",
    "\n",
    "using Microsoft.SemanticKernel;\n",
    "\n",
    "// Sample code to create a semantic kernel builder, checking if the packages installed\n",
    "var semanticKernelBuilder = Kernel.CreateBuilder();"
   ]
  }
 ],
 "metadata": {
  "kernelspec": {
   "display_name": ".NET (C#)",
   "language": "C#",
   "name": ".net-csharp"
  },
  "language_info": {
   "name": "csharp"
  },
  "polyglot_notebook": {
   "kernelInfo": {
    "defaultKernelName": "csharp",
    "items": [
     {
      "aliases": [],
      "name": "csharp"
     }
    ]
   }
  }
 },
 "nbformat": 4,
 "nbformat_minor": 2
}
