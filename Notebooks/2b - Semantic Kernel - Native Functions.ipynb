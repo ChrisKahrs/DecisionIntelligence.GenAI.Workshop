{
 "cells": [
  {
   "cell_type": "markdown",
   "metadata": {},
   "source": [
    "## Semantic Kernel - Native Functions\n",
    "\n",
    "Native Functions provide the ability for Semantic Kernel to orchestrate plans, agents and reasoning paths using native functions (methods) of the language runtimes of C#, Python or Java. This allows AI architects to re-purpose existing business processes, APIs and other complex tasks that require a programming language. \n",
    "\n",
    "For example, you may want to expose a native function that has access to a database or calls an API into business data. This is not possible currently with semantic functions and AI prompts.\n",
    "\n",
    "Learn more about Semantic Kernel Native Functions: https://learn.microsoft.com/en-us/semantic-kernel/agents/plugins/using-the-kernelfunction-decorator?tabs=Csharp "
   ]
  },
  {
   "cell_type": "markdown",
   "metadata": {},
   "source": [
    "### Step 1 - Initialize Configuration Builder & Build the Semantic Kernel Orchestration\n",
    "\n",
    "Execute the next two cells to:\n",
    "* Use the Configuration Builder to load the API secrets.  \n",
    "* Use the API configuration to build the Semantic Kernel orchestrator."
   ]
  },
  {
   "cell_type": "code",
   "execution_count": 1,
   "metadata": {
    "dotnet_interactive": {
     "language": "csharp"
    },
    "polyglot_notebook": {
     "kernelName": "csharp"
    },
    "vscode": {
     "languageId": "polyglot-notebook"
    }
   },
   "outputs": [
    {
     "data": {
      "text/html": [
       "<div><div></div><div></div><div><strong>Installed Packages</strong><ul><li><span>Microsoft.Extensions.Configuration.Json, 8.0.0</span></li><li><span>Microsoft.SemanticKernel, 1.11.1</span></li><li><span>Microsoft.SemanticKernel.Plugins.Core, 1.11.1-alpha</span></li></ul></div></div>"
      ]
     },
     "metadata": {},
     "output_type": "display_data"
    }
   ],
   "source": [
    "#r \"nuget: Microsoft.Extensions.Configuration.Json, 8.0.0\"\n",
    "#r \"nuget: Microsoft.SemanticKernel, 1.11.1\"\n",
    "#r \"nuget: Microsoft.SemanticKernel.Plugins.Core, 1.11.1-alpha\"\n",
    "\n",
    "using Microsoft.Extensions.Configuration;\n",
    "using Microsoft.SemanticKernel;\n",
    "using Microsoft.SemanticKernel.ChatCompletion;\n",
    "using Microsoft.SemanticKernel.Connectors.OpenAI;\n",
    "using System.IO;\n",
    "\n",
    "var configurationBuilder = new ConfigurationBuilder()\n",
    "    .SetBasePath(Directory.GetCurrentDirectory())\n",
    "    .AddJsonFile(\"local.settings.json\", optional: true, reloadOnChange: true)\n",
    "    .AddJsonFile(\"secrets.settings.json\", optional: true, reloadOnChange: true);\n",
    "var config = configurationBuilder.Build();\n",
    "\n",
    "var azureOpenAIEndpoint = config[\"AzureOpenAI:Endpoint\"];\n",
    "var azureOpenAIAPIKey = config[\"AzureOpenAI:APIKey\"];\n",
    "var azureOpenAIModelDeploymentName = config[\"AzureOpenAI:ModelDeploymentName\"];"
   ]
  },
  {
   "cell_type": "code",
   "execution_count": 2,
   "metadata": {
    "dotnet_interactive": {
     "language": "csharp"
    },
    "polyglot_notebook": {
     "kernelName": "csharp"
    },
    "vscode": {
     "languageId": "polyglot-notebook"
    }
   },
   "outputs": [],
   "source": [
    "var semanticKernel = Kernel.CreateBuilder()\n",
    "    .AddAzureOpenAIChatCompletion(\n",
    "        deploymentName: azureOpenAIModelDeploymentName,\n",
    "        endpoint: azureOpenAIEndpoint,\n",
    "        apiKey: azureOpenAIAPIKey)\n",
    "    .Build();"
   ]
  },
  {
   "cell_type": "code",
   "execution_count": 3,
   "metadata": {
    "dotnet_interactive": {
     "language": "csharp"
    },
    "polyglot_notebook": {
     "kernelName": "csharp"
    },
    "vscode": {
     "languageId": "polyglot-notebook"
    }
   },
   "outputs": [
    {
     "name": "stdout",
     "output_type": "stream",
     "text": [
      "Price's Law\r\n"
     ]
    }
   ],
   "source": [
    "var nameOfProductivityFramework = semanticKernel.CreateFunctionFromMethod(() => \"Price's Law\", \"GetNameOfProductivityFramework\", \"Retrieves the name of the Productivity Framework to use.\");\n",
    "\n",
    "var response = await semanticKernel.InvokeAsync(nameOfProductivityFramework);\n",
    "Console.WriteLine(response);"
   ]
  },
  {
   "cell_type": "code",
   "execution_count": 6,
   "metadata": {
    "dotnet_interactive": {
     "language": "csharp"
    },
    "polyglot_notebook": {
     "kernelName": "csharp"
    },
    "vscode": {
     "languageId": "polyglot-notebook"
    }
   },
   "outputs": [
    {
     "name": "stdout",
     "output_type": "stream",
     "text": [
      "Price's Law\n",
      "Pareto Principle\n"
     ]
    }
   ],
   "source": [
    "var nameOfProductivityFramework = semanticKernel.CreateFunctionFromMethod((string typeOfProductivity) => (typeOfProductivity == \"Sales\") ? \"Price's Law\" : \"Pareto Principle\", \"GetNameOfProductivityFramework\", \"Retrieves the name of the Productivity Framework to use.\");\n",
    "\n",
    "var kernelArguments = new KernelArguments()\n",
    "{\n",
    "    [\"typeOfProductivity\"] = \"Sales\"\n",
    "};\n",
    "var response = await semanticKernel.InvokeAsync(nameOfProductivityFramework, kernelArguments);\n",
    "Console.WriteLine(response);\n",
    "\n",
    "var kernelArgumentsOther = new KernelArguments()\n",
    "{\n",
    "    [\"typeOfProductivity\"] = \"Other\"\n",
    "};\n",
    "var responseOther = await semanticKernel.InvokeAsync(nameOfProductivityFramework, kernelArgumentsOther);\n",
    "Console.WriteLine(responseOther);"
   ]
  }
 ],
 "metadata": {
  "kernelspec": {
   "display_name": ".NET (C#)",
   "language": "C#",
   "name": ".net-csharp"
  },
  "language_info": {
   "name": "csharp"
  },
  "polyglot_notebook": {
   "kernelInfo": {
    "defaultKernelName": "csharp",
    "items": [
     {
      "aliases": [],
      "name": "csharp"
     }
    ]
   }
  }
 },
 "nbformat": 4,
 "nbformat_minor": 2
}
