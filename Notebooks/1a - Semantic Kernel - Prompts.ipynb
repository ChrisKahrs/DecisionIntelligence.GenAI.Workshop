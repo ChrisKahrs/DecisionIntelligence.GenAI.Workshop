{
 "cells": [
  {
   "cell_type": "markdown",
   "metadata": {},
   "source": [
    "<img style=\"float: left;\" width =\"40px\" src=\"https://raw.githubusercontent.com/bartczernicki/DecisionIntelligence.GenAI.Workshop/main/Images/SemanticKernelLogo.png\">\n",
    "\n",
    "## Semantic Kernel - Prompts"
   ]
  },
  {
   "cell_type": "markdown",
   "metadata": {},
   "source": [
    "Decision Intelligence applied in this module:\n",
    "* Listing of various Decision-Making frameworks and with their descriptions  \n",
    "* Understanding the built-in (trained) Decision Intelligence capabilities of GenAI LLMs"
   ]
  },
  {
   "cell_type": "markdown",
   "metadata": {},
   "source": [
    "Prompts are the fundemental building block to getting the proper responses from AI models. This module demonstrates how to use common prompt engineering techniques while using Semantic Kernel. If you've ever used ChatGPT or Microsoft Copilot, you're already familiar with prompting. Given a prompt instruction, an LLM will attempt to predict the most likely response. With Semantic Kernel, you can craft applications, services & APIs that execute prompts.  \n",
    "\n",
    "For more information on using prompts with Semantic Kernel, visit: https://learn.microsoft.com/en-us/semantic-kernel/prompts/your-first-prompt  "
   ]
  },
  {
   "cell_type": "markdown",
   "metadata": {},
   "source": [
    "### Step 1 - Initialize Configuration Builder & Build the Semantic Kernel Orchestration\n",
    "\n",
    "Execute the next two cells to:\n",
    "* Use the Configuration Builder to load the API secrets.  \n",
    "* Use the API configuration to build the Semantic Kernel orchestrator."
   ]
  },
  {
   "cell_type": "code",
   "execution_count": 1,
   "metadata": {
    "dotnet_interactive": {
     "language": "csharp"
    },
    "polyglot_notebook": {
     "kernelName": "csharp"
    },
    "vscode": {
     "languageId": "polyglot-notebook"
    }
   },
   "outputs": [
    {
     "data": {
      "text/html": [
       "<div><div></div><div></div><div><strong>Installed Packages</strong><ul><li><span>Microsoft.Extensions.Configuration, 8.0.0</span></li><li><span>Microsoft.Extensions.Configuration.Json, 8.0.0</span></li></ul></div></div>"
      ]
     },
     "metadata": {},
     "output_type": "display_data"
    }
   ],
   "source": [
    "// Import the required NuGet configuration packages\n",
    "#r \"nuget: Microsoft.Extensions.Configuration, 8.0.0\"\n",
    "#r \"nuget: Microsoft.Extensions.Configuration.Json, 8.0.0\"\n",
    "\n",
    "using Microsoft.Extensions.Configuration;\n",
    "using System.IO;\n",
    "\n",
    "// Load the configuration settings from the local.settings.json and secrets.settings.json files\n",
    "// The secrets.settings.json file is used to store sensitive information such as API keys\n",
    "var configurationBuilder = new ConfigurationBuilder()\n",
    "    .SetBasePath(Directory.GetCurrentDirectory())\n",
    "    .AddJsonFile(\"local.settings.json\", optional: true, reloadOnChange: true)\n",
    "    .AddJsonFile(\"secrets.settings.json\", optional: true, reloadOnChange: true);\n",
    "var config = configurationBuilder.Build();\n",
    "\n",
    "// IMPORTANT: You ONLY NEED either Azure OpenAI or OpenAI connectiopn info, not both.\n",
    "// Azure OpenAI Connection Info\n",
    "var azureOpenAIEndpoint = config[\"AzureOpenAI:Endpoint\"];\n",
    "var azureOpenAIAPIKey = config[\"AzureOpenAI:APIKey\"];\n",
    "var azureOpenAIModelDeploymentName = config[\"AzureOpenAI:ModelDeploymentName\"];\n",
    "// OpenAI Connection Info \n",
    "var openAIAPIKey = config[\"OpenAI:APIKey\"];\n",
    "var openAIModelId = config[\"OpenAI:ModelId\"];"
   ]
  },
  {
   "cell_type": "code",
   "execution_count": 2,
   "metadata": {
    "dotnet_interactive": {
     "language": "csharp"
    },
    "polyglot_notebook": {
     "kernelName": "csharp"
    },
    "vscode": {
     "languageId": "polyglot-notebook"
    }
   },
   "outputs": [
    {
     "data": {
      "text/html": [
       "<div><div></div><div></div><div><strong>Installed Packages</strong><ul><li><span>Microsoft.SemanticKernel, 1.13.0</span></li></ul></div></div>"
      ]
     },
     "metadata": {},
     "output_type": "display_data"
    },
    {
     "name": "stdout",
     "output_type": "stream",
     "text": [
      "Using Azure OpenAI Service\r\n"
     ]
    }
   ],
   "source": [
    "// Import the Semantic Kernel NuGet package\n",
    "#r \"nuget: Microsoft.SemanticKernel, 1.13.0\"\n",
    "\n",
    "using Microsoft.SemanticKernel;\n",
    "using Microsoft.SemanticKernel.ChatCompletion;\n",
    "using Microsoft.SemanticKernel.Connectors.OpenAI;\n",
    "\n",
    "Kernel semanticKernel;\n",
    "\n",
    "// Set the flag to use Azure OpenAI or OpenAI. False to use OpenAI, True to use Azure OpenAI\n",
    "var useAzureOpenAI = true;\n",
    "\n",
    "// Create a new Semantic Kernel instance\n",
    "if (useAzureOpenAI)\n",
    "{\n",
    "    Console.WriteLine(\"Using Azure OpenAI Service\");\n",
    "    semanticKernel = Kernel.CreateBuilder()\n",
    "        .AddAzureOpenAIChatCompletion(\n",
    "            deploymentName: azureOpenAIModelDeploymentName,\n",
    "            endpoint: azureOpenAIEndpoint,\n",
    "            apiKey: azureOpenAIAPIKey)\n",
    "        .Build();\n",
    "}\n",
    "else\n",
    "{\n",
    "    Console.WriteLine(\"Using OpenAI Service\");\n",
    "    semanticKernel = Kernel.CreateBuilder()\n",
    "        .AddOpenAIChatCompletion(\n",
    "            modelId: openAIModelId,\n",
    "            apiKey: openAIAPIKey)\n",
    "        .Build();\n",
    "}"
   ]
  },
  {
   "cell_type": "markdown",
   "metadata": {},
   "source": [
    "### Step 2 - Execute a Semantic Kernel Prompt\n",
    "\n",
    "> \"In preparing for battle, I have always found that plans are useless, but planning is indispensable.\" \n",
    ">\n",
    "> -- <cite>Dwight D Eisenhower (US President and WW2 Supreme Commander of Allied Forces)</cite>  \n",
    "\n",
    "Many LLMs and even SLMs have been trained on knowledge that includes decision frameworks & processes. This makes LLMs great assistants to:\n",
    "* Provide proper decision frames\n",
    "* Gather the information & intelligence in order to make a decision\n",
    "* Recommend decision frameworks to make a high-quality decision\n",
    "* Provide feedback to evaluate a decision\n",
    "\n",
    "Once the Semantic Kernel instance is built, it is ready to intake prompt instructions. In the prompt below, the Semantic Kernel is instructed to provide examples of decision frameworks. "
   ]
  },
  {
   "cell_type": "code",
   "execution_count": 3,
   "metadata": {
    "dotnet_interactive": {
     "language": "csharp"
    },
    "polyglot_notebook": {
     "kernelName": "csharp"
    },
    "vscode": {
     "languageId": "polyglot-notebook"
    }
   },
   "outputs": [
    {
     "name": "stdout",
     "output_type": "stream",
     "text": [
      "Certainly! Here's a list of decision frameworks that can be used to improve the quality and effectiveness of decision-making:\n",
      "\n",
      "1. **SWOT Analysis (Strengths, Weaknesses, Opportunities, Threats)**:\n",
      "   - Helps in understanding the internal and external factors that could influence a decision.\n",
      "\n",
      "2. **PEST Analysis (Political, Economic, Social, Technological)**:\n",
      "   - Provides a macro-environment perspective by analyzing external factors that might impact decision-making.\n",
      "\n",
      "3. **Mind Mapping**:\n",
      "   - Visual tool to organize information, see relationships, and generate creative solutions.\n",
      "\n",
      "4. **Decision Matrix (or Pugh Matrix)**:\n",
      "   - Evaluates and prioritizes options using a set of weighted criteria.\n",
      "\n",
      "5. **Cost-Benefit Analysis**:\n",
      "   - Assesses the financial implications of different options by comparing their costs and benefits.\n",
      "\n",
      "6. **Pareto Analysis (80/20 Rule)**:\n",
      "   - Focuses on identifying the most significant factors in decision-making, based on the principle that 80% of effects come from 20% of causes.\n",
      "\n",
      "7. **Fishbone Diagram (Ishikawa or Cause-and-Effect Diagram)**:\n",
      "   - Identifies root causes of a problem to address underlying issues rather than symptoms.\n",
      "\n",
      "8. **Six Thinking Hats**:\n",
      "   - Encourages looking at a decision from multiple perspectives (logical, emotional, creative, etc.) to get a balanced view.\n",
      "\n",
      "9. **Kepner-Tregoe Decision Analysis**:\n",
      "   - Structured approach for evaluating various alternatives against defined criteria.\n",
      "\n",
      "10. **Pros and Cons List**:\n",
      "    - Simple framework to weigh the advantages and disadvantages of different options.\n",
      "\n",
      "11. **Grid Analysis (Weighted Scoring Model)**:\n",
      "    - Similar to a decision matrix but typically more detailed and nuanced, taking multiple criteria into account.\n",
      "\n",
      "12. **Vroom-Yetton-Jago Decision Model**:\n",
      "    - Diagnoses the best leadership style and collaboration level needed for making the decision.\n",
      "\n",
      "13. **OODA Loop (Observe, Orient, Decide, Act)**:\n",
      "    - Dynamic decision-making process particularly useful in fast-changing situations.\n",
      "\n",
      "14. **Monte Carlo Simulation**:\n",
      "    - Uses probabilistic modeling to predict outcomes and assess risks in decision-making.\n",
      "\n",
      "15. **Analytical Hierarchy Process (AHP)**:\n",
      "    - Breaks down decision-making into a series of pairwise comparisons to quantify subjective criteria.\n",
      "\n",
      "16. **Force Field Analysis**:\n",
      "    - Analyzes the forces for and against a change to help understand the driving and resisting factors.\n",
      "\n",
      "17. **Delphi Method**:\n",
      "    - Uses a series of questionnaires to gather and distill expert opinions to reach a consensus.\n",
      "\n",
      "18. **Scenario Planning**:\n",
      "    - Imagines and assesses different future scenarios to guide decision-making under uncertainty.\n",
      "\n",
      "19. **Empirical Decision Tree**:\n",
      "    - Uses historical data to create a model that helps predict the best course of action based on probabilities.\n",
      "\n",
      "20. **FMEA (Failure Modes and Effects Analysis)**:\n",
      "    - Identifies potential failure points in a process and evaluates their impact to mitigate risks.\n",
      "\n",
      "By leveraging these decision frameworks, individuals and organizations can approach decision-making in a more structured, balanced, and informed manner, ultimately leading to better outcomes.\r\n"
     ]
    }
   ],
   "source": [
    "// Simple prompt to list some decision frameworks this GenAI LLM is familiar with\n",
    "var simplePrompt = \"\"\"\n",
    "Provide a list of decision frameworks that can help improve the quality of decisions.\n",
    "\"\"\";\n",
    "\n",
    "var simplePromptResponse = await semanticKernel.InvokePromptAsync(simplePrompt);\n",
    "Console.WriteLine(simplePromptResponse.GetValue<string>());"
   ]
  },
  {
   "cell_type": "markdown",
   "metadata": {},
   "source": [
    "### Step 3 - Execute a Semantic Kernel Prompt with Streaming\n",
    "\n",
    "Semantic Kernel supports prompt response streaming when invoking the prompt. This allows responses to be streamed to the client as soon as they are made available by the LLM and service. Below the same decision prompt is executed. However, notice that chunks are streamed and can be read by the user as soon as they appear. "
   ]
  },
  {
   "cell_type": "code",
   "execution_count": 4,
   "metadata": {
    "dotnet_interactive": {
     "language": "csharp"
    },
    "polyglot_notebook": {
     "kernelName": "csharp"
    },
    "vscode": {
     "languageId": "polyglot-notebook"
    }
   },
   "outputs": [
    {
     "name": "stdout",
     "output_type": "stream",
     "text": [
      "Certainly! Here are several decision frameworks that can help improve the quality of decisions:\n",
      "\n",
      "1. **SWOT Analysis**: \n",
      "   - **Strengths**\n",
      "   - **Weaknesses**\n",
      "   - **Opportunities**\n",
      "   - **Threats**\n",
      "   This framework helps in understanding both internal and external factors that could impact the decision.\n",
      "\n",
      "2. **Cost-Benefit Analysis (CBA)**:\n",
      "   - This involves comparing the costs and benefits of different choices to see which option brings the most net benefit.\n",
      "\n",
      "3. **Decision Matrix (Grid Analysis)**:\n",
      "   - A tool for evaluating multiple options against a set of criteria to identify the best one.\n",
      "\n",
      "4. **Six Thinking Hats**:\n",
      "   - A method allowing different perspectives to be used systematically in decision-making.\n",
      "   - **White Hat**: Information and data\n",
      "   - **Red Hat**: Emotions\n",
      "   - **Black Hat**: Caution and critical thinking\n",
      "   - **Yellow Hat**: Optimism\n",
      "   - **Green Hat**: Creativity\n",
      "   - **Blue Hat**: Process control\n",
      "\n",
      "5. **Pareto Analysis**:\n",
      "   - Uses the 80/20 rule to focus on the most important factors contributing to a decision.\n",
      "\n",
      "6. **Pros and Cons List**:\n",
      "   - Simply lists the advantages and disadvantages of different options to make the decision clearer.\n",
      "\n",
      "7. **Mind Mapping**:\n",
      "   - Visual tool that maps out different aspects of a decision around a central concept to explore all possible considerations.\n",
      "\n",
      "8. **Force Field Analysis**:\n",
      "   - Identifies and analyzes the forces for and against a change or decision to understand the balance of power.\n",
      "\n",
      "9. **ABC Analysis**:\n",
      "   - Prioritizes tasks or options based on importance and impact, often used in inventory management but also for decision-making.\n",
      "\n",
      "10. **Rational Decision-Making Model**:\n",
      "    - A structured, multi-step approach to decision-making that involves defining the problem, identifying the criteria, weighing those criteria, generating alternatives, assessing the alternatives, and choosing the best one.\n",
      "\n",
      "11. **Vroom-Yetton-Jago Decision Model**:\n",
      "    - A situational leadership framework that guides when to make decisions autocratically or inclusively with team input.\n",
      "\n",
      "12. **Kepner-Tregoe Matrix**:\n",
      "    - A systematic process for problem-solving and decision-making that involves situational analysis, problem analysis, decision analysis, and potential problem analysis.\n",
      "\n",
      "13. **OODA Loop**:\n",
      "    - Developed by military strategist John Boyd, it stands for Observe, Orient, Decide, and Act. It's a cycle designed to focus on fast and adaptive decision-making.\n",
      "\n",
      "14. **PMI (Plus/Minus/Interesting) Analysis**:\n",
      "    - A brainstorming tool that helps explore the positive, negative, and interesting aspects of each option.\n",
      "\n",
      "15. **Bayesian Decision Theory**:\n",
      "    - A mathematical approach that incorporates probabilities for uncertain events, aiding in making more informed decisions under uncertainty.\n",
      "\n",
      "16. **Monte Carlo Simulation**:\n",
      "    - Uses random sampling and statistical modeling to estimate the outcomes of different decisions.\n",
      "\n",
      "17. **Multi-Criteria Decision Analysis (MCDA)**:\n",
      "    - A method that evaluates multiple criteria in decision-making, often used where decisions are complex and multifaceted.\n",
      "\n",
      "Using these frameworks can offer structured, methodical ways to approach complex decisions, improve clarity, and enhance the likelihood of achieving optimal outcomes."
     ]
    }
   ],
   "source": [
    "// Stream the response\n",
    "await foreach (var streamChunk in semanticKernel.InvokePromptStreamingAsync(simplePrompt))\n",
    "{\n",
    "   Console.Write(streamChunk);\n",
    "}"
   ]
  },
  {
   "cell_type": "markdown",
   "metadata": {},
   "source": [
    "### Step 4 - Execute a Semantic Kernel Prompt with a Custom Prompt Execution Configuration\n",
    "\n",
    "Semantic Kernel supports the configuration of prompt execution. The typical OpenAI and Azure OpenAI settings are exposed as configuration options that provide a different prompt experience. Try changing the MaxTokens, Tempature or other settings.  \n",
    "\n",
    "In the setting below, the Tempature was lowered to 0.1 which instructs the LLM to be more deterministic and less creative.   "
   ]
  },
  {
   "cell_type": "code",
   "execution_count": 6,
   "metadata": {
    "dotnet_interactive": {
     "language": "csharp"
    },
    "polyglot_notebook": {
     "kernelName": "csharp"
    },
    "vscode": {
     "languageId": "polyglot-notebook"
    }
   },
   "outputs": [
    {
     "name": "stdout",
     "output_type": "stream",
     "text": [
      "Certainly! Here are several decision frameworks that can help improve the quality of decisions:\n",
      "\n",
      "1. **SWOT Analysis**:\n",
      "   - **Strengths**: Identify internal strengths.\n",
      "   - **Weaknesses**: Identify internal weaknesses.\n",
      "   - **Opportunities**: Identify external opportunities.\n",
      "   - **Threats**: Identify external threats.\n",
      "\n",
      "2. **PEST Analysis**:\n",
      "   - **Political**: Consider political factors.\n",
      "   - **Economic**: Consider economic factors.\n",
      "   - **Social**: Consider social factors.\n",
      "   - **Technological**: Consider technological factors.\n",
      "\n",
      "3. **Decision Matrix (Weighted Scoring Model)**:\n",
      "   - List options and criteria.\n",
      "   - Assign weights to criteria based on importance.\n",
      "   - Score each option against each criterion.\n",
      "   - Calculate weighted scores to determine the best option.\n",
      "\n",
      "4. **Cost-Benefit Analysis**:\n",
      "   - Identify all costs and benefits associated with each option.\n",
      "   - Quantify costs and benefits in monetary terms.\n",
      "   - Compare the total costs and benefits to determine the most advantageous option.\n",
      "\n",
      "5. **Pareto Analysis (80/20 Rule)**:\n",
      "   - Identify the key factors that will have the most significant impact.\n",
      "   - Focus on the 20% of factors that will produce 80% of the results.\n",
      "\n",
      "6. **Six Thinking Hats** (Edward de Bono):\n",
      "   - **White Hat**: Focus on data and information.\n",
      "   - **Red Hat**: Consider emotions and feelings.\n",
      "   - **Black Hat**: Identify potential problems and risks.\n",
      "   - **Yellow Hat**: Focus on benefits and feasibility.\n",
      "   - **Green Hat**: Encourage creativity and new ideas.\n",
      "   - **Blue Hat**: Manage the decision-making process.\n",
      "\n",
      "7. **OODA Loop (John Boyd)**:\n",
      "   - **Observe**: Gather information.\n",
      "   - **Orient**: Analyze and synthesize information.\n",
      "   - **Decide**: Make a decision based on the analysis.\n",
      "   - **Act**: Implement the decision.\n",
      "\n",
      "8. **Kepner-Tregoe Decision Analysis**:\n",
      "   - **Situation Analysis**: Clarify the situation.\n",
      "   - **Problem Analysis**: Identify the root cause of the problem.\n",
      "   - **Decision Analysis**: Evaluate alternatives and make a decision.\n",
      "   - **Potential Problem Analysis**: Identify potential problems and plan for contingencies.\n",
      "\n",
      "9. **Pros and Cons List**:\n",
      "   - List the advantages (pros) and disadvantages (cons) of each option.\n",
      "   - Compare the lists to make an informed decision.\n",
      "\n",
      "10. **Eisenhower Matrix**:\n",
      "    - **Urgent and Important**: Do these tasks immediately.\n",
      "    - **Important but Not Urgent**: Schedule these tasks.\n",
      "    - **Urgent but Not Important**: Delegate these tasks.\n",
      "    - **Not Urgent and Not Important**: Eliminate these tasks.\n",
      "\n",
      "11. **Vroom-Yetton Decision Model**:\n",
      "    - Determine the level of involvement of team members in the decision-making process based on situational factors.\n",
      "\n",
      "12. **Fishbone Diagram (Ishikawa)**:\n",
      "    - Identify the root causes of a problem by categorizing potential causes into major categories (e.g., People, Processes, Equipment, Materials, Environment).\n",
      "\n",
      "13. **Monte Carlo Simulation**:\n",
      "    - Use statistical modeling to understand the impact of risk and uncertainty in decision-making.\n",
      "\n",
      "14. **Analytic Hierarchy Process (AHP)**:\n",
      "    - Break down a decision into a hierarchy of sub-decisions.\n",
      "    - Use pairwise comparisons to assign weights to each element.\n",
      "    - Calculate a score to determine the best option.\n",
      "\n",
      "15. **Nudge Theory**:\n",
      "    - Use subtle policy shifts"
     ]
    }
   ],
   "source": [
    "// Create a new OpenAI prompt execution settings object\n",
    "var openAIPromptExecutionSettings = new OpenAIPromptExecutionSettings { \n",
    "    MaxTokens = 750, \n",
    "    Temperature = 0.1, \n",
    "    TopP = 1.0, \n",
    "    FrequencyPenalty = 0.0, \n",
    "    PresencePenalty = 0.0\n",
    "    };\n",
    "\n",
    "KernelArguments kernelArguments = new KernelArguments(openAIPromptExecutionSettings);\n",
    "await foreach (var streamChunk in semanticKernel.InvokePromptStreamingAsync(simplePrompt, kernelArguments))\n",
    "{\n",
    "   Console.Write(streamChunk);\n",
    "}"
   ]
  },
  {
   "cell_type": "markdown",
   "metadata": {},
   "source": [
    "### Step 5 - Execute a Semantic Kernel Prompt with a system prompt (persona)\n",
    "\n",
    "All the best practices of prompt engineering apply when using Semantic Kernel.  \n",
    "* Make the prompt more specific\n",
    "* Add structure to the output with formatting\n",
    "* Provide examples with few-shot prompting\n",
    "* Tell the AI what to do to avoid doing something wrong\n",
    "* Provide context to the AI\n",
    "* Using message roles in chat completion prompts\n",
    "* Give your AI words of encouragement  \n",
    "\n",
    "One best practice is to provide a common behaviour across all the LLM interactions in a system prompt. This system prompt is passed in on every single call the LLM with Semantic Kernel. These prompts can be dynamically created with a programming language like C#.\n",
    "\n",
    "Execute the cell below with a dynamic prompt template. Notice the different behavior of the output for decision frameworks. The decision framework responses are much more robust with decision intelligence information."
   ]
  },
  {
   "cell_type": "code",
   "execution_count": 8,
   "metadata": {
    "dotnet_interactive": {
     "language": "csharp"
    },
    "polyglot_notebook": {
     "kernelName": "csharp"
    },
    "vscode": {
     "languageId": "polyglot-notebook"
    }
   },
   "outputs": [
    {
     "name": "stdout",
     "output_type": "stream",
     "text": [
      "Prompt To Send to the Azure OpenAI Chat Completion Service...\n",
      "System Prompt: You are a decision intelligence assistant. \n",
      "Assist the user in exploring options, reasoning through decisions, problem-solving, and applying systems thinking to various scenarios. \n",
      "Provide structured, logical, and comprehensive advice.\n",
      "\n",
      "Request from the user: Provide some decision frameworks that can help improve the quality of decisions.\n",
      "\n",
      "----------------------------------------\n",
      "\n",
      "Response from the Azure OpenAI Chat Completion Service...\n",
      "Certainly! Here are several decision frameworks that can help improve the quality of decisions:\n",
      "\n",
      "### 1. **SWOT Analysis**\n",
      "**Strengths, Weaknesses, Opportunities, Threats**\n",
      "\n",
      "- **Strengths:** Identify internal attributes that are helpful to achieving the objective.\n",
      "- **Weaknesses:** Identify internal attributes that are harmful to achieving the objective.\n",
      "- **Opportunities:** Identify external conditions that are helpful to achieving the objective.\n",
      "- **Threats:** Identify external conditions that could do damage to the objective.\n",
      "\n",
      "**Use Case:** Strategic planning, business development, personal career planning.\n",
      "\n",
      "### 2. **Decision Matrix (Weighted Scoring)**\n",
      "**Criteria-based evaluation**\n",
      "\n",
      "- List all the options.\n",
      "- Identify the criteria important for the decision.\n",
      "- Assign weights to each criterion based on importance.\n",
      "- Score each option against each criterion.\n",
      "- Multiply the scores by the weights and sum them up for each option.\n",
      "- The option with the highest total score is the preferred choice.\n",
      "\n",
      "**Use Case:** Choosing between multiple alternatives, product selection, vendor selection.\n",
      "\n",
      "### 3. **Cost-Benefit Analysis (CBA)**\n",
      "**Financial evaluation**\n",
      "\n",
      "- List all the costs associated with each option.\n",
      "- List all the benefits associated with each option.\n",
      "- Assign a monetary value to both costs and benefits.\n",
      "- Subtract the total costs from the total benefits to get the net benefit.\n",
      "- Compare the net benefits of all options.\n",
      "\n",
      "**Use Case:** Financial decisions, project evaluation, investment decisions.\n",
      "\n",
      "### 4. **Pareto Analysis (80/20 Rule)**\n",
      "**Focus on the most impactful factors**\n",
      "\n",
      "- Identify and list problems or causes.\n",
      "- Score each problem or cause based on its impact.\n",
      "- Rank the problems or causes in descending order of impact.\n",
      "- Focus on the top 20% of causes that are responsible for 80% of the problems.\n",
      "\n",
      "**Use Case:** Problem-solving, quality control, resource allocation.\n",
      "\n",
      "### 5. **Six Thinking Hats**\n",
      "**Perspective-based evaluation**\n",
      "\n",
      "- **White Hat:** Focus on data and information.\n",
      "- **Red Hat:** Focus on emotions and feelings.\n",
      "- **Black Hat:** Focus on potential problems and risks.\n",
      "- **Yellow Hat:** Focus on benefits and optimism.\n",
      "- **Green Hat:** Focus on creativity and new ideas.\n",
      "- **Blue Hat:** Focus on process control and organization.\n",
      "\n",
      "**Use Case:** Group decision-making, brainstorming sessions, creative problem-solving.\n",
      "\n",
      "### 6. **OODA Loop**\n",
      "**Observe, Orient, Decide, Act**\n",
      "\n",
      "- **Observe:** Gather current information from as many sources as possible.\n",
      "- **Orient:** Analyze this information, and use it to update your current reality.\n",
      "- **Decide:** Determine a course of action.\n",
      "- **Act:** Implement the decision.\n",
      "\n",
      "**Use Case:** Rapid decision-making, military strategy, crisis management.\n",
      "\n",
      "### 7. **Pros and Cons List**\n",
      "**Simple comparative evaluation**\n",
      "\n",
      "- List all the pros (advantages) of each option.\n",
      "- List all the cons (disadvantages) of each option.\n",
      "- Compare the lists to make an informed decision.\n",
      "\n",
      "**Use Case:** Everyday decisions, personal choices, simple business decisions.\n",
      "\n",
      "### 8. **The Eisenhower Matrix**\n",
      "**Urgency and importance evaluation**\n",
      "\n",
      "- **Quadrant I:** Urgent and Important (Do first)\n",
      "- **Quadrant II:** Not Urgent but Important (Schedule)\n",
      "- **Quadrant III:** Urgent but Not Important (Delegate)\n",
      "- **Quadrant IV:** Not Urgent and Not Important (Eliminate)\n",
      "\n",
      "**Use Case:** Time management, prioritization of tasks, productivity improvement.\n",
      "\n",
      "### 9. **Root Cause Analysis (RCA)**\n",
      "**Problem-solving**\n",
      "\n",
      "- Identify the problem.\n",
      "- Collect data related to the problem"
     ]
    }
   ],
   "source": [
    "// Create a system prompt instruction to override the default system prompt\n",
    "// Add the System Prompt\n",
    "var systemPromptForDecisions = \"\"\"\n",
    "You are a decision intelligence assistant. \n",
    "Assist the user in exploring options, reasoning through decisions, problem-solving, and applying systems thinking to various scenarios. \n",
    "Provide structured, logical, and comprehensive advice.\n",
    "\"\"\";\n",
    "// Simple prompt to list some decision frameworks this GenAI LLM is familiar with\n",
    "var simplePrompt = \"\"\"\n",
    "Provide a list of decision frameworks that can help improve the quality of decisions.\n",
    "\"\"\";\n",
    "\n",
    "// How the prompt looks like to the LLM\n",
    "var simpleDecisionPromptTemplate = $\"\"\"\n",
    "System Prompt: {systemPromptForDecisions}\n",
    "\n",
    "Request from the user: {simplePrompt}\n",
    "\"\"\";\n",
    "\n",
    "// Create a new OpenAI prompt execution settings object\n",
    "var openAIPromptExecutionSettings = new OpenAIPromptExecutionSettings { \n",
    "    ChatSystemPrompt = systemPromptForDecisions,\n",
    "    MaxTokens = 750, \n",
    "    Temperature = 0.1, \n",
    "    TopP = 1.0, \n",
    "    FrequencyPenalty = 0.0, \n",
    "    PresencePenalty = 0.0\n",
    "    };\n",
    "KernelArguments kernelArguments = new KernelArguments(openAIPromptExecutionSettings);\n",
    "\n",
    "Console.WriteLine(\"Prompt To Send to the Azure OpenAI Chat Completion Service...\");\n",
    "Console.WriteLine(simpleDecisionPromptTemplate);\n",
    "Console.WriteLine(string.Empty);\n",
    "Console.WriteLine(\"----------------------------------------\");\n",
    "Console.WriteLine(string.Empty);\n",
    "Console.WriteLine(\"Response from the Azure OpenAI Chat Completion Service...\");\n",
    "\n",
    "\n",
    "await foreach (var streamChunk in semanticKernel.InvokePromptStreamingAsync(simplePrompt, kernelArguments))\n",
    "{\n",
    "   Console.Write(streamChunk);\n",
    "}"
   ]
  }
 ],
 "metadata": {
  "kernelspec": {
   "display_name": ".NET (C#)",
   "language": "C#",
   "name": ".net-csharp"
  },
  "language_info": {
   "name": "csharp"
  },
  "polyglot_notebook": {
   "kernelInfo": {
    "defaultKernelName": "csharp",
    "items": [
     {
      "aliases": [],
      "name": "csharp"
     }
    ]
   }
  }
 },
 "nbformat": 4,
 "nbformat_minor": 2
}
