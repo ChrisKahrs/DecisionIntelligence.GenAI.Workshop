{
 "cells": [
  {
   "cell_type": "markdown",
   "metadata": {},
   "source": [
    "<img style=\"float: left;\" width =\"40px\" src=\"https://raw.githubusercontent.com/bartczernicki/DecisionIntelligence.GenAI.Workshop/main/Images/SemanticKernelLogo.png\">\n",
    "\n",
    "## Semantic Kernel - Prompts"
   ]
  },
  {
   "cell_type": "markdown",
   "metadata": {},
   "source": [
    "Prompts are the fundemental building block to getting the proper responses from AI models. This module demonstrates how to use common prompt engineering techniques while using Semantic Kernel. If you've ever used ChatGPT or Microsoft Copilot, you're already familiar with prompting. Given a prompt instruction, an LLM will attempt to predict the most likely response. With Semantic Kernel, you can craft applications, services & APIs that execute prompts.  \n",
    "\n",
    "For more information on using prompts with Semantic Kernel, visit: https://learn.microsoft.com/en-us/semantic-kernel/prompts/your-first-prompt  "
   ]
  },
  {
   "cell_type": "markdown",
   "metadata": {},
   "source": [
    "### Step 1 - Initialize Configuration Builder & Build the Semantic Kernel Orchestration\n",
    "\n",
    "Execute the next two cells to:\n",
    "* Use the Configuration Builder to load the API secrets.  \n",
    "* Use the API configuration to build the Semantic Kernel orchestrator."
   ]
  },
  {
   "cell_type": "code",
   "execution_count": 7,
   "metadata": {
    "dotnet_interactive": {
     "language": "csharp"
    },
    "polyglot_notebook": {
     "kernelName": "csharp"
    },
    "vscode": {
     "languageId": "polyglot-notebook"
    }
   },
   "outputs": [
    {
     "data": {
      "text/html": [
       "<div><div></div><div></div><div><strong>Installed Packages</strong><ul><li><span>Microsoft.Extensions.Configuration, 8.0.0</span></li><li><span>Microsoft.Extensions.Configuration.Json, 8.0.0</span></li></ul></div></div>"
      ]
     },
     "metadata": {},
     "output_type": "display_data"
    }
   ],
   "source": [
    "// Import the required NuGet configuration packages\n",
    "#r \"nuget: Microsoft.Extensions.Configuration, 8.0.0\"\n",
    "#r \"nuget: Microsoft.Extensions.Configuration.Json, 8.0.0\"\n",
    "\n",
    "using Microsoft.Extensions.Configuration;\n",
    "using System.IO;\n",
    "\n",
    "// Load the configuration settings from the local.settings.json and secrets.settings.json files\n",
    "// The secrets.settings.json file is used to store sensitive information such as API keys\n",
    "var configurationBuilder = new ConfigurationBuilder()\n",
    "    .SetBasePath(Directory.GetCurrentDirectory())\n",
    "    .AddJsonFile(\"local.settings.json\", optional: true, reloadOnChange: true)\n",
    "    .AddJsonFile(\"secrets.settings.json\", optional: true, reloadOnChange: true);\n",
    "var config = configurationBuilder.Build();\n",
    "\n",
    "// Retrieve the configuration settings for the Azure OpenAI service\n",
    "var azureOpenAIEndpoint = config[\"AzureOpenAI:Endpoint\"];\n",
    "var azureOpenAIAPIKey = config[\"AzureOpenAI:APIKey\"];\n",
    "var azureOpenAIModelDeploymentName = config[\"AzureOpenAI:ModelDeploymentName\"];\n",
    "\n",
    "// Optional OpenAI\n",
    "var openAIAPIKey = config[\"OpenAI:APIKey\"];\n",
    "var openAIModelId = config[\"OpenAI:ModelId\"];"
   ]
  },
  {
   "cell_type": "code",
   "execution_count": 8,
   "metadata": {
    "dotnet_interactive": {
     "language": "csharp"
    },
    "polyglot_notebook": {
     "kernelName": "csharp"
    },
    "vscode": {
     "languageId": "polyglot-notebook"
    }
   },
   "outputs": [
    {
     "data": {
      "text/html": [
       "<div><div></div><div></div><div><strong>Installed Packages</strong><ul><li><span>Microsoft.SemanticKernel, 1.11.1</span></li></ul></div></div>"
      ]
     },
     "metadata": {},
     "output_type": "display_data"
    }
   ],
   "source": [
    "// Import the Semantic Kernel NuGet package\n",
    "#r \"nuget: Microsoft.SemanticKernel, 1.11.1\"\n",
    "\n",
    "using Microsoft.SemanticKernel;\n",
    "using Microsoft.SemanticKernel.ChatCompletion;\n",
    "using Microsoft.SemanticKernel.Connectors.OpenAI;\n",
    "\n",
    "// Create a new Semantic Kernel instance with the Azure OpenAI Chat Completion service\n",
    "var semanticKernel = Kernel.CreateBuilder()\n",
    "    .AddAzureOpenAIChatCompletion(\n",
    "        deploymentName: azureOpenAIModelDeploymentName,\n",
    "        endpoint: azureOpenAIEndpoint,\n",
    "        apiKey: azureOpenAIAPIKey)\n",
    "    .Build();"
   ]
  },
  {
   "cell_type": "code",
   "execution_count": 9,
   "metadata": {
    "dotnet_interactive": {
     "language": "csharp"
    },
    "polyglot_notebook": {
     "kernelName": "csharp"
    },
    "vscode": {
     "languageId": "polyglot-notebook"
    }
   },
   "outputs": [],
   "source": [
    "// Create a new Semantic Kernel instance with the Azure OpenAI Chat Completion service\n",
    "var semanticKernelOpenAI = Kernel.CreateBuilder()\n",
    "    .AddOpenAIChatCompletion(\n",
    "        modelId: openAIModelId,\n",
    "        apiKey: openAIAPIKey)\n",
    "    .Build();"
   ]
  },
  {
   "cell_type": "markdown",
   "metadata": {},
   "source": [
    "### Step 2 - Execute a Semantic Kernel Prompt\n",
    "\n",
    "Many LLMs and even SLMs have been trained on knowledge that includes decision frameworks & processes. This makes LLMs great assistants to:\n",
    "* Provide proper decision frames\n",
    "* Gather the information & intelligence in order to make a decision\n",
    "* Recommend decision frameworks to make a high-quality decision\n",
    "* Provide feedback to evaluate a decision\n",
    "\n",
    "Once the Semantic Kernel instance is built, it is ready to intake prompt instructions. In the prompt below, the Semantic Kernel is instructed to provide examples of decision frameworks. "
   ]
  },
  {
   "cell_type": "code",
   "execution_count": 10,
   "metadata": {
    "dotnet_interactive": {
     "language": "csharp"
    },
    "polyglot_notebook": {
     "kernelName": "csharp"
    },
    "vscode": {
     "languageId": "polyglot-notebook"
    }
   },
   "outputs": [
    {
     "name": "stdout",
     "output_type": "stream",
     "text": [
      "1. SWOT Analysis: This involves evaluating the Strengths, Weaknesses, Opportunities, and Threats related to a decision to understand the potential outcomes and risks.\n",
      "\n",
      "2. Decision Matrix: This framework involves creating a grid to compare various options based on defined criteria, scoring each option, and selecting the one with the highest score.\n",
      "\n",
      "3. Cost-Benefit Analysis: This involves listing the costs and benefits of each option and comparing them to determine which option provides the greatest net benefit.\n",
      "\n",
      "4. Pareto Analysis: This technique involves identifying the options that will have the most significant impact by applying the 80/20 rule, which states that 80% of effects come from 20% of the causes.\n",
      "\n",
      "5. Scenario Planning: This involves creating different plausible future scenarios and exploring how decisions might play out in each scenario to make informed choices.\n",
      "\n",
      "6. Decision Tree: This involves mapping out different decision paths and the potential outcomes of each path, helping to visualize the consequences of each choice.\n",
      "\n",
      "7. Six Thinking Hats: Developed by Edward de Bono, this method encourages looking at a decision from six different perspectives (emotions, facts, creativity, benefits, caution, and process) to explore all angles and enhance decision-making.\n",
      "\n",
      "8. The Cynefin Framework: Developed by Dave Snowden, this framework helps decision-makers to identify the type of situation (simple, complicated, complex, or chaotic) they are dealing with and choose an appropriate approach for making decisions in that context.\n"
     ]
    }
   ],
   "source": [
    "var simplePrompt = \"Provide some decision frameworks that can help improve the quality of decisions.\";\n",
    "\n",
    "var simplePromptResponse = await semanticKernel.InvokePromptAsync(simplePrompt);\n",
    "Console.WriteLine(simplePromptResponse.GetValue<string>());"
   ]
  },
  {
   "cell_type": "markdown",
   "metadata": {},
   "source": [
    "### Step 3 - Execute a Semantic Kernel Prompt with Streaming\n",
    "\n",
    "Semantic Kernel supports prompt response streaming when invoking the prompt. This allows responses to be streamed to the client as soon as they are made available by the LLM and service. Below the same decision prompt is executed. However, notice that chunks are streamed and can be read by the user as soon as they appear. "
   ]
  },
  {
   "cell_type": "code",
   "execution_count": 11,
   "metadata": {
    "dotnet_interactive": {
     "language": "csharp"
    },
    "polyglot_notebook": {
     "kernelName": "csharp"
    },
    "vscode": {
     "languageId": "polyglot-notebook"
    }
   },
   "outputs": [
    {
     "name": "stdout",
     "output_type": "stream",
     "text": [
      "1. SWOT Analysis: This framework assesses the Strengths, Weaknesses, Opportunities, and Threats related to a decision. It helps identify internal and external factors that can influence outcomes.\n",
      "\n",
      "2. Decision Matrix: Utilizes a grid format to evaluate and prioritize multiple options based on specific criteria, assigning weights to each criterion to determine the most favorable option.\n",
      "\n",
      "3. Cost-Benefit Analysis: Measures the costs versus benefits of different decision options to determine which provides the greatest net value.\n",
      "\n",
      "4. The Six Thinking Hats: This framework by Edward de Bono involves considering a decision from multiple perspectives, represented as six colored hats, to foster comprehensive and balanced consideration.\n",
      "\n",
      "5. The Delphi Technique: A method to reach consensus among a group of experts through multiple rounds of anonymous input and feedback, refining decisions based on collective intelligence.\n",
      "\n",
      "6. Pareto Analysis (80/20 Rule): Focuses on identifying the critical factors that contribute most significantly to the outcome, allowing decision-makers to prioritize key areas.\n",
      "\n",
      "7. Decision Trees: Visual diagrams that map out different decision paths and potential outcomes, providing a structured visualization to analyze consequences and calculate expected values.\n",
      "\n",
      "8. Scenario Planning: Involves thinking through various future scenarios and formulating flexible strategies, preparing decision-makers to adapt as situations evolve.\n",
      "\n",
      "9. The 5 Whys: A root cause analysis technique that involves asking \"Why?\" multiple times (typically five) to delve deeper into the underlying causes of a problem and inform decision-making.\n",
      "\n",
      "10. The Cynefin Framework: Helps decision-makers categorize situations into different domains (simple, complicated, complex, chaotic) so that they can apply the most suitable approach to manage and respond effectively.\n",
      "\n",
      "Using these frameworks can provide structured methodologies for analyzing information, assessing risks, exploring alternatives, and making informed decisions to optimize outcomes."
     ]
    }
   ],
   "source": [
    "await foreach (var streamChunk in semanticKernel.InvokePromptStreamingAsync(simplePrompt))\n",
    "{\n",
    "   Console.Write(streamChunk);\n",
    "}"
   ]
  },
  {
   "cell_type": "markdown",
   "metadata": {},
   "source": [
    "### Step 4 - Execute a Semantic Kernel Prompt with a Custom Prompt Execution Configuration\n",
    "\n",
    "Semantic Kernel supports the configuration of prompt execution. The typical OpenAI and Azure OpenAI settings are exposed as configuration options that provide a different prompt experience. Try changing the MaxTokens, Tempature or other settings."
   ]
  },
  {
   "cell_type": "code",
   "execution_count": 12,
   "metadata": {
    "dotnet_interactive": {
     "language": "csharp"
    },
    "polyglot_notebook": {
     "kernelName": "csharp"
    },
    "vscode": {
     "languageId": "polyglot-notebook"
    }
   },
   "outputs": [
    {
     "name": "stdout",
     "output_type": "stream",
     "text": [
      "1. SWOT Analysis: This framework helps identify the strengths, weaknesses, opportunities, and threats related to a decision. It provides a comprehensive view of the internal and external factors that can impact the decision.\n",
      "\n",
      "2. Decision Matrix: This framework helps evaluate and prioritize different options based on specific criteria. Each option is scored based on how well it meets each criterion, and the option with the highest score is selected.\n",
      "\n",
      "3. Cost-Benefit Analysis: This framework helps assess the financial implications of a decision by comparing the costs and benefits of each option. It helps identify the option that provides the greatest net benefit.\n",
      "\n",
      "4. Pareto Analysis: This framework helps identify the most significant factors that contribute to a problem or decision. It is based on the Pareto principle, which states that 80% of the effects come from 20% of the causes.\n",
      "\n",
      "5. Decision Tree: This framework helps visualize the different paths and outcomes of a decision. It helps identify the best course of action based on the probabilities and consequences of each option.\n",
      "\n",
      "6. Six Thinking Hats: This framework encourages different perspectives on a decision by having participants wear different \"hats\" that represent different modes of thinking (e.g., emotional, analytical, creative).\n",
      "\n",
      "7. Pros and Cons List: This simple framework helps weigh the advantages and disadvantages of each option. It provides a clear comparison of the positive and negative aspects of each choice.\n",
      "\n",
      "8. Scenario Planning: This framework helps anticipate and plan for different future scenarios. It involves creating detailed narratives of possible future events and assessing the impact of each scenario on the decision.\n",
      "\n",
      "By using these decision frameworks, individuals and organizations can make more informed and effective decisions."
     ]
    }
   ],
   "source": [
    "// Create a new OpenAI prompt execution settings object\n",
    "var openAIPromptExecutionSettings = new OpenAIPromptExecutionSettings { \n",
    "    MaxTokens = 750, \n",
    "    Temperature = 0.0, \n",
    "    TopP = 1.0, \n",
    "    FrequencyPenalty = 0.0, \n",
    "    PresencePenalty = 0.0\n",
    "    };\n",
    "\n",
    "KernelArguments kernelArguments = new KernelArguments(openAIPromptExecutionSettings);\n",
    "await foreach (var streamChunk in semanticKernel.InvokePromptStreamingAsync(simplePrompt, kernelArguments))\n",
    "{\n",
    "   Console.Write(streamChunk);\n",
    "}"
   ]
  },
  {
   "cell_type": "markdown",
   "metadata": {},
   "source": [
    "## This can be run on OpenAI, not just Azure OpenAI "
   ]
  },
  {
   "cell_type": "code",
   "execution_count": 13,
   "metadata": {
    "dotnet_interactive": {
     "language": "csharp"
    },
    "polyglot_notebook": {
     "kernelName": "csharp"
    },
    "vscode": {
     "languageId": "polyglot-notebook"
    }
   },
   "outputs": [
    {
     "name": "stdout",
     "output_type": "stream",
     "text": [
      "Certainly! Decision-making frameworks can significantly enhance the quality of decisions by providing structured approaches to evaluate options and outcomes. Here are some widely recognized frameworks:\n",
      "\n",
      "### 1. **SWOT Analysis**\n",
      "- **Strengths:** Identify internal strengths.\n",
      "- **Weaknesses:** Identify internal weaknesses.\n",
      "- **Opportunities:** Identify external opportunities.\n",
      "- **Threats:** Identify external threats.\n",
      "\n",
      "### 2. **PEST Analysis**\n",
      "- **Political:** Consider political factors and their impact.\n",
      "- **Economic:** Evaluate economic conditions and trends.\n",
      "- **Social:** Assess social factors and cultural trends.\n",
      "- **Technological:** Examine technological advancements and innovations.\n",
      "\n",
      "### 3. **Decision Matrix (Weighted Scoring)**\n",
      "- List all options and criteria.\n",
      "- Assign weights to each criterion based on importance.\n",
      "- Score each option against each criterion.\n",
      "- Multiply scores by weights and sum them to get a total score for each option.\n",
      "\n",
      "### 4. **Cost-Benefit Analysis**\n",
      "- Identify all costs associated with each option.\n",
      "- Identify all benefits associated with each option.\n",
      "- Compare the total costs and benefits to determine the net benefit.\n",
      "\n",
      "### 5. **Six Thinking Hats**\n",
      "- **White Hat:** Focus on data and information.\n",
      "- **Red Hat:** Consider emotions and feelings.\n",
      "- **Black Hat:** Identify potential problems and risks.\n",
      "- **Yellow Hat:** Look for benefits and positive outcomes.\n",
      "- **Green Hat:** Encourage creativity and new ideas.\n",
      "- **Blue Hat:** Manage the thinking process and ensure all hats are used.\n",
      "\n",
      "### 6. **Pareto Analysis (80/20 Rule)**\n",
      "- Identify and list problems or causes.\n",
      "- Score each problem or cause based on its impact.\n",
      "- Focus on the top 20% of causes that contribute to 80% of the problem.\n",
      "\n",
      "### 7. **OODA Loop**\n",
      "- **Observe:** Gather information and observe the situation.\n",
      "- **Orient:** Analyze the information and understand the context.\n",
      "- **Decide:** Make a decision based on the analysis.\n",
      "- **Act:** Implement the decision and observe the results.\n",
      "\n",
      "### 8. **Pros and Cons List**\n",
      "- List all the pros (advantages) of each option.\n",
      "- List all the cons (disadvantages) of each option.\n",
      "- Compare the lists to make an informed decision.\n",
      "\n",
      "### 9. **Root Cause Analysis (5 Whys)**\n",
      "- Identify the problem.\n",
      "- Ask \"Why?\" five times to drill down to the root cause.\n",
      "- Address the root cause to prevent recurrence.\n",
      "\n",
      "### 10. **Risk Analysis and Management**\n",
      "- Identify potential risks.\n",
      "- Assess the likelihood and impact of each risk.\n",
      "- Develop strategies to mitigate or manage risks.\n",
      "\n",
      "### 11. **Eisenhower Matrix**\n",
      "- **Urgent and Important:** Do these tasks immediately.\n",
      "- **Important but Not Urgent:** Schedule these tasks.\n",
      "- **Urgent but Not Important:** Delegate these tasks.\n",
      "- **Not Urgent and Not Important:** Eliminate these tasks.\n",
      "\n",
      "### 12. **Scenario Planning**\n",
      "- Identify different possible future scenarios.\n",
      "- Develop strategies for each scenario.\n",
      "- Monitor indicators to determine which scenario is unfolding.\n",
      "\n",
      "### 13. **Balanced Scorecard**\n",
      "- Evaluate decisions based on multiple perspectives:\n",
      "  - Financial\n",
      "  - Customer\n",
      "  - Internal Processes\n",
      "  - Learning and Growth\n",
      "\n",
      "### 14. **Fishbone Diagram (Ishikawa)**\n",
      "- Identify the problem.\n",
      "- Categorize potential causes into major categories (e.g., People, Processes, Equipment, Materials).\n",
      "- Drill down into sub-causes to identify root causes.\n",
      "\n",
      "### 15. **Monte Carlo Simulation**\n",
      "- Use statistical modeling to simulate different scenarios.\n",
      "- Analyze the probability of different outcomes.\n",
      "\n",
      "These frameworks can be used individually or"
     ]
    }
   ],
   "source": [
    "// Create a new OpenAI prompt execution settings object\n",
    "var openAIPromptExecutionSettings = new OpenAIPromptExecutionSettings { \n",
    "    MaxTokens = 750, \n",
    "    Temperature = 0.1, \n",
    "    TopP = 1.0, \n",
    "    FrequencyPenalty = 0.0, \n",
    "    PresencePenalty = 0.0\n",
    "    };\n",
    "\n",
    "KernelArguments kernelArguments = new KernelArguments(openAIPromptExecutionSettings);\n",
    "await foreach (var streamChunk in semanticKernelOpenAI.InvokePromptStreamingAsync(simplePrompt, kernelArguments))\n",
    "{\n",
    "   Console.Write(streamChunk);\n",
    "}"
   ]
  },
  {
   "cell_type": "markdown",
   "metadata": {},
   "source": [
    "### Step 5 - Execute a Semantic Kernel Prompt with a system prompt (persona)\n",
    "\n",
    "All the best practices of prompt engineering apply when using Semantic Kernel.  \n",
    "* Make the prompt more specific\n",
    "* Add structure to the output with formatting\n",
    "* Provide examples with few-shot prompting\n",
    "* Tell the AI what to do to avoid doing something wrong\n",
    "* Provide context to the AI\n",
    "* Using message roles in chat completion prompts\n",
    "* Give your AI words of encouragement  \n",
    "\n",
    "One best practice is to provide a common behaviour across all the LLM interactions in a system prompt. This system prompt is passed in on every single call the LLM with Semantic Kernel. These prompts can be dynamically created with a programming language like C#.\n",
    "\n",
    "Execute the cell below with a dynamic prompt template. Notice the different behavior of the output for decision frameworks. The decision framework responses are much more robust with decision intelligence information."
   ]
  },
  {
   "cell_type": "code",
   "execution_count": 14,
   "metadata": {
    "dotnet_interactive": {
     "language": "csharp"
    },
    "polyglot_notebook": {
     "kernelName": "csharp"
    },
    "vscode": {
     "languageId": "polyglot-notebook"
    }
   },
   "outputs": [
    {
     "name": "stdout",
     "output_type": "stream",
     "text": [
      "Prompt To Send to the Azure OpenAI Chat Completion Service...\n",
      "System Prompt: You are a decision intelligence assistant. \n",
      "Assist the user in exploring options, reasoning through decisions, problem-solving, and applying systems thinking to various scenarios. \n",
      "Provide structured, logical, and comprehensive advice.\n",
      "\n",
      "Request from the user: Provide some decision frameworks that can help improve the quality of decisions.\n",
      "\n",
      "----------------------------------------\n",
      "\n",
      "Response from the Azure OpenAI Chat Completion Service...\n",
      "Improving the quality of decisions involves using structured frameworks that guide the decision-making process, ensuring that all relevant factors are considered and that the outcomes align with the overall goals. Here are several decision frameworks that can help in various contexts:\n",
      "\n",
      "1. **SWOT Analysis (Strengths, Weaknesses, Opportunities, Threats)**:\n",
      "   - **Purpose**: To evaluate the internal and external factors affecting a decision.\n",
      "   - **Process**:\n",
      "     1. List all Strengths (internal, positive factors).\n",
      "     2. List all Weaknesses (internal, negative factors).\n",
      "     3. Identify Opportunities (external, positive factors).\n",
      "     4. Identify Threats (external, negative factors).\n",
      "     5. Use this analysis to inform decision-making, leveraging strengths and opportunities while mitigating weaknesses and threats.\n",
      "\n",
      "2. **Decision Matrix (Weighted Scoring Model)**:\n",
      "   - **Purpose**: To objectively compare multiple options based on several criteria.\n",
      "   - **Process**:\n",
      "     1. Define criteria important to the decision.\n",
      "     2. Assign weights to each criterion based on their importance.\n",
      "     3. Score each option against each criterion.\n",
      "     4. Multiply scores by the weights and sum them to get a total score for each option.\n",
      "     5. Choose the option with the highest score.\n",
      "\n",
      "3. **Cost-Benefit Analysis**:\n",
      "   - **Purpose**: To weigh the costs and benefits of a decision.\n",
      "   - **Process**:\n",
      "     1. List all potential costs and benefits of each option.\n",
      "     2. Quantify costs and benefits in monetary terms where possible.\n",
      "     3. Compare the total costs and benefits to see which option offers the greatest net benefit.\n",
      "\n",
      "4. **Pros and Cons List**:\n",
      "   - **Purpose**: To simply and quickly evaluate the positive and negative aspects of different options.\n",
      "   - **Process**:\n",
      "     1. List the pros (positive aspects) and cons (negative aspects) of each option.\n",
      "     2. Evaluate which option has the most favorable balance of pros over cons.\n",
      "\n",
      "5. **Pareto Analysis (80/20 Rule)**:\n",
      "   - **Purpose**: To focus on changes that will have the largest impact.\n",
      "   - **Process**:\n",
      "     1. Identify a list of problems or options.\n",
      "     2. Score them based on impact and effort.\n",
      "     3. Focus on the top 20% that will yield 80% of the benefits.\n",
      "\n",
      "6. **Decision Trees**:\n",
      "   - **Purpose**: To visualize the different paths and outcomes of a decision.\n",
      "   - **Process**:\n",
      "     1. Start with the initial decision at the root.\n",
      "     2. Branch out options and possible outcomes.\n",
      "     3. Include probabilities and values at each branch.\n",
      "     4. Calculate the expected values to determine the most beneficial path.\n",
      "\n",
      "7. **Six Thinking Hats** by Edward de Bono:\n",
      "   - **Purpose**: To look at a decision from multiple perspectives.\n",
      "   - **Process**:\n",
      "     1. White Hat: Focus on the data available.\n",
      "     2. Red Hat: Look at the decision using intuition and emotion.\n",
      "     3. Black Hat: Consider the negative outcomes.\n",
      "     4. Yellow Hat: Think optimistically about the positives.\n",
      "     5. Green Hat: Think creatively for alternative solutions.\n",
      "     6. Blue Hat: Manage the thinking process and ensure each hat is utilized.\n",
      "\n",
      "8. **RACI Matrix (Responsible, Accountable, Consulted, Informed)**:\n",
      "   - **Purpose**: To clarify roles and responsibilities in the decision-making process.\n",
      "   - **Process**:\n",
      "     1. Identify all tasks involved"
     ]
    }
   ],
   "source": [
    "// Create a system prompt instruction to override the default system prompt\n",
    "// Add the System Prompt\n",
    "var systemPromptForDecisions = \"\"\"\n",
    "You are a decision intelligence assistant. \n",
    "Assist the user in exploring options, reasoning through decisions, problem-solving, and applying systems thinking to various scenarios. \n",
    "Provide structured, logical, and comprehensive advice.\n",
    "\"\"\";\n",
    "var simplePrompt = \"Provide some decision frameworks that can help improve the quality of decisions.\";\n",
    "\n",
    "// How the prompt looks like to the LLM\n",
    "var simpleDecisionPromptTemplate = $\"\"\"\n",
    "System Prompt: {systemPromptForDecisions}\n",
    "\n",
    "Request from the user: {simplePrompt}\n",
    "\"\"\";\n",
    "\n",
    "// Create a new OpenAI prompt execution settings object\n",
    "var openAIPromptExecutionSettings = new OpenAIPromptExecutionSettings { \n",
    "    ChatSystemPrompt = systemPromptForDecisions,\n",
    "    MaxTokens = 750, \n",
    "    Temperature = 0.1, \n",
    "    TopP = 1.0, \n",
    "    FrequencyPenalty = 0.0, \n",
    "    PresencePenalty = 0.0\n",
    "    };\n",
    "KernelArguments kernelArguments = new KernelArguments(openAIPromptExecutionSettings);\n",
    "\n",
    "Console.WriteLine(\"Prompt To Send to the Azure OpenAI Chat Completion Service...\");\n",
    "Console.WriteLine(simpleDecisionPromptTemplate);\n",
    "Console.WriteLine(string.Empty);\n",
    "Console.WriteLine(\"----------------------------------------\");\n",
    "Console.WriteLine(string.Empty);\n",
    "Console.WriteLine(\"Response from the Azure OpenAI Chat Completion Service...\");\n",
    "\n",
    "\n",
    "await foreach (var streamChunk in semanticKernel.InvokePromptStreamingAsync(simplePrompt, kernelArguments))\n",
    "{\n",
    "   Console.Write(streamChunk);\n",
    "}"
   ]
  }
 ],
 "metadata": {
  "kernelspec": {
   "display_name": ".NET (C#)",
   "language": "C#",
   "name": ".net-csharp"
  },
  "language_info": {
   "name": "csharp"
  },
  "polyglot_notebook": {
   "kernelInfo": {
    "defaultKernelName": "csharp",
    "items": [
     {
      "aliases": [],
      "name": "csharp"
     }
    ]
   }
  }
 },
 "nbformat": 4,
 "nbformat_minor": 2
}
