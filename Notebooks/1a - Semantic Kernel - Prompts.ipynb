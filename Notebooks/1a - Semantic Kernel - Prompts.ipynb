{
 "cells": [
  {
   "cell_type": "markdown",
   "metadata": {},
   "source": [
    "<img style=\"float: left;\" width =\"40px\" src=\"https://raw.githubusercontent.com/bartczernicki/DecisionIntelligence.GenAI.Workshop/main/Images/SemanticKernelLogo.png\">\n",
    "\n",
    "## Semantic Kernel - Prompts"
   ]
  },
  {
   "cell_type": "markdown",
   "metadata": {},
   "source": [
    "Prompts are the fundemental building block to getting the proper responses from AI models. This module demonstrates how to use common prompt engineering techniques while using Semantic Kernel. If you've ever used ChatGPT or Microsoft Copilot, you're already familiar with prompting. Given a prompt instruction, an LLM will attempt to predict the most likely response. With Semantic Kernel, you can craft applications, services & APIs that execute prompts.  \n",
    "\n",
    "For more information on using prompts with Semantic Kernel, visit: https://learn.microsoft.com/en-us/semantic-kernel/prompts/your-first-prompt  "
   ]
  },
  {
   "cell_type": "markdown",
   "metadata": {},
   "source": [
    "### Step 1 - Initialize Configuration Builder & Build the Semantic Kernel Orchestration\n",
    "\n",
    "Execute the next two cells to:\n",
    "* Use the Configuration Builder to load the API secrets.  \n",
    "* Use the API configuration to build the Semantic Kernel orchestrator."
   ]
  },
  {
   "cell_type": "code",
   "execution_count": 1,
   "metadata": {
    "dotnet_interactive": {
     "language": "csharp"
    },
    "polyglot_notebook": {
     "kernelName": "csharp"
    },
    "vscode": {
     "languageId": "polyglot-notebook"
    }
   },
   "outputs": [
    {
     "data": {
      "text/html": [
       "<div><div></div><div></div><div><strong>Installed Packages</strong><ul><li><span>Microsoft.Extensions.Configuration, 8.0.0</span></li><li><span>Microsoft.Extensions.Configuration.Json, 8.0.0</span></li></ul></div></div>"
      ]
     },
     "metadata": {},
     "output_type": "display_data"
    }
   ],
   "source": [
    "// Import the required NuGet configuration packages\n",
    "#r \"nuget: Microsoft.Extensions.Configuration, 8.0.0\"\n",
    "#r \"nuget: Microsoft.Extensions.Configuration.Json, 8.0.0\"\n",
    "\n",
    "using Microsoft.Extensions.Configuration;\n",
    "using System.IO;\n",
    "\n",
    "// Load the configuration settings from the local.settings.json and secrets.settings.json files\n",
    "// The secrets.settings.json file is used to store sensitive information such as API keys\n",
    "var configurationBuilder = new ConfigurationBuilder()\n",
    "    .SetBasePath(Directory.GetCurrentDirectory())\n",
    "    .AddJsonFile(\"local.settings.json\", optional: true, reloadOnChange: true)\n",
    "    .AddJsonFile(\"secrets.settings.json\", optional: true, reloadOnChange: true);\n",
    "var config = configurationBuilder.Build();\n",
    "\n",
    "// Retrieve the configuration settings for the Azure OpenAI service\n",
    "var azureOpenAIEndpoint = config[\"AzureOpenAI:Endpoint\"];\n",
    "var azureOpenAIAPIKey = config[\"AzureOpenAI:APIKey\"];\n",
    "var azureOpenAIModelDeploymentName = config[\"AzureOpenAI:ModelDeploymentName\"];"
   ]
  },
  {
   "cell_type": "code",
   "execution_count": 3,
   "metadata": {
    "dotnet_interactive": {
     "language": "csharp"
    },
    "polyglot_notebook": {
     "kernelName": "csharp"
    },
    "vscode": {
     "languageId": "polyglot-notebook"
    }
   },
   "outputs": [
    {
     "data": {
      "text/html": [
       "<div><div></div><div></div><div><strong>Installed Packages</strong><ul><li><span>Microsoft.SemanticKernel, 1.11.1</span></li></ul></div></div>"
      ]
     },
     "metadata": {},
     "output_type": "display_data"
    }
   ],
   "source": [
    "// Import the Semantic Kernel NuGet package\n",
    "#r \"nuget: Microsoft.SemanticKernel, 1.11.1\"\n",
    "\n",
    "using Microsoft.SemanticKernel;\n",
    "using Microsoft.SemanticKernel.ChatCompletion;\n",
    "using Microsoft.SemanticKernel.Connectors.OpenAI;\n",
    "\n",
    "// Create a new Semantic Kernel instance with the Azure OpenAI Chat Completion service\n",
    "var semanticKernel = Kernel.CreateBuilder()\n",
    "    .AddAzureOpenAIChatCompletion(\n",
    "        deploymentName: azureOpenAIModelDeploymentName,\n",
    "        endpoint: azureOpenAIEndpoint,\n",
    "        apiKey: azureOpenAIAPIKey)\n",
    "    .Build();"
   ]
  },
  {
   "cell_type": "markdown",
   "metadata": {},
   "source": [
    "### Step 2 - Execute a Semantic Kernel Prompt\n",
    "\n",
    "Many LLMs and even SLMs have been trained on knowledge that includes decision frameworks & processes. This makes LLMs great assistants to:\n",
    "* Provide proper decision frames\n",
    "* Gather the information & intelligence in order to make a decision\n",
    "* Recommend decision frameworks to make a high-quality decision\n",
    "* Provide feedback to evaluate a decision\n",
    "\n",
    "Once the Semantic Kernel instance is built, it is ready to intake prompt instructions. In the prompt below, the Semantic Kernel is instructed to provide examples of decision frameworks. "
   ]
  },
  {
   "cell_type": "code",
   "execution_count": 4,
   "metadata": {
    "dotnet_interactive": {
     "language": "csharp"
    },
    "polyglot_notebook": {
     "kernelName": "csharp"
    },
    "vscode": {
     "languageId": "polyglot-notebook"
    }
   },
   "outputs": [
    {
     "name": "stdout",
     "output_type": "stream",
     "text": [
      "1. SWOT Analysis: This examines the Strengths, Weaknesses, Opportunities, and Threats related to a decision, and helps in identifying the strategic factors that can impact the decision-making process.\n",
      "\n",
      "2. Decision Matrix: This framework helps evaluate multiple options based on specific criteria, by ranking each option based on the importance of each criterion, and then selecting the option with the highest overall score.\n",
      "\n",
      "3. Cost-Benefit Analysis: This involves assessing the costs and benefits associated with each option, and choosing the one that offers the maximum net benefit.\n",
      "\n",
      "4. Six Thinking Hats: This framework encourages exploring different perspectives by wearing six different \"hats\" – each representing a different thinking style (e.g., emotional, factual, creative). It helps in considering all aspects of a decision.\n",
      "\n",
      "5. Pareto Analysis (80/20 Rule): This helps prioritize the factors that will have the most significant impact on the decision, focusing on the 20% of factors that are likely to produce 80% of the results.\n",
      "\n",
      "6. Fishbone Diagram: This is used to identify and visualize the root causes of a problem, which can help in making more informed decisions to address the issues effectively.\n",
      "\n",
      "7. Decision Tree: This graphical representation helps map out different choices and the possible outcomes of each choice, allowing decision-makers to see the potential consequences of each path before making a decision.\n",
      "\n",
      "These frameworks help break down complex decision-making processes into manageable steps, promoting a more structured and logical approach to making informed choices.\n"
     ]
    }
   ],
   "source": [
    "var simplePrompt = \"Provide some decision frameworks that can help improve the quality of decisions.\";\n",
    "\n",
    "var simplePromptResponse = await semanticKernel.InvokePromptAsync(simplePrompt);\n",
    "Console.WriteLine(simplePromptResponse.GetValue<string>());"
   ]
  },
  {
   "cell_type": "markdown",
   "metadata": {},
   "source": [
    "### Step 3 - Execute a Semantic Kernel Prompt with Streaming\n",
    "\n",
    "Semantic Kernel supports prompt response streaming when invoking the prompt. This allows responses to be streamed to the client as soon as they are made available by the LLM and service. Below the same decision prompt is executed. However, notice that chunks are streamed and can be read by the user as soon as they appear. "
   ]
  },
  {
   "cell_type": "code",
   "execution_count": 5,
   "metadata": {
    "dotnet_interactive": {
     "language": "csharp"
    },
    "polyglot_notebook": {
     "kernelName": "csharp"
    },
    "vscode": {
     "languageId": "polyglot-notebook"
    }
   },
   "outputs": [
    {
     "name": "stdout",
     "output_type": "stream",
     "text": [
      "1. Six Thinking Hats: This framework involves examining a decision from six different perspectives (emotional, informational, logical, creative, critical, and organizational) to ensure a well-rounded evaluation.\n",
      "\n",
      "2. SWOT Analysis: This involves analyzing the Strengths, Weaknesses, Opportunities, and Threats related to a decision to identify potential risks and benefits.\n",
      "\n",
      "3. Decision Matrix: This involves creating a matrix to evaluate different options based on multiple criteria. Each option is scored based on how well it meets each criterion, and the option with the highest total score is chosen.\n",
      "\n",
      "4. Cost-Benefit Analysis: This involves comparing the costs and benefits of each option to determine which one offers the greatest net benefit.\n",
      "\n",
      "5. Pareto Analysis: This technique helps prioritize options by identifying the few factors that will have the largest impact on the decision outcome.\n",
      "\n",
      "6. Decision Tree: This involves mapping out the different choices available and the potential outcomes of each choice to visualize the decision-making process and identify the option with the highest expected value.\n",
      "\n",
      "7. The Delphi Technique: This involves gathering input from a group of experts to reach a consensus on the best decision. The experts provide their opinions anonymously, and the results are aggregated to make a final decision.\n",
      "\n",
      "By employing these frameworks, decision-makers can structure their thinking, consider multiple perspectives, and make more informed, rational choices."
     ]
    }
   ],
   "source": [
    "await foreach (var streamChunk in semanticKernel.InvokePromptStreamingAsync(simplePrompt))\n",
    "{\n",
    "   Console.Write(streamChunk);\n",
    "}"
   ]
  },
  {
   "cell_type": "markdown",
   "metadata": {},
   "source": [
    "### Step 4 - Execute a Semantic Kernel Prompt with a Custom Prompt Execution Configuration\n",
    "\n",
    "Semantic Kernel supports the configuration of prompt execution. The typical OpenAI and Azure OpenAI settings are exposed as configuration options that provide a different prompt experience. Try changing the MaxTokens, Tempature or other settings."
   ]
  },
  {
   "cell_type": "code",
   "execution_count": 8,
   "metadata": {
    "dotnet_interactive": {
     "language": "csharp"
    },
    "polyglot_notebook": {
     "kernelName": "csharp"
    },
    "vscode": {
     "languageId": "polyglot-notebook"
    }
   },
   "outputs": [
    {
     "name": "stdout",
     "output_type": "stream",
     "text": [
      "1. SWOT Analysis: This framework helps identify the strengths, weaknesses, opportunities, and threats related to a decision. It provides a comprehensive view of the internal and external factors that can impact the decision.\n",
      "\n",
      "2. Decision Matrix: This framework helps evaluate and prioritize different options based on specific criteria. Each option is scored based on how well it meets each criterion, and the option with the highest score is selected.\n",
      "\n",
      "3. Cost-Benefit Analysis: This framework helps assess the costs and benefits of different options. It involves calculating the total costs and benefits of each option and comparing them to determine which option provides the greatest net benefit.\n",
      "\n",
      "4. Pareto Analysis: This framework helps identify the most significant factors that impact a decision. It involves ranking options based on their contribution to the overall goal and focusing on the options that provide the greatest impact.\n",
      "\n",
      "5. Decision Tree: This framework helps visualize the different paths and outcomes of a decision. It involves creating a tree-like diagram that shows the different options, probabilities, and outcomes associated with each decision.\n",
      "\n",
      "6. Six Thinking Hats: This framework helps consider different perspectives when making a decision. It involves wearing six different \"hats\" that represent different ways of thinking, such as emotional, logical, creative, and critical thinking.\n",
      "\n",
      "7. The Delphi Method: This framework helps gather expert opinions to make informed decisions. It involves multiple rounds of anonymous surveys where experts provide their input, and the results are aggregated to form a consensus.\n",
      "\n",
      "By using these decision frameworks, individuals and organizations can improve the quality of their decisions by considering multiple factors, perspectives, and potential outcomes."
     ]
    }
   ],
   "source": [
    "// Create a new OpenAI prompt execution settings object\n",
    "var openAIPromptExecutionSettings = new OpenAIPromptExecutionSettings { \n",
    "    MaxTokens = 750, \n",
    "    Temperature = 0.1, \n",
    "    TopP = 1.0, \n",
    "    FrequencyPenalty = 0.0, \n",
    "    PresencePenalty = 0.0\n",
    "    };\n",
    "\n",
    "KernelArguments kernelArguments = new KernelArguments(openAIPromptExecutionSettings);\n",
    "await foreach (var streamChunk in semanticKernel.InvokePromptStreamingAsync(simplePrompt, kernelArguments))\n",
    "{\n",
    "   Console.Write(streamChunk);\n",
    "}"
   ]
  },
  {
   "cell_type": "markdown",
   "metadata": {},
   "source": [
    "### Step 5 - Execute a Semantic Kernel Prompt with a system prompt (persona)\n",
    "\n",
    "All the best practices of prompt engineering apply when using Semantic Kernel.  \n",
    "* Make the prompt more specific\n",
    "* Add structure to the output with formatting\n",
    "* Provide examples with few-shot prompting\n",
    "* Tell the AI what to do to avoid doing something wrong\n",
    "* Provide context to the AI\n",
    "* Using message roles in chat completion prompts\n",
    "* Give your AI words of encouragement  \n",
    "\n",
    "One best practice is to provide a common behaviour across all the LLM interactions in a system prompt. This system prompt is passed in on every single call the LLM with Semantic Kernel. These prompts can be dynamically created with a programming language like C#.\n",
    "\n",
    "Execute the cell below with a dynamic prompt template. Notice the different behavior of the output for decision frameworks. The decision framework responses are much more robust with decision intelligence information."
   ]
  },
  {
   "cell_type": "code",
   "execution_count": 13,
   "metadata": {
    "dotnet_interactive": {
     "language": "csharp"
    },
    "polyglot_notebook": {
     "kernelName": "csharp"
    },
    "vscode": {
     "languageId": "polyglot-notebook"
    }
   },
   "outputs": [
    {
     "name": "stdout",
     "output_type": "stream",
     "text": [
      "Prompt To Send to the Azure OpenAI Chat Completion Service...\n",
      "You are a decision intelligence assistant. \n",
      "Assist the user in exploring options, reasoning through decisions, problem-solving, and applying systems thinking to various scenarios. \n",
      "Provide structured, logical, and comprehensive advice.\n",
      "\n",
      "Request from the user: Provide some decision frameworks that can help improve the quality of decisions.\n",
      "\n",
      "----------------------------------------\n",
      "\n",
      "Response from the Azure OpenAI Chat Completion Service...\n",
      "Certainly! Making high-quality decisions is crucial in both personal and professional contexts. Here are several decision frameworks that can help improve the quality of your decisions:\n",
      "\n",
      "1. **SWOT Analysis**:\n",
      "   - **Strengths**: Identify what advantages you have in the current situation.\n",
      "   - **Weaknesses**: Recognize the areas where you or your organization may be lacking.\n",
      "   - **Opportunities**: Look for external factors that could be leveraged for success.\n",
      "   - **Threats**: Be aware of external challenges that could cause problems.\n",
      "   - **Application**: Use this framework to evaluate a decision from all angles, ensuring a balanced view of all critical factors.\n",
      "\n",
      "2. **Decision Matrix** (also known as a Pugh Matrix):\n",
      "   - **Criteria**: List the factors that are important for making the decision.\n",
      "   - **Options**: Write down the different choices available.\n",
      "   - **Weighting**: Assign a weight to each criterion based on its importance.\n",
      "   - **Scoring**: Rate each option on each criterion.\n",
      "   - **Calculation**: Multiply the scores by the weights and sum them to get an overall score for each option.\n",
      "   - **Application**: This method quantifies options and helps in making objective decisions based on a set of relevant criteria.\n",
      "\n",
      "3. **Cost-Benefit Analysis**:\n",
      "   - **Costs**: Identify all costs associated with each decision option.\n",
      "   - **Benefits**: Determine all benefits that each option would provide.\n",
      "   - **Comparison**: Weigh the total expected costs against the total expected benefits.\n",
      "   - **Application**: This framework is useful for straightforward decisions where tangible costs and benefits can be easily quantified.\n",
      "\n",
      "4. **Pros and Cons List**:\n",
      "   - **Pros**: List all the positive aspects and advantages of each option.\n",
      "   - **Cons**: List all the negative aspects and disadvantages.\n",
      "   - **Evaluation**: Compare the pros and cons to see which option has the most favorable balance.\n",
      "   - **Application**: This is a simple and effective method for smaller or less complex decisions.\n",
      "\n",
      "5. **Six Thinking Hats** by Edward de Bono:\n",
      "   - **White Hat**: Focus on the available data and information.\n",
      "   - **Red Hat**: Look at the decision using intuition and emotion.\n",
      "   - **Black Hat**: Consider the negative outcomes and why it might not work.\n",
      "   - **Yellow Hat**: Think optimistically and explore the positives.\n",
      "   - **Green Hat**: Think creatively and propose alternative solutions.\n",
      "   - **Blue Hat**: Manage the thinking process and ensure each hat is utilized.\n",
      "   - **Application**: This framework encourages looking at a decision from multiple perspectives, reducing the blind spots in decision-making.\n",
      "\n",
      "6. **The Pareto Principle (80/20 Rule)**:\n",
      "   - **Identification**: Identify the 20% of the factors that will influence 80% of the results.\n",
      "   - **Focus**: Concentrate on these key factors to achieve the most effective outcomes.\n",
      "   - **Application**: This principle helps in prioritizing efforts that are most likely to have the greatest impact, making it useful in resource allocation and time management.\n",
      "\n",
      "7. **Expected Utility Theory**:\n",
      "   - **Outcomes**: List all possible outcomes for each decision.\n",
      "   - **Utilities**: Assign a utility value to each outcome based on how desirable it is.\n",
      "   - **Probabilities**: Estimate the probability of each outcome occurring.\n",
      "   - **Calculation**: Multiply the utilities by their probabilities and sum them to get an expected utility for each option.\n",
      "   - **Application**: This framework is particularly useful in decisions under uncertainty, helping to choose the option with the highest expected utility.\n",
      "\n",
      "Each of these frameworks can be applied depending on the specific context and nature of the decision to be made"
     ]
    }
   ],
   "source": [
    "var systemPrompt = \"\"\"\n",
    "You are a decision intelligence assistant. \n",
    "Assist the user in exploring options, reasoning through decisions, problem-solving, and applying systems thinking to various scenarios. \n",
    "Provide structured, logical, and comprehensive advice.\n",
    "\"\"\";\n",
    "\n",
    "var simpleDecisionPromptTemplate = $\"\"\"\n",
    "{systemPrompt}\n",
    "\n",
    "Request from the user: {simplePrompt}\n",
    "\"\"\";\n",
    "\n",
    "Console.WriteLine(\"Prompt To Send to the Azure OpenAI Chat Completion Service...\");\n",
    "Console.WriteLine(simpleDecisionPromptTemplate);\n",
    "\n",
    "Console.WriteLine(string.Empty);\n",
    "Console.WriteLine(\"----------------------------------------\");\n",
    "Console.WriteLine(string.Empty);\n",
    "Console.WriteLine(\"Response from the Azure OpenAI Chat Completion Service...\");\n",
    "await foreach (var streamChunk in semanticKernel.InvokePromptStreamingAsync(simpleDecisionPromptTemplate, kernelArguments))\n",
    "{\n",
    "   Console.Write(streamChunk);\n",
    "}"
   ]
  }
 ],
 "metadata": {
  "kernelspec": {
   "display_name": ".NET (C#)",
   "language": "C#",
   "name": ".net-csharp"
  },
  "language_info": {
   "name": "csharp"
  },
  "polyglot_notebook": {
   "kernelInfo": {
    "defaultKernelName": "csharp",
    "items": [
     {
      "aliases": [],
      "name": "csharp"
     }
    ]
   }
  }
 },
 "nbformat": 4,
 "nbformat_minor": 2
}
