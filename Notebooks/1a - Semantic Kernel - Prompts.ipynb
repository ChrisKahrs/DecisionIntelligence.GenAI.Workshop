{
 "cells": [
  {
   "cell_type": "markdown",
   "metadata": {},
   "source": [
    "<img style=\"float: left;\" width =\"40px\" src=\"https://raw.githubusercontent.com/bartczernicki/DecisionIntelligence.GenAI.Workshop/main/Images/SemanticKernelLogo.png\">\n",
    "\n",
    "## Semantic Kernel - Prompts"
   ]
  },
  {
   "cell_type": "markdown",
   "metadata": {},
   "source": [
    "Decision Intelligence applied in this module:\n",
    "* Listing of various Decision-Making frameworks and with their descriptions  \n",
    "* Understanding the built-in (trained) Decision Intelligence capabilities of GenAI LLMs"
   ]
  },
  {
   "cell_type": "markdown",
   "metadata": {},
   "source": [
    "Prompts are the fundemental building block to getting the proper responses from AI models. This module demonstrates how to use common prompt engineering techniques while using Semantic Kernel. If you've ever used ChatGPT or Microsoft Copilot, you're already familiar with prompting. Given a prompt instruction, an LLM will attempt to predict the most likely response. With Semantic Kernel, you can craft applications, services & APIs that execute prompts.  \n",
    "\n",
    "For more information on using prompts with Semantic Kernel, visit: https://learn.microsoft.com/en-us/semantic-kernel/prompts/your-first-prompt  "
   ]
  },
  {
   "cell_type": "markdown",
   "metadata": {},
   "source": [
    "### Step 1 - Initialize Configuration Builder & Build the Semantic Kernel Orchestration\n",
    "\n",
    "Execute the next two cells to:\n",
    "* Use the Configuration Builder to load the API secrets.  \n",
    "* Use the API configuration to build the Semantic Kernel orchestrator."
   ]
  },
  {
   "cell_type": "code",
   "execution_count": 1,
   "metadata": {
    "dotnet_interactive": {
     "language": "csharp"
    },
    "polyglot_notebook": {
     "kernelName": "csharp"
    },
    "vscode": {
     "languageId": "polyglot-notebook"
    }
   },
   "outputs": [
    {
     "data": {
      "text/html": [
       "<div><div></div><div></div><div><strong>Installed Packages</strong><ul><li><span>Microsoft.Extensions.Configuration, 8.0.0</span></li><li><span>Microsoft.Extensions.Configuration.Json, 8.0.0</span></li></ul></div></div>"
      ]
     },
     "metadata": {},
     "output_type": "display_data"
    }
   ],
   "source": [
    "// Import the required NuGet configuration packages\n",
    "#r \"nuget: Microsoft.Extensions.Configuration, 8.0.0\"\n",
    "#r \"nuget: Microsoft.Extensions.Configuration.Json, 8.0.0\"\n",
    "\n",
    "using Microsoft.Extensions.Configuration;\n",
    "using System.IO;\n",
    "\n",
    "// Load the configuration settings from the local.settings.json and secrets.settings.json files\n",
    "// The secrets.settings.json file is used to store sensitive information such as API keys\n",
    "var configurationBuilder = new ConfigurationBuilder()\n",
    "    .SetBasePath(Directory.GetCurrentDirectory())\n",
    "    .AddJsonFile(\"local.settings.json\", optional: true, reloadOnChange: true)\n",
    "    .AddJsonFile(\"secrets.settings.json\", optional: true, reloadOnChange: true);\n",
    "var config = configurationBuilder.Build();\n",
    "\n",
    "// IMPORTANT: You ONLY NEED either Azure OpenAI or OpenAI connectiopn info, not both.\n",
    "// Azure OpenAI Connection Info\n",
    "var azureOpenAIEndpoint = config[\"AzureOpenAI:Endpoint\"];\n",
    "var azureOpenAIAPIKey = config[\"AzureOpenAI:APIKey\"];\n",
    "var azureOpenAIModelDeploymentName = config[\"AzureOpenAI:ModelDeploymentName\"];\n",
    "// OpenAI Connection Info \n",
    "var openAIAPIKey = config[\"OpenAI:APIKey\"];\n",
    "var openAIModelId = config[\"OpenAI:ModelId\"];"
   ]
  },
  {
   "cell_type": "code",
   "execution_count": 2,
   "metadata": {
    "dotnet_interactive": {
     "language": "csharp"
    },
    "polyglot_notebook": {
     "kernelName": "csharp"
    },
    "vscode": {
     "languageId": "polyglot-notebook"
    }
   },
   "outputs": [
    {
     "data": {
      "text/html": [
       "<div><div></div><div></div><div><strong>Installed Packages</strong><ul><li><span>Microsoft.SemanticKernel, 1.13.0</span></li></ul></div></div>"
      ]
     },
     "metadata": {},
     "output_type": "display_data"
    },
    {
     "name": "stdout",
     "output_type": "stream",
     "text": [
      "Using Azure OpenAI Service\r\n"
     ]
    }
   ],
   "source": [
    "// Import the Semantic Kernel NuGet package\n",
    "#r \"nuget: Microsoft.SemanticKernel, 1.13.0\"\n",
    "\n",
    "using Microsoft.SemanticKernel;\n",
    "using Microsoft.SemanticKernel.ChatCompletion;\n",
    "using Microsoft.SemanticKernel.Connectors.OpenAI;\n",
    "\n",
    "Kernel semanticKernel;\n",
    "\n",
    "// Set the flag to use Azure OpenAI or OpenAI. False to use OpenAI, True to use Azure OpenAI\n",
    "var useAzureOpenAI = true;\n",
    "\n",
    "// Create a new Semantic Kernel instance\n",
    "if (useAzureOpenAI)\n",
    "{\n",
    "    Console.WriteLine(\"Using Azure OpenAI Service\");\n",
    "    semanticKernel = Kernel.CreateBuilder()\n",
    "        .AddAzureOpenAIChatCompletion(\n",
    "            deploymentName: azureOpenAIModelDeploymentName,\n",
    "            endpoint: azureOpenAIEndpoint,\n",
    "            apiKey: azureOpenAIAPIKey)\n",
    "        .Build();\n",
    "}\n",
    "else\n",
    "{\n",
    "    Console.WriteLine(\"Using OpenAI Service\");\n",
    "    semanticKernel = Kernel.CreateBuilder()\n",
    "        .AddOpenAIChatCompletion(\n",
    "            modelId: openAIModelId,\n",
    "            apiKey: openAIAPIKey)\n",
    "        .Build();\n",
    "}"
   ]
  },
  {
   "cell_type": "markdown",
   "metadata": {},
   "source": [
    "### Step 2 - Execute a Semantic Kernel Prompt\n",
    "\n",
    "> \"In preparing for battle, I have always found that plans are useless, but planning is indispensable.\" \n",
    ">\n",
    "> -- <cite>Dwight D Eisenhower (US President and WW2 Supreme Commander of Allied Forces)</cite>  \n",
    "\n",
    "Many LLMs and even SLMs have been trained on knowledge that includes decision frameworks & processes. This makes LLMs great assistants to:\n",
    "* Provide proper decision frames\n",
    "* Gather the information & intelligence in order to make a decision\n",
    "* Recommend decision frameworks to make a high-quality decision\n",
    "* Provide feedback to evaluate a decision\n",
    "\n",
    "Once the Semantic Kernel instance is built, it is ready to intake prompt instructions.  \n",
    "\n",
    "In the prompt below, the Semantic Kernel is instructed to provide examples of decision frameworks. Note the different decision frameworks listed by the GenAI LLM. What is interesting is that these decision frameworks are inherent knowledge that the GenAI model posses from the data it has been trained on. This means that these decision frameworks are available for everyone to use in their GenAI systems.  "
   ]
  },
  {
   "cell_type": "code",
   "execution_count": 4,
   "metadata": {
    "dotnet_interactive": {
     "language": "csharp"
    },
    "polyglot_notebook": {
     "kernelName": "csharp"
    },
    "vscode": {
     "languageId": "polyglot-notebook"
    }
   },
   "outputs": [
    {
     "name": "stdout",
     "output_type": "stream",
     "text": [
      "Certainly! Here is a list of decision frameworks that can help improve the quality of decisions:\n",
      "\n",
      "1. **SWOT Analysis (Strengths, Weaknesses, Opportunities, Threats):**\n",
      "   - A structured planning method that evaluates these four aspects of a project or a business venture.\n",
      "  \n",
      "2. **Pros and Cons:**\n",
      "   - A simple comparative analysis that lists the advantages and disadvantages of each option.\n",
      "\n",
      "3. **Decision Matrix Analysis (also known as the Criteria Rating Form):**\n",
      "   - A technique that uses a matrix to compare multiple options against a set of criteria.\n",
      "\n",
      "4. **Cost-Benefit Analysis:**\n",
      "   - Evaluates the financial implications, weighing the costs against the expected benefits.\n",
      "\n",
      "5. **PEST Analysis (Political, Economic, Social, Technological):**\n",
      "   - Helps to understand the macro-environmental factors that could impact your decision.\n",
      "\n",
      "6. **Pareto Analysis (80/20 Rule):**\n",
      "   - Focuses on identifying the 20% of actions that will produce 80% of the impact.\n",
      "\n",
      "7. **Six Thinking Hats:**\n",
      "   - A parallel thinking process that involves analyzing a decision from six distinct perspectives (emotional, informational, logical, creative, positive, and negative).\n",
      "\n",
      "8. **Kanban:**\n",
      "   - A visual workflow management method that helps you visualize your work, maximize efficiency, and improve continuously.\n",
      "\n",
      "9. **Root Cause Analysis:**\n",
      "   - A method used to identify the underlying causes of a problem or decision situation.\n",
      "\n",
      "10. **Bayesian Decision Theory:**\n",
      "    - Applies probabilities to make statistically optimal decisions, especially useful under conditions of uncertainty.\n",
      "\n",
      "11. **OODA Loop (Observe, Orient, Decide, Act):**\n",
      "    - A cyclical process used for decision-making in competitive or fast-changing environments.\n",
      "\n",
      "12. **Monte Carlo Analysis:**\n",
      "    - A statistical method that uses random sampling and simulation to understand the impact of risk and uncertainty in decision-making.\n",
      "\n",
      "13. **Eisenhower Matrix:**\n",
      "    - A time management framework that categorizes tasks into urgent/important, not urgent/important, and so on, to prioritize effectively.\n",
      "\n",
      "14. **Balanced Scorecard:**\n",
      "    - A strategic planning and management system that considers financial and non-financial measures to provide a more balanced view of organizational performance.\n",
      "\n",
      "15. **Rational Decision-Making Model:**\n",
      "    - A multi-step process that involves problem identification, data collection, alternative evaluation, and making a choice, often ending with a review phase.\n",
      "\n",
      "16. **Nudge Theory:**\n",
      "    - Focuses on designing choices in such a way that they encourage beneficial behaviors without restricting freedom of choice.\n",
      "\n",
      "17. **Scenario Planning:**\n",
      "    - A strategic method that organizations use to make flexible long-term plans based on \"what if\" scenarios.\n",
      "\n",
      "18. **Agile Decision-Making Frameworks:**\n",
      "    - Emphasize flexibility, customer feedback, and incremental improvement, often used in project management and software development.\n",
      "\n",
      "These frameworks offer various tools and methodologies to structure thinking, analyze options, and mitigate risks, thereby helping to improve the quality of your decisions.\r\n"
     ]
    }
   ],
   "source": [
    "// Simple prompt to list some decision frameworks this GenAI LLM is familiar with\n",
    "var simplePrompt = \"\"\"\n",
    "Provide a list of decision frameworks that can help improve the quality of decisions.\n",
    "\"\"\";\n",
    "\n",
    "var simplePromptResponse = await semanticKernel.InvokePromptAsync(simplePrompt);\n",
    "Console.WriteLine(simplePromptResponse.GetValue<string>());"
   ]
  },
  {
   "cell_type": "markdown",
   "metadata": {},
   "source": [
    "### Step 3 - Execute a Semantic Kernel Prompt with Streaming\n",
    "\n",
    "Semantic Kernel supports prompt response streaming when invoking the prompt. This allows responses to be streamed to the client as soon as they are made available by the LLM and service. Below the same decision prompt is executed. However, notice that chunks are streamed and can be read by the user as soon as they appear. "
   ]
  },
  {
   "cell_type": "code",
   "execution_count": 5,
   "metadata": {
    "dotnet_interactive": {
     "language": "csharp"
    },
    "polyglot_notebook": {
     "kernelName": "csharp"
    },
    "vscode": {
     "languageId": "polyglot-notebook"
    }
   },
   "outputs": [
    {
     "name": "stdout",
     "output_type": "stream",
     "text": [
      "Absolutely, improving the quality of decisions can be dramatically enhanced through the use of structured frameworks. Here are several decision-making frameworks that are widely recognized for their effectiveness:\n",
      "\n",
      "1. **SWOT Analysis (Strengths, Weaknesses, Opportunities, Threats)**:\n",
      "   - Helps in identifying internal strengths and weaknesses, external opportunities, and threats to make strategic decisions.\n",
      "\n",
      "2. **PEST Analysis (Political, Economic, Social, Technological)**:\n",
      "   - Assists in understanding the macro-environmental factors that could impact a decision or a business strategy.\n",
      "\n",
      "3. **Decision Matrix (Weighted Scoring Model)**:\n",
      "   - A quantitative technique that evaluates and prioritizes a list of options based on a set of criteria.\n",
      "\n",
      "4. **Cost-Benefit Analysis**:\n",
      "   - Compares the costs and benefits of a decision to determine whether it is financially viable.\n",
      "\n",
      "5. **Pros and Cons List**:\n",
      "   - A simple yet effective method of listing positive and negative aspects of each option to make a decision.\n",
      "\n",
      "6. **Pareto Analysis (80/20 Rule)**:\n",
      "   - Focuses on identifying the most important factors (usually 20%) that will generate the most significant results (80%).\n",
      "\n",
      "7. **The Eisenhower Matrix (Urgent-Important Matrix)**:\n",
      "   - Helps in prioritizing tasks and decisions based on their urgency and importance.\n",
      "\n",
      "8. **Six Thinking Hats**:\n",
      "   - A parallel thinking process where different perspectives are considered (rational, emotional, creative, etc.) to enhance decision-making.\n",
      "\n",
      "9. **OODA Loop (Observe, Orient, Decide, Act)**:\n",
      "   - A four-step approach used in high-stakes environments to make fast and effective decisions.\n",
      "\n",
      "10. **Fishbone Diagram (Ishikawa, Cause and Effect Diagram)**:\n",
      "    - Identifies potential causes of a problem to understand all contributing factors before making a decision.\n",
      "\n",
      "11. **Root Cause Analysis (RCA)**:\n",
      "    - Looks at the underlying causes of a problem rather than just the symptoms to make better long-term decisions.\n",
      "\n",
      "12. **Monte Carlo Simulation**:\n",
      "    - Uses probability and statistical methods to model and simulate the impact of risk and uncertainty in decision-making.\n",
      "\n",
      "13. **FMEA (Failure Modes and Effects Analysis)**:\n",
      "    - Identifies and prioritizes potential failure points and their impacts to mitigate risks in decision-making.\n",
      "\n",
      "14. **Vroom-Yetton Decision Model**:\n",
      "    - A situational leadership model that suggests different decision-making styles based on the level of leadership involvement needed.\n",
      "\n",
      "15. **Theory of Constraints (TOC)**:\n",
      "    - Focuses on identifying the most critical limiting factor (constraint) that stands in the way of achieving a goal to make focused decisions.\n",
      "\n",
      "Each of these frameworks has its own strengths and weaknesses, and the choice of which to use depends on the context and complexity of the decision at hand. Often, combining several frameworks can offer more comprehensive insights and lead to better-quality decisions."
     ]
    }
   ],
   "source": [
    "// Stream the Prompt Response\n",
    "await foreach (var streamChunk in semanticKernel.InvokePromptStreamingAsync(simplePrompt))\n",
    "{\n",
    "   Console.Write(streamChunk);\n",
    "}"
   ]
  },
  {
   "cell_type": "markdown",
   "metadata": {},
   "source": [
    "### Step 4 - Execute a Semantic Kernel Prompt with a Custom Prompt Execution Configuration\n",
    "\n",
    "Semantic Kernel supports the configuration of prompt execution. The typical OpenAI and Azure OpenAI settings are exposed as configuration options that provide a different prompt experience. Try changing the MaxTokens, Tempature or other settings.  \n",
    "\n",
    "In the setting below, the Temperature was lowered to 0.1 which instructs the LLM to be more deterministic and less creative.   "
   ]
  },
  {
   "cell_type": "code",
   "execution_count": 6,
   "metadata": {
    "dotnet_interactive": {
     "language": "csharp"
    },
    "polyglot_notebook": {
     "kernelName": "csharp"
    },
    "vscode": {
     "languageId": "polyglot-notebook"
    }
   },
   "outputs": [
    {
     "name": "stdout",
     "output_type": "stream",
     "text": [
      "Certainly! Here is a list of decision frameworks that can help improve the quality of decisions:\n",
      "\n",
      "1. **SWOT Analysis**:\n",
      "   - **Strengths**: Identify internal strengths.\n",
      "   - **Weaknesses**: Identify internal weaknesses.\n",
      "   - **Opportunities**: Identify external opportunities.\n",
      "   - **Threats**: Identify external threats.\n",
      "\n",
      "2. **PEST Analysis**:\n",
      "   - **Political**: Consider political factors.\n",
      "   - **Economic**: Consider economic factors.\n",
      "   - **Social**: Consider social factors.\n",
      "   - **Technological**: Consider technological factors.\n",
      "\n",
      "3. **Decision Matrix (Weighted Scoring Model)**:\n",
      "   - List options and criteria.\n",
      "   - Assign weights to each criterion based on importance.\n",
      "   - Score each option against each criterion.\n",
      "   - Calculate weighted scores to determine the best option.\n",
      "\n",
      "4. **Cost-Benefit Analysis**:\n",
      "   - Identify and quantify costs.\n",
      "   - Identify and quantify benefits.\n",
      "   - Compare costs and benefits to determine the net value.\n",
      "\n",
      "5. **Pros and Cons List**:\n",
      "   - List the advantages (pros) of each option.\n",
      "   - List the disadvantages (cons) of each option.\n",
      "   - Compare the lists to make an informed decision.\n",
      "\n",
      "6. **Six Thinking Hats** (by Edward de Bono):\n",
      "   - **White Hat**: Focus on data and information.\n",
      "   - **Red Hat**: Consider emotions and feelings.\n",
      "   - **Black Hat**: Identify potential problems and risks.\n",
      "   - **Yellow Hat**: Focus on benefits and optimism.\n",
      "   - **Green Hat**: Encourage creativity and new ideas.\n",
      "   - **Blue Hat**: Manage the decision-making process.\n",
      "\n",
      "7. **Pareto Analysis (80/20 Rule)**:\n",
      "   - Identify the most significant factors contributing to a problem.\n",
      "   - Focus on the 20% of causes that will solve 80% of the problem.\n",
      "\n",
      "8. **OODA Loop (Observe, Orient, Decide, Act)**:\n",
      "   - **Observe**: Gather information.\n",
      "   - **Orient**: Analyze and synthesize information.\n",
      "   - **Decide**: Make a decision based on the analysis.\n",
      "   - **Act**: Implement the decision.\n",
      "\n",
      "9. **Kepner-Tregoe Decision Analysis**:\n",
      "   - Define the decision problem.\n",
      "   - Identify objectives and criteria.\n",
      "   - Evaluate alternatives against the criteria.\n",
      "   - Make a decision based on the evaluation.\n",
      "\n",
      "10. **Vroom-Yetton Decision Model**:\n",
      "    - Determine the level of involvement of team members in the decision-making process.\n",
      "    - Choose the appropriate decision-making style (autocratic, consultative, group-based) based on situational factors.\n",
      "\n",
      "11. **Rational Decision-Making Model**:\n",
      "    - Define the problem.\n",
      "    - Identify decision criteria.\n",
      "    - Weigh the criteria.\n",
      "    - Generate alternatives.\n",
      "    - Evaluate the alternatives.\n",
      "    - Choose the best alternative.\n",
      "    - Implement the decision.\n",
      "    - Monitor and evaluate the decision.\n",
      "\n",
      "12. **Analytic Hierarchy Process (AHP)**:\n",
      "    - Break down a complex decision into a hierarchy of sub-problems.\n",
      "    - Compare elements pairwise to establish priorities.\n",
      "    - Synthesize results to determine the best option.\n",
      "\n",
      "13. **Monte Carlo Simulation**:\n",
      "    - Use random sampling and statistical modeling to estimate the probability of different outcomes.\n",
      "    - Analyze the impact of risk and uncertainty in decision-making.\n",
      "\n",
      "14. **Scenario Planning**:\n",
      "    - Develop multiple scenarios based on different assumptions about the future.\n",
      "    - Analyze the implications of each scenario.\n",
      "    - Prepare strategies for each potential future.\n",
      "\n",
      "15. **FMEA (Failure Modes and Effects Analysis)**:\n",
      "    - Identify potential failure modes.\n"
     ]
    }
   ],
   "source": [
    "// Create a new OpenAI prompt execution settings object\n",
    "var openAIPromptExecutionSettings = new OpenAIPromptExecutionSettings { \n",
    "    MaxTokens = 750, \n",
    "    Temperature = 0.1, \n",
    "    TopP = 1.0, \n",
    "    FrequencyPenalty = 0.0, \n",
    "    PresencePenalty = 0.0\n",
    "    };\n",
    "\n",
    "KernelArguments kernelArguments = new KernelArguments(openAIPromptExecutionSettings);\n",
    "await foreach (var streamChunk in semanticKernel.InvokePromptStreamingAsync(simplePrompt, kernelArguments))\n",
    "{\n",
    "   Console.Write(streamChunk);\n",
    "}"
   ]
  },
  {
   "cell_type": "markdown",
   "metadata": {},
   "source": [
    "### Step 5 - Execute a Semantic Kernel Prompt with a system prompt (persona)\n",
    "\n",
    "All the best practices of prompt engineering apply when using Semantic Kernel.  \n",
    "* Make the prompt more specific\n",
    "* Add structure to the output with formatting\n",
    "* Provide examples with few-shot prompting\n",
    "* Tell the AI what to do to avoid doing something wrong\n",
    "* Provide context to the AI\n",
    "* Using message roles in chat completion prompts\n",
    "* Give your AI words of encouragement  \n",
    "\n",
    "One best practice is to provide a common behaviour across all the LLM interactions in a system prompt. This system prompt is passed in on every single call the LLM with Semantic Kernel. These prompts can be dynamically created with a programming language like C#.\n",
    "\n",
    "Execute the cell below with a dynamic prompt template. Notice the different behavior of the output for decision frameworks. The decision framework responses are much more robust with decision intelligence information."
   ]
  },
  {
   "cell_type": "code",
   "execution_count": 7,
   "metadata": {
    "dotnet_interactive": {
     "language": "csharp"
    },
    "polyglot_notebook": {
     "kernelName": "csharp"
    },
    "vscode": {
     "languageId": "polyglot-notebook"
    }
   },
   "outputs": [
    {
     "name": "stdout",
     "output_type": "stream",
     "text": [
      "Prompt To Send to the Azure OpenAI Chat Completion Service...\n",
      "System Prompt: You are a decision intelligence assistant. \n",
      "Assist the user in exploring options, reasoning through decisions, problem-solving, and applying systems thinking to various scenarios. \n",
      "Provide structured, logical, and comprehensive advice.\n",
      "\n",
      "Request from the user: Provide a list of decision frameworks that can help improve the quality of decisions.\n",
      "\n",
      "----------------------------------------\n",
      "----------------------------------------\n",
      "\n",
      "Response from the Azure OpenAI Chat Completion Service...\n",
      "Certainly! Here is a list of decision frameworks that can help improve the quality of decisions:\n",
      "\n",
      "1. **SWOT Analysis (Strengths, Weaknesses, Opportunities, Threats)**\n",
      "   - **Purpose:** To evaluate the internal and external factors that can impact a decision.\n",
      "   - **Application:** Strategic planning, business development, personal growth.\n",
      "\n",
      "2. **PEST Analysis (Political, Economic, Social, Technological)**\n",
      "   - **Purpose:** To analyze the macro-environmental factors that could influence a decision.\n",
      "   - **Application:** Market research, strategic planning, risk management.\n",
      "\n",
      "3. **Decision Matrix (Weighted Scoring Model)**\n",
      "   - **Purpose:** To evaluate and prioritize a list of options based on specific criteria.\n",
      "   - **Application:** Product selection, project prioritization, vendor selection.\n",
      "\n",
      "4. **Cost-Benefit Analysis**\n",
      "   - **Purpose:** To compare the costs and benefits of different options.\n",
      "   - **Application:** Financial planning, project management, policy-making.\n",
      "\n",
      "5. **Six Thinking Hats**\n",
      "   - **Purpose:** To look at a decision from multiple perspectives (emotional, logical, creative, etc.).\n",
      "   - **Application:** Team decision-making, brainstorming sessions, problem-solving.\n",
      "\n",
      "6. **Pareto Analysis (80/20 Rule)**\n",
      "   - **Purpose:** To identify the most important factors that will have the greatest impact.\n",
      "   - **Application:** Quality control, resource allocation, productivity improvement.\n",
      "\n",
      "7. **Pros and Cons List**\n",
      "   - **Purpose:** To weigh the advantages and disadvantages of different options.\n",
      "   - **Application:** Everyday decision-making, personal choices, simple business decisions.\n",
      "\n",
      "8. **Root Cause Analysis (5 Whys)**\n",
      "   - **Purpose:** To identify the underlying causes of a problem.\n",
      "   - **Application:** Problem-solving, quality improvement, troubleshooting.\n",
      "\n",
      "9. **Monte Carlo Simulation**\n",
      "   - **Purpose:** To assess the impact of risk and uncertainty in decision-making.\n",
      "   - **Application:** Financial forecasting, project management, risk assessment.\n",
      "\n",
      "10. **Scenario Planning**\n",
      "    - **Purpose:** To explore and prepare for different future scenarios.\n",
      "    - **Application:** Strategic planning, risk management, long-term planning.\n",
      "\n",
      "11. **Eisenhower Matrix (Urgent-Important Matrix)**\n",
      "    - **Purpose:** To prioritize tasks based on their urgency and importance.\n",
      "    - **Application:** Time management, productivity improvement, task prioritization.\n",
      "\n",
      "12. **OODA Loop (Observe, Orient, Decide, Act)**\n",
      "    - **Purpose:** To make quick and effective decisions in dynamic environments.\n",
      "    - **Application:** Military strategy, crisis management, competitive business environments.\n",
      "\n",
      "13. **Vroom-Yetton Decision Model**\n",
      "    - **Purpose:** To determine the best leadership style and level of team involvement for decision-making.\n",
      "    - **Application:** Leadership, team management, organizational behavior.\n",
      "\n",
      "14. **Kepner-Tregoe Decision Analysis**\n",
      "    - **Purpose:** To systematically evaluate and prioritize options based on objectives and potential problems.\n",
      "    - **Application:** Complex problem-solving, project management, strategic planning.\n",
      "\n",
      "15. **FMEA (Failure Modes and Effects Analysis)**\n",
      "    - **Purpose:** To identify potential failure points and their impact.\n",
      "    - **Application:** Quality control, risk management, product development.\n",
      "\n",
      "Each of these frameworks has its strengths and is suited to different types of decisions and contexts. By selecting the appropriate framework, you can systematically approach decision-making, reduce biases, and improve the overall quality of your decisions."
     ]
    }
   ],
   "source": [
    "// Create a system prompt instruction to override the default system prompt\n",
    "var systemPromptForDecisions = \"\"\"\n",
    "You are a decision intelligence assistant. \n",
    "Assist the user in exploring options, reasoning through decisions, problem-solving, and applying systems thinking to various scenarios. \n",
    "Provide structured, logical, and comprehensive advice.\n",
    "\"\"\";\n",
    "// Simple prompt to list some decision frameworks this GenAI LLM is familiar with\n",
    "var simplePrompt = \"\"\"\n",
    "Provide a list of decision frameworks that can help improve the quality of decisions.\n",
    "\"\"\";\n",
    "\n",
    "// Print how the prompt looks like to the LLM\n",
    "var simpleDecisionPromptTemplate = $\"\"\"\n",
    "System Prompt: {systemPromptForDecisions}\n",
    "\n",
    "Request from the user: {simplePrompt}\n",
    "\"\"\";\n",
    "\n",
    "// Create a new OpenAI prompt execution settings object\n",
    "var openAIPromptExecutionSettings = new OpenAIPromptExecutionSettings { \n",
    "    ChatSystemPrompt = systemPromptForDecisions,\n",
    "    MaxTokens = 750, \n",
    "    Temperature = 0.1, \n",
    "    TopP = 1.0, \n",
    "    FrequencyPenalty = 0.0, \n",
    "    PresencePenalty = 0.0\n",
    "    };\n",
    "KernelArguments kernelArguments = new KernelArguments(openAIPromptExecutionSettings);\n",
    "\n",
    "Console.WriteLine(\"Prompt To Send to the Azure OpenAI Chat Completion Service...\");\n",
    "Console.WriteLine(simpleDecisionPromptTemplate);\n",
    "Console.WriteLine(string.Empty);\n",
    "Console.WriteLine(\"----------------------------------------\");\n",
    "Console.WriteLine(\"----------------------------------------\");\n",
    "Console.WriteLine(string.Empty);\n",
    "Console.WriteLine(\"Response from the Azure OpenAI Chat Completion Service...\");\n",
    "\n",
    "\n",
    "await foreach (var streamChunk in semanticKernel.InvokePromptStreamingAsync(simplePrompt, kernelArguments))\n",
    "{\n",
    "   Console.Write(streamChunk);\n",
    "}"
   ]
  }
 ],
 "metadata": {
  "kernelspec": {
   "display_name": ".NET (C#)",
   "language": "C#",
   "name": ".net-csharp"
  },
  "language_info": {
   "name": "csharp"
  },
  "polyglot_notebook": {
   "kernelInfo": {
    "defaultKernelName": "csharp",
    "items": [
     {
      "aliases": [],
      "name": "csharp"
     }
    ]
   }
  }
 },
 "nbformat": 4,
 "nbformat_minor": 2
}
