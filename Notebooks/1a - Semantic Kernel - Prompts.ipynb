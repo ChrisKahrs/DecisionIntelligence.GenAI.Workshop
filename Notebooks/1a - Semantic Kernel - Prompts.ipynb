{
 "cells": [
  {
   "cell_type": "markdown",
   "metadata": {},
   "source": [
    "<img style=\"float: left;\" width =\"40px\" src=\"https://raw.githubusercontent.com/bartczernicki/DecisionIntelligence.GenAI.Workshop/main/Images/SemanticKernelLogo.png\">\n",
    "\n",
    "## Semantic Kernel - Prompts"
   ]
  },
  {
   "cell_type": "markdown",
   "metadata": {},
   "source": [
    "Prompts are the fundemental building block to getting the proper responses from AI models. This module demonstrates how to use common prompt engineering techniques while using Semantic Kernel. If you've ever used ChatGPT or Microsoft Copilot, you're already familiar with prompting. Given a prompt instruction, an LLM will attempt to predict the most likely response. With Semantic Kernel, you can craft applications, services & APIs that execute prompts.  \n",
    "\n",
    "For more information on using prompts with Semantic Kernel, visit: https://learn.microsoft.com/en-us/semantic-kernel/prompts/your-first-prompt  "
   ]
  },
  {
   "cell_type": "markdown",
   "metadata": {},
   "source": [
    "### Step 1 - Initialize Configuration Builder & Build the Semantic Kernel Orchestration\n",
    "\n",
    "Execute the next two cells to:\n",
    "* Use the Configuration Builder to load the API secrets.  \n",
    "* Use the API configuration to build the Semantic Kernel orchestrator."
   ]
  },
  {
   "cell_type": "code",
   "execution_count": 27,
   "metadata": {
    "dotnet_interactive": {
     "language": "csharp"
    },
    "polyglot_notebook": {
     "kernelName": "csharp"
    },
    "vscode": {
     "languageId": "polyglot-notebook"
    }
   },
   "outputs": [
    {
     "data": {
      "text/html": [
       "<div><div></div><div></div><div><strong>Installed Packages</strong><ul><li><span>Microsoft.Extensions.Configuration, 8.0.0</span></li><li><span>Microsoft.Extensions.Configuration.Json, 8.0.0</span></li></ul></div></div>"
      ]
     },
     "metadata": {},
     "output_type": "display_data"
    },
    {
     "name": "stdout",
     "output_type": "stream",
     "text": [
      "gpt-4o\n"
     ]
    }
   ],
   "source": [
    "// Import the required NuGet configuration packages\n",
    "#r \"nuget: Microsoft.Extensions.Configuration, 8.0.0\"\n",
    "#r \"nuget: Microsoft.Extensions.Configuration.Json, 8.0.0\"\n",
    "\n",
    "using Microsoft.Extensions.Configuration;\n",
    "using System.IO;\n",
    "\n",
    "// Load the configuration settings from the local.settings.json and secrets.settings.json files\n",
    "// The secrets.settings.json file is used to store sensitive information such as API keys\n",
    "var configurationBuilder = new ConfigurationBuilder()\n",
    "    .SetBasePath(Directory.GetCurrentDirectory())\n",
    "    .AddJsonFile(\"local.settings.json\", optional: true, reloadOnChange: true)\n",
    "    .AddJsonFile(\"secrets.settings.json\", optional: true, reloadOnChange: true);\n",
    "var config = configurationBuilder.Build();\n",
    "\n",
    "// Retrieve the configuration settings for the Azure OpenAI service\n",
    "var azureOpenAIEndpoint = config[\"AzureOpenAI:Endpoint\"];\n",
    "var azureOpenAIAPIKey = config[\"AzureOpenAI:APIKey\"];\n",
    "var azureOpenAIModelDeploymentName = config[\"AzureOpenAI:ModelDeploymentName\"];\n",
    "\n",
    "var openAIAPIKey = config[\"OpenAI:APIKey\"];\n",
    "var openAIModelId = config[\"OpenAI:ModelId\"];"
   ]
  },
  {
   "cell_type": "code",
   "execution_count": 9,
   "metadata": {
    "dotnet_interactive": {
     "language": "csharp"
    },
    "polyglot_notebook": {
     "kernelName": "csharp"
    },
    "vscode": {
     "languageId": "polyglot-notebook"
    }
   },
   "outputs": [
    {
     "data": {
      "text/html": [
       "<div><div></div><div></div><div><strong>Installed Packages</strong><ul><li><span>Microsoft.SemanticKernel, 1.11.1</span></li></ul></div></div>"
      ]
     },
     "metadata": {},
     "output_type": "display_data"
    }
   ],
   "source": [
    "// Import the Semantic Kernel NuGet package\n",
    "#r \"nuget: Microsoft.SemanticKernel, 1.11.1\"\n",
    "\n",
    "using Microsoft.SemanticKernel;\n",
    "using Microsoft.SemanticKernel.ChatCompletion;\n",
    "using Microsoft.SemanticKernel.Connectors.OpenAI;\n",
    "\n",
    "// Create a new Semantic Kernel instance with the Azure OpenAI Chat Completion service\n",
    "var semanticKernel = Kernel.CreateBuilder()\n",
    "    .AddAzureOpenAIChatCompletion(\n",
    "        deploymentName: azureOpenAIModelDeploymentName,\n",
    "        endpoint: azureOpenAIEndpoint,\n",
    "        apiKey: azureOpenAIAPIKey)\n",
    "    .Build();"
   ]
  },
  {
   "cell_type": "code",
   "execution_count": 28,
   "metadata": {
    "vscode": {
     "languageId": "polyglot-notebook"
    }
   },
   "outputs": [],
   "source": [
    "// Create a new Semantic Kernel instance with the Azure OpenAI Chat Completion service\n",
    "var semanticKernelOpenAI = Kernel.CreateBuilder()\n",
    "    .AddOpenAIChatCompletion(\n",
    "        modelId: openAIModelId,\n",
    "        apiKey: openAIAPIKey)\n",
    "    .Build();"
   ]
  },
  {
   "cell_type": "markdown",
   "metadata": {},
   "source": [
    "### Step 2 - Execute a Semantic Kernel Prompt\n",
    "\n",
    "Many LLMs and even SLMs have been trained on knowledge that includes decision frameworks & processes. This makes LLMs great assistants to:\n",
    "* Provide proper decision frames\n",
    "* Gather the information & intelligence in order to make a decision\n",
    "* Recommend decision frameworks to make a high-quality decision\n",
    "* Provide feedback to evaluate a decision\n",
    "\n",
    "Once the Semantic Kernel instance is built, it is ready to intake prompt instructions. In the prompt below, the Semantic Kernel is instructed to provide examples of decision frameworks. "
   ]
  },
  {
   "cell_type": "code",
   "execution_count": 3,
   "metadata": {
    "dotnet_interactive": {
     "language": "csharp"
    },
    "polyglot_notebook": {
     "kernelName": "csharp"
    },
    "vscode": {
     "languageId": "polyglot-notebook"
    }
   },
   "outputs": [
    {
     "name": "stdout",
     "output_type": "stream",
     "text": [
      "1. Cost-Benefit Analysis: Evaluate the costs and benefits of different decisions to choose the option that provides the greatest net benefit.\n",
      "\n",
      "2. SWOT Analysis: Assess the strengths, weaknesses, opportunities, and threats associated with each decision to understand its potential impact.\n",
      "\n",
      "3. Decision Matrix: Use a scoring system to evaluate multiple options based on specific criteria, helping to quantify and compare alternatives.\n",
      "\n",
      "4. Decision Tree: Visualize different decision paths and potential outcomes, incorporating probabilities and values to calculate expected values for each option.\n",
      "\n",
      "5. Pros and Cons List: Create a simple list of advantages and disadvantages for each option to weigh the positive and negative aspects.\n",
      "\n",
      "6. Six Thinking Hats: Use various perspectives (logical, emotional, creative, etc.) to analyze decisions from different angles, promoting a holistic view.\n",
      "\n",
      "7. Pareto Analysis: Prioritize decisions based on the principle that 80% of effects come from 20% of causes, focusing on high-impact options.\n",
      "\n",
      "8. Multi-Criteria Decision Analysis (MCDA): Evaluate options based on multiple criteria using a weighted scoring system to account for the importance of each criterion.\n",
      "\n",
      "9. Scenario Planning: Explore various future scenarios and assess how different decisions would perform in each, helping to anticipate potential challenges and opportunities.\n",
      "\n",
      "10. Opportunity Cost Analysis: Consider the potential benefits of the best alternative that must be forgone when making a choice, ensuring the selected option offers superior value.\n"
     ]
    }
   ],
   "source": [
    "var simplePrompt = \"Provide some decision frameworks that can help improve the quality of decisions.\";\n",
    "\n",
    "var simplePromptResponse = await semanticKernel.InvokePromptAsync(simplePrompt);\n",
    "Console.WriteLine(simplePromptResponse.GetValue<string>());"
   ]
  },
  {
   "cell_type": "markdown",
   "metadata": {},
   "source": [
    "### Step 3 - Execute a Semantic Kernel Prompt with Streaming\n",
    "\n",
    "Semantic Kernel supports prompt response streaming when invoking the prompt. This allows responses to be streamed to the client as soon as they are made available by the LLM and service. Below the same decision prompt is executed. However, notice that chunks are streamed and can be read by the user as soon as they appear. "
   ]
  },
  {
   "cell_type": "code",
   "execution_count": 4,
   "metadata": {
    "dotnet_interactive": {
     "language": "csharp"
    },
    "polyglot_notebook": {
     "kernelName": "csharp"
    },
    "vscode": {
     "languageId": "polyglot-notebook"
    }
   },
   "outputs": [
    {
     "name": "stdout",
     "output_type": "stream",
     "text": [
      "1. Pros and Cons Analysis: This technique involves listing out all the advantages and disadvantages associated with a decision, which helps in evaluating the trade-offs and making a well-informed decision.\n",
      "\n",
      "2. SWOT Analysis: This framework involves assessing the Strengths, Weaknesses, Opportunities, and Threats related to a decision. This helps identify potential risks and benefits, and allows for a more strategic approach.\n",
      "\n",
      "3. Decision Matrix: This tool involves creating a matrix that evaluates different options based on certain criteria, and assigning weights to each criterion. This helps in quantifying the decision and comparing options objectively.\n",
      "\n",
      "4. Cost-Benefit Analysis: This technique involves calculating the costs and benefits associated with a decision. This helps in understanding the financial implications and determining whether the benefits outweigh the costs.\n",
      "\n",
      "5. Pareto Analysis: This framework involves identifying the 20% of factors that contribute to 80% of the outcomes, which helps in focusing on the most impactful aspects of a decision.\n",
      "\n",
      "6. Delphi Method: This technique involves gathering input from a panel of experts and reaching a consensus through multiple rounds of discussion and feedback. This helps in leveraging collective wisdom to make more informed decisions.\n",
      "\n",
      "7. Scenario Analysis: This framework involves envisioning different potential scenarios and assessing how each option would perform under those scenarios. This helps in preparing for uncertainties and making decisions that are robust under different conditions."
     ]
    }
   ],
   "source": [
    "await foreach (var streamChunk in semanticKernel.InvokePromptStreamingAsync(simplePrompt))\n",
    "{\n",
    "   Console.Write(streamChunk);\n",
    "}"
   ]
  },
  {
   "cell_type": "markdown",
   "metadata": {},
   "source": [
    "### Step 4 - Execute a Semantic Kernel Prompt with a Custom Prompt Execution Configuration\n",
    "\n",
    "Semantic Kernel supports the configuration of prompt execution. The typical OpenAI and Azure OpenAI settings are exposed as configuration options that provide a different prompt experience. Try changing the MaxTokens, Tempature or other settings."
   ]
  },
  {
   "cell_type": "code",
   "execution_count": 5,
   "metadata": {
    "dotnet_interactive": {
     "language": "csharp"
    },
    "polyglot_notebook": {
     "kernelName": "csharp"
    },
    "vscode": {
     "languageId": "polyglot-notebook"
    }
   },
   "outputs": [
    {
     "name": "stdout",
     "output_type": "stream",
     "text": [
      "1. SWOT Analysis: This framework helps identify the strengths, weaknesses, opportunities, and threats related to a decision. It provides a comprehensive view of the internal and external factors that can impact the decision.\n",
      "\n",
      "2. Decision Matrix: This framework helps evaluate and prioritize different options based on specific criteria. Each option is scored based on how well it meets each criterion, and the option with the highest score is selected.\n",
      "\n",
      "3. Cost-Benefit Analysis: This framework helps assess the financial implications of a decision by comparing the costs and benefits of each option. It helps identify the option that provides the greatest net benefit.\n",
      "\n",
      "4. Pareto Analysis: This framework helps identify the most significant factors that impact a decision. It involves ranking options based on their contribution to the overall goal and focusing on the top contributors.\n",
      "\n",
      "5. Decision Tree: This framework helps visualize the different paths and outcomes of a decision. It involves mapping out the possible options and their consequences, which can help identify the most favorable path.\n",
      "\n",
      "6. Six Thinking Hats: This framework encourages looking at a decision from different perspectives. Each \"hat\" represents a different thinking style (e.g., emotional, logical, creative), and considering each perspective can lead to a more well-rounded decision.\n",
      "\n",
      "7. Pros and Cons List: This simple framework involves listing the advantages and disadvantages of each option. It helps weigh the positive and negative aspects of each choice and can lead to a more informed decision.\n",
      "\n",
      "By using these decision frameworks, individuals and organizations can improve the quality of their decisions by considering various factors, evaluating options systematically, and thinking critically about the potential outcomes."
     ]
    }
   ],
   "source": [
    "// Create a new OpenAI prompt execution settings object\n",
    "var openAIPromptExecutionSettings = new OpenAIPromptExecutionSettings { \n",
    "    MaxTokens = 750, \n",
    "    Temperature = 0.1, \n",
    "    TopP = 1.0, \n",
    "    FrequencyPenalty = 0.0, \n",
    "    PresencePenalty = 0.0\n",
    "    };\n",
    "\n",
    "KernelArguments kernelArguments = new KernelArguments(openAIPromptExecutionSettings);\n",
    "await foreach (var streamChunk in semanticKernel.InvokePromptStreamingAsync(simplePrompt, kernelArguments))\n",
    "{\n",
    "   Console.Write(streamChunk);\n",
    "}"
   ]
  },
  {
   "cell_type": "code",
   "execution_count": 29,
   "metadata": {
    "dotnet_interactive": {
     "language": "csharp"
    },
    "polyglot_notebook": {
     "kernelName": "csharp"
    },
    "vscode": {
     "languageId": "polyglot-notebook"
    }
   },
   "outputs": [
    {
     "name": "stdout",
     "output_type": "stream",
     "text": [
      "Certainly! Decision-making is a critical skill in both personal and professional contexts. Here are some decision frameworks that can help improve the quality of decisions:\n",
      "\n",
      "### 1. **Pros and Cons List**\n",
      "- **Description**: A simple yet effective method where you list the advantages (pros) and disadvantages (cons) of each option.\n",
      "- **Use Case**: Useful for straightforward decisions where the factors can be easily listed and compared.\n",
      "- **Steps**:\n",
      "  1. Identify the decision to be made.\n",
      "  2. List all possible options.\n",
      "  3. For each option, list the pros and cons.\n",
      "  4. Compare the lists to see which option has more pros or fewer cons.\n",
      "\n",
      "### 2. **SWOT Analysis**\n",
      "- **Description**: A strategic planning tool that evaluates the Strengths, Weaknesses, Opportunities, and Threats related to a decision.\n",
      "- **Use Case**: Ideal for complex decisions, especially in business contexts.\n",
      "- **Steps**:\n",
      "  1. Define the objective of the decision.\n",
      "  2. Identify internal strengths and weaknesses.\n",
      "  3. Identify external opportunities and threats.\n",
      "  4. Analyze the information to make an informed decision.\n",
      "\n",
      "### 3. **Decision Matrix (Weighted Scoring)**\n",
      "- **Description**: A quantitative method that involves scoring each option against a set of criteria and weighting each criterion based on its importance.\n",
      "- **Use Case**: Suitable for decisions involving multiple criteria.\n",
      "- **Steps**:\n",
      "  1. List the options and criteria.\n",
      "  2. Assign weights to each criterion based on importance.\n",
      "  3. Score each option against each criterion.\n",
      "  4. Multiply the scores by the weights and sum them up for each option.\n",
      "  5. Choose the option with the highest total score.\n",
      "\n",
      "### 4. **Cost-Benefit Analysis**\n",
      "- **Description**: A financial analysis tool that compares the costs and benefits of each option.\n",
      "- **Use Case**: Best for decisions where financial implications are significant.\n",
      "- **Steps**:\n",
      "  1. Identify all costs and benefits associated with each option.\n",
      "  2. Quantify the costs and benefits in monetary terms.\n",
      "  3. Compare the total costs and benefits for each option.\n",
      "  4. Choose the option with the greatest net benefit.\n",
      "\n",
      "### 5. **Six Thinking Hats**\n",
      "- **Description**: A creative thinking technique that involves looking at a decision from six different perspectives (hats): logical, emotional, optimistic, pessimistic, creative, and process-oriented.\n",
      "- **Use Case**: Effective for group decision-making and exploring different viewpoints.\n",
      "- **Steps**:\n",
      "  1. Assign each participant a \"hat\" or perspective.\n",
      "  2. Discuss the decision from each perspective.\n",
      "  3. Synthesize the insights to make a well-rounded decision.\n",
      "\n",
      "### 6. **Pareto Analysis (80/20 Rule)**\n",
      "- **Description**: A technique that focuses on identifying the most significant factors that will have the greatest impact on the decision.\n",
      "- **Use Case**: Useful for prioritizing actions and resources.\n",
      "- **Steps**:\n",
      "  1. List all factors related to the decision.\n",
      "  2. Identify the factors that will have the most significant impact (typically 20% of the factors that will produce 80% of the results).\n",
      "  3. Focus on addressing these key factors.\n",
      "\n",
      "### 7. **OODA Loop (Observe, Orient, Decide, Act)**\n",
      "- **Description**: A decision-making process that emphasizes rapid and iterative cycles of observation, orientation, decision, and action.\n",
      "- **Use Case**: Useful in dynamic and fast"
     ]
    }
   ],
   "source": [
    "// Create a new OpenAI prompt execution settings object\n",
    "var openAIPromptExecutionSettings = new OpenAIPromptExecutionSettings { \n",
    "    MaxTokens = 750, \n",
    "    Temperature = 0.1, \n",
    "    TopP = 1.0, \n",
    "    FrequencyPenalty = 0.0, \n",
    "    PresencePenalty = 0.0\n",
    "    };\n",
    "\n",
    "KernelArguments kernelArguments = new KernelArguments(openAIPromptExecutionSettings);\n",
    "await foreach (var streamChunk in semanticKernelOpenAI.InvokePromptStreamingAsync(simplePrompt, kernelArguments))\n",
    "{\n",
    "   Console.Write(streamChunk);\n",
    "}"
   ]
  },
  {
   "cell_type": "markdown",
   "metadata": {},
   "source": [
    "### Step 5 - Execute a Semantic Kernel Prompt with a system prompt (persona)\n",
    "\n",
    "All the best practices of prompt engineering apply when using Semantic Kernel.  \n",
    "* Make the prompt more specific\n",
    "* Add structure to the output with formatting\n",
    "* Provide examples with few-shot prompting\n",
    "* Tell the AI what to do to avoid doing something wrong\n",
    "* Provide context to the AI\n",
    "* Using message roles in chat completion prompts\n",
    "* Give your AI words of encouragement  \n",
    "\n",
    "One best practice is to provide a common behaviour across all the LLM interactions in a system prompt. This system prompt is passed in on every single call the LLM with Semantic Kernel. These prompts can be dynamically created with a programming language like C#.\n",
    "\n",
    "Execute the cell below with a dynamic prompt template. Notice the different behavior of the output for decision frameworks. The decision framework responses are much more robust with decision intelligence information."
   ]
  },
  {
   "cell_type": "code",
   "execution_count": 6,
   "metadata": {
    "dotnet_interactive": {
     "language": "csharp"
    },
    "polyglot_notebook": {
     "kernelName": "csharp"
    },
    "vscode": {
     "languageId": "polyglot-notebook"
    }
   },
   "outputs": [
    {
     "name": "stdout",
     "output_type": "stream",
     "text": [
      "Prompt To Send to the Azure OpenAI Chat Completion Service...\n",
      "You are a decision intelligence assistant. \n",
      "Assist the user in exploring options, reasoning through decisions, problem-solving, and applying systems thinking to various scenarios. \n",
      "Provide structured, logical, and comprehensive advice.\n",
      "\n",
      "Request from the user: Provide some decision frameworks that can help improve the quality of decisions.\n",
      "\n",
      "----------------------------------------\n",
      "\n",
      "Response from the Azure OpenAI Chat Completion Service...\n",
      "Certainly! Improving the quality of decisions is crucial for both personal and professional success. Here are several decision frameworks that can help structure and enhance decision-making processes:\n",
      "\n",
      "1. **SWOT Analysis**:\n",
      "   - **Strengths**: Identify what advantages you have that others don't.\n",
      "   - **Weaknesses**: Recognize areas of improvement.\n",
      "   - **Opportunities**: Look for external factors that could be beneficial.\n",
      "   - **Threats**: Be aware of external factors that could cause trouble.\n",
      "   - *Application*: Use this framework to evaluate a decision in the context of internal capabilities and external possibilities.\n",
      "\n",
      "2. **Decision Matrix**:\n",
      "   - List your options as rows and the factors that are important to the decision as columns.\n",
      "   - Score each option based on how well it satisfies each factor.\n",
      "   - Add weights to the factors based on their importance.\n",
      "   - Multiply scores by the weights and sum them to get an overall score for each option.\n",
      "   - *Application*: Useful for complex decisions where multiple criteria must be considered.\n",
      "\n",
      "3. **Cost-Benefit Analysis**:\n",
      "   - List all the benefits and costs associated with each decision option.\n",
      "   - Quantify the benefits and costs in terms of monetary value, time, or other relevant metrics.\n",
      "   - Compare the total benefits and costs to see which option has the highest net benefit.\n",
      "   - *Application*: Best for decisions that require a clear economic perspective.\n",
      "\n",
      "4. **Pros and Cons List**:\n",
      "   - Simply list down the advantages and disadvantages of each option.\n",
      "   - This method helps in visualizing the positive and negative aspects of each decision.\n",
      "   - *Application*: Useful for straightforward decisions that don’t require detailed analysis.\n",
      "\n",
      "5. **Pareto Analysis (80/20 Rule)**:\n",
      "   - Identify the few critical items that produce the most significant effect.\n",
      "   - Focus on those 20% of the factors that will impact 80% of the results.\n",
      "   - *Application*: Effective in prioritizing the factors that will have the greatest impact on the decision.\n",
      "\n",
      "6. **Six Thinking Hats** by Edward de Bono:\n",
      "   - White Hat: Focus on the data available.\n",
      "   - Red Hat: Look at the decision using intuition, gut reaction, and emotion.\n",
      "   - Black Hat: Consider it cautiously and defensively.\n",
      "   - Yellow Hat: Think positively and optimistically.\n",
      "   - Green Hat: Think creatively and outside the box.\n",
      "   - Blue Hat: Manage the thinking process and ensure that guidelines are followed.\n",
      "   - *Application*: This method encourages diverse perspectives and a rounded view of a situation.\n",
      "\n",
      "7. **Scenario Analysis**:\n",
      "   - Develop different scenarios based on various assumptions about the future.\n",
      "   - Analyze how different decisions might play out under these scenarios.\n",
      "   - *Application*: Useful for long-term strategic decisions where future uncertainty is high.\n",
      "\n",
      "8. **Decision Trees**:\n",
      "   - Create a tree diagram to represent different choices and their possible outcomes, including risks, costs, and benefits.\n",
      "   - Calculate the expected value for different branches to see which option might be the most beneficial.\n",
      "   - *Application*: Helpful for decisions that involve a series of steps and outcomes.\n",
      "\n",
      "Each of these frameworks can be used individually or in combination depending on the complexity and nature of the decision to be made. It's also important to consider the context and the impact of the decision on all stakeholders involved."
     ]
    }
   ],
   "source": [
    "var systemPrompt = \"\"\"\n",
    "You are a decision intelligence assistant. \n",
    "Assist the user in exploring options, reasoning through decisions, problem-solving, and applying systems thinking to various scenarios. \n",
    "Provide structured, logical, and comprehensive advice.\n",
    "\"\"\";\n",
    "\n",
    "var simpleDecisionPromptTemplate = $\"\"\"\n",
    "{systemPrompt}\n",
    "\n",
    "Request from the user: {simplePrompt}\n",
    "\"\"\";\n",
    "\n",
    "Console.WriteLine(\"Prompt To Send to the Azure OpenAI Chat Completion Service...\");\n",
    "Console.WriteLine(simpleDecisionPromptTemplate);\n",
    "\n",
    "Console.WriteLine(string.Empty);\n",
    "Console.WriteLine(\"----------------------------------------\");\n",
    "Console.WriteLine(string.Empty);\n",
    "Console.WriteLine(\"Response from the Azure OpenAI Chat Completion Service...\");\n",
    "await foreach (var streamChunk in semanticKernel.InvokePromptStreamingAsync(simpleDecisionPromptTemplate, kernelArguments))\n",
    "{\n",
    "   Console.Write(streamChunk);\n",
    "}"
   ]
  }
 ],
 "metadata": {
  "kernelspec": {
   "display_name": ".NET (C#)",
   "language": "C#",
   "name": ".net-csharp"
  },
  "language_info": {
   "name": "csharp"
  },
  "polyglot_notebook": {
   "kernelInfo": {
    "defaultKernelName": "csharp",
    "items": [
     {
      "aliases": [],
      "name": "csharp"
     }
    ]
   }
  }
 },
 "nbformat": 4,
 "nbformat_minor": 2
}
