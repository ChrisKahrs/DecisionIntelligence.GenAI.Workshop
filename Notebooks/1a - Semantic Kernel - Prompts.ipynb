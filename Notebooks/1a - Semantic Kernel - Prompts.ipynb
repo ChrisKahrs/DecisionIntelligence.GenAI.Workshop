{
 "cells": [
  {
   "cell_type": "markdown",
   "metadata": {},
   "source": [
    "<img style=\"float: left;\" width =\"40px\" src=\"https://raw.githubusercontent.com/bartczernicki/DecisionIntelligence.GenAI.Workshop/main/Images/SemanticKernelLogo.png\">\n",
    "\n",
    "## Semantic Kernel - Prompts"
   ]
  },
  {
   "cell_type": "markdown",
   "metadata": {},
   "source": [
    "Decision Intelligence Used in this module:\n",
    "* Listing of various Decision-Making frameworks and what their descriptions  "
   ]
  },
  {
   "cell_type": "markdown",
   "metadata": {},
   "source": [
    "Prompts are the fundemental building block to getting the proper responses from AI models. This module demonstrates how to use common prompt engineering techniques while using Semantic Kernel. If you've ever used ChatGPT or Microsoft Copilot, you're already familiar with prompting. Given a prompt instruction, an LLM will attempt to predict the most likely response. With Semantic Kernel, you can craft applications, services & APIs that execute prompts.  \n",
    "\n",
    "For more information on using prompts with Semantic Kernel, visit: https://learn.microsoft.com/en-us/semantic-kernel/prompts/your-first-prompt  "
   ]
  },
  {
   "cell_type": "markdown",
   "metadata": {},
   "source": [
    "### Step 1 - Initialize Configuration Builder & Build the Semantic Kernel Orchestration\n",
    "\n",
    "Execute the next two cells to:\n",
    "* Use the Configuration Builder to load the API secrets.  \n",
    "* Use the API configuration to build the Semantic Kernel orchestrator."
   ]
  },
  {
   "cell_type": "code",
   "execution_count": 1,
   "metadata": {
    "dotnet_interactive": {
     "language": "csharp"
    },
    "polyglot_notebook": {
     "kernelName": "csharp"
    },
    "vscode": {
     "languageId": "polyglot-notebook"
    }
   },
   "outputs": [
    {
     "data": {
      "text/html": [
       "<div><div></div><div></div><div><strong>Installed Packages</strong><ul><li><span>Microsoft.Extensions.Configuration, 8.0.0</span></li><li><span>Microsoft.Extensions.Configuration.Json, 8.0.0</span></li></ul></div></div>"
      ]
     },
     "metadata": {},
     "output_type": "display_data"
    }
   ],
   "source": [
    "// Import the required NuGet configuration packages\n",
    "#r \"nuget: Microsoft.Extensions.Configuration, 8.0.0\"\n",
    "#r \"nuget: Microsoft.Extensions.Configuration.Json, 8.0.0\"\n",
    "\n",
    "using Microsoft.Extensions.Configuration;\n",
    "using System.IO;\n",
    "\n",
    "// Load the configuration settings from the local.settings.json and secrets.settings.json files\n",
    "// The secrets.settings.json file is used to store sensitive information such as API keys\n",
    "var configurationBuilder = new ConfigurationBuilder()\n",
    "    .SetBasePath(Directory.GetCurrentDirectory())\n",
    "    .AddJsonFile(\"local.settings.json\", optional: true, reloadOnChange: true)\n",
    "    .AddJsonFile(\"secrets.settings.json\", optional: true, reloadOnChange: true);\n",
    "var config = configurationBuilder.Build();\n",
    "\n",
    "// IMPORTANT: You ONLY NEED either Azure OpenAI or OpenAI connectiopn info, not both.\n",
    "// Azure OpenAI Connection Info\n",
    "var azureOpenAIEndpoint = config[\"AzureOpenAI:Endpoint\"];\n",
    "var azureOpenAIAPIKey = config[\"AzureOpenAI:APIKey\"];\n",
    "var azureOpenAIModelDeploymentName = config[\"AzureOpenAI:ModelDeploymentName\"];\n",
    "// OpenAI Connection Info \n",
    "var openAIAPIKey = config[\"OpenAI:APIKey\"];\n",
    "var openAIModelId = config[\"OpenAI:ModelId\"];"
   ]
  },
  {
   "cell_type": "code",
   "execution_count": 2,
   "metadata": {
    "dotnet_interactive": {
     "language": "csharp"
    },
    "polyglot_notebook": {
     "kernelName": "csharp"
    },
    "vscode": {
     "languageId": "polyglot-notebook"
    }
   },
   "outputs": [
    {
     "data": {
      "text/html": [
       "<div><div></div><div></div><div><strong>Installed Packages</strong><ul><li><span>Microsoft.SemanticKernel, 1.13.0</span></li></ul></div></div>"
      ]
     },
     "metadata": {},
     "output_type": "display_data"
    },
    {
     "name": "stdout",
     "output_type": "stream",
     "text": [
      "Using Azure OpenAI Service\r\n"
     ]
    }
   ],
   "source": [
    "// Import the Semantic Kernel NuGet package\n",
    "#r \"nuget: Microsoft.SemanticKernel, 1.13.0\"\n",
    "\n",
    "using Microsoft.SemanticKernel;\n",
    "using Microsoft.SemanticKernel.ChatCompletion;\n",
    "using Microsoft.SemanticKernel.Connectors.OpenAI;\n",
    "\n",
    "Kernel semanticKernel;\n",
    "\n",
    "// Set the flag to use Azure OpenAI or OpenAI. False to use OpenAI, True to use Azure OpenAI\n",
    "var useAzureOpenAI = true;\n",
    "\n",
    "// Create a new Semantic Kernel instance\n",
    "if (useAzureOpenAI)\n",
    "{\n",
    "    Console.WriteLine(\"Using Azure OpenAI Service\");\n",
    "    semanticKernel = Kernel.CreateBuilder()\n",
    "        .AddAzureOpenAIChatCompletion(\n",
    "            deploymentName: azureOpenAIModelDeploymentName,\n",
    "            endpoint: azureOpenAIEndpoint,\n",
    "            apiKey: azureOpenAIAPIKey)\n",
    "        .Build();\n",
    "}\n",
    "else\n",
    "{\n",
    "    Console.WriteLine(\"Using OpenAI Service\");\n",
    "    semanticKernel = Kernel.CreateBuilder()\n",
    "        .AddOpenAIChatCompletion(\n",
    "            modelId: openAIModelId,\n",
    "            apiKey: openAIAPIKey)\n",
    "        .Build();\n",
    "}"
   ]
  },
  {
   "cell_type": "markdown",
   "metadata": {},
   "source": [
    "### Step 2 - Execute a Semantic Kernel Prompt\n",
    "\n",
    "> In preparing for battle, I have always found that plans are useless, but planning is indispensable.  \n",
    ">\n",
    "> -- <cite>Dwight D Eisenhower (US President and WW2 Supreme Commander of Allied Forces)</cite>  \n",
    "\n",
    "Many LLMs and even SLMs have been trained on knowledge that includes decision frameworks & processes. This makes LLMs great assistants to:\n",
    "* Provide proper decision frames\n",
    "* Gather the information & intelligence in order to make a decision\n",
    "* Recommend decision frameworks to make a high-quality decision\n",
    "* Provide feedback to evaluate a decision\n",
    "\n",
    "Once the Semantic Kernel instance is built, it is ready to intake prompt instructions. In the prompt below, the Semantic Kernel is instructed to provide examples of decision frameworks. "
   ]
  },
  {
   "cell_type": "code",
   "execution_count": 3,
   "metadata": {
    "dotnet_interactive": {
     "language": "csharp"
    },
    "polyglot_notebook": {
     "kernelName": "csharp"
    },
    "vscode": {
     "languageId": "polyglot-notebook"
    }
   },
   "outputs": [
    {
     "name": "stdout",
     "output_type": "stream",
     "text": [
      "Certainly! Here is a list of decision frameworks that can help improve the quality of decisions:\n",
      "\n",
      "1. **SWOT Analysis (Strengths, Weaknesses, Opportunities, Threats):**\n",
      "   - Helps in strategic planning by identifying internal and external factors that might impact the decision.\n",
      "\n",
      "2. **Decision Matrix (Weighted Scoring Model):**\n",
      "   - Assists in comparing multiple options based on a set of criteria that are weighted according to importance.\n",
      "\n",
      "3. **Pros and Cons List:**\n",
      "   - Involves listing the advantages and disadvantages of each option to facilitate a clear comparison.\n",
      "\n",
      "4. **Cost-Benefit Analysis:**\n",
      "   - Evaluates the financial aspects of each option by comparing the expected costs and benefits.\n",
      "\n",
      "5. **Pareto Analysis (80/20 Rule):**\n",
      "   - Focuses on identifying the most significant factors (typically 20%) that will produce the majority (80%) of the results.\n",
      "\n",
      "6. **Six Thinking Hats (Edward de Bono):**\n",
      "   - Encourages looking at a problem from six different perspectives, or \"hats,\" to foster a holistic view and improve creative thinking.\n",
      "\n",
      "7. **The OODA Loop (Observe, Orient, Decide, Act):**\n",
      "   - A cyclical model focusing on rapidly iterating decisions based on feedback and changing conditions.\n",
      "\n",
      "8. **Risk Analysis and Management:**\n",
      "   - Assesses potential risks involved with each option and develops strategies to mitigate them.\n",
      "\n",
      "9. **PDCA Cycle (Plan-Do-Check-Act):**\n",
      "   - An iterative four-step management method used for continuous improvement of processes and decision-making.\n",
      "\n",
      "10. **Root Cause Analysis (5 Whys, Fishbone Diagram):**\n",
      "    - Identifies the underlying causes of a problem to address the root issue rather than the symptoms.\n",
      "\n",
      "11. **NOMINAL Group Technique:**\n",
      "    - A structured method for group brainstorming and consensus decision-making that encourages equal participation.\n",
      "\n",
      "12. **Kepner-Tregoe Decision Analysis:**\n",
      "    - Provides a systematic approach to evaluating decisions by considering factors such as problem statement, objectives, alternatives, and potential risks.\n",
      "\n",
      "13. **Decision Trees:**\n",
      "    - Uses a tree-like graph of decisions and their possible consequences to systematically evaluate the outcomes.\n",
      "\n",
      "14. **Analytic Hierarchy Process (AHP):**\n",
      "    - Uses mathematics and psychology to help prioritize multiple competing options with a ranking system.\n",
      "\n",
      "15. **Multi-Criteria Decision Analysis (MCDA):**\n",
      "    - Evaluates multiple conflicting criteria in decision-making to identify the most balanced choice.\n",
      "\n",
      "16. **Scenario Planning:**\n",
      "    - Involves creating detailed, plausible scenarios and analyzing the implications of different future contexts.\n",
      "\n",
      "17. **Critical Path Method (CPM):**\n",
      "    - A project management tool that helps determine the sequence of tasks that affect the overall project timeline.\n",
      "\n",
      "18. **SMART Criteria (Specific, Measurable, Achievable, Relevant, Time-bound):**\n",
      "    - Helps in creating clear and attainable objectives to guide decision-making.\n",
      "\n",
      "19. **FMEA (Failure Modes and Effects Analysis):**\n",
      "    - Identifies, evaluates, and prioritizes potential failure modes in a process and their impact on overall success.\n",
      "\n",
      "20. **Real Options Analysis:**\n",
      "    - Incorporates financial option theory to evaluate investment opportunities and the flexibility of decision-making under uncertainty.\n",
      "\n",
      "These frameworks can be adapted to various types of decisions, whether they involve personal choices, business strategies, project management, or other contexts. Combining multiple frameworks can often provide even better insights and lead to higher-quality decisions.\r\n"
     ]
    }
   ],
   "source": [
    "var simplePrompt = \"Provide a list of decision frameworks that can help improve the quality of decisions.\";\n",
    "\n",
    "var simplePromptResponse = await semanticKernel.InvokePromptAsync(simplePrompt);\n",
    "Console.WriteLine(simplePromptResponse.GetValue<string>());"
   ]
  },
  {
   "cell_type": "markdown",
   "metadata": {},
   "source": [
    "### Step 3 - Execute a Semantic Kernel Prompt with Streaming\n",
    "\n",
    "Semantic Kernel supports prompt response streaming when invoking the prompt. This allows responses to be streamed to the client as soon as they are made available by the LLM and service. Below the same decision prompt is executed. However, notice that chunks are streamed and can be read by the user as soon as they appear. "
   ]
  },
  {
   "cell_type": "code",
   "execution_count": 4,
   "metadata": {
    "dotnet_interactive": {
     "language": "csharp"
    },
    "polyglot_notebook": {
     "kernelName": "csharp"
    },
    "vscode": {
     "languageId": "polyglot-notebook"
    }
   },
   "outputs": [
    {
     "name": "stdout",
     "output_type": "stream",
     "text": [
      "Certainly! Improving the quality of decisions can be achieved through various decision-making frameworks. Here’s a list of some widely-recognized frameworks that can assist in structured, informed decision-making:\n",
      "\n",
      "1. **SWOT Analysis**\n",
      "   - **Strengths, Weaknesses, Opportunities, Threats**\n",
      "   - Assesses internal and external factors impacting a decision.\n",
      "\n",
      "2. **PEST Analysis**\n",
      "   - **Political, Economic, Social, Technological**\n",
      "   - Evaluates the macro-environmental factors that could influence the decision.\n",
      "\n",
      "3. **Decision Matrix (Weighted Scoring Model)**\n",
      "   - Assigns weights to different criteria and scores options to determine the best choice numerically.\n",
      "\n",
      "4. **Cost-Benefit Analysis**\n",
      "   - Compares the costs and benefits of different options to determine the best financial outcome.\n",
      "\n",
      "5. **Six Thinking Hats (Edward de Bono)**\n",
      "   - Involves looking at problems from multiple perspectives through six metaphorical hats: White (facts), Red (emotions), Black (cautious), Yellow (positive), Green (creative), and Blue (process).\n",
      "\n",
      "6. **Pros and Cons List**\n",
      "   - A simple method of listing the advantages and disadvantages of each option.\n",
      "\n",
      "7. **Risk Assessment Matrix**\n",
      "   - Evaluates the risks associated with different choices and their potential impact.\n",
      "\n",
      "8. **Multi-Criteria Decision Analysis (MCDA)**\n",
      "   - Analyzes various parameters or criteria to evaluate different alternatives using a systematic approach.\n",
      "\n",
      "9. **Pareto Analysis (80/20 Rule)**\n",
      "   - Focuses on identifying the decisions that will have the most significant impact with the least effort.\n",
      "\n",
      "10. **Kepner-Tregoe Decision Analysis**\n",
      "    - A step-by-step approach to problem-solving involving situation analysis, problem analysis, decision analysis, and potential problem analysis.\n",
      "\n",
      "11. **OODA Loop (Observe, Orient, Decide, Act)**\n",
      "    - A iterative cycle focused on making quick and effective decisions primarily used in military strategy.\n",
      "\n",
      "12. **Force Field Analysis**\n",
      "    - Identifies the forces for and against a change to analyze the balance of power influencing the decision.\n",
      "\n",
      "13. **Vroom-Yetton Decision Model**\n",
      "    - A leadership decision-making model that helps determine the extent of team involvement based on situational constraints.\n",
      "\n",
      "14. **Root Cause Analysis**\n",
      "    - Identifies the root causes of a problem before making decisions on solutions.\n",
      "\n",
      "15. **Lean Six Sigma (DMAIC)**\n",
      "    - A data-driven approach to improve processes through five phases: Define, Measure, Analyze, Improve, Control.\n",
      "\n",
      "16. **Bayesian Decision Theory**\n",
      "    - Uses probabilities for predictive analysis and decision-making under uncertainty.\n",
      "\n",
      "Each of these frameworks provides a structured approach to decision-making, tailored to different types of scenarios and problems. By utilizing these methods, decision-makers can achieve more thorough, objective, and rational outcomes."
     ]
    }
   ],
   "source": [
    "await foreach (var streamChunk in semanticKernel.InvokePromptStreamingAsync(simplePrompt))\n",
    "{\n",
    "   Console.Write(streamChunk);\n",
    "}"
   ]
  },
  {
   "cell_type": "markdown",
   "metadata": {},
   "source": [
    "### Step 4 - Execute a Semantic Kernel Prompt with a Custom Prompt Execution Configuration\n",
    "\n",
    "Semantic Kernel supports the configuration of prompt execution. The typical OpenAI and Azure OpenAI settings are exposed as configuration options that provide a different prompt experience. Try changing the MaxTokens, Tempature or other settings.  \n",
    "\n",
    "In the setting below, the Tempature was lowered to 0.1 which instructs the LLM to be more deterministic and less creative.   "
   ]
  },
  {
   "cell_type": "code",
   "execution_count": 6,
   "metadata": {
    "dotnet_interactive": {
     "language": "csharp"
    },
    "polyglot_notebook": {
     "kernelName": "csharp"
    },
    "vscode": {
     "languageId": "polyglot-notebook"
    }
   },
   "outputs": [
    {
     "name": "stdout",
     "output_type": "stream",
     "text": [
      "Certainly! Here are several decision frameworks that can help improve the quality of decisions:\n",
      "\n",
      "1. **SWOT Analysis**:\n",
      "   - **Strengths**: Identify internal strengths.\n",
      "   - **Weaknesses**: Identify internal weaknesses.\n",
      "   - **Opportunities**: Identify external opportunities.\n",
      "   - **Threats**: Identify external threats.\n",
      "\n",
      "2. **PEST Analysis**:\n",
      "   - **Political**: Consider political factors.\n",
      "   - **Economic**: Consider economic factors.\n",
      "   - **Social**: Consider social factors.\n",
      "   - **Technological**: Consider technological factors.\n",
      "\n",
      "3. **Decision Matrix (Weighted Scoring Model)**:\n",
      "   - List options and criteria.\n",
      "   - Assign weights to criteria based on importance.\n",
      "   - Score each option against each criterion.\n",
      "   - Calculate weighted scores to determine the best option.\n",
      "\n",
      "4. **Cost-Benefit Analysis**:\n",
      "   - Identify all costs and benefits associated with each option.\n",
      "   - Quantify costs and benefits in monetary terms.\n",
      "   - Compare the total costs and benefits to determine the most advantageous option.\n",
      "\n",
      "5. **Pareto Analysis (80/20 Rule)**:\n",
      "   - Identify the key factors that will have the most significant impact.\n",
      "   - Focus on the 20% of factors that will produce 80% of the results.\n",
      "\n",
      "6. **Six Thinking Hats** (Edward de Bono):\n",
      "   - **White Hat**: Focus on data and information.\n",
      "   - **Red Hat**: Consider emotions and feelings.\n",
      "   - **Black Hat**: Identify potential problems and risks.\n",
      "   - **Yellow Hat**: Focus on benefits and feasibility.\n",
      "   - **Green Hat**: Encourage creativity and new ideas.\n",
      "   - **Blue Hat**: Manage the decision-making process.\n",
      "\n",
      "7. **OODA Loop (John Boyd)**:\n",
      "   - **Observe**: Gather information.\n",
      "   - **Orient**: Analyze and synthesize information.\n",
      "   - **Decide**: Make a decision based on the analysis.\n",
      "   - **Act**: Implement the decision.\n",
      "\n",
      "8. **Kepner-Tregoe Decision Analysis**:\n",
      "   - **Situation Analysis**: Clarify the situation.\n",
      "   - **Problem Analysis**: Identify the root cause of the problem.\n",
      "   - **Decision Analysis**: Evaluate alternatives and make a decision.\n",
      "   - **Potential Problem Analysis**: Identify potential problems and plan for contingencies.\n",
      "\n",
      "9. **Pros and Cons List**:\n",
      "   - List the advantages (pros) and disadvantages (cons) of each option.\n",
      "   - Compare the lists to make an informed decision.\n",
      "\n",
      "10. **Eisenhower Matrix**:\n",
      "    - **Urgent and Important**: Do these tasks immediately.\n",
      "    - **Important but Not Urgent**: Schedule these tasks.\n",
      "    - **Urgent but Not Important**: Delegate these tasks.\n",
      "    - **Not Urgent and Not Important**: Eliminate these tasks.\n",
      "\n",
      "11. **Vroom-Yetton Decision Model**:\n",
      "    - Determine the level of involvement of team members in the decision-making process based on situational factors.\n",
      "\n",
      "12. **Fishbone Diagram (Ishikawa)**:\n",
      "    - Identify the root causes of a problem by categorizing potential causes into major categories (e.g., People, Processes, Equipment, Materials, Environment).\n",
      "\n",
      "13. **Monte Carlo Simulation**:\n",
      "    - Use statistical modeling to understand the impact of risk and uncertainty in decision-making.\n",
      "\n",
      "14. **Analytic Hierarchy Process (AHP)**:\n",
      "    - Break down a decision into a hierarchy of sub-decisions.\n",
      "    - Use pairwise comparisons to assign weights to each element.\n",
      "    - Calculate a score to determine the best option.\n",
      "\n",
      "15. **Nudge Theory**:\n",
      "    - Use subtle policy shifts"
     ]
    }
   ],
   "source": [
    "// Create a new OpenAI prompt execution settings object\n",
    "var openAIPromptExecutionSettings = new OpenAIPromptExecutionSettings { \n",
    "    MaxTokens = 750, \n",
    "    Temperature = 0.1, \n",
    "    TopP = 1.0, \n",
    "    FrequencyPenalty = 0.0, \n",
    "    PresencePenalty = 0.0\n",
    "    };\n",
    "\n",
    "KernelArguments kernelArguments = new KernelArguments(openAIPromptExecutionSettings);\n",
    "await foreach (var streamChunk in semanticKernel.InvokePromptStreamingAsync(simplePrompt, kernelArguments))\n",
    "{\n",
    "   Console.Write(streamChunk);\n",
    "}"
   ]
  },
  {
   "cell_type": "markdown",
   "metadata": {},
   "source": [
    "### Step 5 - Execute a Semantic Kernel Prompt with a system prompt (persona)\n",
    "\n",
    "All the best practices of prompt engineering apply when using Semantic Kernel.  \n",
    "* Make the prompt more specific\n",
    "* Add structure to the output with formatting\n",
    "* Provide examples with few-shot prompting\n",
    "* Tell the AI what to do to avoid doing something wrong\n",
    "* Provide context to the AI\n",
    "* Using message roles in chat completion prompts\n",
    "* Give your AI words of encouragement  \n",
    "\n",
    "One best practice is to provide a common behaviour across all the LLM interactions in a system prompt. This system prompt is passed in on every single call the LLM with Semantic Kernel. These prompts can be dynamically created with a programming language like C#.\n",
    "\n",
    "Execute the cell below with a dynamic prompt template. Notice the different behavior of the output for decision frameworks. The decision framework responses are much more robust with decision intelligence information."
   ]
  },
  {
   "cell_type": "code",
   "execution_count": 8,
   "metadata": {
    "dotnet_interactive": {
     "language": "csharp"
    },
    "polyglot_notebook": {
     "kernelName": "csharp"
    },
    "vscode": {
     "languageId": "polyglot-notebook"
    }
   },
   "outputs": [
    {
     "name": "stdout",
     "output_type": "stream",
     "text": [
      "Prompt To Send to the Azure OpenAI Chat Completion Service...\n",
      "System Prompt: You are a decision intelligence assistant. \n",
      "Assist the user in exploring options, reasoning through decisions, problem-solving, and applying systems thinking to various scenarios. \n",
      "Provide structured, logical, and comprehensive advice.\n",
      "\n",
      "Request from the user: Provide some decision frameworks that can help improve the quality of decisions.\n",
      "\n",
      "----------------------------------------\n",
      "\n",
      "Response from the Azure OpenAI Chat Completion Service...\n",
      "Certainly! Here are several decision frameworks that can help improve the quality of decisions:\n",
      "\n",
      "### 1. **SWOT Analysis**\n",
      "**Strengths, Weaknesses, Opportunities, Threats**\n",
      "\n",
      "- **Strengths:** Identify internal attributes that are helpful to achieving the objective.\n",
      "- **Weaknesses:** Identify internal attributes that are harmful to achieving the objective.\n",
      "- **Opportunities:** Identify external conditions that are helpful to achieving the objective.\n",
      "- **Threats:** Identify external conditions that could do damage to the objective.\n",
      "\n",
      "**Use Case:** Strategic planning, business development, personal career planning.\n",
      "\n",
      "### 2. **Decision Matrix (Weighted Scoring)**\n",
      "**Criteria-based evaluation**\n",
      "\n",
      "- List all the options.\n",
      "- Identify the criteria important for the decision.\n",
      "- Assign weights to each criterion based on importance.\n",
      "- Score each option against each criterion.\n",
      "- Multiply the scores by the weights and sum them up for each option.\n",
      "- The option with the highest total score is the preferred choice.\n",
      "\n",
      "**Use Case:** Choosing between multiple alternatives, product selection, vendor selection.\n",
      "\n",
      "### 3. **Cost-Benefit Analysis (CBA)**\n",
      "**Financial evaluation**\n",
      "\n",
      "- List all the costs associated with each option.\n",
      "- List all the benefits associated with each option.\n",
      "- Assign a monetary value to both costs and benefits.\n",
      "- Subtract the total costs from the total benefits to get the net benefit.\n",
      "- Compare the net benefits of all options.\n",
      "\n",
      "**Use Case:** Financial decisions, project evaluation, investment decisions.\n",
      "\n",
      "### 4. **Pareto Analysis (80/20 Rule)**\n",
      "**Focus on the most impactful factors**\n",
      "\n",
      "- Identify and list problems or causes.\n",
      "- Score each problem or cause based on its impact.\n",
      "- Rank the problems or causes in descending order of impact.\n",
      "- Focus on the top 20% of causes that are responsible for 80% of the problems.\n",
      "\n",
      "**Use Case:** Problem-solving, quality control, resource allocation.\n",
      "\n",
      "### 5. **Six Thinking Hats**\n",
      "**Perspective-based evaluation**\n",
      "\n",
      "- **White Hat:** Focus on data and information.\n",
      "- **Red Hat:** Focus on emotions and feelings.\n",
      "- **Black Hat:** Focus on potential problems and risks.\n",
      "- **Yellow Hat:** Focus on benefits and optimism.\n",
      "- **Green Hat:** Focus on creativity and new ideas.\n",
      "- **Blue Hat:** Focus on process control and organization.\n",
      "\n",
      "**Use Case:** Group decision-making, brainstorming sessions, creative problem-solving.\n",
      "\n",
      "### 6. **OODA Loop**\n",
      "**Observe, Orient, Decide, Act**\n",
      "\n",
      "- **Observe:** Gather current information from as many sources as possible.\n",
      "- **Orient:** Analyze this information, and use it to update your current reality.\n",
      "- **Decide:** Determine a course of action.\n",
      "- **Act:** Implement the decision.\n",
      "\n",
      "**Use Case:** Rapid decision-making, military strategy, crisis management.\n",
      "\n",
      "### 7. **Pros and Cons List**\n",
      "**Simple comparative evaluation**\n",
      "\n",
      "- List all the pros (advantages) of each option.\n",
      "- List all the cons (disadvantages) of each option.\n",
      "- Compare the lists to make an informed decision.\n",
      "\n",
      "**Use Case:** Everyday decisions, personal choices, simple business decisions.\n",
      "\n",
      "### 8. **The Eisenhower Matrix**\n",
      "**Urgency and importance evaluation**\n",
      "\n",
      "- **Quadrant I:** Urgent and Important (Do first)\n",
      "- **Quadrant II:** Not Urgent but Important (Schedule)\n",
      "- **Quadrant III:** Urgent but Not Important (Delegate)\n",
      "- **Quadrant IV:** Not Urgent and Not Important (Eliminate)\n",
      "\n",
      "**Use Case:** Time management, prioritization of tasks, productivity improvement.\n",
      "\n",
      "### 9. **Root Cause Analysis (RCA)**\n",
      "**Problem-solving**\n",
      "\n",
      "- Identify the problem.\n",
      "- Collect data related to the problem"
     ]
    }
   ],
   "source": [
    "// Create a system prompt instruction to override the default system prompt\n",
    "// Add the System Prompt\n",
    "var systemPromptForDecisions = \"\"\"\n",
    "You are a decision intelligence assistant. \n",
    "Assist the user in exploring options, reasoning through decisions, problem-solving, and applying systems thinking to various scenarios. \n",
    "Provide structured, logical, and comprehensive advice.\n",
    "\"\"\";\n",
    "var simplePrompt = \"Provide a list of decision frameworks that can help improve the quality of decisions.\";\n",
    "\n",
    "// How the prompt looks like to the LLM\n",
    "var simpleDecisionPromptTemplate = $\"\"\"\n",
    "System Prompt: {systemPromptForDecisions}\n",
    "\n",
    "Request from the user: {simplePrompt}\n",
    "\"\"\";\n",
    "\n",
    "// Create a new OpenAI prompt execution settings object\n",
    "var openAIPromptExecutionSettings = new OpenAIPromptExecutionSettings { \n",
    "    ChatSystemPrompt = systemPromptForDecisions,\n",
    "    MaxTokens = 750, \n",
    "    Temperature = 0.1, \n",
    "    TopP = 1.0, \n",
    "    FrequencyPenalty = 0.0, \n",
    "    PresencePenalty = 0.0\n",
    "    };\n",
    "KernelArguments kernelArguments = new KernelArguments(openAIPromptExecutionSettings);\n",
    "\n",
    "Console.WriteLine(\"Prompt To Send to the Azure OpenAI Chat Completion Service...\");\n",
    "Console.WriteLine(simpleDecisionPromptTemplate);\n",
    "Console.WriteLine(string.Empty);\n",
    "Console.WriteLine(\"----------------------------------------\");\n",
    "Console.WriteLine(string.Empty);\n",
    "Console.WriteLine(\"Response from the Azure OpenAI Chat Completion Service...\");\n",
    "\n",
    "\n",
    "await foreach (var streamChunk in semanticKernel.InvokePromptStreamingAsync(simplePrompt, kernelArguments))\n",
    "{\n",
    "   Console.Write(streamChunk);\n",
    "}"
   ]
  }
 ],
 "metadata": {
  "kernelspec": {
   "display_name": ".NET (C#)",
   "language": "C#",
   "name": ".net-csharp"
  },
  "language_info": {
   "name": "csharp"
  },
  "polyglot_notebook": {
   "kernelInfo": {
    "defaultKernelName": "csharp",
    "items": [
     {
      "aliases": [],
      "name": "csharp"
     }
    ]
   }
  }
 },
 "nbformat": 4,
 "nbformat_minor": 2
}
