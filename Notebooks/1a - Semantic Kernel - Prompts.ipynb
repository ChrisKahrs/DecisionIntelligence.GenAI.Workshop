{
 "cells": [
  {
   "cell_type": "markdown",
   "metadata": {},
   "source": [
    "<img style=\"float: left;\" width =\"40px\" src=\"https://raw.githubusercontent.com/bartczernicki/DecisionIntelligence.GenAI.Workshop/main/Images/SemanticKernelLogo.png\">\n",
    "\n",
    "## Semantic Kernel - Prompts"
   ]
  },
  {
   "cell_type": "markdown",
   "metadata": {},
   "source": [
    "Prompts are the fundemental building block to getting the proper responses from AI models. This module demonstrates how to use common prompt engineering techniques while using Semantic Kernel. If you've ever used ChatGPT or Microsoft Copilot, you're already familiar with prompting. Given a prompt instruction, an LLM will attempt to predict the most likely response. With Semantic Kernel, you can craft applications, services & APIs that execute prompts.  \n",
    "\n",
    "For more information on using prompts with Semantic Kernel, visit: https://learn.microsoft.com/en-us/semantic-kernel/prompts/your-first-prompt  "
   ]
  },
  {
   "cell_type": "markdown",
   "metadata": {},
   "source": [
    "### Step 1 - Initialize Configuration Builder & Build the Semantic Kernel Orchestration\n",
    "\n",
    "Execute the next two cells to:\n",
    "* Use the Configuration Builder to load the API secrets.  \n",
    "* Use the API configuration to build the Semantic Kernel orchestrator."
   ]
  },
  {
   "cell_type": "code",
   "execution_count": 32,
   "metadata": {
    "dotnet_interactive": {
     "language": "csharp"
    },
    "polyglot_notebook": {
     "kernelName": "csharp"
    },
    "vscode": {
     "languageId": "polyglot-notebook"
    }
   },
   "outputs": [
    {
     "data": {
      "text/html": [
       "<div><div></div><div></div><div><strong>Installed Packages</strong><ul><li><span>Microsoft.Extensions.Configuration, 8.0.0</span></li><li><span>Microsoft.Extensions.Configuration.Json, 8.0.0</span></li></ul></div></div>"
      ]
     },
     "metadata": {},
     "output_type": "display_data"
    }
   ],
   "source": [
    "// Import the required NuGet configuration packages\n",
    "#r \"nuget: Microsoft.Extensions.Configuration, 8.0.0\"\n",
    "#r \"nuget: Microsoft.Extensions.Configuration.Json, 8.0.0\"\n",
    "\n",
    "using Microsoft.Extensions.Configuration;\n",
    "using System.IO;\n",
    "\n",
    "// Load the configuration settings from the local.settings.json and secrets.settings.json files\n",
    "// The secrets.settings.json file is used to store sensitive information such as API keys\n",
    "var configurationBuilder = new ConfigurationBuilder()\n",
    "    .SetBasePath(Directory.GetCurrentDirectory())\n",
    "    .AddJsonFile(\"local.settings.json\", optional: true, reloadOnChange: true)\n",
    "    .AddJsonFile(\"secrets.settings.json\", optional: true, reloadOnChange: true);\n",
    "var config = configurationBuilder.Build();\n",
    "\n",
    "// Retrieve the configuration settings for the Azure OpenAI service\n",
    "var azureOpenAIEndpoint = config[\"AzureOpenAI:Endpoint\"];\n",
    "var azureOpenAIAPIKey = config[\"AzureOpenAI:APIKey\"];\n",
    "var azureOpenAIModelDeploymentName = config[\"AzureOpenAI:ModelDeploymentName\"];\n",
    "\n",
    "var openAIAPIKey = config[\"OpenAI:APIKey\"];\n",
    "var openAIModelId = config[\"OpenAI:ModelId\"];"
   ]
  },
  {
   "cell_type": "code",
   "execution_count": 33,
   "metadata": {
    "dotnet_interactive": {
     "language": "csharp"
    },
    "polyglot_notebook": {
     "kernelName": "csharp"
    },
    "vscode": {
     "languageId": "polyglot-notebook"
    }
   },
   "outputs": [
    {
     "data": {
      "text/html": [
       "<div><div></div><div></div><div><strong>Installed Packages</strong><ul><li><span>Microsoft.SemanticKernel, 1.11.1</span></li></ul></div></div>"
      ]
     },
     "metadata": {},
     "output_type": "display_data"
    }
   ],
   "source": [
    "// Import the Semantic Kernel NuGet package\n",
    "#r \"nuget: Microsoft.SemanticKernel, 1.11.1\"\n",
    "\n",
    "using Microsoft.SemanticKernel;\n",
    "using Microsoft.SemanticKernel.ChatCompletion;\n",
    "using Microsoft.SemanticKernel.Connectors.OpenAI;\n",
    "\n",
    "// Create a new Semantic Kernel instance with the Azure OpenAI Chat Completion service\n",
    "var semanticKernel = Kernel.CreateBuilder()\n",
    "    .AddAzureOpenAIChatCompletion(\n",
    "        deploymentName: azureOpenAIModelDeploymentName,\n",
    "        endpoint: azureOpenAIEndpoint,\n",
    "        apiKey: azureOpenAIAPIKey)\n",
    "    .Build();"
   ]
  },
  {
   "cell_type": "code",
   "execution_count": 34,
   "metadata": {
    "vscode": {
     "languageId": "polyglot-notebook"
    }
   },
   "outputs": [],
   "source": [
    "// Create a new Semantic Kernel instance with the Azure OpenAI Chat Completion service\n",
    "var semanticKernelOpenAI = Kernel.CreateBuilder()\n",
    "    .AddOpenAIChatCompletion(\n",
    "        modelId: openAIModelId,\n",
    "        apiKey: openAIAPIKey)\n",
    "    .Build();"
   ]
  },
  {
   "cell_type": "markdown",
   "metadata": {},
   "source": [
    "### Step 2 - Execute a Semantic Kernel Prompt\n",
    "\n",
    "Many LLMs and even SLMs have been trained on knowledge that includes decision frameworks & processes. This makes LLMs great assistants to:\n",
    "* Provide proper decision frames\n",
    "* Gather the information & intelligence in order to make a decision\n",
    "* Recommend decision frameworks to make a high-quality decision\n",
    "* Provide feedback to evaluate a decision\n",
    "\n",
    "Once the Semantic Kernel instance is built, it is ready to intake prompt instructions. In the prompt below, the Semantic Kernel is instructed to provide examples of decision frameworks. "
   ]
  },
  {
   "cell_type": "code",
   "execution_count": 35,
   "metadata": {
    "dotnet_interactive": {
     "language": "csharp"
    },
    "polyglot_notebook": {
     "kernelName": "csharp"
    },
    "vscode": {
     "languageId": "polyglot-notebook"
    }
   },
   "outputs": [
    {
     "name": "stdout",
     "output_type": "stream",
     "text": [
      "1. SWOT Analysis: This framework helps assess the strengths, weaknesses, opportunities, and threats associated with a decision. It provides a comprehensive view of both internal and external factors that can impact the outcome.\n",
      "  \n",
      "2. Decision Matrix: Also known as a \"Pugh Matrix,\" this framework helps evaluate and prioritize different options based on specific criteria. Each option is scored against each criterion, and the option with the highest score is selected.\n",
      "  \n",
      "3. Cost-Benefit Analysis: This framework assesses the financial implications of different decisions by weighing the costs against the benefits. It can help identify the most cost-effective option and optimize resource allocation.\n",
      "  \n",
      "4. Pareto Analysis: This technique, also known as the \"80/20 rule,\" helps prioritize tasks or problems by identifying the few critical items that produce the most significant results. It is useful in focusing efforts where they will have the most significant impact.\n",
      "  \n",
      "5. Six Thinking Hats: Developed by Edward de Bono, this framework involves looking at a decision from six different perspectives (emotions, facts, cautiousness, creativity, benefits, and process). It encourages robust, well-rounded thinking and reduces biases and blind spots.\n",
      "  \n",
      "6. Decision Trees: This graphical decision-support tool helps map out the different courses of action and their potential outcomes. It provides a clear, structured visualization of the decision-making process and possible consequences.\n",
      "  \n",
      "7. Pros and Cons List: This simple yet effective method involves listing the advantages and disadvantages of each option. It helps in comparing different choices side by side and assesses their relative merits and drawbacks.\n",
      "\n",
      "By implementing these decision frameworks, individuals and organizations can enhance their decision-making process, leading to more informed and better-quality decisions.\n"
     ]
    }
   ],
   "source": [
    "var simplePrompt = \"Provide some decision frameworks that can help improve the quality of decisions.\";\n",
    "\n",
    "var simplePromptResponse = await semanticKernel.InvokePromptAsync(simplePrompt);\n",
    "Console.WriteLine(simplePromptResponse.GetValue<string>());"
   ]
  },
  {
   "cell_type": "markdown",
   "metadata": {},
   "source": [
    "### Step 3 - Execute a Semantic Kernel Prompt with Streaming\n",
    "\n",
    "Semantic Kernel supports prompt response streaming when invoking the prompt. This allows responses to be streamed to the client as soon as they are made available by the LLM and service. Below the same decision prompt is executed. However, notice that chunks are streamed and can be read by the user as soon as they appear. "
   ]
  },
  {
   "cell_type": "code",
   "execution_count": 36,
   "metadata": {
    "dotnet_interactive": {
     "language": "csharp"
    },
    "polyglot_notebook": {
     "kernelName": "csharp"
    },
    "vscode": {
     "languageId": "polyglot-notebook"
    }
   },
   "outputs": [
    {
     "name": "stdout",
     "output_type": "stream",
     "text": [
      "1. Decision Matrix: A simple tool to evaluate options based on multiple criteria, assigning weights to each factor to calculate the most favorable choice.\n",
      "\n",
      "2. SWOT Analysis: A method for analyzing the Strengths, Weaknesses, Opportunities, and Threats associated with a decision, helping to ensure a well-rounded evaluation.\n",
      "\n",
      "3. Cost-Benefit Analysis: A technique to compare the total expected costs versus the benefits of a decision, aiding in understanding the potential returns on investment.\n",
      "\n",
      "4. Decision Tree: A visual representation of possible outcomes, consequences, and subsequent decisions, helping to map out various scenarios and their implications.\n",
      "\n",
      "5. Pareto Analysis (80/20 Rule): A tool to prioritize tasks or issues, focusing on the 20% that will have an 80% impact on the overall decision or project.\n",
      "\n",
      "6. Six Thinking Hats: A technique where decision-makers view the situation from six different perspectives (emotional, factual, cautious, creative, optimistic, and process-focused), fostering comprehensive and balanced decision-making.\n",
      "\n",
      "7. The Delphi Technique: A structured communication method where a panel of experts anonymously contribute their opinions and forecasts, which are aggregated to form a collective group response.\n",
      "\n",
      "8. Scenario Planning: Developing multiple plausible future scenarios to test the robustness of a decision under different possible future states.\n",
      "\n",
      "9. Pros and Cons List: A simple but effective way to visually lay out the benefits and drawbacks of each option, making it easier to compare alternatives.\n",
      "\n",
      "10. Five Whys: A method to explore the root cause of a decision by continually asking \"Why?\" until the underlying issue is identified, helping to solve the correct problem.\n",
      "\n",
      "Using these frameworks can bring structure and depth to decision-making, leading to more informed and effective choices."
     ]
    }
   ],
   "source": [
    "await foreach (var streamChunk in semanticKernel.InvokePromptStreamingAsync(simplePrompt))\n",
    "{\n",
    "   Console.Write(streamChunk);\n",
    "}"
   ]
  },
  {
   "cell_type": "markdown",
   "metadata": {},
   "source": [
    "### Step 4 - Execute a Semantic Kernel Prompt with a Custom Prompt Execution Configuration\n",
    "\n",
    "Semantic Kernel supports the configuration of prompt execution. The typical OpenAI and Azure OpenAI settings are exposed as configuration options that provide a different prompt experience. Try changing the MaxTokens, Tempature or other settings."
   ]
  },
  {
   "cell_type": "code",
   "execution_count": 37,
   "metadata": {
    "dotnet_interactive": {
     "language": "csharp"
    },
    "polyglot_notebook": {
     "kernelName": "csharp"
    },
    "vscode": {
     "languageId": "polyglot-notebook"
    }
   },
   "outputs": [
    {
     "name": "stdout",
     "output_type": "stream",
     "text": [
      "1. SWOT Analysis: This framework helps identify the strengths, weaknesses, opportunities, and threats related to a decision. It provides a comprehensive view of the internal and external factors that can impact the decision.\n",
      "\n",
      "2. Decision Matrix: This framework helps evaluate and prioritize different options based on specific criteria. Each option is scored based on how well it meets each criterion, and the option with the highest score is selected.\n",
      "\n",
      "3. Cost-Benefit Analysis: This framework helps assess the financial implications of a decision by comparing the costs and benefits of each option. It helps identify the option that provides the greatest net benefit.\n",
      "\n",
      "4. Pareto Analysis: This framework helps identify the most significant factors that contribute to a problem or decision. It is based on the Pareto principle, which states that 80% of the effects come from 20% of the causes.\n",
      "\n",
      "5. Decision Tree: This framework helps visualize the different paths and outcomes of a decision. It helps identify the best course of action by considering the probabilities and consequences of each option.\n",
      "\n",
      "6. Six Thinking Hats: This framework encourages different perspectives on a decision by having participants wear different \"hats\" that represent different modes of thinking (e.g., emotional, analytical, creative).\n",
      "\n",
      "7. Pros and Cons List: This simple framework helps weigh the advantages and disadvantages of each option. It helps identify the option with the most favorable balance of pros and cons.\n",
      "\n",
      "By using these decision frameworks, individuals and organizations can make more informed and effective decisions."
     ]
    }
   ],
   "source": [
    "// Create a new OpenAI prompt execution settings object\n",
    "var openAIPromptExecutionSettings = new OpenAIPromptExecutionSettings { \n",
    "    MaxTokens = 750, \n",
    "    Temperature = 0.0, \n",
    "    TopP = 1.0, \n",
    "    FrequencyPenalty = 0.0, \n",
    "    PresencePenalty = 0.0\n",
    "    };\n",
    "\n",
    "KernelArguments kernelArguments = new KernelArguments(openAIPromptExecutionSettings);\n",
    "await foreach (var streamChunk in semanticKernel.InvokePromptStreamingAsync(simplePrompt, kernelArguments))\n",
    "{\n",
    "   Console.Write(streamChunk);\n",
    "}"
   ]
  },
  {
   "cell_type": "markdown",
   "metadata": {},
   "source": [
    "## This can be run on OpenAI, not just Azure OpenAI "
   ]
  },
  {
   "cell_type": "code",
   "execution_count": 38,
   "metadata": {
    "dotnet_interactive": {
     "language": "csharp"
    },
    "polyglot_notebook": {
     "kernelName": "csharp"
    },
    "vscode": {
     "languageId": "polyglot-notebook"
    }
   },
   "outputs": [
    {
     "name": "stdout",
     "output_type": "stream",
     "text": [
      "Certainly! Decision-making frameworks are structured approaches that help individuals and organizations make more informed and effective choices. Here are some widely recognized frameworks that can improve the quality of decisions:\n",
      "\n",
      "### 1. **SWOT Analysis**\n",
      "- **Strengths:** Identify internal strengths.\n",
      "- **Weaknesses:** Identify internal weaknesses.\n",
      "- **Opportunities:** Identify external opportunities.\n",
      "- **Threats:** Identify external threats.\n",
      "\n",
      "### 2. **PEST Analysis**\n",
      "- **Political:** Consider political factors.\n",
      "- **Economic:** Consider economic factors.\n",
      "- **Social:** Consider social factors.\n",
      "- **Technological:** Consider technological factors.\n",
      "\n",
      "### 3. **Decision Matrix (Weighted Scoring Model)**\n",
      "- List all options.\n",
      "- Identify criteria important for the decision.\n",
      "- Assign weights to each criterion based on importance.\n",
      "- Score each option against each criterion.\n",
      "- Multiply scores by weights and sum them to get a total score for each option.\n",
      "\n",
      "### 4. **Cost-Benefit Analysis (CBA)**\n",
      "- List all costs associated with each option.\n",
      "- List all benefits associated with each option.\n",
      "- Quantify costs and benefits in monetary terms.\n",
      "- Compare the total costs and benefits to determine the best option.\n",
      "\n",
      "### 5. **Six Thinking Hats**\n",
      "- **White Hat:** Focus on data and information.\n",
      "- **Red Hat:** Focus on emotions and feelings.\n",
      "- **Black Hat:** Focus on potential problems and risks.\n",
      "- **Yellow Hat:** Focus on benefits and optimism.\n",
      "- **Green Hat:** Focus on creativity and new ideas.\n",
      "- **Blue Hat:** Focus on process control and organization.\n",
      "\n",
      "### 6. **Pros and Cons List**\n",
      "- List all the pros (advantages) of each option.\n",
      "- List all the cons (disadvantages) of each option.\n",
      "- Compare the lists to make a more balanced decision.\n",
      "\n",
      "### 7. **Pareto Analysis (80/20 Rule)**\n",
      "- Identify the problems or decisions to be made.\n",
      "- Score each problem based on its impact.\n",
      "- Focus on the top 20% of problems that cause 80% of the impact.\n",
      "\n",
      "### 8. **OODA Loop**\n",
      "- **Observe:** Gather information.\n",
      "- **Orient:** Analyze the information and your current situation.\n",
      "- **Decide:** Choose a course of action.\n",
      "- **Act:** Implement the decision.\n",
      "\n",
      "### 9. **Kepner-Tregoe Decision Analysis**\n",
      "- **Situation Analysis:** Identify and prioritize concerns.\n",
      "- **Problem Analysis:** Determine the root cause of problems.\n",
      "- **Decision Analysis:** Evaluate alternatives and make a decision.\n",
      "- **Potential Problem Analysis:** Identify potential problems and preventive actions.\n",
      "\n",
      "### 10. **Rational Decision-Making Model**\n",
      "- Define the problem.\n",
      "- Identify the decision criteria.\n",
      "- Weight the criteria.\n",
      "- Generate alternatives.\n",
      "- Rate each alternative on each criterion.\n",
      "- Compute the optimal decision.\n",
      "\n",
      "### 11. **Vroom-Yetton Decision Model**\n",
      "- Determine the level of involvement needed from others.\n",
      "- Use a series of questions to decide the best decision-making approach (autocratic, consultative, group-based).\n",
      "\n",
      "### 12. **Fishbone Diagram (Ishikawa)**\n",
      "- Identify the problem.\n",
      "- Draw the main bone (problem) and branches (causes).\n",
      "- Categorize causes into major categories (e.g., People, Process, Equipment, Materials).\n",
      "- Analyze to find the root cause.\n",
      "\n",
      "### 13. **Monte Carlo Simulation**\n",
      "- Model the decision problem.\n",
      "- Use random sampling and statistical modeling to estimate the probability of different outcomes.\n",
      "\n",
      "### 14. **Scenario Planning**\n",
      "- Identify key uncertainties and driving forces.\n",
      "- Develop a range of plausible scenarios.\n",
      "- Analyze how different scenarios impact decisions.\n",
      "\n",
      "### 15. **Balanced Scorecard**\n",
      "-"
     ]
    }
   ],
   "source": [
    "// Create a new OpenAI prompt execution settings object\n",
    "var openAIPromptExecutionSettings = new OpenAIPromptExecutionSettings { \n",
    "    MaxTokens = 750, \n",
    "    Temperature = 0.1, \n",
    "    TopP = 1.0, \n",
    "    FrequencyPenalty = 0.0, \n",
    "    PresencePenalty = 0.0\n",
    "    };\n",
    "\n",
    "KernelArguments kernelArguments = new KernelArguments(openAIPromptExecutionSettings);\n",
    "await foreach (var streamChunk in semanticKernelOpenAI.InvokePromptStreamingAsync(simplePrompt, kernelArguments))\n",
    "{\n",
    "   Console.Write(streamChunk);\n",
    "}"
   ]
  },
  {
   "cell_type": "markdown",
   "metadata": {},
   "source": [
    "### Step 5 - Execute a Semantic Kernel Prompt with a system prompt (persona)\n",
    "\n",
    "All the best practices of prompt engineering apply when using Semantic Kernel.  \n",
    "* Make the prompt more specific\n",
    "* Add structure to the output with formatting\n",
    "* Provide examples with few-shot prompting\n",
    "* Tell the AI what to do to avoid doing something wrong\n",
    "* Provide context to the AI\n",
    "* Using message roles in chat completion prompts\n",
    "* Give your AI words of encouragement  \n",
    "\n",
    "One best practice is to provide a common behaviour across all the LLM interactions in a system prompt. This system prompt is passed in on every single call the LLM with Semantic Kernel. These prompts can be dynamically created with a programming language like C#.\n",
    "\n",
    "Execute the cell below with a dynamic prompt template. Notice the different behavior of the output for decision frameworks. The decision framework responses are much more robust with decision intelligence information."
   ]
  },
  {
   "cell_type": "code",
   "execution_count": 39,
   "metadata": {
    "dotnet_interactive": {
     "language": "csharp"
    },
    "polyglot_notebook": {
     "kernelName": "csharp"
    },
    "vscode": {
     "languageId": "polyglot-notebook"
    }
   },
   "outputs": [
    {
     "name": "stdout",
     "output_type": "stream",
     "text": [
      "Prompt To Send to the Azure OpenAI Chat Completion Service...\n",
      "You are a decision intelligence assistant. \n",
      "Assist the user in exploring options, reasoning through decisions, problem-solving, and applying systems thinking to various scenarios. \n",
      "Provide structured, logical, and comprehensive advice.\n",
      "\n",
      "Request from the user: Provide some decision frameworks that can help improve the quality of decisions.\n",
      "\n",
      "----------------------------------------\n",
      "\n",
      "Response from the Azure OpenAI Chat Completion Service...\n",
      "Certainly! Improving decision quality can be significantly enhanced by using structured decision frameworks. Here are several effective frameworks that can help in various decision-making scenarios:\n",
      "\n",
      "1. **SWOT Analysis**:\n",
      "   - **Description**: SWOT stands for Strengths, Weaknesses, Opportunities, and Threats. This framework helps in assessing these four aspects both internally and externally.\n",
      "   - **Application**: Use SWOT to evaluate the strategic position of a business or project and make decisions that capitalize on its strengths, protect against weaknesses, seize opportunities, and counteract threats.\n",
      "\n",
      "2. **Decision Matrix**:\n",
      "   - **Description**: Also known as a Pugh Matrix, this tool involves listing options and the criteria for decision-making. Rate each option based on how well it meets each criterion and then sum the ratings to find the most suitable option.\n",
      "   - **Application**: Useful for decisions involving multiple criteria or where you need to compare several options objectively, such as choosing suppliers, hiring employees, or selecting a product design.\n",
      "\n",
      "3. **Cost-Benefit Analysis (CBA)**:\n",
      "   - **Description**: This involves listing all the costs and benefits associated with a decision, quantifying them in monetary terms, and comparing them to see if benefits outweigh costs.\n",
      "   - **Application**: Effective for financial decisions, policy-making, and evaluating project viability.\n",
      "\n",
      "4. **Pros and Cons List**:\n",
      "   - **Description**: One of the simplest decision-making tools, this involves listing all the positive and negative aspects of each option.\n",
      "   - **Application**: Useful for straightforward decisions where factors are less complex and can be easily categorized as either positive or negative.\n",
      "\n",
      "5. **Pareto Analysis (80/20 Rule)**:\n",
      "   - **Description**: Based on the principle that 80% of effects come from 20% of causes. This tool helps to focus on the most effective changes to make.\n",
      "   - **Application**: Useful in quality control, process improvement, and focusing efforts on changes that will have the largest impact.\n",
      "\n",
      "6. **Decision Trees**:\n",
      "   - **Description**: A graphical representation of decisions and their possible consequences, including chance event outcomes, resource costs, and utility.\n",
      "   - **Application**: Helpful in complex decision-making scenarios that involve uncertainty and varying outcomes, such as investments or strategic business decisions.\n",
      "\n",
      "7. **Six Thinking Hats**:\n",
      "   - **Description**: Developed by Edward de Bono, this method involves looking at a decision from six perspectives (White – facts, Red – emotions, Black – caution, Yellow – benefits, Green – creativity, Blue – process).\n",
      "   - **Application**: Useful for group decision-making and brainstorming sessions to ensure that all aspects of a decision are explored.\n",
      "\n",
      "8. **The Eisenhower Box (Urgent-Important Matrix)**:\n",
      "   - **Description**: Helps prioritize tasks based on their urgency and importance, sorting out less urgent and important tasks which you should either delegate or not do at all.\n",
      "   - **Application**: Effective for time management and prioritizing tasks or decisions in both personal and professional settings.\n",
      "\n",
      "9. **Scenario Analysis**:\n",
      "   - **Description**: Involves envisioning different future scenarios to see how your decisions might play out under various conditions.\n",
      "   - **Application**: Useful in strategic planning and forecasting, especially in uncertain environments.\n",
      "\n",
      "10. **RACI Matrix**:\n",
      "    - **Description**: Stands for Responsible, Accountable, Consulted, and Informed. It’s a tool for identifying roles and responsibilities in decision-making processes.\n",
      "    - **Application**: Useful in project management and organizational decision-making to clarify who is responsible for what and ensure all relevant parties are included.\n",
      "\n",
      "Each of these frameworks can be tailored to fit specific decision-making needs and scenarios. Choosing the right"
     ]
    }
   ],
   "source": [
    "var systemPrompt = \"\"\"\n",
    "You are a decision intelligence assistant. \n",
    "Assist the user in exploring options, reasoning through decisions, problem-solving, and applying systems thinking to various scenarios. \n",
    "Provide structured, logical, and comprehensive advice.\n",
    "\"\"\";\n",
    "\n",
    "var simpleDecisionPromptTemplate = $\"\"\"\n",
    "{systemPrompt}\n",
    "\n",
    "Request from the user: {simplePrompt}\n",
    "\"\"\";\n",
    "\n",
    "Console.WriteLine(\"Prompt To Send to the Azure OpenAI Chat Completion Service...\");\n",
    "Console.WriteLine(simpleDecisionPromptTemplate);\n",
    "\n",
    "Console.WriteLine(string.Empty);\n",
    "Console.WriteLine(\"----------------------------------------\");\n",
    "Console.WriteLine(string.Empty);\n",
    "Console.WriteLine(\"Response from the Azure OpenAI Chat Completion Service...\");\n",
    "await foreach (var streamChunk in semanticKernel.InvokePromptStreamingAsync(simpleDecisionPromptTemplate, kernelArguments))\n",
    "{\n",
    "   Console.Write(streamChunk);\n",
    "}"
   ]
  }
 ],
 "metadata": {
  "kernelspec": {
   "display_name": ".NET (C#)",
   "language": "C#",
   "name": ".net-csharp"
  },
  "language_info": {
   "name": "csharp"
  },
  "polyglot_notebook": {
   "kernelInfo": {
    "defaultKernelName": "csharp",
    "items": [
     {
      "aliases": [],
      "name": "csharp"
     }
    ]
   }
  }
 },
 "nbformat": 4,
 "nbformat_minor": 2
}
