{
 "cells": [
  {
   "cell_type": "code",
   "execution_count": 1,
   "metadata": {
    "dotnet_interactive": {
     "language": "csharp"
    },
    "polyglot_notebook": {
     "kernelName": "csharp"
    },
    "vscode": {
     "languageId": "polyglot-notebook"
    }
   },
   "outputs": [
    {
     "data": {
      "text/html": [
       "<div><div></div><div></div><div><strong>Installed Packages</strong><ul><li><span>Microsoft.Bing.Search.WebSearch, 1.0.0</span></li><li><span>Microsoft.Extensions.Configuration, 8.0.0</span></li><li><span>Microsoft.Extensions.Configuration.Json, 8.0.0</span></li><li><span>Microsoft.Extensions.ML, 3.0.1</span></li><li><span>Microsoft.ML, 3.0.1</span></li><li><span>Microsoft.ML.FastTree, 3.0.1</span></li><li><span>Microsoft.SemanticKernel, 1.11.1</span></li><li><span>Microsoft.SemanticKernel.Plugins.Core, 1.11.1-alpha</span></li><li><span>Microsoft.SemanticKernel.Plugins.Web, 1.11.1-alpha</span></li></ul></div></div>"
      ]
     },
     "metadata": {},
     "output_type": "display_data"
    }
   ],
   "source": [
    "#r \"nuget: Microsoft.Extensions.Configuration, 8.0.0\"\n",
    "#r \"nuget: Microsoft.Extensions.Configuration.Json, 8.0.0\"\n",
    "#r \"nuget: Microsoft.SemanticKernel, 1.11.1\"\n",
    "#r \"nuget: Microsoft.SemanticKernel.Plugins.Core, 1.11.1-alpha\"\n",
    "#r \"nuget: Microsoft.SemanticKernel.Plugins.Web, 1.11.1-alpha\"\n",
    "#r \"nuget: Microsoft.Bing.Search.WebSearch, 1.0.0\"\n",
    "#r \"nuget: Microsoft.ML, 3.0.1\"\n",
    "#r \"nuget: Microsoft.ML.FastTree, 3.0.1\"\n",
    "#r \"nuget: Microsoft.Extensions.ML, 3.0.1\"\n",
    "\n",
    "using Microsoft.Extensions.Configuration;\n",
    "using Microsoft.SemanticKernel;\n",
    "using Microsoft.SemanticKernel.ChatCompletion;\n",
    "using Microsoft.SemanticKernel.Connectors.OpenAI;\n",
    "using Microsoft.Bing.WebSearch;\n",
    "using System.ComponentModel;\n",
    "using System.IO;\n",
    "\n",
    "var configurationBuilder = new ConfigurationBuilder()\n",
    "    .SetBasePath(Directory.GetCurrentDirectory())\n",
    "    .AddJsonFile(\"local.settings.json\", optional: true, reloadOnChange: true)\n",
    "    .AddJsonFile(\"secrets.settings.json\", optional: true, reloadOnChange: true);\n",
    "var config = configurationBuilder.Build();\n",
    "\n",
    "var azureOpenAIEndpoint = config[\"AzureOpenAI:Endpoint\"];\n",
    "var azureOpenAIAPIKey = config[\"AzureOpenAI:APIKey\"];\n",
    "var azureOpenAIModelDeploymentName = config[\"AzureOpenAI:ModelDeploymentName\"];\n",
    "var bingSearchAPIKey = config[\"BingSearch:APIKey\"];"
   ]
  },
  {
   "cell_type": "code",
   "execution_count": 3,
   "metadata": {
    "dotnet_interactive": {
     "language": "csharp"
    },
    "polyglot_notebook": {
     "kernelName": "csharp"
    },
    "vscode": {
     "languageId": "polyglot-notebook"
    }
   },
   "outputs": [],
   "source": [
    "var semanticKernel = Kernel.CreateBuilder()\n",
    "    .AddAzureOpenAIChatCompletion(\n",
    "        deploymentName: azureOpenAIModelDeploymentName,\n",
    "        endpoint: azureOpenAIEndpoint,\n",
    "        apiKey: azureOpenAIAPIKey)\n",
    "    .Build();\n",
    "\n",
    "// Import the BaseballHallOfFamePlugin.cs file\n",
    "#!import ../Classes/BaseballHallOfFamePlugin.cs\n",
    "\n",
    "// Add the native plugin with the three native functions to the semantic kernel\n",
    "semanticKernel.ImportPluginFromType<BaseballHallOfFamePlugin>();"
   ]
  },
  {
   "cell_type": "code",
   "execution_count": 4,
   "metadata": {
    "dotnet_interactive": {
     "language": "csharp"
    },
    "polyglot_notebook": {
     "kernelName": "csharp"
    },
    "vscode": {
     "languageId": "polyglot-notebook"
    }
   },
   "outputs": [
    {
     "name": "stdout",
     "output_type": "stream",
     "text": [
      "350\n",
      "0.69909585\n"
     ]
    }
   ],
   "source": [
    "// Background Information on what is happening\n",
    "\n",
    "// Directory of the historical baseball data\n",
    "string filePathMLBBaseballBatters = Directory.GetParent(Directory.GetCurrentDirectory()) + \"/Data/MLBBaseballBattersPositionPlayers.csv\";\n",
    "// Read the batters data from the CSV file\n",
    "var batters = File.ReadAllLines(filePathMLBBaseballBatters)\n",
    "                        .Skip(1)\n",
    "                        .Select(v => MLBBaseballBatter.FromCsv(v))\n",
    "                        .ToList();\n",
    "\n",
    "// Machine Learing Model and Prediction Engine                       \n",
    "string modelPath = Directory.GetParent(Directory.GetCurrentDirectory()) + \"/Models/InductedToHoF-GeneralizedAdditiveModels.mlnet\";\n",
    "var mlContext = new MLContext(seed: 100);\n",
    "ITransformer loadedModel;\n",
    "DataViewSchema schema;\n",
    "\n",
    "using (var stream = File.OpenRead(modelPath))\n",
    "{\n",
    "    loadedModel = mlContext.Model.Load(stream, out schema);\n",
    "}\n",
    "TransformerChain<ITransformer> transfomerChain = (TransformerChain<ITransformer>)loadedModel;\n",
    "\n",
    "var predEngineInductedToHallOfFame = mlContext.Model.CreatePredictionEngine<MLBBaseballBatter, MLBHOFPrediction>(transfomerChain);\n",
    "\n",
    "// Predict if Mike Trout will be inducted to the Hall of Fame\n",
    "var mikeTroutStats = batters.Where(b => b.FullPlayerName == \"Mike Trout\").FirstOrDefault();\n",
    "Console.WriteLine(mikeTroutStats.HR);\n",
    "var prediction = predEngineInductedToHallOfFame.Predict(mikeTroutStats);\n",
    "Console.WriteLine(prediction.Probability);"
   ]
  },
  {
   "cell_type": "code",
   "execution_count": 5,
   "metadata": {
    "dotnet_interactive": {
     "language": "csharp"
    },
    "polyglot_notebook": {
     "kernelName": "csharp"
    },
    "vscode": {
     "languageId": "polyglot-notebook"
    }
   },
   "outputs": [
    {
     "name": "stdout",
     "output_type": "stream",
     "text": [
      "Based on the available data and sources, I would recommend that Mike Trout is a strong candidate for induction into the Hall of Fame.\n",
      "\n",
      "**Reasoning:**\n",
      "1. **Statistical Achievement**: Mike Trout's statistics are highly impressive, showcasing his ability as a player. Over 12 years, he has achieved a .303 batting average, .587 slugging percentage, 350 home runs, and 896 RBIs [1]. These figures are comparable to many Hall of Famers.\n",
      "\n",
      "2. **Awards and Recognitions**: Trout has won three MVP awards and has been an All-Star nine times. He also has a total of 21 player awards [1]. His consistent recognition at a national level underscores his exceptional talent and contribution to the sport.\n",
      "\n",
      "3. **Comparative Analysis**: Trout has already surpassed many historical figures in baseball in terms of player statistics and impact, even at a relatively young age [7]. His performance metrics are on par or better than many who have been inducted into the Hall of Fame.\n",
      "\n",
      "4. **Expert Opinions and Public Perception**: Various sources suggest that Trout is already viewed as a future Hall of Famer. Articles and expert analyses frequently mention his qualifications and potential for Hall of Fame induction once he becomes eligible [2][4].\n",
      "\n",
      "5. **Machine Learning Probability**: A machine learning model predicts a 69.91% probability that Mike Trout would be inducted into the Hall of Fame based on his current statistics and achievements [1]. This high probability further supports the case for his induction.\n",
      "\n",
      "**Sources:**\n",
      "- [Mike Trout's statistical data and machine learning probability](1)\n",
      "- [\"Mike Trout Is Now Fully Qualified for the Hall of Fame\"](https://blogs.fangraphs.com/mike-trout-is-now-fully-qualified-for-the-hall-of-fame/) [1]\n",
      "- [\"Which current MLB players will make the Hall of Fame? Breaking down ...\"](https://www.cbssports.com/mlb/news/which-current-mlb-players-will-make-the-hall-of-fame-breaking-down-seven-locks-dozens-of-others-with-a-shot/) [2]\n",
      "- [\"Mike Trout tracker: He's now better than two more Hall of Famers\"](https://www.espn.com/mlb/story/_/id/29752487/mike-trout-tracker-now-better-hall-famers-larry-walker-jim-thome) [7]\n",
      "- [\"Mike Trout, now 30, already a future Hall of Famer\"](https://www.cooperstowncred.com/mike-trout-now-30-already-a-future-hall-of-famer/) [4]\n",
      "\n",
      "Given these points, it is highly recommended that Mike Trout be considered for the Hall of Fame once he is eligible. His performance, impact, and recognition in the sport make a compelling case for his induction."
     ]
    }
   ],
   "source": [
    "// 1) Use WebSearch to find information on Mike Trout\n",
    "\n",
    "var openAIPromptExecutionSettings = new OpenAIPromptExecutionSettings { \n",
    "    MaxTokens = 4000, \n",
    "    Temperature = 0.6, \n",
    "    TopP = 1.0, \n",
    "    FrequencyPenalty = 0.0, \n",
    "    PresencePenalty = 0.0,\n",
    "    // Enable Auto Invoking of Kernel Functions\n",
    "    ToolCallBehavior = ToolCallBehavior.AutoInvokeKernelFunctions\n",
    "};\n",
    "\n",
    "var decisionPromptTemplateString = \"\"\"\n",
    "What decision would you recommend in determining if {{$baseBallPlayer}} should make the hall of fame? \n",
    "Provide sources of information and explain your reasoning.\n",
    "Ensure to cite all the sources using [number] notation of each URL after the reference in order.\n",
    "\"\"\";\n",
    "var kernelArguments = new KernelArguments(openAIPromptExecutionSettings)\n",
    "{\n",
    "    [\"baseBallPlayer\"] = \"Mike Trout\"\n",
    "};\n",
    "\n",
    "// Now with Auto Invoking of Kernel Functions, let the magic happen\n",
    "await foreach (var streamChunk in semanticKernel.InvokePromptStreamingAsync(decisionPromptTemplateString, kernelArguments))\n",
    "{\n",
    "   Console.Write(streamChunk);\n",
    "}"
   ]
  },
  {
   "cell_type": "code",
   "execution_count": 6,
   "metadata": {
    "dotnet_interactive": {
     "language": "csharp"
    },
    "polyglot_notebook": {
     "kernelName": "csharp"
    },
    "vscode": {
     "languageId": "polyglot-notebook"
    }
   },
   "outputs": [
    {
     "name": "stdout",
     "output_type": "stream",
     "text": [
      "Based on the available statistics for Mike Trout, here is a detailed breakdown that could help in determining his potential induction into the Hall of Fame:\n",
      "\n",
      "- **Full Player Name:** Mike Trout\n",
      "- **Years Played:** 12\n",
      "- **At Bats (AB):** 5094\n",
      "- **Runs (R):** 1052\n",
      "- **Hits (H):** 1543\n",
      "- **Doubles:** 296\n",
      "- **Triples:** 51\n",
      "- **Home Runs (HR):** 350\n",
      "- **Runs Batted In (RBI):** 896\n",
      "- **Stolen Bases (SB):** 204\n",
      "- **Batting Average:** .303\n",
      "- **Slugging Percentage:** .587\n",
      "- **All-Star Appearances:** 9\n",
      "- **Total Bases (TB):** 2991\n",
      "- **Total Player Awards:** 21 (This could include MVPs, Silver Sluggers, etc.)\n",
      "- **Last Year Played:** 2022\n",
      "\n",
      "### Hall of Fame Consideration:\n",
      "Mike Trout's statistics are impressive, especially in categories such as home runs, runs scored, batting average, and slugging percentage. His 9 All-Star appearances and 21 awards indicate a high level of recognition in the sport over a significant period. These accomplishments are strong indicators for Hall of Fame consideration.\n",
      "\n",
      "Given his outstanding career achievements and impact on the game, a recommendation for Mike Trout’s potential induction into the Hall of Fame would be favorable, though it's important to note that he is not yet eligible for the Hall of Fame ballot. Players typically become eligible after they have been retired for five years. \n",
      "\n",
      "His continued performance and contributions to baseball will further solidify his candidacy once he becomes eligible for the Hall of Fame ballot."
     ]
    }
   ],
   "source": [
    "// 2) Use Baseball statistics to determine if Mike Trout should be inducted to the Hall of Fame\n",
    "\n",
    "var openAIPromptExecutionSettings = new OpenAIPromptExecutionSettings { \n",
    "    MaxTokens = 4000, \n",
    "    Temperature = 0.6, \n",
    "    TopP = 1.0, \n",
    "    FrequencyPenalty = 0.0, \n",
    "    PresencePenalty = 0.0,\n",
    "    // Enable Auto Invoking of Kernel Functions\n",
    "    ToolCallBehavior = ToolCallBehavior.AutoInvokeKernelFunctions\n",
    "};\n",
    "\n",
    "var decisionPromptTemplateString = \"\"\"\n",
    "What decision would you recommend in determining if {{$baseBallPlayer}} should make the hall of fame? \n",
    "Provide as many baseball statistics as possible.\n",
    "\"\"\";\n",
    "var kernelArguments = new KernelArguments(openAIPromptExecutionSettings)\n",
    "{\n",
    "    [\"baseBallPlayer\"] = \"Mike Trout\"\n",
    "};\n",
    "\n",
    "// Now with Auto Invoking of Kernel Functions, let the magic happen\n",
    "await foreach (var streamChunk in semanticKernel.InvokePromptStreamingAsync(decisionPromptTemplateString, kernelArguments))\n",
    "{\n",
    "   Console.Write(streamChunk);\n",
    "}"
   ]
  },
  {
   "cell_type": "code",
   "execution_count": 7,
   "metadata": {
    "dotnet_interactive": {
     "language": "csharp"
    },
    "polyglot_notebook": {
     "kernelName": "csharp"
    },
    "vscode": {
     "languageId": "polyglot-notebook"
    }
   },
   "outputs": [
    {
     "name": "stdout",
     "output_type": "stream",
     "text": [
      "Based on the machine learning model, Mike Trout has a 69.91% probability of being inducted into the Hall of Fame. This is a relatively high probability, suggesting that he has a strong case for induction based on his current statistics and accomplishments in the sport."
     ]
    }
   ],
   "source": [
    "// 3) Use Machine Learning Prediction to determine if Mike Trout should be inducted to the Hall of Fame\n",
    "\n",
    "var openAIPromptExecutionSettings = new OpenAIPromptExecutionSettings { \n",
    "    MaxTokens = 4000, \n",
    "    Temperature = 0.6, \n",
    "    TopP = 1.0, \n",
    "    FrequencyPenalty = 0.0, \n",
    "    PresencePenalty = 0.0,\n",
    "    // Enable Auto Invoking of Kernel Functions\n",
    "    ToolCallBehavior = ToolCallBehavior.AutoInvokeKernelFunctions\n",
    "};\n",
    "\n",
    "var decisionPromptTemplateString = \"\"\"\n",
    "What decision would you recommend in determining if {{$baseBallPlayer}} should make the Hall of Fame? \n",
    "Use a machine learning model to get the probability.\n",
    "\"\"\";\n",
    "var kernelArguments = new KernelArguments(openAIPromptExecutionSettings)\n",
    "{\n",
    "    [\"baseBallPlayer\"] = \"Mike Trout\"\n",
    "};\n",
    "\n",
    "// Now with Auto Invoking of Kernel Functions, let the magic happen\n",
    "await foreach (var streamChunk in semanticKernel.InvokePromptStreamingAsync(decisionPromptTemplateString, kernelArguments))\n",
    "{\n",
    "   Console.Write(streamChunk);\n",
    "}"
   ]
  },
  {
   "cell_type": "code",
   "execution_count": 9,
   "metadata": {
    "dotnet_interactive": {
     "language": "csharp"
    },
    "polyglot_notebook": {
     "kernelName": "csharp"
    },
    "vscode": {
     "languageId": "polyglot-notebook"
    }
   },
   "outputs": [
    {
     "name": "stdout",
     "output_type": "stream",
     "text": [
      "Based on the comprehensive analysis of Mike Trout's career statistics, achievements, and the expert opinions gathered from various sources, it is recommended that Mike Trout should be inducted into the Hall of Fame.\n",
      "\n",
      "Mike Trout's career highlights include:\n",
      "- 12 years of play with significant achievements [1].\n",
      "- A batting average of .303, 350 home runs, and 896 RBIs [2].\n",
      "- Nine All-Star appearances and numerous player awards [2].\n",
      "- A high probability (69.91%) of induction to the Hall of Fame based on machine learning analysis of his statistics [3].\n",
      "\n",
      "Furthermore, Trout is fully qualified for the Hall of Fame as per the eligibility rules [1], and his impact on the game is widely recognized by experts and analysts. Despite some concerns about his injury history [4], his overall performance and accolades make a strong case for his induction.\n",
      "\n",
      "In conclusion, considering Mike Trout's outstanding contributions to baseball, his statistical record, and expert opinions, it is highly recommended that he be considered for induction into the Hall of Fame upon eligibility.\n",
      "\n",
      "Sources:\n",
      "1. [Mike Trout Is Now Fully Qualified for the Hall of Fame](https://blogs.fangraphs.com/mike-trout-is-now-fully-qualified-for-the-hall-of-fame/) [1]\n",
      "2. [Which current MLB players will make the Hall of Fame?](https://www.cbssports.com/mlb/news/which-current-mlb-players-will-make-the-hall-of-fame-breaking-down-seven-locks-dozens-of-others-with-a-shot/) [2]\n",
      "3. Machine Learning prediction based on provided player statistics.\n",
      "4. [Mike Trout's Knee Injury, How It Affects His Hall of Fame Chances](https://www.esquire.com/sports/a60660794/mike-trout-injuries-hall-of-fame/) [4]"
     ]
    }
   ],
   "source": [
    "// 4) All of the tools\n",
    "\n",
    "var openAIPromptExecutionSettings = new OpenAIPromptExecutionSettings { \n",
    "    MaxTokens = 6000, \n",
    "    Temperature = 0.6, \n",
    "    TopP = 1.0, \n",
    "    FrequencyPenalty = 0.0, \n",
    "    PresencePenalty = 0.0,\n",
    "    // Enable Auto Invoking of Kernel Functions\n",
    "    ToolCallBehavior = ToolCallBehavior.AutoInvokeKernelFunctions\n",
    "};\n",
    "\n",
    "var decisionPromptTemplateString = \"\"\"\n",
    "What decision would you recommend in determining if {{$baseBallPlayer}} should make the hall of fame? \n",
    "Use all of the tools available at your disposal to arrive at a comprehensive decision.\n",
    "You must cite all the sources using [number] notation of each URL after the reference in order.\n",
    "The sources should appear in order on the bottom of the decision.\n",
    "\"\"\";\n",
    "var kernelArguments = new KernelArguments(openAIPromptExecutionSettings)\n",
    "{\n",
    "    [\"baseBallPlayer\"] = \"Mike Trout\"\n",
    "};\n",
    "\n",
    "// Now with Auto Invoking of Kernel Functions, let the magic happen\n",
    "await foreach (var streamChunk in semanticKernel.InvokePromptStreamingAsync(decisionPromptTemplateString, kernelArguments))\n",
    "{\n",
    "   Console.Write(streamChunk);\n",
    "}"
   ]
  },
  {
   "cell_type": "code",
   "execution_count": null,
   "metadata": {
    "dotnet_interactive": {
     "language": "csharp"
    },
    "polyglot_notebook": {
     "kernelName": "csharp"
    },
    "vscode": {
     "languageId": "polyglot-notebook"
    }
   },
   "outputs": [],
   "source": []
  }
 ],
 "metadata": {
  "kernelspec": {
   "display_name": ".NET (C#)",
   "language": "C#",
   "name": ".net-csharp"
  },
  "language_info": {
   "name": "csharp"
  },
  "polyglot_notebook": {
   "kernelInfo": {
    "defaultKernelName": "csharp",
    "items": [
     {
      "aliases": [],
      "name": "csharp"
     }
    ]
   }
  }
 },
 "nbformat": 4,
 "nbformat_minor": 2
}
