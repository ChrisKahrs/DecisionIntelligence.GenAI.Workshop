{
 "cells": [
  {
   "cell_type": "markdown",
   "metadata": {},
   "source": [
    "<img style=\"float: left;\" width =\"40px\" src=\"https://raw.githubusercontent.com/bartczernicki/DecisionIntelligence.GenAI.Workshop/main/Images/SemanticKernelLogo.png\">\n",
    "\n",
    "## About Semantic Kernel"
   ]
  },
  {
   "cell_type": "markdown",
   "metadata": {},
   "source": [
    "Semantic Kernel is an open source code-first framework maintained by Microsoft that supports AI orchestration across three core languages: Python, Java and .NET. It is often compared to LangChain and offers similar capabilities.\n",
    "\n",
    "<img width =\"750px\" src=\"https://raw.githubusercontent.com/bartczernicki/DecisionIntelligence.GenAI.Workshop/main/Images/SemanticKernelOpenSource.png\">\n",
    "\n",
    "Beacause Semantic Kernel is open source, it allows hands-on AI roles to:\n",
    "* Transparently understand the Roadmap, Releases, Current Issues\n",
    "* Clearly understand the dependencies that Semantic Kernel takes as AI evolves\n",
    "* The Semantic Kernel team publishes core design desicions\n",
    "* The Semantic Kernel team maintains office hours several times a months with the community"
   ]
  },
  {
   "cell_type": "markdown",
   "metadata": {},
   "source": [
    "Semantic Kernel's primary function can be described as an AI Orchestration layer that lies betweeen your user experiences and the AI foundation layer.\n",
    "\n",
    "<img width =\"750px\" src=\"https://raw.githubusercontent.com/bartczernicki/DecisionIntelligence.GenAI.Workshop/main/Images/SemanticKernelOrchestration.png\">\n",
    "\n",
    "This means that Semantic Kernel's core value proposition is providing all of the functionality you need to craft sophisticated orchestration processes & interactions between AI foundation (AI models) and the user experience & middle-tier services."
   ]
  },
  {
   "cell_type": "markdown",
   "metadata": {},
   "source": [
    "Semantic Orchestration pipelines can be visualized in the manner below, where key constructs such as: functions, plugins, personas, planners and agents all play a role as foundational building blocks in a Semantic Kernel powered AI architecture.\n",
    "\n",
    "<img width =\"750px\" src=\"https://raw.githubusercontent.com/bartczernicki/DecisionIntelligence.GenAI.Workshop/main/Images/SemanticKernelPipeline.png\">"
   ]
  }
 ],
 "metadata": {
  "language_info": {
   "name": "python"
  }
 },
 "nbformat": 4,
 "nbformat_minor": 2
}
